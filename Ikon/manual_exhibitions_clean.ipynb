{
 "cells": [
  {
   "cell_type": "code",
   "execution_count": 1,
   "metadata": {},
   "outputs": [
    {
     "data": {
      "text/html": [
       "<div>\n",
       "<style scoped>\n",
       "    .dataframe tbody tr th:only-of-type {\n",
       "        vertical-align: middle;\n",
       "    }\n",
       "\n",
       "    .dataframe tbody tr th {\n",
       "        vertical-align: top;\n",
       "    }\n",
       "\n",
       "    .dataframe thead th {\n",
       "        text-align: right;\n",
       "    }\n",
       "</style>\n",
       "<table border=\"1\" class=\"dataframe\">\n",
       "  <thead>\n",
       "    <tr style=\"text-align: right;\">\n",
       "      <th></th>\n",
       "      <th>title</th>\n",
       "      <th>event</th>\n",
       "      <th>date</th>\n",
       "      <th>gallery</th>\n",
       "      <th>artists</th>\n",
       "    </tr>\n",
       "    <tr>\n",
       "      <th>id</th>\n",
       "      <th></th>\n",
       "      <th></th>\n",
       "      <th></th>\n",
       "      <th></th>\n",
       "      <th></th>\n",
       "    </tr>\n",
       "  </thead>\n",
       "  <tbody>\n",
       "    <tr>\n",
       "      <th>14867</th>\n",
       "      <td>RAJK LÁTVÁNY, tárlatvezetés</td>\n",
       "      <td>tárlatvezetés</td>\n",
       "      <td>2020-01-05</td>\n",
       "      <td>Centrális Galéria</td>\n",
       "      <td></td>\n",
       "    </tr>\n",
       "    <tr>\n",
       "      <th>14866</th>\n",
       "      <td>Hangover Reading Club #4 - Let's go with the f...</td>\n",
       "      <td>Reading Club</td>\n",
       "      <td>2020-01-04</td>\n",
       "      <td>Trafó Galéria</td>\n",
       "      <td>Vajda Lajos Stúdió; Ef Zámbó István</td>\n",
       "    </tr>\n",
       "    <tr>\n",
       "      <th>14868</th>\n",
       "      <td>RAJK LÁTVÁNY, tárlatvezetés</td>\n",
       "      <td>tárlatvezetés</td>\n",
       "      <td>2020-01-04</td>\n",
       "      <td>Centrális Galéria</td>\n",
       "      <td>Kupcsik Adrián; Bencsik Barnabás</td>\n",
       "    </tr>\n",
       "    <tr>\n",
       "      <th>14870</th>\n",
       "      <td>BONNE ANNÉE BONNE SANTÉ! NAGY FORMÁTUMOK KIS F...</td>\n",
       "      <td></td>\n",
       "      <td>2020-01-03</td>\n",
       "      <td>Három Hét Galéria</td>\n",
       "      <td>Korok; -; -</td>\n",
       "    </tr>\n",
       "    <tr>\n",
       "      <th>14872</th>\n",
       "      <td>Rendetlenség a rendben | tárlatvezetés a gyűjt...</td>\n",
       "      <td>tárlatvezetés</td>\n",
       "      <td>2020-01-01</td>\n",
       "      <td>Fővárosi Képtár - Kiscelli Múzeum</td>\n",
       "      <td>L; -; -</td>\n",
       "    </tr>\n",
       "    <tr>\n",
       "      <th>...</th>\n",
       "      <td>...</td>\n",
       "      <td>...</td>\n",
       "      <td>...</td>\n",
       "      <td>...</td>\n",
       "      <td>...</td>\n",
       "    </tr>\n",
       "    <tr>\n",
       "      <th>29</th>\n",
       "      <td>Ékszertől a plasztikáig - kortárs magyar ötvös...</td>\n",
       "      <td></td>\n",
       "      <td>2000-01-01</td>\n",
       "      <td>Iparművészeti Múzeum</td>\n",
       "      <td>Rajk László</td>\n",
       "    </tr>\n",
       "    <tr>\n",
       "      <th>54</th>\n",
       "      <td>Ü V E G E K</td>\n",
       "      <td></td>\n",
       "      <td>2000-01-01</td>\n",
       "      <td>Godot Galéria</td>\n",
       "      <td>Rajk László</td>\n",
       "    </tr>\n",
       "    <tr>\n",
       "      <th>13</th>\n",
       "      <td>Expedíció a jövőbe</td>\n",
       "      <td></td>\n",
       "      <td>1999-12-31</td>\n",
       "      <td>Centrális Galéria</td>\n",
       "      <td>Művészeti foglalkozás</td>\n",
       "    </tr>\n",
       "    <tr>\n",
       "      <th>2</th>\n",
       "      <td>Actionman</td>\n",
       "      <td></td>\n",
       "      <td>1999-12-07</td>\n",
       "      <td>Fiatal Képzőművészek Stúdiója - Stúdió Galéria</td>\n",
       "      <td>Szöllősi-Nagy - Nemes Gyűjtemény; Szöllősi-Nag...</td>\n",
       "    </tr>\n",
       "    <tr>\n",
       "      <th>1</th>\n",
       "      <td>Szentendrei művészet a 70-es, 80-as években - ...</td>\n",
       "      <td></td>\n",
       "      <td>1999-11-12</td>\n",
       "      <td>Városi Művészeti Múzeum Képtára, Győr</td>\n",
       "      <td>Közreműködik: Szirtes Edina Mókus; Jankovics M...</td>\n",
       "    </tr>\n",
       "  </tbody>\n",
       "</table>\n",
       "<p>14872 rows × 5 columns</p>\n",
       "</div>"
      ],
      "text/plain": [
       "                                                   title          event  \\\n",
       "id                                                                        \n",
       "14867                        RAJK LÁTVÁNY, tárlatvezetés  tárlatvezetés   \n",
       "14866  Hangover Reading Club #4 - Let's go with the f...   Reading Club   \n",
       "14868                        RAJK LÁTVÁNY, tárlatvezetés  tárlatvezetés   \n",
       "14870  BONNE ANNÉE BONNE SANTÉ! NAGY FORMÁTUMOK KIS F...                  \n",
       "14872  Rendetlenség a rendben | tárlatvezetés a gyűjt...  tárlatvezetés   \n",
       "...                                                  ...            ...   \n",
       "29     Ékszertől a plasztikáig - kortárs magyar ötvös...                  \n",
       "54                                           Ü V E G E K                  \n",
       "13                                    Expedíció a jövőbe                  \n",
       "2                                              Actionman                  \n",
       "1      Szentendrei művészet a 70-es, 80-as években - ...                  \n",
       "\n",
       "             date                                         gallery  \\\n",
       "id                                                                  \n",
       "14867  2020-01-05                               Centrális Galéria   \n",
       "14866  2020-01-04                                   Trafó Galéria   \n",
       "14868  2020-01-04                               Centrális Galéria   \n",
       "14870  2020-01-03                               Három Hét Galéria   \n",
       "14872  2020-01-01               Fővárosi Képtár - Kiscelli Múzeum   \n",
       "...           ...                                             ...   \n",
       "29     2000-01-01                            Iparművészeti Múzeum   \n",
       "54     2000-01-01                                   Godot Galéria   \n",
       "13     1999-12-31                               Centrális Galéria   \n",
       "2      1999-12-07  Fiatal Képzőművészek Stúdiója - Stúdió Galéria   \n",
       "1      1999-11-12           Városi Művészeti Múzeum Képtára, Győr   \n",
       "\n",
       "                                                 artists  \n",
       "id                                                        \n",
       "14867                                                     \n",
       "14866                Vajda Lajos Stúdió; Ef Zámbó István  \n",
       "14868                   Kupcsik Adrián; Bencsik Barnabás  \n",
       "14870                                        Korok; -; -  \n",
       "14872                                            L; -; -  \n",
       "...                                                  ...  \n",
       "29                                           Rajk László  \n",
       "54                                           Rajk László  \n",
       "13                                 Művészeti foglalkozás  \n",
       "2      Szöllősi-Nagy - Nemes Gyűjtemény; Szöllősi-Nag...  \n",
       "1      Közreműködik: Szirtes Edina Mókus; Jankovics M...  \n",
       "\n",
       "[14872 rows x 5 columns]"
      ]
     },
     "metadata": {},
     "output_type": "display_data"
    }
   ],
   "source": [
    "import pandas as pd\n",
    "df = pd.read_excel('./data/exhibition_list_clean_v000.xlsx', index_col='id', keep_default_na=False)\n",
    "display(df)"
   ]
  },
  {
   "cell_type": "code",
   "execution_count": 12,
   "metadata": {},
   "outputs": [],
   "source": [
    "from collections import Counter\n",
    "\n",
    "# count similar rows\n",
    "counter = Counter()\n",
    "for idx, row in df.iterrows():\n",
    "    counter[(row['title'], row['date'])]+=1"
   ]
  },
  {
   "cell_type": "code",
   "execution_count": 17,
   "metadata": {},
   "outputs": [],
   "source": [
    "counter_counter = Counter()\n",
    "for entry in counter:\n",
    "    count = counter[entry]\n",
    "    counter_counter[count]+=1"
   ]
  },
  {
   "cell_type": "code",
   "execution_count": 42,
   "metadata": {},
   "outputs": [
    {
     "data": {
      "text/plain": [
       "<BarContainer object of 8 artists>"
      ]
     },
     "execution_count": 42,
     "metadata": {},
     "output_type": "execute_result"
    },
    {
     "data": {
      "image/png": "[encoded data removed]",
      "text/plain": [
       "<Figure size 432x288 with 1 Axes>"
      ]
     },
     "metadata": {
      "needs_background": "light"
     },
     "output_type": "display_data"
    }
   ],
   "source": [
    "%matplotlib inline\n",
    "import matplotlib.pyplot as plt\n",
    "counter_counter.keys()\n",
    "\n",
    "plt.bar([str(_) for _ in list(counter_counter.keys())[1:]], list(counter_counter.values())[1:])"
   ]
  },
  {
   "cell_type": "code",
   "execution_count": null,
   "metadata": {},
   "outputs": [],
   "source": []
  }
 ],
 "metadata": {
  "kernelspec": {
   "display_name": "Python 3",
   "language": "python",
   "name": "python3"
  },
  "language_info": {
   "codemirror_mode": {
    "name": "ipython",
    "version": 3
   },
   "file_extension": ".py",
   "mimetype": "text/x-python",
   "name": "python",
   "nbconvert_exporter": "python",
   "pygments_lexer": "ipython3",
   "version": "3.7.4"
  }
 },
 "nbformat": 4,
 "nbformat_minor": 4
}
