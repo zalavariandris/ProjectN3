{
 "cells": [
  {
   "cell_type": "code",
   "execution_count": 21,
   "metadata": {},
   "outputs": [],
   "source": [
    "import networkx as nx\n",
    "import matplotlib.pyplot as plt"
   ]
  },
  {
   "cell_type": "code",
   "execution_count": 22,
   "metadata": {},
   "outputs": [],
   "source": [
    "# read graph\n",
    "f = open('./ikon_artist-artist_edges.csv', 'r', encoding=\"utf-8\")\n"
   ]
  },
  {
   "cell_type": "code",
   "execution_count": 23,
   "metadata": {},
   "outputs": [
    {
     "data": {
      "text/plain": [
       "''"
      ]
     },
     "execution_count": 23,
     "metadata": {},
     "output_type": "execute_result"
    }
   ],
   "source": [
    "f.read()"
   ]
  },
  {
   "cell_type": "code",
   "execution_count": 15,
   "metadata": {},
   "outputs": [
    {
     "data": {
      "text/plain": [
       "''"
      ]
     },
     "execution_count": 15,
     "metadata": {},
     "output_type": "execute_result"
    }
   ],
   "source": [
    "f.readline()"
   ]
  },
  {
   "cell_type": "code",
   "execution_count": null,
   "metadata": {},
   "outputs": [],
   "source": [
    "\"\"\" FILTER by degree\"\"\"\n",
    "G = G.subgraph([n for n in G.nodes() if G.degree(n)>10])"
   ]
  },
  {
   "cell_type": "code",
   "execution_count": null,
   "metadata": {},
   "outputs": [],
   "source": [
    "# plot graph\n",
    "fig = plt.figure(figsize=(12,12))\n",
    "ax = plt.subplot(111)\n",
    "ax.set_title('Graph - Shapes', fontsize=10)\n",
    "pos = nx.spring_layout(G)\n",
    "nx.draw(G, pos, \n",
    "    node_size=[v*1200 for v in centrality.values()], \n",
    "    node_color=\"blue\", \n",
    "    with_labels=True,\n",
    "    labels={n: attr['label'] for n, attr in G.nodes(True)},\n",
    "\n",
    "    edge_color=\"0.9\",\n",
    "\n",
    "    font_size=8,\n",
    ")\n",
    "plt.tight_layout()\n",
    "plt.show()\n",
    "# plt.savefig(\"Artist-Artist_graph.png\", format=\"PNG\")"
   ]
  }
 ],
 "metadata": {
  "kernelspec": {
   "display_name": "Python 3",
   "language": "python",
   "name": "python3"
  },
  "language_info": {
   "codemirror_mode": {
    "name": "ipython",
    "version": 3
   },
   "file_extension": ".py",
   "mimetype": "text/x-python",
   "name": "python",
   "nbconvert_exporter": "python",
   "pygments_lexer": "ipython3",
   "version": "3.7.4"
  }
 },
 "nbformat": 4,
 "nbformat_minor": 4
}
