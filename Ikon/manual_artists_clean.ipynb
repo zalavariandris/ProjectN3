{
 "cells": [
  {
   "cell_type": "code",
   "execution_count": 17,
   "metadata": {},
   "outputs": [],
   "source": [
    "import pandas as pd\n",
    "from fuzzywuzzy import fuzz"
   ]
  },
  {
   "cell_type": "code",
   "execution_count": 18,
   "metadata": {},
   "outputs": [],
   "source": [
    "import difflib\n",
    "from ipywidgets import HTML\n",
    "    \n",
    "def display_diff(text, n_text):\n",
    "    \"\"\"\n",
    "    http://stackoverflow.com/a/788780\n",
    "    Unify operations between two compared strings seqm is a difflib.\n",
    "    SequenceMatcher instance whose a & b are strings\n",
    "    \"\"\"\n",
    "    seqm = difflib.SequenceMatcher(None, text, n_text)\n",
    "    output= []\n",
    "    for opcode, a0, a1, b0, b1 in seqm.get_opcodes():\n",
    "        if opcode == 'equal':\n",
    "            output.append(seqm.a[a0:a1])\n",
    "        elif opcode == 'insert':\n",
    "            output.append(\"<font color=green>^\" + seqm.b[b0:b1] + \"</font>\")\n",
    "        elif opcode == 'delete':\n",
    "            output.append(\"<font color=red>^\" + seqm.a[a0:a1] + \"</font>\")\n",
    "        elif opcode == 'replace':\n",
    "            # seqm.a[a0:a1] -> seqm.b[b0:b1]\n",
    "            output.append(\"<font color=blue>^\" + seqm.b[b0:b1] + \"</font>\")\n",
    "        else:\n",
    "            raise RuntimeError(\"unexpected opcode\")\n",
    "    return HTML(''.join(output))"
   ]
  },
  {
   "cell_type": "code",
   "execution_count": 3,
   "metadata": {},
   "outputs": [
    {
     "data": {
      "text/html": [
       "<div>\n",
       "<style scoped>\n",
       "    .dataframe tbody tr th:only-of-type {\n",
       "        vertical-align: middle;\n",
       "    }\n",
       "\n",
       "    .dataframe tbody tr th {\n",
       "        vertical-align: top;\n",
       "    }\n",
       "\n",
       "    .dataframe thead th {\n",
       "        text-align: right;\n",
       "    }\n",
       "</style>\n",
       "<table border=\"1\" class=\"dataframe\">\n",
       "  <thead>\n",
       "    <tr style=\"text-align: right;\">\n",
       "      <th></th>\n",
       "      <th>name</th>\n",
       "      <th>clean name</th>\n",
       "      <th>no_exhibitions</th>\n",
       "      <th>indicative</th>\n",
       "      <th>checked</th>\n",
       "    </tr>\n",
       "    <tr>\n",
       "      <th>id</th>\n",
       "      <th></th>\n",
       "      <th></th>\n",
       "      <th></th>\n",
       "      <th></th>\n",
       "      <th></th>\n",
       "    </tr>\n",
       "  </thead>\n",
       "  <tbody>\n",
       "    <tr>\n",
       "      <th>6</th>\n",
       "      <td>-</td>\n",
       "      <td>NaN</td>\n",
       "      <td>3429</td>\n",
       "      <td>NaN</td>\n",
       "      <td>1.0</td>\n",
       "    </tr>\n",
       "    <tr>\n",
       "      <th>114</th>\n",
       "      <td>Sugár János</td>\n",
       "      <td>Sugár János</td>\n",
       "      <td>124</td>\n",
       "      <td>NaN</td>\n",
       "      <td>1.0</td>\n",
       "    </tr>\n",
       "    <tr>\n",
       "      <th>1032</th>\n",
       "      <td>Szombathy Bálint</td>\n",
       "      <td>Szombathy Bálint</td>\n",
       "      <td>119</td>\n",
       "      <td>NaN</td>\n",
       "      <td>1.0</td>\n",
       "    </tr>\n",
       "    <tr>\n",
       "      <th>2351</th>\n",
       "      <td>Muladi Brigitta</td>\n",
       "      <td>Muladi Brigitta</td>\n",
       "      <td>112</td>\n",
       "      <td>NaN</td>\n",
       "      <td>1.0</td>\n",
       "    </tr>\n",
       "    <tr>\n",
       "      <th>301</th>\n",
       "      <td>Koronczi Endre</td>\n",
       "      <td>Koronczi Endre</td>\n",
       "      <td>108</td>\n",
       "      <td>NaN</td>\n",
       "      <td>1.0</td>\n",
       "    </tr>\n",
       "    <tr>\n",
       "      <th>...</th>\n",
       "      <td>...</td>\n",
       "      <td>...</td>\n",
       "      <td>...</td>\n",
       "      <td>...</td>\n",
       "      <td>...</td>\n",
       "    </tr>\n",
       "    <tr>\n",
       "      <th>21</th>\n",
       "      <td>Barta István</td>\n",
       "      <td>Barta István</td>\n",
       "      <td>1</td>\n",
       "      <td>NaN</td>\n",
       "      <td>NaN</td>\n",
       "    </tr>\n",
       "    <tr>\n",
       "      <th>17</th>\n",
       "      <td>borgó</td>\n",
       "      <td>Borgó</td>\n",
       "      <td>1</td>\n",
       "      <td>NaN</td>\n",
       "      <td>NaN</td>\n",
       "    </tr>\n",
       "    <tr>\n",
       "      <th>9</th>\n",
       "      <td>mjbkjhb</td>\n",
       "      <td>NaN</td>\n",
       "      <td>1</td>\n",
       "      <td>NaN</td>\n",
       "      <td>NaN</td>\n",
       "    </tr>\n",
       "    <tr>\n",
       "      <th>8</th>\n",
       "      <td>gthg</td>\n",
       "      <td>NaN</td>\n",
       "      <td>1</td>\n",
       "      <td>NaN</td>\n",
       "      <td>NaN</td>\n",
       "    </tr>\n",
       "    <tr>\n",
       "      <th>5</th>\n",
       "      <td>Korok</td>\n",
       "      <td>NaN</td>\n",
       "      <td>1</td>\n",
       "      <td>NaN</td>\n",
       "      <td>NaN</td>\n",
       "    </tr>\n",
       "  </tbody>\n",
       "</table>\n",
       "<p>25314 rows × 5 columns</p>\n",
       "</div>"
      ],
      "text/plain": [
       "                  name        clean name  no_exhibitions indicative  checked\n",
       "id                                                                          \n",
       "6                    -               NaN            3429        NaN      1.0\n",
       "114        Sugár János       Sugár János             124        NaN      1.0\n",
       "1032  Szombathy Bálint  Szombathy Bálint             119        NaN      1.0\n",
       "2351   Muladi Brigitta   Muladi Brigitta             112        NaN      1.0\n",
       "301     Koronczi Endre    Koronczi Endre             108        NaN      1.0\n",
       "...                ...               ...             ...        ...      ...\n",
       "21        Barta István      Barta István               1        NaN      NaN\n",
       "17               borgó             Borgó               1        NaN      NaN\n",
       "9              mjbkjhb               NaN               1        NaN      NaN\n",
       "8                 gthg               NaN               1        NaN      NaN\n",
       "5                Korok               NaN               1        NaN      NaN\n",
       "\n",
       "[25314 rows x 5 columns]"
      ]
     },
     "metadata": {},
     "output_type": "display_data"
    }
   ],
   "source": [
    "df = pd.read_excel('./data/artist_list_manual_cleaning_map.xlsx', index_col='id')\n",
    "display(df)"
   ]
  },
  {
   "cell_type": "markdown",
   "metadata": {},
   "source": [
    "# Find Fuzzy variation\n",
    "Slow"
   ]
  },
  {
   "cell_type": "code",
   "execution_count": 19,
   "metadata": {},
   "outputs": [],
   "source": [
    "from ipywidgets import Label, IntProgress, Button, Layout, HBox\n",
    "from IPython.display import display"
   ]
  },
  {
   "cell_type": "code",
   "execution_count": 5,
   "metadata": {},
   "outputs": [],
   "source": [
    "def find_fuzzy_variations(df, start=0, end=-1):\n",
    "    end = len(df) if end<0 else end\n",
    "    progressbar = IntProgress(min=0, max=100)\n",
    "    progresslabel = Label(\"0.000%\")\n",
    "    display(progressbar)\n",
    "    display(progresslabel)\n",
    "    stack = set()\n",
    "    for i in range(start, end):\n",
    "        A = df.iloc[i]\n",
    "        for j in range(i+1, len(df)):\n",
    "            B = df.iloc[j]\n",
    "            try:\n",
    "                ratio = fuzz.ratio(A['clean name'], B['clean name'])\n",
    "                if ratio>95 and ratio<100:\n",
    "                    yield df.index[i], A['clean name'], df.index[j], B['clean name'], ratio\n",
    "            except TypeError:\n",
    "                pass\n",
    "            \n",
    "        progress = (i+1-start) / (end-start) \n",
    "        progressbar.value = progress*100\n",
    "        progresslabel.value = \"{} {} | {}/{} | {:.3f}%\".format(\n",
    "            i, A['clean name'],\n",
    "            i+1-start, end-start,\n",
    "            progress * 100)\n"
   ]
  },
  {
   "cell_type": "code",
   "execution_count": 7,
   "metadata": {
    "scrolled": true
   },
   "outputs": [
    {
     "data": {
      "application/vnd.jupyter.widget-view+json": {
       "model_id": "cfcc3f850f3343ee8d134eebe2576db8",
       "version_major": 2,
       "version_minor": 0
      },
      "text/plain": [
       "IntProgress(value=0)"
      ]
     },
     "metadata": {},
     "output_type": "display_data"
    },
    {
     "data": {
      "application/vnd.jupyter.widget-view+json": {
       "model_id": "cd22e6babb5b43a0a8c6122682f9add6",
       "version_major": 2,
       "version_minor": 0
      },
      "text/plain": [
       "Label(value='0.000%')"
      ]
     },
     "metadata": {},
     "output_type": "display_data"
    },
    {
     "data": {
      "application/vnd.jupyter.widget-view+json": {
       "model_id": "10b34f0febb748c084c961fc37541968",
       "version_major": 2,
       "version_minor": 0
      },
      "text/plain": [
       "HBox(children=(Label(value='Készman József'), HTML(value='Készman József<font color=green>^ </font>'), Label(v…"
      ]
     },
     "metadata": {},
     "output_type": "display_data"
    },
    {
     "data": {
      "application/vnd.jupyter.widget-view+json": {
       "model_id": "f259236d7b944b13a5c9a2853fa14fb1",
       "version_major": 2,
       "version_minor": 0
      },
      "text/plain": [
       "HBox(children=(Label(value='Koroknai Zsolt'), HTML(value='Koroknai <font color=green>^ </font>Zsolt'), Label(v…"
      ]
     },
     "metadata": {},
     "output_type": "display_data"
    },
    {
     "data": {
      "application/vnd.jupyter.widget-view+json": {
       "model_id": "e27627ada3a5478e8e723ea1dbbf965b",
       "version_major": 2,
       "version_minor": 0
      },
      "text/plain": [
       "HBox(children=(Label(value='Kerekes Gábor'), HTML(value='Kerekes Gábor<font color=green>^)</font>'), Label(val…"
      ]
     },
     "metadata": {},
     "output_type": "display_data"
    },
    {
     "data": {
      "application/vnd.jupyter.widget-view+json": {
       "model_id": "3287af6858e9443bb17697b93df712a8",
       "version_major": 2,
       "version_minor": 0
      },
      "text/plain": [
       "HBox(children=(Label(value='Kerekes Gábor'), HTML(value='Kerekes Gábor<font color=green>^.</font>'), Label(val…"
      ]
     },
     "metadata": {},
     "output_type": "display_data"
    },
    {
     "data": {
      "application/vnd.jupyter.widget-view+json": {
       "model_id": "e508631c3dda420797f06b2e23f5c980",
       "version_major": 2,
       "version_minor": 0
      },
      "text/plain": [
       "HBox(children=(Label(value='Nemes Csaba'), HTML(value='Nemes Csaba<font color=green>^:</font>'), Label(value='…"
      ]
     },
     "metadata": {},
     "output_type": "display_data"
    },
    {
     "data": {
      "application/vnd.jupyter.widget-view+json": {
       "model_id": "271ed0edf3ca42f58fca0893ce7ea4aa",
       "version_major": 2,
       "version_minor": 0
      },
      "text/plain": [
       "HBox(children=(Label(value='Kecskés Péter'), HTML(value='Kecskés Péter<font color=green>^-</font>'), Label(val…"
      ]
     },
     "metadata": {},
     "output_type": "display_data"
    },
    {
     "data": {
      "application/vnd.jupyter.widget-view+json": {
       "model_id": "3cbf820b2bd44158a8edb3be7b844ab7",
       "version_major": 2,
       "version_minor": 0
      },
      "text/plain": [
       "HBox(children=(Label(value='Tomasz Piars'), HTML(value='Tomas<font color=red>^z</font> Piars'), Label(value='9…"
      ]
     },
     "metadata": {},
     "output_type": "display_data"
    },
    {
     "data": {
      "application/vnd.jupyter.widget-view+json": {
       "model_id": "5052f1dd0de440fd80ec2e5acdfb0485",
       "version_major": 2,
       "version_minor": 0
      },
      "text/plain": [
       "HBox(children=(Label(value='Schneller János'), HTML(value='Sc<font color=red>^h</font>neller János'), Label(va…"
      ]
     },
     "metadata": {},
     "output_type": "display_data"
    },
    {
     "data": {
      "application/vnd.jupyter.widget-view+json": {
       "model_id": "aea84b11932c4e5b9c8a90ac192eeb9c",
       "version_major": 2,
       "version_minor": 0
      },
      "text/plain": [
       "HBox(children=(Label(value='Mécs Miklós'), HTML(value='Mécs Miklós<font color=green>^)</font>'), Label(value='…"
      ]
     },
     "metadata": {},
     "output_type": "display_data"
    },
    {
     "data": {
      "application/vnd.jupyter.widget-view+json": {
       "model_id": "30f7d4576be642ad85dd50488f4a445a",
       "version_major": 2,
       "version_minor": 0
      },
      "text/plain": [
       "HBox(children=(Label(value='Csiszér Zsuzsi'), HTML(value='C<font color=red>^s</font>iszér Zsuzsi'), Label(valu…"
      ]
     },
     "metadata": {},
     "output_type": "display_data"
    },
    {
     "data": {
      "application/vnd.jupyter.widget-view+json": {
       "model_id": "ec549c3edeef4342a7d94cf0025a67cc",
       "version_major": 2,
       "version_minor": 0
      },
      "text/plain": [
       "HBox(children=(Label(value='Kisspál Szabolcs'), HTML(value='Ki<font color=red>^s</font>spál Szabolcs'), Label(…"
      ]
     },
     "metadata": {},
     "output_type": "display_data"
    },
    {
     "data": {
      "application/vnd.jupyter.widget-view+json": {
       "model_id": "1625c99b1e014971bb2a8962fb5e97a5",
       "version_major": 2,
       "version_minor": 0
      },
      "text/plain": [
       "HBox(children=(Label(value='Mátrai Erik'), HTML(value='Mátrai Erik<font color=green>^a</font>'), Label(value='…"
      ]
     },
     "metadata": {},
     "output_type": "display_data"
    },
    {
     "data": {
      "application/vnd.jupyter.widget-view+json": {
       "model_id": "062a1280c25642edafe701bfc65b841a",
       "version_major": 2,
       "version_minor": 0
      },
      "text/plain": [
       "HBox(children=(Label(value='Szotyory László'), HTML(value='Szotyory László<font color=green>^ </font>'), Label…"
      ]
     },
     "metadata": {},
     "output_type": "display_data"
    },
    {
     "data": {
      "application/vnd.jupyter.widget-view+json": {
       "model_id": "b0b8fd3038ad4fe881d070202ad7ae79",
       "version_major": 2,
       "version_minor": 0
      },
      "text/plain": [
       "HBox(children=(Label(value='Gróf Ferenc'), HTML(value='<font color=green>^(</font>Gróf Ferenc'), Label(value='…"
      ]
     },
     "metadata": {},
     "output_type": "display_data"
    },
    {
     "data": {
      "application/vnd.jupyter.widget-view+json": {
       "model_id": "aa7cb5d7484a47ceabad1aa2f5891a51",
       "version_major": 2,
       "version_minor": 0
      },
      "text/plain": [
       "HBox(children=(Label(value='Szász György'), HTML(value='<font color=red>^S</font>zász György'), Label(value='9…"
      ]
     },
     "metadata": {},
     "output_type": "display_data"
    },
    {
     "data": {
      "application/vnd.jupyter.widget-view+json": {
       "model_id": "025112e5e9d74ebd97c36d0242e7a3ca",
       "version_major": 2,
       "version_minor": 0
      },
      "text/plain": [
       "HBox(children=(Label(value='Jakatics-Szabó Veronika'), HTML(value='Jakati<font color=blue>^t</font>s-Szabó Ver…"
      ]
     },
     "metadata": {},
     "output_type": "display_data"
    },
    {
     "data": {
      "application/vnd.jupyter.widget-view+json": {
       "model_id": "91dadca9f1894348959afae2ff9e6ac0",
       "version_major": 2,
       "version_minor": 0
      },
      "text/plain": [
       "HBox(children=(Label(value='Jakatics-Szabó Veronika'), HTML(value='Jakatics<font color=blue>^ </font>Szabó Ver…"
      ]
     },
     "metadata": {},
     "output_type": "display_data"
    },
    {
     "data": {
      "application/vnd.jupyter.widget-view+json": {
       "model_id": "5617ac22edfe4095804ba450e9f76580",
       "version_major": 2,
       "version_minor": 0
      },
      "text/plain": [
       "HBox(children=(Label(value='Jakatics-Szabó Veronika'), HTML(value='Jakat<font color=green>^a</font>ics-Szabó V…"
      ]
     },
     "metadata": {},
     "output_type": "display_data"
    },
    {
     "data": {
      "application/vnd.jupyter.widget-view+json": {
       "model_id": "471fa1a71e744057b845e15851573fa2",
       "version_major": 2,
       "version_minor": 0
      },
      "text/plain": [
       "HBox(children=(Label(value='Bullás József'), HTML(value='Bullás József<font color=green>^ </font>'), Label(val…"
      ]
     },
     "metadata": {},
     "output_type": "display_data"
    },
    {
     "data": {
      "application/vnd.jupyter.widget-view+json": {
       "model_id": "eff84dac025d4bf2a60dcd5267c9c038",
       "version_major": 2,
       "version_minor": 0
      },
      "text/plain": [
       "HBox(children=(Label(value='Bullás József'), HTML(value='Bullás József<font color=green>^ </font>'), Label(val…"
      ]
     },
     "metadata": {},
     "output_type": "display_data"
    },
    {
     "data": {
      "application/vnd.jupyter.widget-view+json": {
       "model_id": "479ee30568cf476281abb0e71029b59a",
       "version_major": 2,
       "version_minor": 0
      },
      "text/plain": [
       "HBox(children=(Label(value='Karácsonyi László'), HTML(value='Karácsony<font color=red>^i</font> László'), Labe…"
      ]
     },
     "metadata": {},
     "output_type": "display_data"
    },
    {
     "data": {
      "application/vnd.jupyter.widget-view+json": {
       "model_id": "6f31f67cbab54c7a81295b408ee0cb99",
       "version_major": 2,
       "version_minor": 0
      },
      "text/plain": [
       "HBox(children=(Label(value='Pataki Gábor'), HTML(value='Pataki<font color=red>^ </font>Gábor'), Label(value='9…"
      ]
     },
     "metadata": {},
     "output_type": "display_data"
    },
    {
     "data": {
      "application/vnd.jupyter.widget-view+json": {
       "model_id": "0c09a197832b4634b6376470e39ac38b",
       "version_major": 2,
       "version_minor": 0
      },
      "text/plain": [
       "HBox(children=(Label(value='Erőss István'), HTML(value='Erő<font color=red>^s</font>s István'), Label(value='9…"
      ]
     },
     "metadata": {},
     "output_type": "display_data"
    },
    {
     "data": {
      "application/vnd.jupyter.widget-view+json": {
       "model_id": "c34db4b8cd07493c9553043242fba1e7",
       "version_major": 2,
       "version_minor": 0
      },
      "text/plain": [
       "HBox(children=(Label(value='Kőnig Frigyes'), HTML(value='Kőnig F<font color=red>^r</font>igyes'), Label(value=…"
      ]
     },
     "metadata": {},
     "output_type": "display_data"
    },
    {
     "data": {
      "application/vnd.jupyter.widget-view+json": {
       "model_id": "0e8de521071e4083bb78f5663c0a26dd",
       "version_major": 2,
       "version_minor": 0
      },
      "text/plain": [
       "HBox(children=(Label(value='Frazon Zsófia'), HTML(value='Frazon Zsófi<font color=red>^a</font>'), Label(value=…"
      ]
     },
     "metadata": {},
     "output_type": "display_data"
    },
    {
     "data": {
      "application/vnd.jupyter.widget-view+json": {
       "model_id": "5fdab045d2364450a5b3cd984cad83b4",
       "version_major": 2,
       "version_minor": 0
      },
      "text/plain": [
       "HBox(children=(Label(value='Kopasz Tamás'), HTML(value='Kopasz Tamás<font color=green>^z</font>'), Label(value…"
      ]
     },
     "metadata": {},
     "output_type": "display_data"
    },
    {
     "data": {
      "application/vnd.jupyter.widget-view+json": {
       "model_id": "1dfd94c91ae0425a93cd7b0feb9bed3b",
       "version_major": 2,
       "version_minor": 0
      },
      "text/plain": [
       "HBox(children=(Label(value='Juhász Anna'), HTML(value='Juhász Ann<font color=green>^n</font>a'), Label(value='…"
      ]
     },
     "metadata": {},
     "output_type": "display_data"
    },
    {
     "data": {
      "application/vnd.jupyter.widget-view+json": {
       "model_id": "cca1da1e53dc415b9f4f681011f4f8a3",
       "version_major": 2,
       "version_minor": 0
      },
      "text/plain": [
       "HBox(children=(Label(value='Károlyi Zsigmond'), HTML(value='Károlyi<font color=green>^ </font> Zsigmond'), Lab…"
      ]
     },
     "metadata": {},
     "output_type": "display_data"
    },
    {
     "data": {
      "application/vnd.jupyter.widget-view+json": {
       "model_id": "f4dc327074f2464a9039c967bc4658b6",
       "version_major": 2,
       "version_minor": 0
      },
      "text/plain": [
       "HBox(children=(Label(value='Kútvölgyi-Szabó Áron'), HTML(value='Kútvölgyi<font color=green>^\\xad</font>-Szabó …"
      ]
     },
     "metadata": {},
     "output_type": "display_data"
    },
    {
     "data": {
      "application/vnd.jupyter.widget-view+json": {
       "model_id": "11936afdf4e24a7e9e107ee1422ef2ac",
       "version_major": 2,
       "version_minor": 0
      },
      "text/plain": [
       "HBox(children=(Label(value='Somogyi Zsófia'), HTML(value='Somogyi Zsófi<font color=red>^a</font>'), Label(valu…"
      ]
     },
     "metadata": {},
     "output_type": "display_data"
    },
    {
     "data": {
      "application/vnd.jupyter.widget-view+json": {
       "model_id": "61d8540b8352466f9972f523f411fa7c",
       "version_major": 2,
       "version_minor": 0
      },
      "text/plain": [
       "HBox(children=(Label(value='Kishonthy Zsolt'), HTML(value='Kishont<font color=red>^h</font>y Zsolt'), Label(va…"
      ]
     },
     "metadata": {},
     "output_type": "display_data"
    },
    {
     "data": {
      "application/vnd.jupyter.widget-view+json": {
       "model_id": "d4c0d19774c9480d844df02df482493e",
       "version_major": 2,
       "version_minor": 0
      },
      "text/plain": [
       "HBox(children=(Label(value='Szolnoki József'), HTML(value='Szolnoki József<font color=green>^ </font>'), Label…"
      ]
     },
     "metadata": {},
     "output_type": "display_data"
    },
    {
     "data": {
      "application/vnd.jupyter.widget-view+json": {
       "model_id": "51d7e2bd475c4ceb835eb02877675514",
       "version_major": 2,
       "version_minor": 0
      },
      "text/plain": [
       "HBox(children=(Label(value='Barabás Zsófi'), HTML(value='Barabás Zsófi<font color=green>^a</font>'), Label(val…"
      ]
     },
     "metadata": {},
     "output_type": "display_data"
    },
    {
     "data": {
      "application/vnd.jupyter.widget-view+json": {
       "model_id": "a6938f80fdda4846a040362c880f51a7",
       "version_major": 2,
       "version_minor": 0
      },
      "text/plain": [
       "HBox(children=(Label(value='Csernus Tibor'), HTML(value='Csernus<font color=green>^s</font> Tibor'), Label(val…"
      ]
     },
     "metadata": {},
     "output_type": "display_data"
    },
    {
     "data": {
      "application/vnd.jupyter.widget-view+json": {
       "model_id": "5a5166801f124d4fa37431122bcf494f",
       "version_major": 2,
       "version_minor": 0
      },
      "text/plain": [
       "HBox(children=(Label(value='ef Zámbó István'), HTML(value='ef<font color=red>^ </font>Zámbó István'), Label(va…"
      ]
     },
     "metadata": {},
     "output_type": "display_data"
    },
    {
     "data": {
      "application/vnd.jupyter.widget-view+json": {
       "model_id": "2d3fccf9209344628237484600cc6f8f",
       "version_major": 2,
       "version_minor": 0
      },
      "text/plain": [
       "HBox(children=(Label(value='Krizbai Sándor'), HTML(value='Krizbai <font color=green>^ </font>Sándor'), Label(v…"
      ]
     },
     "metadata": {},
     "output_type": "display_data"
    },
    {
     "data": {
      "application/vnd.jupyter.widget-view+json": {
       "model_id": "859c0397bb2d4ba098b04dbdd8864951",
       "version_major": 2,
       "version_minor": 0
      },
      "text/plain": [
       "HBox(children=(Label(value='Dr. Gálig Zoltán'), HTML(value='Dr.<font color=red>^ </font>Gálig Zoltán'), Label(…"
      ]
     },
     "metadata": {},
     "output_type": "display_data"
    },
    {
     "data": {
      "application/vnd.jupyter.widget-view+json": {
       "model_id": "8e7a3a9773bc430882637bc7444c9626",
       "version_major": 2,
       "version_minor": 0
      },
      "text/plain": [
       "HBox(children=(Label(value='Szécsényi-Nagy Loránd'), HTML(value='Szécsényi<font color=green>^\\xad</font>-Nagy …"
      ]
     },
     "metadata": {},
     "output_type": "display_data"
    },
    {
     "data": {
      "application/vnd.jupyter.widget-view+json": {
       "model_id": "75cdf6b37b024832b62d319f027e9b71",
       "version_major": 2,
       "version_minor": 0
      },
      "text/plain": [
       "HBox(children=(Label(value='Mátyási Péter'), HTML(value='Mátyás<font color=red>^i</font> Péter'), Label(value=…"
      ]
     },
     "metadata": {},
     "output_type": "display_data"
    },
    {
     "data": {
      "application/vnd.jupyter.widget-view+json": {
       "model_id": "80d71b8c2a8042858384ef1f751e6a6e",
       "version_major": 2,
       "version_minor": 0
      },
      "text/plain": [
       "HBox(children=(Label(value='Mátyási Péter'), HTML(value='Mátyás<font color=red>^i</font> Péter'), Label(value=…"
      ]
     },
     "metadata": {},
     "output_type": "display_data"
    },
    {
     "data": {
      "application/vnd.jupyter.widget-view+json": {
       "model_id": "89a12d093d7e449890dd82e05d1003cd",
       "version_major": 2,
       "version_minor": 0
      },
      "text/plain": [
       "HBox(children=(Label(value='Mátyási Péter'), HTML(value='Mátyás<font color=red>^i</font> Péter'), Label(value=…"
      ]
     },
     "metadata": {},
     "output_type": "display_data"
    },
    {
     "data": {
      "application/vnd.jupyter.widget-view+json": {
       "model_id": "f6172cebea174c15bc05f5038610594d",
       "version_major": 2,
       "version_minor": 0
      },
      "text/plain": [
       "HBox(children=(Label(value='Mátyási Péter'), HTML(value='Mátyás<font color=red>^i</font> Péter'), Label(value=…"
      ]
     },
     "metadata": {},
     "output_type": "display_data"
    },
    {
     "data": {
      "application/vnd.jupyter.widget-view+json": {
       "model_id": "31bf2ad611d14ab0a0505e61a96ce7d2",
       "version_major": 2,
       "version_minor": 0
      },
      "text/plain": [
       "HBox(children=(Label(value='Mátyási Péter'), HTML(value='Mátyás<font color=red>^i</font> Péter'), Label(value=…"
      ]
     },
     "metadata": {},
     "output_type": "display_data"
    },
    {
     "data": {
      "application/vnd.jupyter.widget-view+json": {
       "model_id": "7cb7a0b79d7944838e72a089cfc468c2",
       "version_major": 2,
       "version_minor": 0
      },
      "text/plain": [
       "HBox(children=(Label(value='Mayer Marianna'), HTML(value='Mayer Mariann<font color=red>^a</font>'), Label(valu…"
      ]
     },
     "metadata": {},
     "output_type": "display_data"
    },
    {
     "data": {
      "application/vnd.jupyter.widget-view+json": {
       "model_id": "6f034815efde4dcbb643c3f1fed0dde2",
       "version_major": 2,
       "version_minor": 0
      },
      "text/plain": [
       "HBox(children=(Label(value='Antal István'), HTML(value='Anta<font color=green>^l</font>l István'), Label(value…"
      ]
     },
     "metadata": {},
     "output_type": "display_data"
    },
    {
     "data": {
      "application/vnd.jupyter.widget-view+json": {
       "model_id": "6a9cea8e4bfd4ab7bf54583929bc1e44",
       "version_major": 2,
       "version_minor": 0
      },
      "text/plain": [
       "HBox(children=(Label(value='Antal István'), HTML(value='Anta<font color=green>^l</font>l István'), Label(value…"
      ]
     },
     "metadata": {},
     "output_type": "display_data"
    },
    {
     "data": {
      "application/vnd.jupyter.widget-view+json": {
       "model_id": "43d0e2d5e69042a98b53f3b871f13e00",
       "version_major": 2,
       "version_minor": 0
      },
      "text/plain": [
       "HBox(children=(Label(value='Swierkiewicz Róbert'), HTML(value='Swierki<font color=red>^e</font>wicz Róbert'), …"
      ]
     },
     "metadata": {},
     "output_type": "display_data"
    },
    {
     "data": {
      "application/vnd.jupyter.widget-view+json": {
       "model_id": "ee006532a86b4f50b9425b81df77929f",
       "version_major": 2,
       "version_minor": 0
      },
      "text/plain": [
       "HBox(children=(Label(value='Swierkiewicz Róbert'), HTML(value='Swierk<font color=red>^i</font>ewicz Róbert'), …"
      ]
     },
     "metadata": {},
     "output_type": "display_data"
    },
    {
     "data": {
      "application/vnd.jupyter.widget-view+json": {
       "model_id": "52a228ef1f9b4e148b62c12c792cc18a",
       "version_major": 2,
       "version_minor": 0
      },
      "text/plain": [
       "HBox(children=(Label(value='Veszely Ferenc'), HTML(value='Ves<font color=red>^z</font>ely Ferenc'), Label(valu…"
      ]
     },
     "metadata": {},
     "output_type": "display_data"
    },
    {
     "data": {
      "application/vnd.jupyter.widget-view+json": {
       "model_id": "dd41a13eac4b417180e33b182302e057",
       "version_major": 2,
       "version_minor": 0
      },
      "text/plain": [
       "HBox(children=(Label(value='Tóth Márton Emil'), HTML(value='Tóth Márton Emil<font color=green>^.</font>'), Lab…"
      ]
     },
     "metadata": {},
     "output_type": "display_data"
    },
    {
     "data": {
      "application/vnd.jupyter.widget-view+json": {
       "model_id": "a2ae755dc5244477a6d6bf1b23f43447",
       "version_major": 2,
       "version_minor": 0
      },
      "text/plain": [
       "HBox(children=(Label(value='Pataki Gábor'), HTML(value='Pataki<font color=red>^ </font>Gábor'), Label(value='9…"
      ]
     },
     "metadata": {},
     "output_type": "display_data"
    },
    {
     "data": {
      "application/vnd.jupyter.widget-view+json": {
       "model_id": "3f5cdb92cdd2486490a728520016882a",
       "version_major": 2,
       "version_minor": 0
      },
      "text/plain": [
       "HBox(children=(Label(value='Barakonyi Szabolcs'), HTML(value='Barakonyi <font color=green>^ </font>Szabolcs'),…"
      ]
     },
     "metadata": {},
     "output_type": "display_data"
    },
    {
     "data": {
      "application/vnd.jupyter.widget-view+json": {
       "model_id": "a43f6fa457e5407c86ba1daab07ff584",
       "version_major": 2,
       "version_minor": 0
      },
      "text/plain": [
       "HBox(children=(Label(value='Hermann Zoltán'), HTML(value='Herma<font color=red>^n</font>n Zoltán'), Label(valu…"
      ]
     },
     "metadata": {},
     "output_type": "display_data"
    },
    {
     "data": {
      "application/vnd.jupyter.widget-view+json": {
       "model_id": "39e0c2772ac04638bb4ad804ee55556f",
       "version_major": 2,
       "version_minor": 0
      },
      "text/plain": [
       "HBox(children=(Label(value='Katona Zoltán'), HTML(value='Katona<font color=red>^ </font>Zoltán'), Label(value=…"
      ]
     },
     "metadata": {},
     "output_type": "display_data"
    },
    {
     "data": {
      "application/vnd.jupyter.widget-view+json": {
       "model_id": "ec05b6c774894988a531aee64c7daade",
       "version_major": 2,
       "version_minor": 0
      },
      "text/plain": [
       "HBox(children=(Label(value='Lucza Zsigmond'), HTML(value='Luc<font color=red>^z</font>a Zsigmond'), Label(valu…"
      ]
     },
     "metadata": {},
     "output_type": "display_data"
    },
    {
     "data": {
      "application/vnd.jupyter.widget-view+json": {
       "model_id": "8cc12bc5419e44869061266e56ebd1b5",
       "version_major": 2,
       "version_minor": 0
      },
      "text/plain": [
       "HBox(children=(Label(value='Szegedy-Maszák Zsuzsanna'), HTML(value='Szegedy-Masz<font color=blue>^a</font>k Zs…"
      ]
     },
     "metadata": {},
     "output_type": "display_data"
    },
    {
     "data": {
      "application/vnd.jupyter.widget-view+json": {
       "model_id": "0c57ebe4572745d8b6b7b3949d79ea62",
       "version_major": 2,
       "version_minor": 0
      },
      "text/plain": [
       "HBox(children=(Label(value='Pályi Zsófia'), HTML(value='Pályi Zsófi<font color=red>^a</font>'), Label(value='9…"
      ]
     },
     "metadata": {},
     "output_type": "display_data"
    },
    {
     "data": {
      "application/vnd.jupyter.widget-view+json": {
       "model_id": "355d40dbeb7941f3990336c11d51f149",
       "version_major": 2,
       "version_minor": 0
      },
      "text/plain": [
       "HBox(children=(Label(value='Nagy Gabriella'), HTML(value='Nagy Gab<font color=red>^r</font>iella'), Label(valu…"
      ]
     },
     "metadata": {},
     "output_type": "display_data"
    },
    {
     "data": {
      "application/vnd.jupyter.widget-view+json": {
       "model_id": "ceb1ae1b6e364e2ca556d330a19ac888",
       "version_major": 2,
       "version_minor": 0
      },
      "text/plain": [
       "HBox(children=(Label(value='Rechnitzer Zsófi'), HTML(value='Rechnitzer Zsófi<font color=green>^a</font>'), Lab…"
      ]
     },
     "metadata": {},
     "output_type": "display_data"
    },
    {
     "data": {
      "application/vnd.jupyter.widget-view+json": {
       "model_id": "d56df6396d924fefaeaf1ff48b485dc0",
       "version_major": 2,
       "version_minor": 0
      },
      "text/plain": [
       "HBox(children=(Label(value='L. Simon László'), HTML(value='L.<font color=red>^ </font>Simon László'), Label(va…"
      ]
     },
     "metadata": {},
     "output_type": "display_data"
    },
    {
     "data": {
      "application/vnd.jupyter.widget-view+json": {
       "model_id": "47b64b2615d04f7e95eaf23dcca9dc56",
       "version_major": 2,
       "version_minor": 0
      },
      "text/plain": [
       "HBox(children=(Label(value='Navratil Judit'), HTML(value='Navratil Judit<font color=green>^)</font>'), Label(v…"
      ]
     },
     "metadata": {},
     "output_type": "display_data"
    },
    {
     "data": {
      "application/vnd.jupyter.widget-view+json": {
       "model_id": "89a0f962e242464699802afabe7cd498",
       "version_major": 2,
       "version_minor": 0
      },
      "text/plain": [
       "HBox(children=(Label(value='Juhász R. József'), HTML(value='Juhász R.<font color=red>^ </font>József'), Label(…"
      ]
     },
     "metadata": {},
     "output_type": "display_data"
    },
    {
     "data": {
      "application/vnd.jupyter.widget-view+json": {
       "model_id": "d839450810604e18826229e4dabe1cb8",
       "version_major": 2,
       "version_minor": 0
      },
      "text/plain": [
       "HBox(children=(Label(value='P. Szabó Ernő'), HTML(value='P<font color=red>^.</font> Szabó Ernő'), Label(value=…"
      ]
     },
     "metadata": {},
     "output_type": "display_data"
    },
    {
     "data": {
      "application/vnd.jupyter.widget-view+json": {
       "model_id": "38feb97d78da4d1e890e3aa8d85b26ac",
       "version_major": 2,
       "version_minor": 0
      },
      "text/plain": [
       "HBox(children=(Label(value='Schneller János'), HTML(value='Sc<font color=red>^h</font>neller János'), Label(va…"
      ]
     },
     "metadata": {},
     "output_type": "display_data"
    },
    {
     "data": {
      "application/vnd.jupyter.widget-view+json": {
       "model_id": "4c7c78297abf477b80cb8e40c10ef72a",
       "version_major": 2,
       "version_minor": 0
      },
      "text/plain": [
       "HBox(children=(Label(value='Ázbej Kristóf'), HTML(value='Ázbej Kris<font color=red>^t</font>óf'), Label(value=…"
      ]
     },
     "metadata": {},
     "output_type": "display_data"
    },
    {
     "data": {
      "application/vnd.jupyter.widget-view+json": {
       "model_id": "f2e4ad47be824f149f2943e4c14d87e8",
       "version_major": 2,
       "version_minor": 0
      },
      "text/plain": [
       "HBox(children=(Label(value='P. Szabó Ernő'), HTML(value='P<font color=red>^.</font> Szabó Ernő'), Label(value=…"
      ]
     },
     "metadata": {},
     "output_type": "display_data"
    },
    {
     "data": {
      "application/vnd.jupyter.widget-view+json": {
       "model_id": "8b59bed0ac9648b8bdbad02ab383d1ae",
       "version_major": 2,
       "version_minor": 0
      },
      "text/plain": [
       "HBox(children=(Label(value='N. Mészáros Júlia'), HTML(value='N.<font color=red>^ </font>Mészáros Júlia'), Labe…"
      ]
     },
     "metadata": {},
     "output_type": "display_data"
    },
    {
     "data": {
      "application/vnd.jupyter.widget-view+json": {
       "model_id": "bf805fe403cd474e857411c6ee7aff7e",
       "version_major": 2,
       "version_minor": 0
      },
      "text/plain": [
       "HBox(children=(Label(value='N. Mészáros Júlia'), HTML(value='N.<font color=red>^ </font>Mészáros Júlia'), Labe…"
      ]
     },
     "metadata": {},
     "output_type": "display_data"
    },
    {
     "data": {
      "application/vnd.jupyter.widget-view+json": {
       "model_id": "bd94b1348c164f0cb3abe933e2b29892",
       "version_major": 2,
       "version_minor": 0
      },
      "text/plain": [
       "HBox(children=(Label(value='Tóth Szilvi'), HTML(value='Tóth Szilvi<font color=green>^a</font>'), Label(value='…"
      ]
     },
     "metadata": {},
     "output_type": "display_data"
    },
    {
     "data": {
      "application/vnd.jupyter.widget-view+json": {
       "model_id": "6734c8bce63c4159bc56978fedb430c1",
       "version_major": 2,
       "version_minor": 0
      },
      "text/plain": [
       "HBox(children=(Label(value='Haris László'), HTML(value='Ha<font color=green>^r</font>ris László'), Label(value…"
      ]
     },
     "metadata": {},
     "output_type": "display_data"
    },
    {
     "data": {
      "application/vnd.jupyter.widget-view+json": {
       "model_id": "98db463b08d143fe8aeb776c0f71e60f",
       "version_major": 2,
       "version_minor": 0
      },
      "text/plain": [
       "HBox(children=(Label(value='Rabóczky Judit Rita'), HTML(value='Rabóczky Judit <font color=green>^ </font>Rita'…"
      ]
     },
     "metadata": {},
     "output_type": "display_data"
    },
    {
     "data": {
      "application/vnd.jupyter.widget-view+json": {
       "model_id": "56d1b3968cd04249986f2814a3690fed",
       "version_major": 2,
       "version_minor": 0
      },
      "text/plain": [
       "HBox(children=(Label(value='Pettendi Szabó Péter'), HTML(value='Pettendi Szabó<font color=red>^ </font>Péter')…"
      ]
     },
     "metadata": {},
     "output_type": "display_data"
    },
    {
     "data": {
      "application/vnd.jupyter.widget-view+json": {
       "model_id": "9e1bf0c698d24e2b8b4952aa8937bce5",
       "version_major": 2,
       "version_minor": 0
      },
      "text/plain": [
       "HBox(children=(Label(value='Kovács Lehel'), HTML(value='Ko<font color=green>^k</font>vács Lehel'), Label(value…"
      ]
     },
     "metadata": {},
     "output_type": "display_data"
    },
    {
     "data": {
      "application/vnd.jupyter.widget-view+json": {
       "model_id": "1e431f2c88744214a370994a218e4f27",
       "version_major": 2,
       "version_minor": 0
      },
      "text/plain": [
       "HBox(children=(Label(value='Mengyán András'), HTML(value='Me<font color=red>^n</font>gyán András'), Label(valu…"
      ]
     },
     "metadata": {},
     "output_type": "display_data"
    },
    {
     "data": {
      "application/vnd.jupyter.widget-view+json": {
       "model_id": "90e4596164784fac99efcd50929064de",
       "version_major": 2,
       "version_minor": 0
      },
      "text/plain": [
       "HBox(children=(Label(value='Szépfalvi Ágnes'), HTML(value='<font color=red>^S</font>zépfalvi Ágnes'), Label(va…"
      ]
     },
     "metadata": {},
     "output_type": "display_data"
    },
    {
     "data": {
      "application/vnd.jupyter.widget-view+json": {
       "model_id": "e6d5955d848f4f97a38abc53c7b5960a",
       "version_major": 2,
       "version_minor": 0
      },
      "text/plain": [
       "HBox(children=(Label(value='Pacsika Márton'), HTML(value='P<font color=red>^a</font>csika Márton'), Label(valu…"
      ]
     },
     "metadata": {},
     "output_type": "display_data"
    },
    {
     "data": {
      "application/vnd.jupyter.widget-view+json": {
       "model_id": "ccf712ba08934295a2ac01e8e8342292",
       "version_major": 2,
       "version_minor": 0
      },
      "text/plain": [
       "HBox(children=(Label(value='Pinczés József'), HTML(value='Pinc<font color=red>^z</font>és József'), Label(valu…"
      ]
     },
     "metadata": {},
     "output_type": "display_data"
    },
    {
     "data": {
      "application/vnd.jupyter.widget-view+json": {
       "model_id": "e940932050c94b6b9ca0d7db8ab21264",
       "version_major": 2,
       "version_minor": 0
      },
      "text/plain": [
       "HBox(children=(Label(value='Készman József'), HTML(value='Készman József<font color=green>^ </font>'), Label(v…"
      ]
     },
     "metadata": {},
     "output_type": "display_data"
    },
    {
     "data": {
      "application/vnd.jupyter.widget-view+json": {
       "model_id": "03605962746f47c99c4cf3dac09801de",
       "version_major": 2,
       "version_minor": 0
      },
      "text/plain": [
       "HBox(children=(Label(value='Farkas Zsófia'), HTML(value='Farkas Zsófi<font color=red>^a</font>'), Label(value=…"
      ]
     },
     "metadata": {},
     "output_type": "display_data"
    },
    {
     "data": {
      "application/vnd.jupyter.widget-view+json": {
       "model_id": "02a8b239698d40429c626c393f00797f",
       "version_major": 2,
       "version_minor": 0
      },
      "text/plain": [
       "HBox(children=(Label(value='efZámbó István'), HTML(value='ef<font color=green>^ </font>Zámbó István'), Label(v…"
      ]
     },
     "metadata": {},
     "output_type": "display_data"
    },
    {
     "data": {
      "application/vnd.jupyter.widget-view+json": {
       "model_id": "929b774e20bd4d6cb6b4fd486c3b9255",
       "version_major": 2,
       "version_minor": 0
      },
      "text/plain": [
       "HBox(children=(Label(value='efZámbó István'), HTML(value='ef<font color=green>^ </font>Zámbó István'), Label(v…"
      ]
     },
     "metadata": {},
     "output_type": "display_data"
    },
    {
     "data": {
      "application/vnd.jupyter.widget-view+json": {
       "model_id": "a127d24697b442aaa9439dcd16bcc265",
       "version_major": 2,
       "version_minor": 0
      },
      "text/plain": [
       "HBox(children=(Label(value='efZámbó István'), HTML(value='ef<font color=green>^ </font>Zámbó István'), Label(v…"
      ]
     },
     "metadata": {},
     "output_type": "display_data"
    },
    {
     "data": {
      "application/vnd.jupyter.widget-view+json": {
       "model_id": "19f7a425c3634bd19940e10cd329f37c",
       "version_major": 2,
       "version_minor": 0
      },
      "text/plain": [
       "HBox(children=(Label(value='efZámbó István'), HTML(value='ef<font color=green>^.</font>Zámbó István'), Label(v…"
      ]
     },
     "metadata": {},
     "output_type": "display_data"
    },
    {
     "data": {
      "application/vnd.jupyter.widget-view+json": {
       "model_id": "22ed1170e23f45b681f4c9e661d732db",
       "version_major": 2,
       "version_minor": 0
      },
      "text/plain": [
       "HBox(children=(Label(value='Drozdik Orshi'), HTML(value='Drozdik Ors<font color=red>^h</font>i'), Label(value=…"
      ]
     },
     "metadata": {},
     "output_type": "display_data"
    },
    {
     "data": {
      "application/vnd.jupyter.widget-view+json": {
       "model_id": "bf6c8fada34645fab584255024f1c9e0",
       "version_major": 2,
       "version_minor": 0
      },
      "text/plain": [
       "HBox(children=(Label(value='Orosz Csaba'), HTML(value='Orosz<font color=green>^y</font> Csaba'), Label(value='…"
      ]
     },
     "metadata": {},
     "output_type": "display_data"
    },
    {
     "data": {
      "application/vnd.jupyter.widget-view+json": {
       "model_id": "c9b3bda004a9423baee58f5b3b430230",
       "version_major": 2,
       "version_minor": 0
      },
      "text/plain": [
       "HBox(children=(Label(value='Erdész László'), HTML(value='Erdész Lász<font color=red>^l</font>ó'), Label(value=…"
      ]
     },
     "metadata": {},
     "output_type": "display_data"
    },
    {
     "data": {
      "application/vnd.jupyter.widget-view+json": {
       "model_id": "dd3bd811d12e4ae68ba9b4fade8c553f",
       "version_major": 2,
       "version_minor": 0
      },
      "text/plain": [
       "HBox(children=(Label(value='Solt András'), HTML(value='Solt<font color=green>^i</font> András'), Label(value='…"
      ]
     },
     "metadata": {},
     "output_type": "display_data"
    },
    {
     "data": {
      "application/vnd.jupyter.widget-view+json": {
       "model_id": "c29086faa5f2445fa8df87e32cad34ac",
       "version_major": 2,
       "version_minor": 0
      },
      "text/plain": [
       "HBox(children=(Label(value='Solt András'), HTML(value='Solt<font color=green>^i</font> András'), Label(value='…"
      ]
     },
     "metadata": {},
     "output_type": "display_data"
    },
    {
     "data": {
      "application/vnd.jupyter.widget-view+json": {
       "model_id": "ec0248d509c348da82e5c5b4a3971daf",
       "version_major": 2,
       "version_minor": 0
      },
      "text/plain": [
       "HBox(children=(Label(value='Kárpáti Tibor'), HTML(value='Kár<font color=green>^t</font>páti Tibor'), Label(val…"
      ]
     },
     "metadata": {},
     "output_type": "display_data"
    },
    {
     "data": {
      "application/vnd.jupyter.widget-view+json": {
       "model_id": "f624bdb25ff44a4c9566bdd282cb1b0b",
       "version_major": 2,
       "version_minor": 0
      },
      "text/plain": [
       "HBox(children=(Label(value='Miklós Hajnal'), HTML(value='Mik<font color=red>^l</font>ós Hajnal'), Label(value=…"
      ]
     },
     "metadata": {},
     "output_type": "display_data"
    },
    {
     "data": {
      "application/vnd.jupyter.widget-view+json": {
       "model_id": "e003d8e689004a859ec0561d6bd5a097",
       "version_major": 2,
       "version_minor": 0
      },
      "text/plain": [
       "HBox(children=(Label(value='Katharina Roters'), HTML(value='Kat<font color=red>^h</font>arina Roters'), Label(…"
      ]
     },
     "metadata": {},
     "output_type": "display_data"
    },
    {
     "data": {
      "application/vnd.jupyter.widget-view+json": {
       "model_id": "11fb332503e345809335b287aebf0275",
       "version_major": 2,
       "version_minor": 0
      },
      "text/plain": [
       "HBox(children=(Label(value='Tillmann József'), HTML(value='Tillmann <font color=green>^ </font>József'), Label…"
      ]
     },
     "metadata": {},
     "output_type": "display_data"
    },
    {
     "data": {
      "application/vnd.jupyter.widget-view+json": {
       "model_id": "15a32c314d1f4593802fd9cd44b42a12",
       "version_major": 2,
       "version_minor": 0
      },
      "text/plain": [
       "HBox(children=(Label(value='Katarina Sevic'), HTML(value='Kat<font color=red>^a</font>rina Sevic'), Label(valu…"
      ]
     },
     "metadata": {},
     "output_type": "display_data"
    },
    {
     "data": {
      "application/vnd.jupyter.widget-view+json": {
       "model_id": "426f4161abea4336b72a215f95530fc6",
       "version_major": 2,
       "version_minor": 0
      },
      "text/plain": [
       "HBox(children=(Label(value='Gellér B. István'), HTML(value='Gellér B.<font color=red>^ </font>István'), Label(…"
      ]
     },
     "metadata": {},
     "output_type": "display_data"
    },
    {
     "data": {
      "application/vnd.jupyter.widget-view+json": {
       "model_id": "70ac4e66848a4da0be81223e74e0c53b",
       "version_major": 2,
       "version_minor": 0
      },
      "text/plain": [
       "HBox(children=(Label(value='Demeter Dávid'), HTML(value='Demeter Dávid<font color=green>^i</font>'), Label(val…"
      ]
     },
     "metadata": {},
     "output_type": "display_data"
    },
    {
     "data": {
      "application/vnd.jupyter.widget-view+json": {
       "model_id": "2e7d4e579eeb41a382c0c0fb1d057213",
       "version_major": 2,
       "version_minor": 0
      },
      "text/plain": [
       "HBox(children=(Label(value='Jagicza Patrícia'), HTML(value='Jagicza Pa<font color=red>^t</font>rícia'), Label(…"
      ]
     },
     "metadata": {},
     "output_type": "display_data"
    },
    {
     "data": {
      "application/vnd.jupyter.widget-view+json": {
       "model_id": "03dc2e4df3a44404a403337e4f594090",
       "version_major": 2,
       "version_minor": 0
      },
      "text/plain": [
       "HBox(children=(Label(value='Baráth Fábián'), HTML(value='Barát<font color=red>^h</font> Fábián'), Label(value=…"
      ]
     },
     "metadata": {},
     "output_type": "display_data"
    },
    {
     "data": {
      "application/vnd.jupyter.widget-view+json": {
       "model_id": "a29c9c4191d44e20bb4933e6b72a3260",
       "version_major": 2,
       "version_minor": 0
      },
      "text/plain": [
       "HBox(children=(Label(value='Boros Miklós János'), HTML(value='Boros Mik<font color=green>^\\xad</font>lós János…"
      ]
     },
     "metadata": {},
     "output_type": "display_data"
    },
    {
     "data": {
      "application/vnd.jupyter.widget-view+json": {
       "model_id": "2c0297a9e7cd4e08af963ddff463dc4d",
       "version_major": 2,
       "version_minor": 0
      },
      "text/plain": [
       "HBox(children=(Label(value='Ilona Keserü Ilona'), HTML(value='<font color=green>^-</font>Ilona Keserü Ilona'),…"
      ]
     },
     "metadata": {},
     "output_type": "display_data"
    },
    {
     "data": {
      "application/vnd.jupyter.widget-view+json": {
       "model_id": "6a3378536530410f9ceacf3ae2601e19",
       "version_major": 2,
       "version_minor": 0
      },
      "text/plain": [
       "HBox(children=(Label(value='Mata Attila'), HTML(value='Ma<font color=green>^t</font>ta Attila'), Label(value='…"
      ]
     },
     "metadata": {},
     "output_type": "display_data"
    },
    {
     "data": {
      "application/vnd.jupyter.widget-view+json": {
       "model_id": "99ff43a967554766be9d6266d9aa9117",
       "version_major": 2,
       "version_minor": 0
      },
      "text/plain": [
       "HBox(children=(Label(value='Gajzágó Donáta'), HTML(value='Gajzágó Donát<font color=red>^a</font>'), Label(valu…"
      ]
     },
     "metadata": {},
     "output_type": "display_data"
    },
    {
     "data": {
      "application/vnd.jupyter.widget-view+json": {
       "model_id": "86576f10e0f04bf7ba7ae1624f5bbb47",
       "version_major": 2,
       "version_minor": 0
      },
      "text/plain": [
       "HBox(children=(Label(value='Bencze Péter'), HTML(value='Benc<font color=red>^z</font>e Péter'), Label(value='9…"
      ]
     },
     "metadata": {},
     "output_type": "display_data"
    },
    {
     "data": {
      "application/vnd.jupyter.widget-view+json": {
       "model_id": "b3db8e74c4554f6abc999b76db7f03ef",
       "version_major": 2,
       "version_minor": 0
      },
      "text/plain": [
       "HBox(children=(Label(value='Csernátony Lukács László'), HTML(value='Csern<font color=blue>^a</font>tony Lukács…"
      ]
     },
     "metadata": {},
     "output_type": "display_data"
    },
    {
     "data": {
      "application/vnd.jupyter.widget-view+json": {
       "model_id": "3f6c10d37fd94ae295d80c76b5a34af6",
       "version_major": 2,
       "version_minor": 0
      },
      "text/plain": [
       "HBox(children=(Label(value='Zádor Tamás'), HTML(value='Zádor Tamás<font color=green>^.</font>'), Label(value='…"
      ]
     },
     "metadata": {},
     "output_type": "display_data"
    },
    {
     "data": {
      "application/vnd.jupyter.widget-view+json": {
       "model_id": "f46445bfe915453191cbc33f0da0e63f",
       "version_major": 2,
       "version_minor": 0
      },
      "text/plain": [
       "HBox(children=(Label(value='Frankl Aliona'), HTML(value='Frank<font color=red>^l</font> Aliona'), Label(value=…"
      ]
     },
     "metadata": {},
     "output_type": "display_data"
    },
    {
     "data": {
      "application/vnd.jupyter.widget-view+json": {
       "model_id": "9ed31e59eb3b4a47b20d15678f222268",
       "version_major": 2,
       "version_minor": 0
      },
      "text/plain": [
       "HBox(children=(Label(value='Kótai Tamás'), HTML(value='Kó<font color=green>^ü</font>tai Tamás'), Label(value='…"
      ]
     },
     "metadata": {},
     "output_type": "display_data"
    },
    {
     "data": {
      "application/vnd.jupyter.widget-view+json": {
       "model_id": "c14f21979f98426da3a134392ed616cd",
       "version_major": 2,
       "version_minor": 0
      },
      "text/plain": [
       "HBox(children=(Label(value='Szepes Hédi'), HTML(value='Szepes<font color=green>^i</font> Hédi'), Label(value='…"
      ]
     },
     "metadata": {},
     "output_type": "display_data"
    },
    {
     "data": {
      "application/vnd.jupyter.widget-view+json": {
       "model_id": "df173b47e06a48818cb05bd83ffcc5e8",
       "version_major": 2,
       "version_minor": 0
      },
      "text/plain": [
       "HBox(children=(Label(value='Ütő Gusztáv'), HTML(value='Ütő Gusz<font color=green>^\\xad</font>táv'), Label(valu…"
      ]
     },
     "metadata": {},
     "output_type": "display_data"
    },
    {
     "data": {
      "application/vnd.jupyter.widget-view+json": {
       "model_id": "c6243ea8ba004a9899108349c5bfd5d1",
       "version_major": 2,
       "version_minor": 0
      },
      "text/plain": [
       "HBox(children=(Label(value='Kákóczki András'), HTML(value='Kákócz<font color=red>^k</font>i András'), Label(va…"
      ]
     },
     "metadata": {},
     "output_type": "display_data"
    },
    {
     "data": {
      "application/vnd.jupyter.widget-view+json": {
       "model_id": "c1055eedf6fc49ce85edeaf74b4eb022",
       "version_major": 2,
       "version_minor": 0
      },
      "text/plain": [
       "HBox(children=(Label(value='Kákóczki András'), HTML(value='Kákócz<font color=red>^k</font>i András'), Label(va…"
      ]
     },
     "metadata": {},
     "output_type": "display_data"
    },
    {
     "data": {
      "application/vnd.jupyter.widget-view+json": {
       "model_id": "aff83b8e8c204dbf984c205893ec1934",
       "version_major": 2,
       "version_minor": 0
      },
      "text/plain": [
       "HBox(children=(Label(value='Oroszy Csaba'), HTML(value='Orosz<font color=red>^y</font> Csaba'), Label(value='9…"
      ]
     },
     "metadata": {},
     "output_type": "display_data"
    },
    {
     "data": {
      "application/vnd.jupyter.widget-view+json": {
       "model_id": "4fbe70ea20164ac4943bf5f65fce8f3d",
       "version_major": 2,
       "version_minor": 0
      },
      "text/plain": [
       "HBox(children=(Label(value='Ladjánszki Márta'), HTML(value='Ladjánszki <font color=green>^ </font>Márta'), Lab…"
      ]
     },
     "metadata": {},
     "output_type": "display_data"
    },
    {
     "data": {
      "application/vnd.jupyter.widget-view+json": {
       "model_id": "2cd90826daef4d6cb7c023e18e0348f9",
       "version_major": 2,
       "version_minor": 0
      },
      "text/plain": [
       "HBox(children=(Label(value='Büki Zsuzsanna'), HTML(value='Bü<font color=green>^k</font>ki Zsuzsanna'), Label(v…"
      ]
     },
     "metadata": {},
     "output_type": "display_data"
    },
    {
     "data": {
      "application/vnd.jupyter.widget-view+json": {
       "model_id": "ef409802a2da495fa5ef8703db09f0de",
       "version_major": 2,
       "version_minor": 0
      },
      "text/plain": [
       "HBox(children=(Label(value='Barbara Kruger'), HTML(value='Barbara Kruge<font color=red>^r</font>'), Label(valu…"
      ]
     },
     "metadata": {},
     "output_type": "display_data"
    },
    {
     "data": {
      "application/vnd.jupyter.widget-view+json": {
       "model_id": "6c4eb898389242139b34fffc6418bf5a",
       "version_major": 2,
       "version_minor": 0
      },
      "text/plain": [
       "HBox(children=(Label(value='Fáskerti Zsófia'), HTML(value='Fáskerti Zsófi<font color=red>^a</font>'), Label(va…"
      ]
     },
     "metadata": {},
     "output_type": "display_data"
    },
    {
     "data": {
      "application/vnd.jupyter.widget-view+json": {
       "model_id": "59959330d4664d3aa1ed34c21e9fc00d",
       "version_major": 2,
       "version_minor": 0
      },
      "text/plain": [
       "HBox(children=(Label(value='Juhász Dóra'), HTML(value='Ju<font color=green>^\\xad</font>hász Dóra'), Label(valu…"
      ]
     },
     "metadata": {},
     "output_type": "display_data"
    },
    {
     "data": {
      "application/vnd.jupyter.widget-view+json": {
       "model_id": "d414439f578348afa8f2ca57ed4a2d0c",
       "version_major": 2,
       "version_minor": 0
      },
      "text/plain": [
       "HBox(children=(Label(value='Havas Bálint'), HTML(value='Havas Bálint<font color=green>^)</font>'), Label(value…"
      ]
     },
     "metadata": {},
     "output_type": "display_data"
    },
    {
     "data": {
      "application/vnd.jupyter.widget-view+json": {
       "model_id": "9528771bef014008afd35e3198c19b53",
       "version_major": 2,
       "version_minor": 0
      },
      "text/plain": [
       "HBox(children=(Label(value='Básthy Ágnes'), HTML(value='Bást<font color=red>^h</font>y Ágnes'), Label(value='9…"
      ]
     },
     "metadata": {},
     "output_type": "display_data"
    },
    {
     "data": {
      "application/vnd.jupyter.widget-view+json": {
       "model_id": "8788b5c7cad64fce8a60483ce70d3b61",
       "version_major": 2,
       "version_minor": 0
      },
      "text/plain": [
       "HBox(children=(Label(value='Bánfi Brigitta'), HTML(value='Bán<font color=green>^f</font>fi Brigitta'), Label(v…"
      ]
     },
     "metadata": {},
     "output_type": "display_data"
    },
    {
     "data": {
      "application/vnd.jupyter.widget-view+json": {
       "model_id": "52cc360a11e6412095f58c34f0416a22",
       "version_major": 2,
       "version_minor": 0
      },
      "text/plain": [
       "HBox(children=(Label(value='Széchy Beáta'), HTML(value='Széchy Beáta<font color=green>^ </font>'), Label(value…"
      ]
     },
     "metadata": {},
     "output_type": "display_data"
    },
    {
     "data": {
      "application/vnd.jupyter.widget-view+json": {
       "model_id": "20819b6a62614bad91e5c16a431efa52",
       "version_major": 2,
       "version_minor": 0
      },
      "text/plain": [
       "HBox(children=(Label(value='Barát Fábián'), HTML(value='Barát<font color=green>^h</font> Fábián'), Label(value…"
      ]
     },
     "metadata": {},
     "output_type": "display_data"
    },
    {
     "data": {
      "application/vnd.jupyter.widget-view+json": {
       "model_id": "f7070efb278e47d28774dbe1dd1eaa8a",
       "version_major": 2,
       "version_minor": 0
      },
      "text/plain": [
       "HBox(children=(Label(value='Szirányi István'), HTML(value='Szirányi Istvá<font color=red>^n</font>'), Label(va…"
      ]
     },
     "metadata": {},
     "output_type": "display_data"
    },
    {
     "data": {
      "application/vnd.jupyter.widget-view+json": {
       "model_id": "d9fcd30d76dd4c34920a1f73b76d893c",
       "version_major": 2,
       "version_minor": 0
      },
      "text/plain": [
       "HBox(children=(Label(value='Nádudvari Noémi'), HTML(value='Nádudvari Noémi<font color=green>^-</font>'), Label…"
      ]
     },
     "metadata": {},
     "output_type": "display_data"
    },
    {
     "data": {
      "application/vnd.jupyter.widget-view+json": {
       "model_id": "63b94881fd4f4c1fabde815130affaef",
       "version_major": 2,
       "version_minor": 0
      },
      "text/plain": [
       "HBox(children=(Label(value='Kisspál Szabolcs'), HTML(value='Ki<font color=red>^s</font>spál Szabolcs'), Label(…"
      ]
     },
     "metadata": {},
     "output_type": "display_data"
    },
    {
     "data": {
      "application/vnd.jupyter.widget-view+json": {
       "model_id": "b98a25a2ccfb414b817daf6ebc67c037",
       "version_major": 2,
       "version_minor": 0
      },
      "text/plain": [
       "HBox(children=(Label(value='S. Nagy Katalin'), HTML(value='S.<font color=red>^ </font>Nagy Katalin'), Label(va…"
      ]
     },
     "metadata": {},
     "output_type": "display_data"
    },
    {
     "data": {
      "application/vnd.jupyter.widget-view+json": {
       "model_id": "5cffbeddc924409788311c6043c4432d",
       "version_major": 2,
       "version_minor": 0
      },
      "text/plain": [
       "HBox(children=(Label(value='Lábass Endre'), HTML(value='Lá<font color=green>^\\xad</font>bass Endre'), Label(va…"
      ]
     },
     "metadata": {},
     "output_type": "display_data"
    },
    {
     "data": {
      "application/vnd.jupyter.widget-view+json": {
       "model_id": "f91e8415ae3b43b09ccdeb11dabc8f3b",
       "version_major": 2,
       "version_minor": 0
      },
      "text/plain": [
       "HBox(children=(Label(value='Lábass Endre'), HTML(value='Lába<font color=red>^s</font>s Endre'), Label(value='9…"
      ]
     },
     "metadata": {},
     "output_type": "display_data"
    },
    {
     "data": {
      "application/vnd.jupyter.widget-view+json": {
       "model_id": "e14300af493e40ec9885cb73e683f33d",
       "version_major": 2,
       "version_minor": 0
      },
      "text/plain": [
       "HBox(children=(Label(value='Pőcze Attila'), HTML(value='Pőcze At<font color=red>^t</font>ila'), Label(value='9…"
      ]
     },
     "metadata": {},
     "output_type": "display_data"
    },
    {
     "data": {
      "application/vnd.jupyter.widget-view+json": {
       "model_id": "44270b8d442a40b29f541f7b7d7000a4",
       "version_major": 2,
       "version_minor": 0
      },
      "text/plain": [
       "HBox(children=(Label(value='Borsos Miklós'), HTML(value='Bor<font color=red>^s</font>os Miklós'), Label(value=…"
      ]
     },
     "metadata": {},
     "output_type": "display_data"
    },
    {
     "data": {
      "application/vnd.jupyter.widget-view+json": {
       "model_id": "646c417976b44e019cacfc4551734415",
       "version_major": 2,
       "version_minor": 0
      },
      "text/plain": [
       "HBox(children=(Label(value='Szilágyi Zsófia Júlia'), HTML(value='Szilágyi Zsófia Jú<font color=red>^l</font>ia…"
      ]
     },
     "metadata": {},
     "output_type": "display_data"
    },
    {
     "data": {
      "application/vnd.jupyter.widget-view+json": {
       "model_id": "1a8e0bcc39d340d5b336c4b35267eea2",
       "version_major": 2,
       "version_minor": 0
      },
      "text/plain": [
       "HBox(children=(Label(value='Koroknai Zsolt'), HTML(value='Koroknai <font color=green>^ </font>Zsolt'), Label(v…"
      ]
     },
     "metadata": {},
     "output_type": "display_data"
    },
    {
     "data": {
      "application/vnd.jupyter.widget-view+json": {
       "model_id": "25df7ff7f9dc4169b294851dfc4d502f",
       "version_major": 2,
       "version_minor": 0
      },
      "text/plain": [
       "HBox(children=(Label(value='Mátyás Péter'), HTML(value='Mátyás<font color=green>^i</font> Péter'), Label(value…"
      ]
     },
     "metadata": {},
     "output_type": "display_data"
    },
    {
     "data": {
      "application/vnd.jupyter.widget-view+json": {
       "model_id": "2506a286921b4293a96afa754a7bbc6a",
       "version_major": 2,
       "version_minor": 0
      },
      "text/plain": [
       "HBox(children=(Label(value='Mátyás Péter'), HTML(value='Mátyás<font color=green>^i</font> Péter'), Label(value…"
      ]
     },
     "metadata": {},
     "output_type": "display_data"
    },
    {
     "data": {
      "application/vnd.jupyter.widget-view+json": {
       "model_id": "15e8cbb709f249b4a84cdf590ca0f1a0",
       "version_major": 2,
       "version_minor": 0
      },
      "text/plain": [
       "HBox(children=(Label(value='Mihályi Barbara'), HTML(value='Mihályi Bar<font color=green>^a</font>bara'), Label…"
      ]
     },
     "metadata": {},
     "output_type": "display_data"
    },
    {
     "data": {
      "application/vnd.jupyter.widget-view+json": {
       "model_id": "5a5959dcf5204c2f9d975cb79f3c3ba3",
       "version_major": 2,
       "version_minor": 0
      },
      "text/plain": [
       "HBox(children=(Label(value='Konkoly Ágnes'), HTML(value='Konkoly Ágnes<font color=green>^-</font>'), Label(val…"
      ]
     },
     "metadata": {},
     "output_type": "display_data"
    },
    {
     "data": {
      "application/vnd.jupyter.widget-view+json": {
       "model_id": "5920bbd1b45346de8ba72c723a07c0bd",
       "version_major": 2,
       "version_minor": 0
      },
      "text/plain": [
       "HBox(children=(Label(value='Gyarmathy Tihamér'), HTML(value='Gyarmathy Tihamé<font color=red>^r</font>'), Labe…"
      ]
     },
     "metadata": {},
     "output_type": "display_data"
    },
    {
     "data": {
      "application/vnd.jupyter.widget-view+json": {
       "model_id": "14edfa6efefb461b85fef923bbd15d01",
       "version_major": 2,
       "version_minor": 0
      },
      "text/plain": [
       "HBox(children=(Label(value='Pittmann Zsófi'), HTML(value='Pittmann Zsófi<font color=green>^a</font>'), Label(v…"
      ]
     },
     "metadata": {},
     "output_type": "display_data"
    },
    {
     "data": {
      "application/vnd.jupyter.widget-view+json": {
       "model_id": "89dd9d3626cd4fb687428ea27359cf76",
       "version_major": 2,
       "version_minor": 0
      },
      "text/plain": [
       "HBox(children=(Label(value='Rechnitzer Zsófia'), HTML(value='Rechnitzer Zsófi<font color=red>^a</font>'), Labe…"
      ]
     },
     "metadata": {},
     "output_type": "display_data"
    },
    {
     "data": {
      "application/vnd.jupyter.widget-view+json": {
       "model_id": "2de89df7b3924391a84ce36fd0d015d6",
       "version_major": 2,
       "version_minor": 0
      },
      "text/plain": [
       "HBox(children=(Label(value='Hafner Mónika'), HTML(value='Hafner Móni<font color=red>^k</font>a'), Label(value=…"
      ]
     },
     "metadata": {},
     "output_type": "display_data"
    },
    {
     "data": {
      "application/vnd.jupyter.widget-view+json": {
       "model_id": "198c260cba3e473bb55e603167d0bb6c",
       "version_major": 2,
       "version_minor": 0
      },
      "text/plain": [
       "HBox(children=(Label(value='Saxon-Szász János'), HTML(value='S<font color=green>^z</font>axon-Szász János'), L…"
      ]
     },
     "metadata": {},
     "output_type": "display_data"
    },
    {
     "data": {
      "application/vnd.jupyter.widget-view+json": {
       "model_id": "53e4057dbbd34b7d880b11af779375f6",
       "version_major": 2,
       "version_minor": 0
      },
      "text/plain": [
       "HBox(children=(Label(value='Frey Krisztián'), HTML(value='Frey Krisz<font color=red>^t</font>ián'), Label(valu…"
      ]
     },
     "metadata": {},
     "output_type": "display_data"
    },
    {
     "data": {
      "application/vnd.jupyter.widget-view+json": {
       "model_id": "7baec65a7a4f4ce3b5a0350d81e31aad",
       "version_major": 2,
       "version_minor": 0
      },
      "text/plain": [
       "HBox(children=(Label(value='Sivák Zsófia'), HTML(value='Sivák Zsófi<font color=red>^a</font>'), Label(value='9…"
      ]
     },
     "metadata": {},
     "output_type": "display_data"
    },
    {
     "data": {
      "application/vnd.jupyter.widget-view+json": {
       "model_id": "1d6f266ed46e4bf4b4ad69c0ccf03055",
       "version_major": 2,
       "version_minor": 0
      },
      "text/plain": [
       "HBox(children=(Label(value='Kántor József'), HTML(value='Kántor Jó<font color=red>^z</font>sef'), Label(value=…"
      ]
     },
     "metadata": {},
     "output_type": "display_data"
    },
    {
     "data": {
      "application/vnd.jupyter.widget-view+json": {
       "model_id": "d54e9fbaf88e4fab818600da7efdb5a0",
       "version_major": 2,
       "version_minor": 0
      },
      "text/plain": [
       "HBox(children=(Label(value='Bp. Szabó György'), HTML(value='Bp.<font color=red>^ </font>Szabó György'), Label(…"
      ]
     },
     "metadata": {},
     "output_type": "display_data"
    },
    {
     "data": {
      "application/vnd.jupyter.widget-view+json": {
       "model_id": "908e8e418ecc45549388e3d6ab62b583",
       "version_major": 2,
       "version_minor": 0
      },
      "text/plain": [
       "HBox(children=(Label(value='Kincses Károly fotómuzeológus'), HTML(value='Kincses Károly fotóm<font color=blue>…"
      ]
     },
     "metadata": {},
     "output_type": "display_data"
    },
    {
     "data": {
      "application/vnd.jupyter.widget-view+json": {
       "model_id": "7d454efabc134393a731e329c1aa9402",
       "version_major": 2,
       "version_minor": 0
      },
      "text/plain": [
       "HBox(children=(Label(value='Kincses Károly fotómuzeológus'), HTML(value='Kincses Károly <font color=green>^ </…"
      ]
     },
     "metadata": {},
     "output_type": "display_data"
    },
    {
     "data": {
      "application/vnd.jupyter.widget-view+json": {
       "model_id": "7f8dd1563a454fe797250a50e644cc0b",
       "version_major": 2,
       "version_minor": 0
      },
      "text/plain": [
       "HBox(children=(Label(value='Kiss Tanne István'), HTML(value='Kiss Tanne Is<font color=red>^t</font>ván'), Labe…"
      ]
     },
     "metadata": {},
     "output_type": "display_data"
    },
    {
     "data": {
      "application/vnd.jupyter.widget-view+json": {
       "model_id": "08a515111d474704b82803b5f4f66963",
       "version_major": 2,
       "version_minor": 0
      },
      "text/plain": [
       "HBox(children=(Label(value='Palman Zsuzsi'), HTML(value='Palma<font color=green>^n</font>n Zsuzsi'), Label(val…"
      ]
     },
     "metadata": {},
     "output_type": "display_data"
    },
    {
     "data": {
      "application/vnd.jupyter.widget-view+json": {
       "model_id": "a00680e6fd814c70807cdeb4d5de04e5",
       "version_major": 2,
       "version_minor": 0
      },
      "text/plain": [
       "HBox(children=(Label(value='Frazon Zsófia'), HTML(value='Frazon Zsófi<font color=red>^a</font>'), Label(value=…"
      ]
     },
     "metadata": {},
     "output_type": "display_data"
    },
    {
     "data": {
      "application/vnd.jupyter.widget-view+json": {
       "model_id": "14a20c5efed44e8a9fd0bba124c04b95",
       "version_major": 2,
       "version_minor": 0
      },
      "text/plain": [
       "HBox(children=(Label(value='Erős Ágost Koppány'), HTML(value='Erő<font color=green>^s</font>s Ágost Koppány'),…"
      ]
     },
     "metadata": {},
     "output_type": "display_data"
    },
    {
     "data": {
      "application/vnd.jupyter.widget-view+json": {
       "model_id": "05eca64bf1364479a1ae39f6449f7c63",
       "version_major": 2,
       "version_minor": 0
      },
      "text/plain": [
       "HBox(children=(Label(value='Ézsiás István'), HTML(value='Ézs<font color=green>^a</font>iás István'), Label(val…"
      ]
     },
     "metadata": {},
     "output_type": "display_data"
    },
    {
     "data": {
      "application/vnd.jupyter.widget-view+json": {
       "model_id": "cd81ee7533564c2d85d81c31582b5c2e",
       "version_major": 2,
       "version_minor": 0
      },
      "text/plain": [
       "HBox(children=(Label(value='Balogh Krisztián'), HTML(value='Balog<font color=red>^h</font> Krisztián'), Label(…"
      ]
     },
     "metadata": {},
     "output_type": "display_data"
    },
    {
     "data": {
      "application/vnd.jupyter.widget-view+json": {
       "model_id": "a8736fae908d44eea4d389878459a16f",
       "version_major": 2,
       "version_minor": 0
      },
      "text/plain": [
       "HBox(children=(Label(value='Blaha Tamás'), HTML(value='B<font color=green>^a</font>laha Tamás'), Label(value='…"
      ]
     },
     "metadata": {},
     "output_type": "display_data"
    },
    {
     "data": {
      "application/vnd.jupyter.widget-view+json": {
       "model_id": "85b32fe2ee2044079120bc605e715f6b",
       "version_major": 2,
       "version_minor": 0
      },
      "text/plain": [
       "HBox(children=(Label(value='Roy Lichtenstein'), HTML(value='Roy Li<font color=green>^e</font>chtenstein'), Lab…"
      ]
     },
     "metadata": {},
     "output_type": "display_data"
    },
    {
     "data": {
      "application/vnd.jupyter.widget-view+json": {
       "model_id": "21589c1a804d41ec8ed0aea9d0e3af1b",
       "version_major": 2,
       "version_minor": 0
      },
      "text/plain": [
       "HBox(children=(Label(value='Balás Eszter'), HTML(value='Balá<font color=green>^z</font>s Eszter'), Label(value…"
      ]
     },
     "metadata": {},
     "output_type": "display_data"
    },
    {
     "data": {
      "application/vnd.jupyter.widget-view+json": {
       "model_id": "9f4841bbdb114feea774537ea9855d97",
       "version_major": 2,
       "version_minor": 0
      },
      "text/plain": [
       "HBox(children=(Label(value='Ferencz S. Apor'), HTML(value='Ferenc<font color=red>^z</font> S. Apor'), Label(va…"
      ]
     },
     "metadata": {},
     "output_type": "display_data"
    },
    {
     "data": {
      "application/vnd.jupyter.widget-view+json": {
       "model_id": "e95a95b1c1b34a1bac1a148ab31ae5e9",
       "version_major": 2,
       "version_minor": 0
      },
      "text/plain": [
       "HBox(children=(Label(value='Ferencz S. Apor'), HTML(value='Ferencz S<font color=red>^.</font> Apor'), Label(va…"
      ]
     },
     "metadata": {},
     "output_type": "display_data"
    },
    {
     "data": {
      "application/vnd.jupyter.widget-view+json": {
       "model_id": "9fee1614024544b6a2f92a5b5ac8cc0c",
       "version_major": 2,
       "version_minor": 0
      },
      "text/plain": [
       "HBox(children=(Label(value='Ghyczy Dénes'), HTML(value='Ghyczy Dénes<font color=green>^h</font>'), Label(value…"
      ]
     },
     "metadata": {},
     "output_type": "display_data"
    },
    {
     "data": {
      "application/vnd.jupyter.widget-view+json": {
       "model_id": "9c2c96ee7d6845c2accd2a3413b3b064",
       "version_major": 2,
       "version_minor": 0
      },
      "text/plain": [
       "HBox(children=(Label(value='Ghyczy Dénes'), HTML(value='G<font color=red>^h</font>yczy Dénes'), Label(value='9…"
      ]
     },
     "metadata": {},
     "output_type": "display_data"
    },
    {
     "data": {
      "application/vnd.jupyter.widget-view+json": {
       "model_id": "7eb36672cada4fc8bd972fa3b4a251e5",
       "version_major": 2,
       "version_minor": 0
      },
      "text/plain": [
       "HBox(children=(Label(value='Pásztor Erika Katalina'), HTML(value='Pásztor Erika Katalin<font color=red>^a</fon…"
      ]
     },
     "metadata": {},
     "output_type": "display_data"
    },
    {
     "data": {
      "application/vnd.jupyter.widget-view+json": {
       "model_id": "64dc6483c805429f9e9372c13adeab58",
       "version_major": 2,
       "version_minor": 0
      },
      "text/plain": [
       "HBox(children=(Label(value='Kokvács Lehel'), HTML(value='Ko<font color=red>^k</font>vács Lehel'), Label(value=…"
      ]
     },
     "metadata": {},
     "output_type": "display_data"
    },
    {
     "data": {
      "application/vnd.jupyter.widget-view+json": {
       "model_id": "ed88092a4fbc470dab8fa3189c82216b",
       "version_major": 2,
       "version_minor": 0
      },
      "text/plain": [
       "HBox(children=(Label(value='Turányi Gábor'), HTML(value='<font color=green>^-</font>Turányi Gábor'), Label(val…"
      ]
     },
     "metadata": {},
     "output_type": "display_data"
    },
    {
     "data": {
      "application/vnd.jupyter.widget-view+json": {
       "model_id": "a1ffe92b98df4bc3ac45d7a3f9c61f6e",
       "version_major": 2,
       "version_minor": 0
      },
      "text/plain": [
       "HBox(children=(Label(value='Voytenko Ganna'), HTML(value='Voytenko G<font color=green>^h</font>anna'), Label(v…"
      ]
     },
     "metadata": {},
     "output_type": "display_data"
    },
    {
     "data": {
      "application/vnd.jupyter.widget-view+json": {
       "model_id": "674abe340d354eb685a3b1ec12ad6d2b",
       "version_major": 2,
       "version_minor": 0
      },
      "text/plain": [
       "HBox(children=(Label(value='Soltész Melinda'), HTML(value='Soltész <font color=green>^ </font>Melinda'), Label…"
      ]
     },
     "metadata": {},
     "output_type": "display_data"
    },
    {
     "data": {
      "application/vnd.jupyter.widget-view+json": {
       "model_id": "5f6df2f4a2e540b3a921178d2018c65e",
       "version_major": 2,
       "version_minor": 0
      },
      "text/plain": [
       "HBox(children=(Label(value='Mátyás Péter'), HTML(value='Mátyás<font color=green>^i</font> Péter'), Label(value…"
      ]
     },
     "metadata": {},
     "output_type": "display_data"
    },
    {
     "data": {
      "application/vnd.jupyter.widget-view+json": {
       "model_id": "451c723d68614a8791ed9518c40966dd",
       "version_major": 2,
       "version_minor": 0
      },
      "text/plain": [
       "HBox(children=(Label(value='Mátyás Péter'), HTML(value='Mátyás<font color=green>^i</font> Péter'), Label(value…"
      ]
     },
     "metadata": {},
     "output_type": "display_data"
    },
    {
     "data": {
      "application/vnd.jupyter.widget-view+json": {
       "model_id": "769efe1179e2413697177c1a5684131e",
       "version_major": 2,
       "version_minor": 0
      },
      "text/plain": [
       "HBox(children=(Label(value='Juhász Annna'), HTML(value='Juhász Ann<font color=red>^n</font>a'), Label(value='9…"
      ]
     },
     "metadata": {},
     "output_type": "display_data"
    },
    {
     "data": {
      "application/vnd.jupyter.widget-view+json": {
       "model_id": "3c8101c4408c47f9bb3339ceedea8751",
       "version_major": 2,
       "version_minor": 0
      },
      "text/plain": [
       "HBox(children=(Label(value='Juhász Annna'), HTML(value='Juhász Ann<font color=red>^n</font>a'), Label(value='9…"
      ]
     },
     "metadata": {},
     "output_type": "display_data"
    },
    {
     "data": {
      "application/vnd.jupyter.widget-view+json": {
       "model_id": "16cbfbb21f6c4469a65f5f4eb2c37f6b",
       "version_major": 2,
       "version_minor": 0
      },
      "text/plain": [
       "HBox(children=(Label(value='Kecskés Péter'), HTML(value='Kecskés Péter<font color=green>^-</font>'), Label(val…"
      ]
     },
     "metadata": {},
     "output_type": "display_data"
    },
    {
     "data": {
      "application/vnd.jupyter.widget-view+json": {
       "model_id": "320e3c2035c7496096f85d90fd829426",
       "version_major": 2,
       "version_minor": 0
      },
      "text/plain": [
       "HBox(children=(Label(value='Kiss Adrian'), HTML(value='Kiss Adria<font color=green>^́</font>n'), Label(value='…"
      ]
     },
     "metadata": {},
     "output_type": "display_data"
    },
    {
     "data": {
      "application/vnd.jupyter.widget-view+json": {
       "model_id": "95a74175716e4fc3ac08a5f6def70a04",
       "version_major": 2,
       "version_minor": 0
      },
      "text/plain": [
       "HBox(children=(Label(value='Seemann Adrienn'), HTML(value='S<font color=red>^e</font>emann Adrienn'), Label(va…"
      ]
     },
     "metadata": {},
     "output_type": "display_data"
    },
    {
     "data": {
      "application/vnd.jupyter.widget-view+json": {
       "model_id": "8994a90a84e04cd4bfb5b3d56a324fa8",
       "version_major": 2,
       "version_minor": 0
      },
      "text/plain": [
       "HBox(children=(Label(value='Kaplár F. Krisztina'), HTML(value='Kaplár F.<font color=red>^ </font>Krisztina'), …"
      ]
     },
     "metadata": {},
     "output_type": "display_data"
    },
    {
     "data": {
      "application/vnd.jupyter.widget-view+json": {
       "model_id": "2bf2557da3e4436f9e39d085aaf8bd28",
       "version_major": 2,
       "version_minor": 0
      },
      "text/plain": [
       "HBox(children=(Label(value='Repászki Ferenc'), HTML(value='Repászki <font color=green>^ </font>Ferenc'), Label…"
      ]
     },
     "metadata": {},
     "output_type": "display_data"
    },
    {
     "data": {
      "application/vnd.jupyter.widget-view+json": {
       "model_id": "787fd1ca701c4a089c09680b305ad95f",
       "version_major": 2,
       "version_minor": 0
      },
      "text/plain": [
       "HBox(children=(Label(value='Repászki Ferenc'), HTML(value='Repászki <font color=green>^ </font>Ferenc'), Label…"
      ]
     },
     "metadata": {},
     "output_type": "display_data"
    },
    {
     "data": {
      "application/vnd.jupyter.widget-view+json": {
       "model_id": "9b59340d792549e4a958f04aa0332290",
       "version_major": 2,
       "version_minor": 0
      },
      "text/plain": [
       "HBox(children=(Label(value='Gál Krisztián'), HTML(value='G<font color=green>^a</font>ál Krisztián'), Label(val…"
      ]
     },
     "metadata": {},
     "output_type": "display_data"
    },
    {
     "data": {
      "application/vnd.jupyter.widget-view+json": {
       "model_id": "2a84a82a2144438c8eaf5fae7bdf7f74",
       "version_major": 2,
       "version_minor": 0
      },
      "text/plain": [
       "HBox(children=(Label(value='Kusnyár Eveline'), HTML(value='Kusnyár Evelin<font color=red>^e</font>'), Label(va…"
      ]
     },
     "metadata": {},
     "output_type": "display_data"
    },
    {
     "data": {
      "application/vnd.jupyter.widget-view+json": {
       "model_id": "2eab47f4f6bd4fe49fda56bb90e5c5ba",
       "version_major": 2,
       "version_minor": 0
      },
      "text/plain": [
       "HBox(children=(Label(value='Balázs Eszter'), HTML(value='Balá<font color=red>^z</font>s Eszter'), Label(value=…"
      ]
     },
     "metadata": {},
     "output_type": "display_data"
    },
    {
     "data": {
      "application/vnd.jupyter.widget-view+json": {
       "model_id": "28dbf53d6a55457c9cdf1dc29b3b83de",
       "version_major": 2,
       "version_minor": 0
      },
      "text/plain": [
       "HBox(children=(Label(value='Agnes von Uray'), HTML(value='Ag<font color=red>^n</font>es von Uray'), Label(valu…"
      ]
     },
     "metadata": {},
     "output_type": "display_data"
    },
    {
     "data": {
      "application/vnd.jupyter.widget-view+json": {
       "model_id": "ff674e9db36d4221b952f38ca32fee18",
       "version_major": 2,
       "version_minor": 0
      },
      "text/plain": [
       "HBox(children=(Label(value='Tehnica Schweiz'), HTML(value='Te<font color=green>^c</font>hnica Schweiz'), Label…"
      ]
     },
     "metadata": {},
     "output_type": "display_data"
    },
    {
     "data": {
      "application/vnd.jupyter.widget-view+json": {
       "model_id": "1c27fdab5acb4f1488c5795c0acf96f3",
       "version_major": 2,
       "version_minor": 0
      },
      "text/plain": [
       "HBox(children=(Label(value='Szunyoghy Viktória'), HTML(value='Szunyoghy <font color=green>^ </font>Viktória'),…"
      ]
     },
     "metadata": {},
     "output_type": "display_data"
    },
    {
     "data": {
      "application/vnd.jupyter.widget-view+json": {
       "model_id": "771f144f734f4c888ab623aeda946c96",
       "version_major": 2,
       "version_minor": 0
      },
      "text/plain": [
       "HBox(children=(Label(value='Lengyel Péter'), HTML(value='Len<font color=green>^\\xad</font>gyel Péter'), Label(…"
      ]
     },
     "metadata": {},
     "output_type": "display_data"
    },
    {
     "data": {
      "application/vnd.jupyter.widget-view+json": {
       "model_id": "22aea9389cac4134ace31d0146cf715c",
       "version_major": 2,
       "version_minor": 0
      },
      "text/plain": [
       "HBox(children=(Label(value='Péterfy Gergely'), HTML(value='Péter<font color=green>^f</font>fy Gergely'), Label…"
      ]
     },
     "metadata": {},
     "output_type": "display_data"
    },
    {
     "data": {
      "application/vnd.jupyter.widget-view+json": {
       "model_id": "c57479964e594a1892445debc7c8f41f",
       "version_major": 2,
       "version_minor": 0
      },
      "text/plain": [
       "HBox(children=(Label(value='Pézman Andrea'), HTML(value='Pézma<font color=green>^n</font>n Andrea'), Label(val…"
      ]
     },
     "metadata": {},
     "output_type": "display_data"
    },
    {
     "data": {
      "application/vnd.jupyter.widget-view+json": {
       "model_id": "c9ec1b388d06472892009fea3fb5f1db",
       "version_major": 2,
       "version_minor": 0
      },
      "text/plain": [
       "HBox(children=(Label(value='Hermann Nitsch'), HTML(value='Herma<font color=red>^n</font>n Nitsch'), Label(valu…"
      ]
     },
     "metadata": {},
     "output_type": "display_data"
    },
    {
     "data": {
      "application/vnd.jupyter.widget-view+json": {
       "model_id": "6852d19da1ca47f4bf044f28289dc041",
       "version_major": 2,
       "version_minor": 0
      },
      "text/plain": [
       "HBox(children=(Label(value='Erőss István'), HTML(value='Erő<font color=red>^s</font>s István'), Label(value='9…"
      ]
     },
     "metadata": {},
     "output_type": "display_data"
    },
    {
     "data": {
      "application/vnd.jupyter.widget-view+json": {
       "model_id": "480f9f5e584b4d268ebe88d1a918d029",
       "version_major": 2,
       "version_minor": 0
      },
      "text/plain": [
       "HBox(children=(Label(value='Tillmann J.A.'), HTML(value='Tillmann J.<font color=green>^ </font>A.'), Label(val…"
      ]
     },
     "metadata": {},
     "output_type": "display_data"
    },
    {
     "data": {
      "application/vnd.jupyter.widget-view+json": {
       "model_id": "8193bef0e869492bb5307cd2db19cb8b",
       "version_major": 2,
       "version_minor": 0
      },
      "text/plain": [
       "HBox(children=(Label(value='Tillmann J.A.'), HTML(value='Tillmann J.<font color=green>^ </font>A.'), Label(val…"
      ]
     },
     "metadata": {},
     "output_type": "display_data"
    },
    {
     "data": {
      "application/vnd.jupyter.widget-view+json": {
       "model_id": "69bb408c471449caae07c528d1581a3c",
       "version_major": 2,
       "version_minor": 0
      },
      "text/plain": [
       "HBox(children=(Label(value='Tillmann J.A.'), HTML(value='Tillmann J.<font color=green>^ </font>A.'), Label(val…"
      ]
     },
     "metadata": {},
     "output_type": "display_data"
    },
    {
     "data": {
      "application/vnd.jupyter.widget-view+json": {
       "model_id": "aac1c7c2089f4c5c8f9f7e9053ef45e9",
       "version_major": 2,
       "version_minor": 0
      },
      "text/plain": [
       "HBox(children=(Label(value='Tillmann J.A.'), HTML(value='Tillmann J.<font color=green>^ </font>A.'), Label(val…"
      ]
     },
     "metadata": {},
     "output_type": "display_data"
    },
    {
     "data": {
      "application/vnd.jupyter.widget-view+json": {
       "model_id": "4623378c82e848abbb211bdc59785a45",
       "version_major": 2,
       "version_minor": 0
      },
      "text/plain": [
       "HBox(children=(Label(value='Tillmann J.A.'), HTML(value='Tillmann J.<font color=green>^ </font>A.'), Label(val…"
      ]
     },
     "metadata": {},
     "output_type": "display_data"
    },
    {
     "data": {
      "application/vnd.jupyter.widget-view+json": {
       "model_id": "7864474541244cb78edcfff5782a3c08",
       "version_major": 2,
       "version_minor": 0
      },
      "text/plain": [
       "HBox(children=(Label(value='Tillmann J.A.'), HTML(value='Tillman<font color=red>^n</font> J.A.'), Label(value=…"
      ]
     },
     "metadata": {},
     "output_type": "display_data"
    },
    {
     "data": {
      "application/vnd.jupyter.widget-view+json": {
       "model_id": "e91358c039cc433fb792fcdfc569f3a7",
       "version_major": 2,
       "version_minor": 0
      },
      "text/plain": [
       "HBox(children=(Label(value='Tillmann J.A.'), HTML(value='Tillmann J.<font color=green>^ </font>A.'), Label(val…"
      ]
     },
     "metadata": {},
     "output_type": "display_data"
    },
    {
     "data": {
      "application/vnd.jupyter.widget-view+json": {
       "model_id": "ea84c98e6c3d411e88c3a12e87a3c01f",
       "version_major": 2,
       "version_minor": 0
      },
      "text/plain": [
       "HBox(children=(Label(value='Nemes Csaba'), HTML(value='Nemes Csaba<font color=green>^:</font>'), Label(value='…"
      ]
     },
     "metadata": {},
     "output_type": "display_data"
    },
    {
     "data": {
      "application/vnd.jupyter.widget-view+json": {
       "model_id": "ad17b00e1cb04c83afe3484c6ba186cf",
       "version_major": 2,
       "version_minor": 0
      },
      "text/plain": [
       "HBox(children=(Label(value='Szepes Hédi'), HTML(value='Szepes<font color=green>^i</font> Hédi'), Label(value='…"
      ]
     },
     "metadata": {},
     "output_type": "display_data"
    },
    {
     "data": {
      "application/vnd.jupyter.widget-view+json": {
       "model_id": "3220d485a91a43e6badde99fef57466f",
       "version_major": 2,
       "version_minor": 0
      },
      "text/plain": [
       "HBox(children=(Label(value='Miklya Gábor'), HTML(value='Mik<font color=green>^\\xad</font>lya Gábor'), Label(va…"
      ]
     },
     "metadata": {},
     "output_type": "display_data"
    },
    {
     "data": {
      "application/vnd.jupyter.widget-view+json": {
       "model_id": "3793f0814820462db1cab20b6026fbbe",
       "version_major": 2,
       "version_minor": 0
      },
      "text/plain": [
       "HBox(children=(Label(value='Bakács Tibor Settenkedő'), HTML(value='Baká<font color=blue>^t</font>s Tibor Sette…"
      ]
     },
     "metadata": {},
     "output_type": "display_data"
    },
    {
     "data": {
      "application/vnd.jupyter.widget-view+json": {
       "model_id": "792c5187b38b478ebb6773ff1d7f262e",
       "version_major": 2,
       "version_minor": 0
      },
      "text/plain": [
       "HBox(children=(Label(value='Böjte Horváth István'), HTML(value='Böjte<font color=green>^;</font> Horváth Istvá…"
      ]
     },
     "metadata": {},
     "output_type": "display_data"
    },
    {
     "data": {
      "application/vnd.jupyter.widget-view+json": {
       "model_id": "d8df57ab1b1a4f9aad715073a13b0120",
       "version_major": 2,
       "version_minor": 0
      },
      "text/plain": [
       "HBox(children=(Label(value='Katrina Sevic'), HTML(value='Kat<font color=green>^a</font>rina Sevic'), Label(val…"
      ]
     },
     "metadata": {},
     "output_type": "display_data"
    },
    {
     "data": {
      "application/vnd.jupyter.widget-view+json": {
       "model_id": "c53b284fa73444439e9a83ea205be417",
       "version_major": 2,
       "version_minor": 0
      },
      "text/plain": [
       "HBox(children=(Label(value='Lucza Zsigmond'), HTML(value='Luc<font color=red>^z</font>a Zsigmond'), Label(valu…"
      ]
     },
     "metadata": {},
     "output_type": "display_data"
    },
    {
     "data": {
      "application/vnd.jupyter.widget-view+json": {
       "model_id": "566311c1c6be4ff1b59a57873da831e8",
       "version_major": 2,
       "version_minor": 0
      },
      "text/plain": [
       "HBox(children=(Label(value='Horváth Helén Sára'), HTML(value='Horvát<font color=red>^h</font> Helén Sára'), La…"
      ]
     },
     "metadata": {},
     "output_type": "display_data"
    },
    {
     "data": {
      "application/vnd.jupyter.widget-view+json": {
       "model_id": "7af0d460cfd44bb288806261d8d092f6",
       "version_major": 2,
       "version_minor": 0
      },
      "text/plain": [
       "HBox(children=(Label(value='Horváth Helén Sára'), HTML(value='Horvát<font color=red>^h</font> Helén Sára'), La…"
      ]
     },
     "metadata": {},
     "output_type": "display_data"
    },
    {
     "data": {
      "application/vnd.jupyter.widget-view+json": {
       "model_id": "112aa678695348f7a08898b9e3e80dc0",
       "version_major": 2,
       "version_minor": 0
      },
      "text/plain": [
       "HBox(children=(Label(value='Sztefanu Marina'), HTML(value='Sztefanu Mari<font color=green>^a</font>na'), Label…"
      ]
     },
     "metadata": {},
     "output_type": "display_data"
    },
    {
     "data": {
      "application/vnd.jupyter.widget-view+json": {
       "model_id": "5bf74336b3d9487392d7d8688cd15c46",
       "version_major": 2,
       "version_minor": 0
      },
      "text/plain": [
       "HBox(children=(Label(value='Mengyán András'), HTML(value='Me<font color=red>^n</font>gyán András'), Label(valu…"
      ]
     },
     "metadata": {},
     "output_type": "display_data"
    },
    {
     "data": {
      "application/vnd.jupyter.widget-view+json": {
       "model_id": "2bc282bdfe84426a81d2d03db202cb87",
       "version_major": 2,
       "version_minor": 0
      },
      "text/plain": [
       "HBox(children=(Label(value='Szolnoki József'), HTML(value='Szolnoki József<font color=green>^ </font>'), Label…"
      ]
     },
     "metadata": {},
     "output_type": "display_data"
    },
    {
     "data": {
      "application/vnd.jupyter.widget-view+json": {
       "model_id": "d6631f5790a94801a07bb43cb9151c20",
       "version_major": 2,
       "version_minor": 0
      },
      "text/plain": [
       "HBox(children=(Label(value='Büki Zsuzsanna'), HTML(value='Bü<font color=green>^k</font>ki Zsuzsanna'), Label(v…"
      ]
     },
     "metadata": {},
     "output_type": "display_data"
    },
    {
     "data": {
      "application/vnd.jupyter.widget-view+json": {
       "model_id": "a5a6293b13c449249d78b3faf41d52d2",
       "version_major": 2,
       "version_minor": 0
      },
      "text/plain": [
       "HBox(children=(Label(value='Reischl Szilvia'), HTML(value='Reischl Szilvi<font color=red>^a</font>'), Label(va…"
      ]
     },
     "metadata": {},
     "output_type": "display_data"
    },
    {
     "data": {
      "application/vnd.jupyter.widget-view+json": {
       "model_id": "6cdd26a3c4b9464d9fc383f937ff723c",
       "version_major": 2,
       "version_minor": 0
      },
      "text/plain": [
       "HBox(children=(Label(value='Konkoly Ágnes'), HTML(value='Konkoly Ágnes<font color=green>^-</font>'), Label(val…"
      ]
     },
     "metadata": {},
     "output_type": "display_data"
    },
    {
     "data": {
      "application/vnd.jupyter.widget-view+json": {
       "model_id": "f106bd2a094245d4bfc32187b70d9d7b",
       "version_major": 2,
       "version_minor": 0
      },
      "text/plain": [
       "HBox(children=(Label(value='Kemény Zsófi'), HTML(value='Kemény Zsófi<font color=green>^a</font>'), Label(value…"
      ]
     },
     "metadata": {},
     "output_type": "display_data"
    },
    {
     "data": {
      "application/vnd.jupyter.widget-view+json": {
       "model_id": "1f178730933648659e3dd63ade481382",
       "version_major": 2,
       "version_minor": 0
      },
      "text/plain": [
       "HBox(children=(Label(value='Tasnádi Szandra'), HTML(value='Tasnádi Sza<font color=red>^n</font>dra'), Label(va…"
      ]
     },
     "metadata": {},
     "output_type": "display_data"
    },
    {
     "data": {
      "application/vnd.jupyter.widget-view+json": {
       "model_id": "5c0ca483e1f14d2480dcc6fb613965a8",
       "version_major": 2,
       "version_minor": 0
      },
      "text/plain": [
       "HBox(children=(Label(value='Antall István'), HTML(value='Anta<font color=red>^l</font>l István'), Label(value=…"
      ]
     },
     "metadata": {},
     "output_type": "display_data"
    },
    {
     "data": {
      "application/vnd.jupyter.widget-view+json": {
       "model_id": "c2b55d12ecce413ca72c51178148f4c9",
       "version_major": 2,
       "version_minor": 0
      },
      "text/plain": [
       "HBox(children=(Label(value='Müllner András'), HTML(value='<font color=green>^-</font>Müllner András'), Label(v…"
      ]
     },
     "metadata": {},
     "output_type": "display_data"
    },
    {
     "data": {
      "application/vnd.jupyter.widget-view+json": {
       "model_id": "8e5a89c6b3af4e9e984d5e7fa2537253",
       "version_major": 2,
       "version_minor": 0
      },
      "text/plain": [
       "HBox(children=(Label(value='Meggyes László Vendel'), HTML(value='Me<font color=red>^g</font>gyes László Vendel…"
      ]
     },
     "metadata": {},
     "output_type": "display_data"
    },
    {
     "data": {
      "application/vnd.jupyter.widget-view+json": {
       "model_id": "12dfd8b7077f47f9a11ae9a08a66c8a7",
       "version_major": 2,
       "version_minor": 0
      },
      "text/plain": [
       "HBox(children=(Label(value='Farkas Zsófi'), HTML(value='Farkas Zsófi<font color=green>^a</font>'), Label(value…"
      ]
     },
     "metadata": {},
     "output_type": "display_data"
    },
    {
     "data": {
      "application/vnd.jupyter.widget-view+json": {
       "model_id": "8c71d0649ee449c8a0d65dac2bd1c03d",
       "version_major": 2,
       "version_minor": 0
      },
      "text/plain": [
       "HBox(children=(Label(value='Hudra Klára'), HTML(value='<font color=green>^-</font>Hudra Klára'), Label(value='…"
      ]
     },
     "metadata": {},
     "output_type": "display_data"
    },
    {
     "data": {
      "application/vnd.jupyter.widget-view+json": {
       "model_id": "420bccd162b64f30925e6a4822f72528",
       "version_major": 2,
       "version_minor": 0
      },
      "text/plain": [
       "HBox(children=(Label(value='Antall István'), HTML(value='Anta<font color=red>^l</font>l István'), Label(value=…"
      ]
     },
     "metadata": {},
     "output_type": "display_data"
    },
    {
     "data": {
      "application/vnd.jupyter.widget-view+json": {
       "model_id": "15c83c01845347ab96803040d394960d",
       "version_major": 2,
       "version_minor": 0
      },
      "text/plain": [
       "HBox(children=(Label(value='Philippe Brame'), HTML(value='Phi<font color=green>^l</font>lippe Brame'), Label(v…"
      ]
     },
     "metadata": {},
     "output_type": "display_data"
    },
    {
     "data": {
      "application/vnd.jupyter.widget-view+json": {
       "model_id": "fff64fcaa39c49d59ee5499a7669cb53",
       "version_major": 2,
       "version_minor": 0
      },
      "text/plain": [
       "HBox(children=(Label(value='Hajdu István'), HTML(value='Hajdu István<font color=green>^:</font>'), Label(value…"
      ]
     },
     "metadata": {},
     "output_type": "display_data"
    },
    {
     "data": {
      "application/vnd.jupyter.widget-view+json": {
       "model_id": "fceadef9908c442aa3e74dd0942ea2fd",
       "version_major": 2,
       "version_minor": 0
      },
      "text/plain": [
       "HBox(children=(Label(value='Zirczi Judit'), HTML(value='Zirc<font color=red>^z</font>i Judit'), Label(value='9…"
      ]
     },
     "metadata": {},
     "output_type": "display_data"
    },
    {
     "data": {
      "application/vnd.jupyter.widget-view+json": {
       "model_id": "42e30597528d4a4b92ca89d550c90186",
       "version_major": 2,
       "version_minor": 0
      },
      "text/plain": [
       "HBox(children=(Label(value='Herczeg László'), HTML(value='Herc<font color=red>^z</font>eg László'), Label(valu…"
      ]
     },
     "metadata": {},
     "output_type": "display_data"
    },
    {
     "data": {
      "application/vnd.jupyter.widget-view+json": {
       "model_id": "62dcff13e51740dd938b4dbbf8e65ce1",
       "version_major": 2,
       "version_minor": 0
      },
      "text/plain": [
       "HBox(children=(Label(value='Janáky István'), HTML(value='<font color=green>^+</font>Janáky István'), Label(val…"
      ]
     },
     "metadata": {},
     "output_type": "display_data"
    },
    {
     "data": {
      "application/vnd.jupyter.widget-view+json": {
       "model_id": "6d6f5a20effe4fcf87cc392186bd3044",
       "version_major": 2,
       "version_minor": 0
      },
      "text/plain": [
       "HBox(children=(Label(value='Békési László'), HTML(value='Békési Lász<font color=red>^l</font>ó'), Label(value=…"
      ]
     },
     "metadata": {},
     "output_type": "display_data"
    },
    {
     "data": {
      "application/vnd.jupyter.widget-view+json": {
       "model_id": "bdef383ce6f242428c8517748260df7c",
       "version_major": 2,
       "version_minor": 0
      },
      "text/plain": [
       "HBox(children=(Label(value='Kuti László'), HTML(value='Kuti Lász<font color=green>^\\xad</font>ló'), Label(valu…"
      ]
     },
     "metadata": {},
     "output_type": "display_data"
    },
    {
     "data": {
      "application/vnd.jupyter.widget-view+json": {
       "model_id": "9d8c9820e5bf4b71b69747ce93d0c0a6",
       "version_major": 2,
       "version_minor": 0
      },
      "text/plain": [
       "HBox(children=(Label(value='Tillmann J. A.'), HTML(value='Tillman<font color=red>^n</font> J. A.'), Label(valu…"
      ]
     },
     "metadata": {},
     "output_type": "display_data"
    },
    {
     "data": {
      "application/vnd.jupyter.widget-view+json": {
       "model_id": "036fdaf850704a178bfa81888c055e3d",
       "version_major": 2,
       "version_minor": 0
      },
      "text/plain": [
       "HBox(children=(Label(value='Tillmann J. A.'), HTML(value='Ti<font color=red>^l</font>lmann J. A.'), Label(valu…"
      ]
     },
     "metadata": {},
     "output_type": "display_data"
    },
    {
     "data": {
      "application/vnd.jupyter.widget-view+json": {
       "model_id": "575cb3ae1f2d451094d482e95cf4bfc8",
       "version_major": 2,
       "version_minor": 0
      },
      "text/plain": [
       "HBox(children=(Label(value='Tillmann J. A.'), HTML(value='Tillmann J.<font color=red>^ </font>A.'), Label(valu…"
      ]
     },
     "metadata": {},
     "output_type": "display_data"
    },
    {
     "data": {
      "application/vnd.jupyter.widget-view+json": {
       "model_id": "58ddc6ff5d574aa19614691101cd88c3",
       "version_major": 2,
       "version_minor": 0
      },
      "text/plain": [
       "HBox(children=(Label(value='Sz. Szilágyi Gábor'), HTML(value='Sz.<font color=red>^ </font>Szilágyi Gábor'), La…"
      ]
     },
     "metadata": {},
     "output_type": "display_data"
    },
    {
     "data": {
      "application/vnd.jupyter.widget-view+json": {
       "model_id": "130f800a09d34b87adc19f10cfcf7182",
       "version_major": 2,
       "version_minor": 0
      },
      "text/plain": [
       "HBox(children=(Label(value='Balázs Imre Barna'), HTML(value='Ba<font color=green>^\\xad</font>lázs Imre Barna')…"
      ]
     },
     "metadata": {},
     "output_type": "display_data"
    },
    {
     "data": {
      "application/vnd.jupyter.widget-view+json": {
       "model_id": "63437ad3022347218eafa9bba4460661",
       "version_major": 2,
       "version_minor": 0
      },
      "text/plain": [
       "HBox(children=(Label(value='Bullás József'), HTML(value='Bullás József<font color=green>^ </font>'), Label(val…"
      ]
     },
     "metadata": {},
     "output_type": "display_data"
    },
    {
     "data": {
      "application/vnd.jupyter.widget-view+json": {
       "model_id": "e342ace05e2e4ea482b92a3e8e30d594",
       "version_major": 2,
       "version_minor": 0
      },
      "text/plain": [
       "HBox(children=(Label(value='Bullás József'), HTML(value='Bullás József<font color=green>^ </font>'), Label(val…"
      ]
     },
     "metadata": {},
     "output_type": "display_data"
    },
    {
     "data": {
      "application/vnd.jupyter.widget-view+json": {
       "model_id": "9532309109bc486e8fddef10b3e5b7d7",
       "version_major": 2,
       "version_minor": 0
      },
      "text/plain": [
       "HBox(children=(Label(value='Langh Róbert'), HTML(value='Lang<font color=red>^h</font> Róbert'), Label(value='9…"
      ]
     },
     "metadata": {},
     "output_type": "display_data"
    },
    {
     "data": {
      "application/vnd.jupyter.widget-view+json": {
       "model_id": "7e52a990047d44f0903d54f3e63b3145",
       "version_major": 2,
       "version_minor": 0
      },
      "text/plain": [
       "HBox(children=(Label(value='Mayer Mariann'), HTML(value='Mayer Mariann<font color=green>^a</font>'), Label(val…"
      ]
     },
     "metadata": {},
     "output_type": "display_data"
    },
    {
     "data": {
      "application/vnd.jupyter.widget-view+json": {
       "model_id": "0e3c2db0f83148ffbabff7b59b351f03",
       "version_major": 2,
       "version_minor": 0
      },
      "text/plain": [
       "HBox(children=(Label(value='Mayer Mariann'), HTML(value='Mayer Marian<font color=red>^n</font>'), Label(value=…"
      ]
     },
     "metadata": {},
     "output_type": "display_data"
    },
    {
     "data": {
      "application/vnd.jupyter.widget-view+json": {
       "model_id": "c76296ad451c492d92eda257ae8ddb98",
       "version_major": 2,
       "version_minor": 0
      },
      "text/plain": [
       "HBox(children=(Label(value='Francoise Gilot'), HTML(value='Francoise Gil<font color=green>^l</font>ot'), Label…"
      ]
     },
     "metadata": {},
     "output_type": "display_data"
    },
    {
     "data": {
      "application/vnd.jupyter.widget-view+json": {
       "model_id": "de91ce680ecf46c7a8d66d1719cf318f",
       "version_major": 2,
       "version_minor": 0
      },
      "text/plain": [
       "HBox(children=(Label(value='Készman József'), HTML(value='Készman József<font color=green>^ </font>'), Label(v…"
      ]
     },
     "metadata": {},
     "output_type": "display_data"
    },
    {
     "data": {
      "application/vnd.jupyter.widget-view+json": {
       "model_id": "235b385dd28e4e228db2105df8de5223",
       "version_major": 2,
       "version_minor": 0
      },
      "text/plain": [
       "HBox(children=(Label(value='Michal Kolecek'), HTML(value='Micha<font color=green>^i</font>l Kolecek'), Label(v…"
      ]
     },
     "metadata": {},
     "output_type": "display_data"
    },
    {
     "data": {
      "application/vnd.jupyter.widget-view+json": {
       "model_id": "d6b58011a92b4bad85a933b2552e6858",
       "version_major": 2,
       "version_minor": 0
      },
      "text/plain": [
       "HBox(children=(Label(value='Kiss Adrian'), HTML(value='Kiss Adria<font color=green>^́</font>n'), Label(value='…"
      ]
     },
     "metadata": {},
     "output_type": "display_data"
    },
    {
     "data": {
      "application/vnd.jupyter.widget-view+json": {
       "model_id": "b05eee5f79404dd8ab05b71428837880",
       "version_major": 2,
       "version_minor": 0
      },
      "text/plain": [
       "HBox(children=(Label(value='Koroknai Zsolt'), HTML(value='Koroknai <font color=green>^ </font>Zsolt'), Label(v…"
      ]
     },
     "metadata": {},
     "output_type": "display_data"
    },
    {
     "data": {
      "application/vnd.jupyter.widget-view+json": {
       "model_id": "1d5ca4d9925e41a980a92daf9e7ace1a",
       "version_major": 2,
       "version_minor": 0
      },
      "text/plain": [
       "HBox(children=(Label(value='N. Mészáros Júlia'), HTML(value='N.<font color=red>^ </font>Mészáros Júlia'), Labe…"
      ]
     },
     "metadata": {},
     "output_type": "display_data"
    },
    {
     "data": {
      "application/vnd.jupyter.widget-view+json": {
       "model_id": "b75204aeaf364752bcb5bda1e93c6d30",
       "version_major": 2,
       "version_minor": 0
      },
      "text/plain": [
       "HBox(children=(Label(value='N. Mészáros Júlia'), HTML(value='N.<font color=red>^ </font>Mészáros Júlia'), Labe…"
      ]
     },
     "metadata": {},
     "output_type": "display_data"
    },
    {
     "data": {
      "application/vnd.jupyter.widget-view+json": {
       "model_id": "422721ccaaed4d12ac0fed648bc1359e",
       "version_major": 2,
       "version_minor": 0
      },
      "text/plain": [
       "HBox(children=(Label(value='Ferencz S. Apor'), HTML(value='Ferenc<font color=red>^z</font> S. Apor'), Label(va…"
      ]
     },
     "metadata": {},
     "output_type": "display_data"
    },
    {
     "data": {
      "application/vnd.jupyter.widget-view+json": {
       "model_id": "41432bb899a94ff5ba18e4eb83c05383",
       "version_major": 2,
       "version_minor": 0
      },
      "text/plain": [
       "HBox(children=(Label(value='Ferencz S. Apor'), HTML(value='Ferencz S<font color=red>^.</font> Apor'), Label(va…"
      ]
     },
     "metadata": {},
     "output_type": "display_data"
    },
    {
     "data": {
      "application/vnd.jupyter.widget-view+json": {
       "model_id": "9703df4c6df24b97a7db6ef36fbbd90f",
       "version_major": 2,
       "version_minor": 0
      },
      "text/plain": [
       "HBox(children=(Label(value='Somogyi-Rohonczy Zsófia'), HTML(value='Somogyi-Rohonczy Zsófi<font color=red>^a</f…"
      ]
     },
     "metadata": {},
     "output_type": "display_data"
    },
    {
     "data": {
      "application/vnd.jupyter.widget-view+json": {
       "model_id": "c83d243c857b4b9281f291d65135c40f",
       "version_major": 2,
       "version_minor": 0
      },
      "text/plain": [
       "HBox(children=(Label(value='Somogyi-Rohonczy Zsófia'), HTML(value='Somogyi<font color=blue>^ </font>Rohonczy Z…"
      ]
     },
     "metadata": {},
     "output_type": "display_data"
    },
    {
     "data": {
      "application/vnd.jupyter.widget-view+json": {
       "model_id": "605dcaedbc3f447ab63c6cbcb663cd63",
       "version_major": 2,
       "version_minor": 0
      },
      "text/plain": [
       "HBox(children=(Label(value='Kovács Tibor'), HTML(value='Kovács<font color=green>^y</font> Tibor'), Label(value…"
      ]
     },
     "metadata": {},
     "output_type": "display_data"
    },
    {
     "data": {
      "application/vnd.jupyter.widget-view+json": {
       "model_id": "4035a32ff6c64aa8b7e22872d263f4f1",
       "version_major": 2,
       "version_minor": 0
      },
      "text/plain": [
       "HBox(children=(Label(value='Mátyás Péter'), HTML(value='Mátyás<font color=green>^i</font> Péter'), Label(value…"
      ]
     },
     "metadata": {},
     "output_type": "display_data"
    },
    {
     "data": {
      "application/vnd.jupyter.widget-view+json": {
       "model_id": "30015ffced84432f99c853af4bb90618",
       "version_major": 2,
       "version_minor": 0
      },
      "text/plain": [
       "HBox(children=(Label(value='Mátyás Péter'), HTML(value='Mátyás<font color=green>^i</font> Péter'), Label(value…"
      ]
     },
     "metadata": {},
     "output_type": "display_data"
    },
    {
     "data": {
      "application/vnd.jupyter.widget-view+json": {
       "model_id": "fb4de9aaf9cb497ba7a070018481ff08",
       "version_major": 2,
       "version_minor": 0
      },
      "text/plain": [
       "HBox(children=(Label(value='Ázbej Kristóf'), HTML(value='Ázbej Kris<font color=red>^t</font>óf'), Label(value=…"
      ]
     },
     "metadata": {},
     "output_type": "display_data"
    },
    {
     "data": {
      "application/vnd.jupyter.widget-view+json": {
       "model_id": "0ceddf1c32c4496ca5daeeaa5dbc8f35",
       "version_major": 2,
       "version_minor": 0
      },
      "text/plain": [
       "HBox(children=(Label(value='Szász György'), HTML(value='<font color=red>^S</font>zász György'), Label(value='9…"
      ]
     },
     "metadata": {},
     "output_type": "display_data"
    },
    {
     "data": {
      "application/vnd.jupyter.widget-view+json": {
       "model_id": "bd1f5977960341f0a282974ddb90d992",
       "version_major": 2,
       "version_minor": 0
      },
      "text/plain": [
       "HBox(children=(Label(value='Sajnos Gergely'), HTML(value='Sajnos Ge<font color=red>^r</font>gely'), Label(valu…"
      ]
     },
     "metadata": {},
     "output_type": "display_data"
    },
    {
     "data": {
      "application/vnd.jupyter.widget-view+json": {
       "model_id": "3a67275b562141e28ced6c282cce4c23",
       "version_major": 2,
       "version_minor": 0
      },
      "text/plain": [
       "HBox(children=(Label(value='Julije Knifer'), HTML(value='Juli<font color=red>^j</font>e Knifer'), Label(value=…"
      ]
     },
     "metadata": {},
     "output_type": "display_data"
    },
    {
     "data": {
      "application/vnd.jupyter.widget-view+json": {
       "model_id": "02b15788b04a43499d246a0ea9fcf1b5",
       "version_major": 2,
       "version_minor": 0
      },
      "text/plain": [
       "HBox(children=(Label(value='Kosinsky Richárd'), HTML(value='Kosins<font color=green>^z</font>ky Richárd'), Lab…"
      ]
     },
     "metadata": {},
     "output_type": "display_data"
    },
    {
     "data": {
      "application/vnd.jupyter.widget-view+json": {
       "model_id": "b8987ea7ab1342b6bcb8b95b3d0ca925",
       "version_major": 2,
       "version_minor": 0
      },
      "text/plain": [
       "HBox(children=(Label(value='Gróf Ferenc'), HTML(value='<font color=green>^(</font>Gróf Ferenc'), Label(value='…"
      ]
     },
     "metadata": {},
     "output_type": "display_data"
    },
    {
     "data": {
      "application/vnd.jupyter.widget-view+json": {
       "model_id": "31e024844ca54a0d80927dc31f3541df",
       "version_major": 2,
       "version_minor": 0
      },
      "text/plain": [
       "HBox(children=(Label(value='Pettendi Szabó Péter'), HTML(value='Pettendi Szabó<font color=red>^ </font>Péter')…"
      ]
     },
     "metadata": {},
     "output_type": "display_data"
    },
    {
     "data": {
      "application/vnd.jupyter.widget-view+json": {
       "model_id": "19d8ef8ee9de494c99aa9696106bf41f",
       "version_major": 2,
       "version_minor": 0
      },
      "text/plain": [
       "HBox(children=(Label(value='Ifj. Koffán Károly'), HTML(value='Ifj.<font color=green>^ </font> Koffán Károly'),…"
      ]
     },
     "metadata": {},
     "output_type": "display_data"
    },
    {
     "data": {
      "application/vnd.jupyter.widget-view+json": {
       "model_id": "74ac480156c5442a95c9507324b312d7",
       "version_major": 2,
       "version_minor": 0
      },
      "text/plain": [
       "HBox(children=(Label(value='Wrobel Péter'), HTML(value='Wrobel <font color=green>^ </font>Péter'), Label(value…"
      ]
     },
     "metadata": {},
     "output_type": "display_data"
    },
    {
     "data": {
      "application/vnd.jupyter.widget-view+json": {
       "model_id": "0974855c0cb64933adf67f9bcce095ad",
       "version_major": 2,
       "version_minor": 0
      },
      "text/plain": [
       "HBox(children=(Label(value='Szotyory László'), HTML(value='Szotyory László<font color=green>^ </font>'), Label…"
      ]
     },
     "metadata": {},
     "output_type": "display_data"
    },
    {
     "data": {
      "application/vnd.jupyter.widget-view+json": {
       "model_id": "6b66eb5f937a4cd0aec25d24bb9d4246",
       "version_major": 2,
       "version_minor": 0
      },
      "text/plain": [
       "HBox(children=(Label(value='Tillmann J. A.'), HTML(value='Tillman<font color=red>^n</font> J. A.'), Label(valu…"
      ]
     },
     "metadata": {},
     "output_type": "display_data"
    },
    {
     "data": {
      "application/vnd.jupyter.widget-view+json": {
       "model_id": "84cea7be406641ee9802a905c319e20e",
       "version_major": 2,
       "version_minor": 0
      },
      "text/plain": [
       "HBox(children=(Label(value='Tillmann J. A.'), HTML(value='Ti<font color=red>^l</font>lmann J. A.'), Label(valu…"
      ]
     },
     "metadata": {},
     "output_type": "display_data"
    },
    {
     "data": {
      "application/vnd.jupyter.widget-view+json": {
       "model_id": "23302f862fca4072bd25836de5dc5911",
       "version_major": 2,
       "version_minor": 0
      },
      "text/plain": [
       "HBox(children=(Label(value='Tillmann J. A.'), HTML(value='Tillmann J.<font color=red>^ </font>A.'), Label(valu…"
      ]
     },
     "metadata": {},
     "output_type": "display_data"
    },
    {
     "data": {
      "application/vnd.jupyter.widget-view+json": {
       "model_id": "9ecf84290e874b14bd6c6f0d116d142d",
       "version_major": 2,
       "version_minor": 0
      },
      "text/plain": [
       "HBox(children=(Label(value='Kishonthy Zsolt'), HTML(value='Kishont<font color=red>^h</font>y Zsolt'), Label(va…"
      ]
     },
     "metadata": {},
     "output_type": "display_data"
    },
    {
     "data": {
      "application/vnd.jupyter.widget-view+json": {
       "model_id": "ca038cbee43e4fe7baa541f14881e81b",
       "version_major": 2,
       "version_minor": 0
      },
      "text/plain": [
       "HBox(children=(Label(value='Nemes Csaba'), HTML(value='Nemes Csaba<font color=green>^:</font>'), Label(value='…"
      ]
     },
     "metadata": {},
     "output_type": "display_data"
    },
    {
     "data": {
      "application/vnd.jupyter.widget-view+json": {
       "model_id": "7e6a5a784b3647c1b6cc1d93a2857e7a",
       "version_major": 2,
       "version_minor": 0
      },
      "text/plain": [
       "HBox(children=(Label(value='Gadányi Jenő'), HTML(value='Gadányi Jenő<font color=green>^ </font>'), Label(value…"
      ]
     },
     "metadata": {},
     "output_type": "display_data"
    },
    {
     "data": {
      "application/vnd.jupyter.widget-view+json": {
       "model_id": "f818a4b99ad142aa8ef99fe2a11f26b5",
       "version_major": 2,
       "version_minor": 0
      },
      "text/plain": [
       "HBox(children=(Label(value='Gadányi Jenő'), HTML(value='Gadány<font color=red>^i</font> Jenő'), Label(value='9…"
      ]
     },
     "metadata": {},
     "output_type": "display_data"
    },
    {
     "data": {
      "application/vnd.jupyter.widget-view+json": {
       "model_id": "cf3055d056974b21843c84240148b37b",
       "version_major": 2,
       "version_minor": 0
      },
      "text/plain": [
       "HBox(children=(Label(value='Kozák Zsuzska'), HTML(value='Kozák Zsuzs<font color=red>^k</font>a'), Label(value=…"
      ]
     },
     "metadata": {},
     "output_type": "display_data"
    },
    {
     "data": {
      "application/vnd.jupyter.widget-view+json": {
       "model_id": "a2bc63cdeb4d4c909c6ec11fff609e8f",
       "version_major": 2,
       "version_minor": 0
      },
      "text/plain": [
       "HBox(children=(Label(value='Kozák Zsuzska'), HTML(value='Kozák Zsu<font color=red>^z</font>ska'), Label(value=…"
      ]
     },
     "metadata": {},
     "output_type": "display_data"
    },
    {
     "data": {
      "application/vnd.jupyter.widget-view+json": {
       "model_id": "3fa91f90ae244fa78b364b406de6e66d",
       "version_major": 2,
       "version_minor": 0
      },
      "text/plain": [
       "HBox(children=(Label(value='Kiss Gábor Attila'), HTML(value='Ki<font color=red>^s</font>s Gábor Attila'), Labe…"
      ]
     },
     "metadata": {},
     "output_type": "display_data"
    },
    {
     "data": {
      "application/vnd.jupyter.widget-view+json": {
       "model_id": "c33987e2a17443dbadfc9064f0eded85",
       "version_major": 2,
       "version_minor": 0
      },
      "text/plain": [
       "HBox(children=(Label(value='Derek Michael Besant'), HTML(value='Derek<font color=green>^ </font> Michael Besan…"
      ]
     },
     "metadata": {},
     "output_type": "display_data"
    },
    {
     "data": {
      "application/vnd.jupyter.widget-view+json": {
       "model_id": "77874f75dc34496fbbc8071b250508fb",
       "version_major": 2,
       "version_minor": 0
      },
      "text/plain": [
       "HBox(children=(Label(value='Csiszér Zsuzsi'), HTML(value='C<font color=red>^s</font>iszér Zsuzsi'), Label(valu…"
      ]
     },
     "metadata": {},
     "output_type": "display_data"
    },
    {
     "data": {
      "application/vnd.jupyter.widget-view+json": {
       "model_id": "0d82e5c0737148d1a56b60b13a62fe94",
       "version_major": 2,
       "version_minor": 0
      },
      "text/plain": [
       "HBox(children=(Label(value='Tóth Márton Emil'), HTML(value='Tóth Márton Emil<font color=green>^.</font>'), Lab…"
      ]
     },
     "metadata": {},
     "output_type": "display_data"
    },
    {
     "data": {
      "application/vnd.jupyter.widget-view+json": {
       "model_id": "4f687c6d6f76477cbfbe36b5e8a941ac",
       "version_major": 2,
       "version_minor": 0
      },
      "text/plain": [
       "HBox(children=(Label(value='Kerekes Gábor'), HTML(value='Kerekes Gábor<font color=green>^)</font>'), Label(val…"
      ]
     },
     "metadata": {},
     "output_type": "display_data"
    },
    {
     "data": {
      "application/vnd.jupyter.widget-view+json": {
       "model_id": "abaa5f6d376d425ba9afb84da1ac1393",
       "version_major": 2,
       "version_minor": 0
      },
      "text/plain": [
       "HBox(children=(Label(value='Kerekes Gábor'), HTML(value='Kerekes Gábor<font color=green>^.</font>'), Label(val…"
      ]
     },
     "metadata": {},
     "output_type": "display_data"
    },
    {
     "data": {
      "application/vnd.jupyter.widget-view+json": {
       "model_id": "15fb4a8152a94af9a00743977b009c98",
       "version_major": 2,
       "version_minor": 0
      },
      "text/plain": [
       "HBox(children=(Label(value='Tillmann J. A.'), HTML(value='Tillman<font color=red>^n</font> J. A.'), Label(valu…"
      ]
     },
     "metadata": {},
     "output_type": "display_data"
    },
    {
     "data": {
      "application/vnd.jupyter.widget-view+json": {
       "model_id": "13d4ffc189c74e1f851768404255c688",
       "version_major": 2,
       "version_minor": 0
      },
      "text/plain": [
       "HBox(children=(Label(value='Tillmann J. A.'), HTML(value='Ti<font color=red>^l</font>lmann J. A.'), Label(valu…"
      ]
     },
     "metadata": {},
     "output_type": "display_data"
    },
    {
     "data": {
      "application/vnd.jupyter.widget-view+json": {
       "model_id": "1c7029368ffe41a3887097fc6afa4645",
       "version_major": 2,
       "version_minor": 0
      },
      "text/plain": [
       "HBox(children=(Label(value='Tillmann J. A.'), HTML(value='Tillmann J.<font color=red>^ </font>A.'), Label(valu…"
      ]
     },
     "metadata": {},
     "output_type": "display_data"
    },
    {
     "data": {
      "application/vnd.jupyter.widget-view+json": {
       "model_id": "6dcc114c9f7d4dab92237fffbf3894e8",
       "version_major": 2,
       "version_minor": 0
      },
      "text/plain": [
       "HBox(children=(Label(value='Veszprémi Sára'), HTML(value='Ves<font color=red>^z</font>prémi Sára'), Label(valu…"
      ]
     },
     "metadata": {},
     "output_type": "display_data"
    },
    {
     "data": {
      "application/vnd.jupyter.widget-view+json": {
       "model_id": "a8fade715f7543c1b820d40074caf476",
       "version_major": 2,
       "version_minor": 0
      },
      "text/plain": [
       "HBox(children=(Label(value='Baranyai (b) András'), HTML(value='Barany<font color=red>^a</font>i (b) András'), …"
      ]
     },
     "metadata": {},
     "output_type": "display_data"
    },
    {
     "data": {
      "application/vnd.jupyter.widget-view+json": {
       "model_id": "60261c177321402885c16abe4a7b95aa",
       "version_major": 2,
       "version_minor": 0
      },
      "text/plain": [
       "HBox(children=(Label(value='Podmaniczky Szilárd'), HTML(value='P<font color=red>^o</font>dmaniczky Szilárd'), …"
      ]
     },
     "metadata": {},
     "output_type": "display_data"
    },
    {
     "data": {
      "application/vnd.jupyter.widget-view+json": {
       "model_id": "9095998fbc774c728e4b67044737046e",
       "version_major": 2,
       "version_minor": 0
      },
      "text/plain": [
       "HBox(children=(Label(value='Erőss István'), HTML(value='Erő<font color=red>^s</font>s István'), Label(value='9…"
      ]
     },
     "metadata": {},
     "output_type": "display_data"
    },
    {
     "data": {
      "application/vnd.jupyter.widget-view+json": {
       "model_id": "b65d494a030a4aad876ecb00ef460b22",
       "version_major": 2,
       "version_minor": 0
      },
      "text/plain": [
       "HBox(children=(Label(value='Somogyi Zsófi'), HTML(value='Somogyi Zsófi<font color=green>^a</font>'), Label(val…"
      ]
     },
     "metadata": {},
     "output_type": "display_data"
    },
    {
     "data": {
      "application/vnd.jupyter.widget-view+json": {
       "model_id": "7640218810594aaea187abe1bb454faa",
       "version_major": 2,
       "version_minor": 0
      },
      "text/plain": [
       "HBox(children=(Label(value='Barabás Zsófia'), HTML(value='Barabás Zsófi<font color=red>^a</font>'), Label(valu…"
      ]
     },
     "metadata": {},
     "output_type": "display_data"
    },
    {
     "data": {
      "application/vnd.jupyter.widget-view+json": {
       "model_id": "9136ddcee64448e29da601a130a0e855",
       "version_major": 2,
       "version_minor": 0
      },
      "text/plain": [
       "HBox(children=(Label(value='Földesi Barnabás'), HTML(value='Földes<font color=red>^i</font> Barnabás'), Label(…"
      ]
     },
     "metadata": {},
     "output_type": "display_data"
    },
    {
     "data": {
      "application/vnd.jupyter.widget-view+json": {
       "model_id": "54a23cc99f0343aa848877c5d7c674de",
       "version_major": 2,
       "version_minor": 0
      },
      "text/plain": [
       "HBox(children=(Label(value='Hudra Klára'), HTML(value='<font color=green>^-</font>Hudra Klára'), Label(value='…"
      ]
     },
     "metadata": {},
     "output_type": "display_data"
    },
    {
     "data": {
      "application/vnd.jupyter.widget-view+json": {
       "model_id": "6f307edcf36a407598bbd88e128a8562",
       "version_major": 2,
       "version_minor": 0
      },
      "text/plain": [
       "HBox(children=(Label(value='Mécs Miklós'), HTML(value='Mécs Miklós<font color=green>^)</font>'), Label(value='…"
      ]
     },
     "metadata": {},
     "output_type": "display_data"
    },
    {
     "data": {
      "application/vnd.jupyter.widget-view+json": {
       "model_id": "22153a9cf145441c9d3a42230f3d9e3b",
       "version_major": 2,
       "version_minor": 0
      },
      "text/plain": [
       "HBox(children=(Label(value='Sz. Szilágyi Gábor'), HTML(value='Sz.<font color=red>^ </font>Szilágyi Gábor'), La…"
      ]
     },
     "metadata": {},
     "output_type": "display_data"
    },
    {
     "data": {
      "application/vnd.jupyter.widget-view+json": {
       "model_id": "b782167b3d0e4ba5aa16bea360507143",
       "version_major": 2,
       "version_minor": 0
      },
      "text/plain": [
       "HBox(children=(Label(value='Baróthy Anna'), HTML(value='Baró<font color=green>^\\xad</font>thy Anna'), Label(va…"
      ]
     },
     "metadata": {},
     "output_type": "display_data"
    },
    {
     "data": {
      "application/vnd.jupyter.widget-view+json": {
       "model_id": "25c56a4532684e2f83ed62e1ec642d0c",
       "version_major": 2,
       "version_minor": 0
      },
      "text/plain": [
       "HBox(children=(Label(value='Horváth Levente'), HTML(value='Horvát<font color=red>^h</font> Levente'), Label(va…"
      ]
     },
     "metadata": {},
     "output_type": "display_data"
    },
    {
     "data": {
      "application/vnd.jupyter.widget-view+json": {
       "model_id": "b3c33222bb7242078e437b1a038b0614",
       "version_major": 2,
       "version_minor": 0
      },
      "text/plain": [
       "HBox(children=(Label(value='Meggyes László'), HTML(value='Me<font color=red>^g</font>gyes László'), Label(valu…"
      ]
     },
     "metadata": {},
     "output_type": "display_data"
    },
    {
     "data": {
      "application/vnd.jupyter.widget-view+json": {
       "model_id": "2817b476cb1a4776931d5e54bb2c2040",
       "version_major": 2,
       "version_minor": 0
      },
      "text/plain": [
       "HBox(children=(Label(value='Mohácsi András'), HTML(value='Mohács<font color=red>^i</font> András'), Label(valu…"
      ]
     },
     "metadata": {},
     "output_type": "display_data"
    },
    {
     "data": {
      "application/vnd.jupyter.widget-view+json": {
       "model_id": "aacb711a5a714fd5a67ffcad344ad0f3",
       "version_major": 2,
       "version_minor": 0
      },
      "text/plain": [
       "HBox(children=(Label(value='Andreas Gursky'), HTML(value='An<font color=red>^d</font>reas Gursky'), Label(valu…"
      ]
     },
     "metadata": {},
     "output_type": "display_data"
    },
    {
     "data": {
      "application/vnd.jupyter.widget-view+json": {
       "model_id": "c975be5b9d164dcc997a10bfa91f90c9",
       "version_major": 2,
       "version_minor": 0
      },
      "text/plain": [
       "HBox(children=(Label(value='Litván Gábor'), HTML(value='Li<font color=red>^t</font>ván Gábor'), Label(value='9…"
      ]
     },
     "metadata": {},
     "output_type": "display_data"
    },
    {
     "data": {
      "application/vnd.jupyter.widget-view+json": {
       "model_id": "cdc7587a11344070b37dbcde801c4f4b",
       "version_major": 2,
       "version_minor": 0
      },
      "text/plain": [
       "HBox(children=(Label(value='Nemes Judith'), HTML(value='Nemes Judit<font color=red>^h</font>'), Label(value='9…"
      ]
     },
     "metadata": {},
     "output_type": "display_data"
    },
    {
     "data": {
      "application/vnd.jupyter.widget-view+json": {
       "model_id": "98453882331a4fafa453ded1f1b7f9c2",
       "version_major": 2,
       "version_minor": 0
      },
      "text/plain": [
       "HBox(children=(Label(value='Nemes Judith'), HTML(value='Nemes Judit<font color=red>^h</font>'), Label(value='9…"
      ]
     },
     "metadata": {},
     "output_type": "display_data"
    },
    {
     "data": {
      "application/vnd.jupyter.widget-view+json": {
       "model_id": "71558e05bf4e411d927a9bd3a427bb78",
       "version_major": 2,
       "version_minor": 0
      },
      "text/plain": [
       "HBox(children=(Label(value='Ütő Gusztáv'), HTML(value='Ütő Gusz<font color=green>^\\xad</font>táv'), Label(valu…"
      ]
     },
     "metadata": {},
     "output_type": "display_data"
    },
    {
     "data": {
      "application/vnd.jupyter.widget-view+json": {
       "model_id": "36d73c8ba10e408385ce711afd378beb",
       "version_major": 2,
       "version_minor": 0
      },
      "text/plain": [
       "HBox(children=(Label(value='Szász György'), HTML(value='<font color=red>^S</font>zász György'), Label(value='9…"
      ]
     },
     "metadata": {},
     "output_type": "display_data"
    },
    {
     "data": {
      "application/vnd.jupyter.widget-view+json": {
       "model_id": "5cea29749d9548b09aa8a1ad3f84722d",
       "version_major": 2,
       "version_minor": 0
      },
      "text/plain": [
       "HBox(children=(Label(value='Kisspál Szabolcs'), HTML(value='Ki<font color=red>^s</font>spál Szabolcs'), Label(…"
      ]
     },
     "metadata": {},
     "output_type": "display_data"
    },
    {
     "data": {
      "application/vnd.jupyter.widget-view+json": {
       "model_id": "2b776943e7714544983d3fab924424f1",
       "version_major": 2,
       "version_minor": 0
      },
      "text/plain": [
       "HBox(children=(Label(value='Kerekes Gábor'), HTML(value='Kerekes Gábor<font color=green>^)</font>'), Label(val…"
      ]
     },
     "metadata": {},
     "output_type": "display_data"
    },
    {
     "data": {
      "application/vnd.jupyter.widget-view+json": {
       "model_id": "bc182c85862b4ffd93331a0cdd0b6eb5",
       "version_major": 2,
       "version_minor": 0
      },
      "text/plain": [
       "HBox(children=(Label(value='Kerekes Gábor'), HTML(value='Kerekes Gábor<font color=green>^.</font>'), Label(val…"
      ]
     },
     "metadata": {},
     "output_type": "display_data"
    },
    {
     "data": {
      "application/vnd.jupyter.widget-view+json": {
       "model_id": "60487d606c304530af7a21471aacae95",
       "version_major": 2,
       "version_minor": 0
      },
      "text/plain": [
       "HBox(children=(Label(value='Hajdu István'), HTML(value='Hajdu István<font color=green>^:</font>'), Label(value…"
      ]
     },
     "metadata": {},
     "output_type": "display_data"
    },
    {
     "data": {
      "application/vnd.jupyter.widget-view+json": {
       "model_id": "e80602d0ec2745649ddd90e67916a07f",
       "version_major": 2,
       "version_minor": 0
      },
      "text/plain": [
       "HBox(children=(Label(value='Piergiorgio Zangara'), HTML(value='Piergiorg<font color=red>^i</font>o Zangara'), …"
      ]
     },
     "metadata": {},
     "output_type": "display_data"
    },
    {
     "data": {
      "application/vnd.jupyter.widget-view+json": {
       "model_id": "ed643f72bb0143c0a69cb0ffc47255cc",
       "version_major": 2,
       "version_minor": 0
      },
      "text/plain": [
       "HBox(children=(Label(value='Zuzanna Zurbolová'), HTML(value='Zuza<font color=red>^n</font>na Zurbolová'), Labe…"
      ]
     },
     "metadata": {},
     "output_type": "display_data"
    },
    {
     "data": {
      "application/vnd.jupyter.widget-view+json": {
       "model_id": "cc62d6315c934bed8ea318f1a10b0387",
       "version_major": 2,
       "version_minor": 0
      },
      "text/plain": [
       "HBox(children=(Label(value='Kelemen Bíborka'), HTML(value='Kelemen<font color=green>^t</font> Bíborka'), Label…"
      ]
     },
     "metadata": {},
     "output_type": "display_data"
    },
    {
     "data": {
      "application/vnd.jupyter.widget-view+json": {
       "model_id": "7138018ec6614745b41a907069a1ef96",
       "version_major": 2,
       "version_minor": 0
      },
      "text/plain": [
       "HBox(children=(Label(value='Szegedy-Maszák Zsuzsanna'), HTML(value='Szegedy-Masz<font color=blue>^a</font>k Zs…"
      ]
     },
     "metadata": {},
     "output_type": "display_data"
    },
    {
     "data": {
      "application/vnd.jupyter.widget-view+json": {
       "model_id": "bcb9e1f80de543c49e267c4749b0579a",
       "version_major": 2,
       "version_minor": 0
      },
      "text/plain": [
       "HBox(children=(Label(value='Ilés-Muszka Rudolf'), HTML(value='I<font color=green>^l</font>lés-Muszka Rudolf'),…"
      ]
     },
     "metadata": {},
     "output_type": "display_data"
    },
    {
     "data": {
      "application/vnd.jupyter.widget-view+json": {
       "model_id": "2c265024b5ba4bd297a330454276e2b8",
       "version_major": 2,
       "version_minor": 0
      },
      "text/plain": [
       "HBox(children=(Label(value='Ozsváth Sára'), HTML(value='Ozsvát<font color=red>^h</font> Sára'), Label(value='9…"
      ]
     },
     "metadata": {},
     "output_type": "display_data"
    },
    {
     "data": {
      "application/vnd.jupyter.widget-view+json": {
       "model_id": "e7f39ebea4e6444891697f70d0f2e024",
       "version_major": 2,
       "version_minor": 0
      },
      "text/plain": [
       "HBox(children=(Label(value='Kántor József'), HTML(value='Kántor Jó<font color=red>^z</font>sef'), Label(value=…"
      ]
     },
     "metadata": {},
     "output_type": "display_data"
    },
    {
     "data": {
      "application/vnd.jupyter.widget-view+json": {
       "model_id": "b442606b6994454ab35b5fc1b48ee43a",
       "version_major": 2,
       "version_minor": 0
      },
      "text/plain": [
       "HBox(children=(Label(value='Tóth Zsuzsanna'), HTML(value='Tóth Zsuzsann<font color=red>^a</font>'), Label(valu…"
      ]
     },
     "metadata": {},
     "output_type": "display_data"
    },
    {
     "data": {
      "application/vnd.jupyter.widget-view+json": {
       "model_id": "760d66f6706d4a1ca13c54bae84ab3ba",
       "version_major": 2,
       "version_minor": 0
      },
      "text/plain": [
       "HBox(children=(Label(value='Holló István'), HTML(value='Holló<font color=green>^s</font> István'), Label(value…"
      ]
     },
     "metadata": {},
     "output_type": "display_data"
    },
    {
     "data": {
      "application/vnd.jupyter.widget-view+json": {
       "model_id": "9f779656970b4cd08534d26f30caa94a",
       "version_major": 2,
       "version_minor": 0
      },
      "text/plain": [
       "HBox(children=(Label(value='Varga Balázs'), HTML(value='Varg<font color=green>^h</font>a Balázs'), Label(value…"
      ]
     },
     "metadata": {},
     "output_type": "display_data"
    },
    {
     "data": {
      "application/vnd.jupyter.widget-view+json": {
       "model_id": "e36c7c4b9a7b4864a1bbcf7da58a412e",
       "version_major": 2,
       "version_minor": 0
      },
      "text/plain": [
       "HBox(children=(Label(value='Szekeres Alexandra'), HTML(value='Szekeres Alexan<font color=red>^d</font>ra'), La…"
      ]
     },
     "metadata": {},
     "output_type": "display_data"
    },
    {
     "data": {
      "application/vnd.jupyter.widget-view+json": {
       "model_id": "2526f4a0f8ba484fbe274323c20e2ba5",
       "version_major": 2,
       "version_minor": 0
      },
      "text/plain": [
       "HBox(children=(Label(value='Orgoványi Gábor'), HTML(value='Orgoványi G<font color=red>^á</font>bor'), Label(va…"
      ]
     },
     "metadata": {},
     "output_type": "display_data"
    },
    {
     "data": {
      "application/vnd.jupyter.widget-view+json": {
       "model_id": "7223b3c7a48f4bbc8424301b3a95406c",
       "version_major": 2,
       "version_minor": 0
      },
      "text/plain": [
       "HBox(children=(Label(value='Pézman Andrea'), HTML(value='Pézma<font color=green>^n</font>n Andrea'), Label(val…"
      ]
     },
     "metadata": {},
     "output_type": "display_data"
    },
    {
     "data": {
      "application/vnd.jupyter.widget-view+json": {
       "model_id": "456b388e834a4c38b7fdb209decbee1c",
       "version_major": 2,
       "version_minor": 0
      },
      "text/plain": [
       "HBox(children=(Label(value='Lieber Erzsébet'), HTML(value='Lieber Erzsébe<font color=green>^r</font>t'), Label…"
      ]
     },
     "metadata": {},
     "output_type": "display_data"
    },
    {
     "data": {
      "application/vnd.jupyter.widget-view+json": {
       "model_id": "b52c7a02509d44429b6d4e9107ab40c4",
       "version_major": 2,
       "version_minor": 0
      },
      "text/plain": [
       "HBox(children=(Label(value='Repászki Ferenc'), HTML(value='Repászki <font color=green>^ </font>Ferenc'), Label…"
      ]
     },
     "metadata": {},
     "output_type": "display_data"
    },
    {
     "data": {
      "application/vnd.jupyter.widget-view+json": {
       "model_id": "8e85e238d6424685b5dc6de2a43c91cb",
       "version_major": 2,
       "version_minor": 0
      },
      "text/plain": [
       "HBox(children=(Label(value='Repászki Ferenc'), HTML(value='Repászki <font color=green>^ </font>Ferenc'), Label…"
      ]
     },
     "metadata": {},
     "output_type": "display_data"
    },
    {
     "data": {
      "application/vnd.jupyter.widget-view+json": {
       "model_id": "344b0ae281a44429a080ba062258db61",
       "version_major": 2,
       "version_minor": 0
      },
      "text/plain": [
       "HBox(children=(Label(value='Maros Krisztina'), HTML(value='Maros<font color=green>^i</font> Krisztina'), Label…"
      ]
     },
     "metadata": {},
     "output_type": "display_data"
    },
    {
     "data": {
      "application/vnd.jupyter.widget-view+json": {
       "model_id": "043daaead2fb47578f067676bdfa8097",
       "version_major": 2,
       "version_minor": 0
      },
      "text/plain": [
       "HBox(children=(Label(value='D. Udvary Ildikó'), HTML(value='D<font color=green>^r</font>. Udvary Ildikó'), Lab…"
      ]
     },
     "metadata": {},
     "output_type": "display_data"
    },
    {
     "data": {
      "application/vnd.jupyter.widget-view+json": {
       "model_id": "910abdab16ca44ad91952a3e82ad686c",
       "version_major": 2,
       "version_minor": 0
      },
      "text/plain": [
       "HBox(children=(Label(value='D. Udvary Ildikó'), HTML(value='D.<font color=red>^ </font>Udvary Ildikó'), Label(…"
      ]
     },
     "metadata": {},
     "output_type": "display_data"
    },
    {
     "data": {
      "application/vnd.jupyter.widget-view+json": {
       "model_id": "fd2324e78b0d4c81b7dea433c61ada4a",
       "version_major": 2,
       "version_minor": 0
      },
      "text/plain": [
       "HBox(children=(Label(value='Varga Balázs'), HTML(value='Varg<font color=green>^h</font>a Balázs'), Label(value…"
      ]
     },
     "metadata": {},
     "output_type": "display_data"
    },
    {
     "data": {
      "application/vnd.jupyter.widget-view+json": {
       "model_id": "0c660f8d348b4c0491e9bb322874e37c",
       "version_major": 2,
       "version_minor": 0
      },
      "text/plain": [
       "HBox(children=(Label(value='Kútvölgyi-Szabó Áron'), HTML(value='Kútvölgyi<font color=green>^\\xad</font>-Szabó …"
      ]
     },
     "metadata": {},
     "output_type": "display_data"
    },
    {
     "data": {
      "application/vnd.jupyter.widget-view+json": {
       "model_id": "6c39e67b234d4941a94e8f69ad9c2b6b",
       "version_major": 2,
       "version_minor": 0
      },
      "text/plain": [
       "HBox(children=(Label(value='Oravecz Tímea'), HTML(value='Oravecz Tíme<font color=red>^a</font>'), Label(value=…"
      ]
     },
     "metadata": {},
     "output_type": "display_data"
    },
    {
     "data": {
      "application/vnd.jupyter.widget-view+json": {
       "model_id": "68adfcb9effb43d99c69d8475a363170",
       "version_major": 2,
       "version_minor": 0
      },
      "text/plain": [
       "HBox(children=(Label(value='Dr. Keserü Katalin'), HTML(value='Dr.<font color=red>^ </font>Keserü Katalin'), La…"
      ]
     },
     "metadata": {},
     "output_type": "display_data"
    },
    {
     "data": {
      "application/vnd.jupyter.widget-view+json": {
       "model_id": "a4ee91337fe04794ba697a7819cca334",
       "version_major": 2,
       "version_minor": 0
      },
      "text/plain": [
       "HBox(children=(Label(value='Zuzana Zurbolová'), HTML(value='Zuzana Zurbolová<font color=green>^ </font>'), Lab…"
      ]
     },
     "metadata": {},
     "output_type": "display_data"
    },
    {
     "data": {
      "application/vnd.jupyter.widget-view+json": {
       "model_id": "73afb25d355c43728bd9ab9c8250fe9d",
       "version_major": 2,
       "version_minor": 0
      },
      "text/plain": [
       "HBox(children=(Label(value='Bene Zsuzsanna'), HTML(value='Ben<font color=green>^d</font>e Zsuzsanna'), Label(v…"
      ]
     },
     "metadata": {},
     "output_type": "display_data"
    },
    {
     "data": {
      "application/vnd.jupyter.widget-view+json": {
       "model_id": "343917f080e14982b363e762f2d4aa6a",
       "version_major": 2,
       "version_minor": 0
      },
      "text/plain": [
       "HBox(children=(Label(value='Tomasz Piars'), HTML(value='Tomas<font color=red>^z</font> Piars'), Label(value='9…"
      ]
     },
     "metadata": {},
     "output_type": "display_data"
    },
    {
     "data": {
      "application/vnd.jupyter.widget-view+json": {
       "model_id": "7364ceec032c4a56b5912283aa46b792",
       "version_major": 2,
       "version_minor": 0
      },
      "text/plain": [
       "HBox(children=(Label(value='Simonyi Emő'), HTML(value='Simonyi Emő<font color=green>^.</font>'), Label(value='…"
      ]
     },
     "metadata": {},
     "output_type": "display_data"
    },
    {
     "data": {
      "application/vnd.jupyter.widget-view+json": {
       "model_id": "9e4941eb54be40a5ad85585a8b093891",
       "version_major": 2,
       "version_minor": 0
      },
      "text/plain": [
       "HBox(children=(Label(value='Random! csoport'), HTML(value='Random<font color=red>^!</font> csoport'), Label(va…"
      ]
     },
     "metadata": {},
     "output_type": "display_data"
    },
    {
     "data": {
      "application/vnd.jupyter.widget-view+json": {
       "model_id": "d57bb1e61cd24d1aab4bd120802c9559",
       "version_major": 2,
       "version_minor": 0
      },
      "text/plain": [
       "HBox(children=(Label(value='Erőss István'), HTML(value='Erő<font color=red>^s</font>s István'), Label(value='9…"
      ]
     },
     "metadata": {},
     "output_type": "display_data"
    },
    {
     "data": {
      "application/vnd.jupyter.widget-view+json": {
       "model_id": "e9bcafb896f844b3827e8e2f73ef0f0c",
       "version_major": 2,
       "version_minor": 0
      },
      "text/plain": [
       "HBox(children=(Label(value='Pap Emese Dorottya'), HTML(value='Pap Emese Dorot<font color=red>^t</font>ya'), La…"
      ]
     },
     "metadata": {},
     "output_type": "display_data"
    },
    {
     "data": {
      "application/vnd.jupyter.widget-view+json": {
       "model_id": "1b5577aa2c7149e9b121fb505799e6aa",
       "version_major": 2,
       "version_minor": 0
      },
      "text/plain": [
       "HBox(children=(Label(value='Tillmann J. A.'), HTML(value='Tillman<font color=red>^n</font> J. A.'), Label(valu…"
      ]
     },
     "metadata": {},
     "output_type": "display_data"
    },
    {
     "data": {
      "application/vnd.jupyter.widget-view+json": {
       "model_id": "fc48e7ec6134402394aa04f6b03bde23",
       "version_major": 2,
       "version_minor": 0
      },
      "text/plain": [
       "HBox(children=(Label(value='Tillmann J. A.'), HTML(value='Ti<font color=red>^l</font>lmann J. A.'), Label(valu…"
      ]
     },
     "metadata": {},
     "output_type": "display_data"
    },
    {
     "data": {
      "application/vnd.jupyter.widget-view+json": {
       "model_id": "259231c7414446248e3a04c105ac8d1a",
       "version_major": 2,
       "version_minor": 0
      },
      "text/plain": [
       "HBox(children=(Label(value='Tillmann J. A.'), HTML(value='Tillmann J.<font color=red>^ </font>A.'), Label(valu…"
      ]
     },
     "metadata": {},
     "output_type": "display_data"
    },
    {
     "data": {
      "application/vnd.jupyter.widget-view+json": {
       "model_id": "5b420f03e46547459b82f9474ed3e1b6",
       "version_major": 2,
       "version_minor": 0
      },
      "text/plain": [
       "HBox(children=(Label(value='Csernus Tibor'), HTML(value='Csernus<font color=green>^s</font> Tibor'), Label(val…"
      ]
     },
     "metadata": {},
     "output_type": "display_data"
    },
    {
     "data": {
      "application/vnd.jupyter.widget-view+json": {
       "model_id": "0b49cc7feaf84454825e7753225d5dae",
       "version_major": 2,
       "version_minor": 0
      },
      "text/plain": [
       "HBox(children=(Label(value='Kelemen Marcel'), HTML(value='Kelemen Marcel<font color=green>^l</font>'), Label(v…"
      ]
     },
     "metadata": {},
     "output_type": "display_data"
    },
    {
     "data": {
      "application/vnd.jupyter.widget-view+json": {
       "model_id": "61e79b6ee3c04375ae44eec6633352e3",
       "version_major": 2,
       "version_minor": 0
      },
      "text/plain": [
       "HBox(children=(Label(value='Kerstin Franke-Gneuss'), HTML(value='Kerstin Franke-Gneuss<font color=green>^s</fo…"
      ]
     },
     "metadata": {},
     "output_type": "display_data"
    },
    {
     "data": {
      "application/vnd.jupyter.widget-view+json": {
       "model_id": "f551603c366b47b2ba89bf89b45dce51",
       "version_major": 2,
       "version_minor": 0
      },
      "text/plain": [
       "HBox(children=(Label(value='Erdős Zsófi'), HTML(value='Erdős Zsófi<font color=green>^a</font>'), Label(value='…"
      ]
     },
     "metadata": {},
     "output_type": "display_data"
    },
    {
     "data": {
      "application/vnd.jupyter.widget-view+json": {
       "model_id": "684d164b57f84604b38b1c67acda41f8",
       "version_major": 2,
       "version_minor": 0
      },
      "text/plain": [
       "HBox(children=(Label(value='Tomas Piars'), HTML(value='Tomas<font color=green>^z</font> Piars'), Label(value='…"
      ]
     },
     "metadata": {},
     "output_type": "display_data"
    },
    {
     "data": {
      "application/vnd.jupyter.widget-view+json": {
       "model_id": "693bcdee1fb44f2abfba38b1d058af23",
       "version_major": 2,
       "version_minor": 0
      },
      "text/plain": [
       "HBox(children=(Label(value='Tomas Piars'), HTML(value='Tomas<font color=green>^z</font> Piars'), Label(value='…"
      ]
     },
     "metadata": {},
     "output_type": "display_data"
    },
    {
     "data": {
      "application/vnd.jupyter.widget-view+json": {
       "model_id": "59c5520c87a64c8f934cfe05d5d43e5a",
       "version_major": 2,
       "version_minor": 0
      },
      "text/plain": [
       "HBox(children=(Label(value='Dr. Dobrik István'), HTML(value='Dr.<font color=red>^ </font>Dobrik István'), Labe…"
      ]
     },
     "metadata": {},
     "output_type": "display_data"
    },
    {
     "data": {
      "application/vnd.jupyter.widget-view+json": {
       "model_id": "ba00122d51834b27b4d88dfcf02c89f9",
       "version_major": 2,
       "version_minor": 0
      },
      "text/plain": [
       "HBox(children=(Label(value='Vitaly Pushnitsky'), HTML(value='Vitaly Pushnit<font color=red>^s</font>ky'), Labe…"
      ]
     },
     "metadata": {},
     "output_type": "display_data"
    },
    {
     "data": {
      "application/vnd.jupyter.widget-view+json": {
       "model_id": "30f0fedeabd94ed5b7b139e63b43c655",
       "version_major": 2,
       "version_minor": 0
      },
      "text/plain": [
       "HBox(children=(Label(value='Lukács Andrea'), HTML(value='Lukács<font color=green>^i</font> Andrea'), Label(val…"
      ]
     },
     "metadata": {},
     "output_type": "display_data"
    },
    {
     "data": {
      "application/vnd.jupyter.widget-view+json": {
       "model_id": "56d19ebc5a3a49dba5fadde94145826b",
       "version_major": 2,
       "version_minor": 0
      },
      "text/plain": [
       "HBox(children=(Label(value='Ungváry Krisztián'), HTML(value='Ungváry Krisztián<font color=green>^ </font>'), L…"
      ]
     },
     "metadata": {},
     "output_type": "display_data"
    },
    {
     "data": {
      "application/vnd.jupyter.widget-view+json": {
       "model_id": "683288a14f234bc4a2e3df16bd7545ae",
       "version_major": 2,
       "version_minor": 0
      },
      "text/plain": [
       "HBox(children=(Label(value='Müllner Péter'), HTML(value='Müll<font color=red>^n</font>er Péter'), Label(value=…"
      ]
     },
     "metadata": {},
     "output_type": "display_data"
    },
    {
     "data": {
      "application/vnd.jupyter.widget-view+json": {
       "model_id": "ee14bd37590c44958e7d9f88abee0680",
       "version_major": 2,
       "version_minor": 0
      },
      "text/plain": [
       "HBox(children=(Label(value='Bernáthy Sándor'), HTML(value='Bernáth<font color=green>^/</font>y Sándor'), Label…"
      ]
     },
     "metadata": {},
     "output_type": "display_data"
    },
    {
     "data": {
      "application/vnd.jupyter.widget-view+json": {
       "model_id": "8f835a13b7644302a6917d5edcc0471f",
       "version_major": 2,
       "version_minor": 0
      },
      "text/plain": [
       "HBox(children=(Label(value='Kőnig Frigyes'), HTML(value='Kőnig F<font color=red>^r</font>igyes'), Label(value=…"
      ]
     },
     "metadata": {},
     "output_type": "display_data"
    },
    {
     "data": {
      "application/vnd.jupyter.widget-view+json": {
       "model_id": "f201efe3d31c467d88efa2422256bf6c",
       "version_major": 2,
       "version_minor": 0
      },
      "text/plain": [
       "HBox(children=(Label(value='Horváth Zsófia'), HTML(value='Horváth Zsófi<font color=red>^a</font>'), Label(valu…"
      ]
     },
     "metadata": {},
     "output_type": "display_data"
    },
    {
     "data": {
      "application/vnd.jupyter.widget-view+json": {
       "model_id": "8e20025abedc47b284a6b537550b916c",
       "version_major": 2,
       "version_minor": 0
      },
      "text/plain": [
       "HBox(children=(Label(value='Ungváry Krisztián'), HTML(value='Ungváry Krisztián<font color=green>^ </font>'), L…"
      ]
     },
     "metadata": {},
     "output_type": "display_data"
    },
    {
     "data": {
      "application/vnd.jupyter.widget-view+json": {
       "model_id": "229eae92e54e46d49d31f714df16f5f3",
       "version_major": 2,
       "version_minor": 0
      },
      "text/plain": [
       "HBox(children=(Label(value='Hecher / Keim / Koronczi'), HTML(value='Hecher / Keim<font color=red>^ </font>/ Ko…"
      ]
     },
     "metadata": {},
     "output_type": "display_data"
    },
    {
     "data": {
      "application/vnd.jupyter.widget-view+json": {
       "model_id": "a9db8103a2cc4fa2a9bad9852617aac1",
       "version_major": 2,
       "version_minor": 0
      },
      "text/plain": [
       "HBox(children=(Label(value='Kornis Mihály'), HTML(value='Korni<font color=green>^s</font>s Mihály'), Label(val…"
      ]
     },
     "metadata": {},
     "output_type": "display_data"
    },
    {
     "data": {
      "application/vnd.jupyter.widget-view+json": {
       "model_id": "a0985b53b5fb4e6fb2e353349f8def9e",
       "version_major": 2,
       "version_minor": 0
      },
      "text/plain": [
       "HBox(children=(Label(value='Szász György'), HTML(value='<font color=red>^S</font>zász György'), Label(value='9…"
      ]
     },
     "metadata": {},
     "output_type": "display_data"
    },
    {
     "data": {
      "application/vnd.jupyter.widget-view+json": {
       "model_id": "f9091f97d7334ce0ad3766f85d65752d",
       "version_major": 2,
       "version_minor": 0
      },
      "text/plain": [
       "HBox(children=(Label(value='Szegedy-Maszák Zsuzsanna'), HTML(value='Szegedy-Masz<font color=blue>^a</font>k Zs…"
      ]
     },
     "metadata": {},
     "output_type": "display_data"
    },
    {
     "data": {
      "application/vnd.jupyter.widget-view+json": {
       "model_id": "133c681be33643ddbc88d641d8353196",
       "version_major": 2,
       "version_minor": 0
      },
      "text/plain": [
       "HBox(children=(Label(value='Koszta József'), HTML(value='Koszt<font color=red>^a</font> József'), Label(value=…"
      ]
     },
     "metadata": {},
     "output_type": "display_data"
    },
    {
     "data": {
      "application/vnd.jupyter.widget-view+json": {
       "model_id": "018f2267ed3946c8adb4d5af9da6b530",
       "version_major": 2,
       "version_minor": 0
      },
      "text/plain": [
       "HBox(children=(Label(value='Molnári Mariann'), HTML(value='Molnár<font color=red>^i</font> Mariann'), Label(va…"
      ]
     },
     "metadata": {},
     "output_type": "display_data"
    },
    {
     "data": {
      "application/vnd.jupyter.widget-view+json": {
       "model_id": "585661c458f44b188006886d0c542917",
       "version_major": 2,
       "version_minor": 0
      },
      "text/plain": [
       "HBox(children=(Label(value='Delaine Le Bas'), HTML(value='Delaine Le<font color=red>^ </font>Bas'), Label(valu…"
      ]
     },
     "metadata": {},
     "output_type": "display_data"
    },
    {
     "data": {
      "application/vnd.jupyter.widget-view+json": {
       "model_id": "3633a7d091e543998a5b2cee7e244461",
       "version_major": 2,
       "version_minor": 0
      },
      "text/plain": [
       "HBox(children=(Label(value='Dr. Baán László'), HTML(value='Dr.<font color=red>^ </font>Baán László'), Label(va…"
      ]
     },
     "metadata": {},
     "output_type": "display_data"
    },
    {
     "data": {
      "application/vnd.jupyter.widget-view+json": {
       "model_id": "9f9c315deac74c22bfc83caf495bac57",
       "version_major": 2,
       "version_minor": 0
      },
      "text/plain": [
       "HBox(children=(Label(value='Mata Attila'), HTML(value='Ma<font color=green>^t</font>ta Attila'), Label(value='…"
      ]
     },
     "metadata": {},
     "output_type": "display_data"
    },
    {
     "data": {
      "application/vnd.jupyter.widget-view+json": {
       "model_id": "e236511cfbb3493085a69b10834e5dc3",
       "version_major": 2,
       "version_minor": 0
      },
      "text/plain": [
       "HBox(children=(Label(value='Kőnig Frigyes'), HTML(value='Kőnig F<font color=red>^r</font>igyes'), Label(value=…"
      ]
     },
     "metadata": {},
     "output_type": "display_data"
    },
    {
     "data": {
      "application/vnd.jupyter.widget-view+json": {
       "model_id": "95d30f7b42bf413fbbe71fb5d1acfa7c",
       "version_major": 2,
       "version_minor": 0
      },
      "text/plain": [
       "HBox(children=(Label(value='Vollmuth Krisztián'), HTML(value='Vo<font color=red>^l</font>lmuth Krisztián'), La…"
      ]
     },
     "metadata": {},
     "output_type": "display_data"
    },
    {
     "data": {
      "application/vnd.jupyter.widget-view+json": {
       "model_id": "d9abc00b0e124eaabf50d8159624fc9c",
       "version_major": 2,
       "version_minor": 0
      },
      "text/plain": [
       "HBox(children=(Label(value='Vollmuth Krisztián'), HTML(value='Vollmut<font color=red>^h</font> Krisztián'), La…"
      ]
     },
     "metadata": {},
     "output_type": "display_data"
    },
    {
     "data": {
      "application/vnd.jupyter.widget-view+json": {
       "model_id": "31f8baad0b5e4d428f47b84f36c27b83",
       "version_major": 2,
       "version_minor": 0
      },
      "text/plain": [
       "HBox(children=(Label(value='Hajdu István'), HTML(value='Hajdu István<font color=green>^:</font>'), Label(value…"
      ]
     },
     "metadata": {},
     "output_type": "display_data"
    },
    {
     "data": {
      "application/vnd.jupyter.widget-view+json": {
       "model_id": "fa4a645eb00d4a999842b7baf40cdc91",
       "version_major": 2,
       "version_minor": 0
      },
      "text/plain": [
       "HBox(children=(Label(value='Hollós István'), HTML(value='Holló<font color=red>^s</font> István'), Label(value=…"
      ]
     },
     "metadata": {},
     "output_type": "display_data"
    },
    {
     "data": {
      "application/vnd.jupyter.widget-view+json": {
       "model_id": "132f7cc5b6464daea078b55e240fcbf0",
       "version_major": 2,
       "version_minor": 0
      },
      "text/plain": [
       "HBox(children=(Label(value='Hollós István'), HTML(value='Holló<font color=red>^s</font> István'), Label(value=…"
      ]
     },
     "metadata": {},
     "output_type": "display_data"
    },
    {
     "data": {
      "application/vnd.jupyter.widget-view+json": {
       "model_id": "da73a8d670da4040983f71fde8ea7a0a",
       "version_major": 2,
       "version_minor": 0
      },
      "text/plain": [
       "HBox(children=(Label(value='Magyar Képzőművészeti Egyetem'), HTML(value='<font color=green>^(</font>Magyar Kép…"
      ]
     },
     "metadata": {},
     "output_type": "display_data"
    },
    {
     "data": {
      "application/vnd.jupyter.widget-view+json": {
       "model_id": "33b281960d314e8fa68c5b05ba108bd9",
       "version_major": 2,
       "version_minor": 0
      },
      "text/plain": [
       "HBox(children=(Label(value='Helmut Kandl'), HTML(value='Helmut<font color=green>^h</font> Kandl'), Label(value…"
      ]
     },
     "metadata": {},
     "output_type": "display_data"
    },
    {
     "data": {
      "application/vnd.jupyter.widget-view+json": {
       "model_id": "f3ef3d4d3988425c8ab8333bd36d7fbe",
       "version_major": 2,
       "version_minor": 0
      },
      "text/plain": [
       "HBox(children=(Label(value='Készman József'), HTML(value='Készman József<font color=green>^ </font>'), Label(v…"
      ]
     },
     "metadata": {},
     "output_type": "display_data"
    },
    {
     "data": {
      "application/vnd.jupyter.widget-view+json": {
       "model_id": "223e9238685d4489ab97d5455cb29f13",
       "version_major": 2,
       "version_minor": 0
      },
      "text/plain": [
       "HBox(children=(Label(value='Bereczky Loránd'), HTML(value='Bereczky Loránd<font color=green>^-</font>'), Label…"
      ]
     },
     "metadata": {},
     "output_type": "display_data"
    },
    {
     "data": {
      "application/vnd.jupyter.widget-view+json": {
       "model_id": "bf4fede8ce704ec9aa7a6289ef7bffc0",
       "version_major": 2,
       "version_minor": 0
      },
      "text/plain": [
       "HBox(children=(Label(value='Bodó N Sándor'), HTML(value='Bodó N<font color=green>^.</font> Sándor'), Label(val…"
      ]
     },
     "metadata": {},
     "output_type": "display_data"
    },
    {
     "data": {
      "application/vnd.jupyter.widget-view+json": {
       "model_id": "2cfcd4f9a5bf4042940e08cc04e44a79",
       "version_major": 2,
       "version_minor": 0
      },
      "text/plain": [
       "HBox(children=(Label(value='Csordás Gábor'), HTML(value='Csordás Gábor<font color=green>^-</font>'), Label(val…"
      ]
     },
     "metadata": {},
     "output_type": "display_data"
    },
    {
     "data": {
      "application/vnd.jupyter.widget-view+json": {
       "model_id": "36137dadc5a54c298c5dc80c5c586ae7",
       "version_major": 2,
       "version_minor": 0
      },
      "text/plain": [
       "HBox(children=(Label(value='Vlad Morariu'), HTML(value='Vlad Morariu<font color=green>^m</font>'), Label(value…"
      ]
     },
     "metadata": {},
     "output_type": "display_data"
    },
    {
     "data": {
      "application/vnd.jupyter.widget-view+json": {
       "model_id": "4dc59b6669c34bc2a11927c0ef2e64bf",
       "version_major": 2,
       "version_minor": 0
      },
      "text/plain": [
       "HBox(children=(Label(value='Mata Attila'), HTML(value='Ma<font color=green>^t</font>ta Attila'), Label(value='…"
      ]
     },
     "metadata": {},
     "output_type": "display_data"
    },
    {
     "data": {
      "application/vnd.jupyter.widget-view+json": {
       "model_id": "4ad30ff7a779426e8158b7d2b86ddcb9",
       "version_major": 2,
       "version_minor": 0
      },
      "text/plain": [
       "HBox(children=(Label(value='Mata Attila'), HTML(value='Ma<font color=green>^t</font>ta Attila'), Label(value='…"
      ]
     },
     "metadata": {},
     "output_type": "display_data"
    },
    {
     "data": {
      "application/vnd.jupyter.widget-view+json": {
       "model_id": "637d1b8bbe1748948e82e2349d46973e",
       "version_major": 2,
       "version_minor": 0
      },
      "text/plain": [
       "HBox(children=(Label(value='P. Szabó Ernő'), HTML(value='P<font color=red>^.</font> Szabó Ernő'), Label(value=…"
      ]
     },
     "metadata": {},
     "output_type": "display_data"
    },
    {
     "data": {
      "application/vnd.jupyter.widget-view+json": {
       "model_id": "65abfeb9d56943f1ab9e2a67a7076cb9",
       "version_major": 2,
       "version_minor": 0
      },
      "text/plain": [
       "HBox(children=(Label(value='Szili Katalin'), HTML(value='Szil<font color=red>^i</font> Katalin'), Label(value=…"
      ]
     },
     "metadata": {},
     "output_type": "display_data"
    },
    {
     "data": {
      "application/vnd.jupyter.widget-view+json": {
       "model_id": "f2b57ae37eae48b0b028755cd9dfdf7d",
       "version_major": 2,
       "version_minor": 0
      },
      "text/plain": [
       "HBox(children=(Label(value='Katkó Tamás'), HTML(value='<font color=green>^-</font>Katkó Tamás'), Label(value='…"
      ]
     },
     "metadata": {},
     "output_type": "display_data"
    },
    {
     "data": {
      "application/vnd.jupyter.widget-view+json": {
       "model_id": "e76cdf2d25da47478b45923cf1ede864",
       "version_major": 2,
       "version_minor": 0
      },
      "text/plain": [
       "HBox(children=(Label(value='Kísérleti Pop-Performance Csoport'), HTML(value='K<font color=blue>^i</font>sérlet…"
      ]
     },
     "metadata": {},
     "output_type": "display_data"
    },
    {
     "data": {
      "application/vnd.jupyter.widget-view+json": {
       "model_id": "9ed4906134e64493b0ff809a7b703e85",
       "version_major": 2,
       "version_minor": 0
      },
      "text/plain": [
       "HBox(children=(Label(value='Keserue Zsolt'), HTML(value='Ke<font color=green>^r</font>serue Zsolt'), Label(val…"
      ]
     },
     "metadata": {},
     "output_type": "display_data"
    },
    {
     "data": {
      "application/vnd.jupyter.widget-view+json": {
       "model_id": "2630ad589278414a9278112b091f7cee",
       "version_major": 2,
       "version_minor": 0
      },
      "text/plain": [
       "HBox(children=(Label(value='Michal Kolecek'), HTML(value='Micha<font color=green>^i</font>l Kolecek'), Label(v…"
      ]
     },
     "metadata": {},
     "output_type": "display_data"
    },
    {
     "data": {
      "application/vnd.jupyter.widget-view+json": {
       "model_id": "96a3abda8d1f48ad93aa4aa18e00d060",
       "version_major": 2,
       "version_minor": 0
      },
      "text/plain": [
       "HBox(children=(Label(value='Vincze Angéla'), HTML(value='Vinc<font color=red>^z</font>e Angéla'), Label(value=…"
      ]
     },
     "metadata": {},
     "output_type": "display_data"
    },
    {
     "data": {
      "application/vnd.jupyter.widget-view+json": {
       "model_id": "39e16ac5602945d49ed38cb62ddc4d91",
       "version_major": 2,
       "version_minor": 0
      },
      "text/plain": [
       "HBox(children=(Label(value='Falvay Miklós.'), HTML(value='Falvay Miklós<font color=red>^.</font>'), Label(valu…"
      ]
     },
     "metadata": {},
     "output_type": "display_data"
    },
    {
     "data": {
      "application/vnd.jupyter.widget-view+json": {
       "model_id": "788427be67da40058cfe358414d812c2",
       "version_major": 2,
       "version_minor": 0
      },
      "text/plain": [
       "HBox(children=(Label(value='Kispál Szabolcs'), HTML(value='Ki<font color=green>^s</font>spál Szabolcs'), Label…"
      ]
     },
     "metadata": {},
     "output_type": "display_data"
    },
    {
     "data": {
      "application/vnd.jupyter.widget-view+json": {
       "model_id": "0cee5c6e81264e85958ae1fb8f8d7ca3",
       "version_major": 2,
       "version_minor": 0
      },
      "text/plain": [
       "HBox(children=(Label(value='Kispál Szabolcs'), HTML(value='Ki<font color=green>^s</font>spál Szabolcs'), Label…"
      ]
     },
     "metadata": {},
     "output_type": "display_data"
    },
    {
     "data": {
      "application/vnd.jupyter.widget-view+json": {
       "model_id": "2456f89067984d96a7f0db238f9a11bd",
       "version_major": 2,
       "version_minor": 0
      },
      "text/plain": [
       "HBox(children=(Label(value='Kispál Szabolcs'), HTML(value='Ki<font color=green>^s</font>spál Szabolcs'), Label…"
      ]
     },
     "metadata": {},
     "output_type": "display_data"
    },
    {
     "data": {
      "application/vnd.jupyter.widget-view+json": {
       "model_id": "b82c59356efb492582f5bc18b25de9c5",
       "version_major": 2,
       "version_minor": 0
      },
      "text/plain": [
       "HBox(children=(Label(value='Kispál Szabolcs'), HTML(value='Ki<font color=green>^s</font>spál Szabolcs'), Label…"
      ]
     },
     "metadata": {},
     "output_type": "display_data"
    },
    {
     "data": {
      "application/vnd.jupyter.widget-view+json": {
       "model_id": "8e68884f5e024027a278025672fd202f",
       "version_major": 2,
       "version_minor": 0
      },
      "text/plain": [
       "HBox(children=(Label(value='Kispál Szabolcs'), HTML(value='Ki<font color=green>^s</font>spál Szabolcs'), Label…"
      ]
     },
     "metadata": {},
     "output_type": "display_data"
    },
    {
     "data": {
      "application/vnd.jupyter.widget-view+json": {
       "model_id": "bb90dde0222b4ca9a8c30f029d8b9d32",
       "version_major": 2,
       "version_minor": 0
      },
      "text/plain": [
       "HBox(children=(Label(value='Dr. Gálig Zoltán'), HTML(value='Dr.<font color=red>^ </font>Gálig Zoltán'), Label(…"
      ]
     },
     "metadata": {},
     "output_type": "display_data"
    },
    {
     "data": {
      "application/vnd.jupyter.widget-view+json": {
       "model_id": "df8d1185aea2428ca601c878bc272a22",
       "version_major": 2,
       "version_minor": 0
      },
      "text/plain": [
       "HBox(children=(Label(value='Bodoni D. Zsolt'), HTML(value='Bodoni D.<font color=red>^ </font>Zsolt'), Label(va…"
      ]
     },
     "metadata": {},
     "output_type": "display_data"
    },
    {
     "data": {
      "application/vnd.jupyter.widget-view+json": {
       "model_id": "2775901e230547819e4d307383a74faf",
       "version_major": 2,
       "version_minor": 0
      },
      "text/plain": [
       "HBox(children=(Label(value='Hajdu István'), HTML(value='Hajdu István<font color=green>^:</font>'), Label(value…"
      ]
     },
     "metadata": {},
     "output_type": "display_data"
    },
    {
     "data": {
      "application/vnd.jupyter.widget-view+json": {
       "model_id": "5913b8c627554e42b0f775cb66400585",
       "version_major": 2,
       "version_minor": 0
      },
      "text/plain": [
       "HBox(children=(Label(value='Tillman J. A.'), HTML(value='Tillman<font color=green>^n</font> J. A.'), Label(val…"
      ]
     },
     "metadata": {},
     "output_type": "display_data"
    },
    {
     "data": {
      "application/vnd.jupyter.widget-view+json": {
       "model_id": "957b01c0a091454d83b0bb07a4925e94",
       "version_major": 2,
       "version_minor": 0
      },
      "text/plain": [
       "HBox(children=(Label(value='Tillman J. A.'), HTML(value='Tillman J.<font color=red>^ </font>A.'), Label(value=…"
      ]
     },
     "metadata": {},
     "output_type": "display_data"
    },
    {
     "data": {
      "application/vnd.jupyter.widget-view+json": {
       "model_id": "518ac65618194b17a68b17d7674b25bf",
       "version_major": 2,
       "version_minor": 0
      },
      "text/plain": [
       "HBox(children=(Label(value='Tillman J. A.'), HTML(value='Tillman<font color=green>^n</font> J. A.'), Label(val…"
      ]
     },
     "metadata": {},
     "output_type": "display_data"
    },
    {
     "data": {
      "application/vnd.jupyter.widget-view+json": {
       "model_id": "1f3d9d87ad2c41f8981d667227053ab0",
       "version_major": 2,
       "version_minor": 0
      },
      "text/plain": [
       "HBox(children=(Label(value='Mohácsi András'), HTML(value='Mohács<font color=red>^i</font> András'), Label(valu…"
      ]
     },
     "metadata": {},
     "output_type": "display_data"
    },
    {
     "data": {
      "application/vnd.jupyter.widget-view+json": {
       "model_id": "d34aafa7ad5945b18a2488795315b04f",
       "version_major": 2,
       "version_minor": 0
      },
      "text/plain": [
       "HBox(children=(Label(value='Kerekes Gábor'), HTML(value='Kerekes Gábor<font color=green>^)</font>'), Label(val…"
      ]
     },
     "metadata": {},
     "output_type": "display_data"
    },
    {
     "data": {
      "application/vnd.jupyter.widget-view+json": {
       "model_id": "7f9248e91daa4983b0392f7effc14eda",
       "version_major": 2,
       "version_minor": 0
      },
      "text/plain": [
       "HBox(children=(Label(value='Kerekes Gábor'), HTML(value='Kerekes Gábor<font color=green>^.</font>'), Label(val…"
      ]
     },
     "metadata": {},
     "output_type": "display_data"
    },
    {
     "data": {
      "application/vnd.jupyter.widget-view+json": {
       "model_id": "830165b2b8fc4379ac90d063da3aa85e",
       "version_major": 2,
       "version_minor": 0
      },
      "text/plain": [
       "HBox(children=(Label(value='Csordás Gábor'), HTML(value='Csordás Gábor<font color=green>^-</font>'), Label(val…"
      ]
     },
     "metadata": {},
     "output_type": "display_data"
    },
    {
     "data": {
      "application/vnd.jupyter.widget-view+json": {
       "model_id": "11bdd5e2428f42c3b8653099a336b712",
       "version_major": 2,
       "version_minor": 0
      },
      "text/plain": [
       "HBox(children=(Label(value='Váradi Zsófi'), HTML(value='Váradi Zsófi<font color=green>^a</font>'), Label(value…"
      ]
     },
     "metadata": {},
     "output_type": "display_data"
    },
    {
     "data": {
      "application/vnd.jupyter.widget-view+json": {
       "model_id": "4faa3426cfad42fd971d92203c2b60b7",
       "version_major": 2,
       "version_minor": 0
      },
      "text/plain": [
       "HBox(children=(Label(value='Tenke István'), HTML(value='Tenk<font color=red>^e</font> István'), Label(value='9…"
      ]
     },
     "metadata": {},
     "output_type": "display_data"
    },
    {
     "data": {
      "application/vnd.jupyter.widget-view+json": {
       "model_id": "4d615a4ed432409b804bd98a4b70862c",
       "version_major": 2,
       "version_minor": 0
      },
      "text/plain": [
       "HBox(children=(Label(value='Janáky István'), HTML(value='<font color=green>^+</font>Janáky István'), Label(val…"
      ]
     },
     "metadata": {},
     "output_type": "display_data"
    },
    {
     "data": {
      "application/vnd.jupyter.widget-view+json": {
       "model_id": "35289eaf95234d6b8165a7a40e4fc203",
       "version_major": 2,
       "version_minor": 0
      },
      "text/plain": [
       "HBox(children=(Label(value='Ef Zámbó István'), HTML(value='Ef<font color=green>^.</font> Zámbó István'), Label…"
      ]
     },
     "metadata": {},
     "output_type": "display_data"
    },
    {
     "data": {
      "application/vnd.jupyter.widget-view+json": {
       "model_id": "4baded2d9e7b4c36a85da9ae25f8042f",
       "version_major": 2,
       "version_minor": 0
      },
      "text/plain": [
       "HBox(children=(Label(value='Kiss-Kuntler Árpád'), HTML(value='Kiss-Kunt<font color=red>^l</font>er Árpád'), La…"
      ]
     },
     "metadata": {},
     "output_type": "display_data"
    },
    {
     "data": {
      "application/vnd.jupyter.widget-view+json": {
       "model_id": "f7733cb31b0345cf86e8bd6f03e31d6e",
       "version_major": 2,
       "version_minor": 0
      },
      "text/plain": [
       "HBox(children=(Label(value='Kiss-Kuntler Árpád'), HTML(value='Ki<font color=red>^s</font>s-Kuntler Árpád'), La…"
      ]
     },
     "metadata": {},
     "output_type": "display_data"
    },
    {
     "data": {
      "application/vnd.jupyter.widget-view+json": {
       "model_id": "ebfdd6e86a11498ba4e2ab3f63442882",
       "version_major": 2,
       "version_minor": 0
      },
      "text/plain": [
       "HBox(children=(Label(value='Krizbai Sándor'), HTML(value='Krizbai <font color=green>^ </font>Sándor'), Label(v…"
      ]
     },
     "metadata": {},
     "output_type": "display_data"
    },
    {
     "data": {
      "application/vnd.jupyter.widget-view+json": {
       "model_id": "68626d8ea243412fbd539c09abf5279d",
       "version_major": 2,
       "version_minor": 0
      },
      "text/plain": [
       "HBox(children=(Label(value='Dr. Udvardy Ildikó'), HTML(value='Dr. Udvar<font color=red>^d</font>y Ildikó'), La…"
      ]
     },
     "metadata": {},
     "output_type": "display_data"
    },
    {
     "data": {
      "application/vnd.jupyter.widget-view+json": {
       "model_id": "c5ab8b756d5844e1bc5a3c5ad7765d56",
       "version_major": 2,
       "version_minor": 0
      },
      "text/plain": [
       "HBox(children=(Label(value='Szotyory László '), HTML(value='Szotyory László<font color=red>^ </font>'), Label(…"
      ]
     },
     "metadata": {},
     "output_type": "display_data"
    },
    {
     "data": {
      "application/vnd.jupyter.widget-view+json": {
       "model_id": "ae46142ca3fd4bafa78ed17563050f86",
       "version_major": 2,
       "version_minor": 0
      },
      "text/plain": [
       "HBox(children=(Label(value='Bereznay Péter'), HTML(value='Ber<font color=red>^e</font>znay Péter'), Label(valu…"
      ]
     },
     "metadata": {},
     "output_type": "display_data"
    },
    {
     "data": {
      "application/vnd.jupyter.widget-view+json": {
       "model_id": "93f2bf6c92fc44d28d24b5a94c724206",
       "version_major": 2,
       "version_minor": 0
      },
      "text/plain": [
       "HBox(children=(Label(value='Dr. György Péter'), HTML(value='Dr<font color=red>^.</font> György Péter'), Label(…"
      ]
     },
     "metadata": {},
     "output_type": "display_data"
    },
    {
     "data": {
      "application/vnd.jupyter.widget-view+json": {
       "model_id": "bc64104f5f334076bc97c978c0dc0bd2",
       "version_major": 2,
       "version_minor": 0
      },
      "text/plain": [
       "HBox(children=(Label(value='Tenke István'), HTML(value='Tenk<font color=red>^e</font> István'), Label(value='9…"
      ]
     },
     "metadata": {},
     "output_type": "display_data"
    },
    {
     "data": {
      "application/vnd.jupyter.widget-view+json": {
       "model_id": "44895fa5e3654d15a24e986fa93ef40c",
       "version_major": 2,
       "version_minor": 0
      },
      "text/plain": [
       "HBox(children=(Label(value='Szirányi István'), HTML(value='Szirányi Istvá<font color=red>^n</font>'), Label(va…"
      ]
     },
     "metadata": {},
     "output_type": "display_data"
    },
    {
     "data": {
      "application/vnd.jupyter.widget-view+json": {
       "model_id": "8493c7a1841c4ba384a61997ee8fe0cc",
       "version_major": 2,
       "version_minor": 0
      },
      "text/plain": [
       "HBox(children=(Label(value='Roy Liechtenstein'), HTML(value='Roy Li<font color=red>^e</font>chtenstein'), Labe…"
      ]
     },
     "metadata": {},
     "output_type": "display_data"
    },
    {
     "data": {
      "application/vnd.jupyter.widget-view+json": {
       "model_id": "139c51b471b645e389d8d3e149293544",
       "version_major": 2,
       "version_minor": 0
      },
      "text/plain": [
       "HBox(children=(Label(value='Ladjánszki Márta'), HTML(value='Ladjánszki <font color=green>^ </font>Márta'), Lab…"
      ]
     },
     "metadata": {},
     "output_type": "display_data"
    },
    {
     "data": {
      "application/vnd.jupyter.widget-view+json": {
       "model_id": "e1fd214561914fdbb85fd903b4afc91a",
       "version_major": 2,
       "version_minor": 0
      },
      "text/plain": [
       "HBox(children=(Label(value='Koroknai Zsolt'), HTML(value='Koroknai <font color=green>^ </font>Zsolt'), Label(v…"
      ]
     },
     "metadata": {},
     "output_type": "display_data"
    },
    {
     "data": {
      "application/vnd.jupyter.widget-view+json": {
       "model_id": "c55631082f654ff49a846eb25d43a965",
       "version_major": 2,
       "version_minor": 0
      },
      "text/plain": [
       "HBox(children=(Label(value='Lantos Csenge'), HTML(value='Lantos Cs<font color=red>^e</font>nge'), Label(value=…"
      ]
     },
     "metadata": {},
     "output_type": "display_data"
    },
    {
     "data": {
      "application/vnd.jupyter.widget-view+json": {
       "model_id": "edd3a03ab86f48abba08a573695ab670",
       "version_major": 2,
       "version_minor": 0
      },
      "text/plain": [
       "HBox(children=(Label(value='Szilágyi Zsófia Júia'), HTML(value='Szilágyi Zsófia Jú<font color=green>^l</font>i…"
      ]
     },
     "metadata": {},
     "output_type": "display_data"
    },
    {
     "data": {
      "application/vnd.jupyter.widget-view+json": {
       "model_id": "c08f682b9e2e4c5cb90d2b8d3baa9764",
       "version_major": 2,
       "version_minor": 0
      },
      "text/plain": [
       "HBox(children=(Label(value='Zirczi Judit'), HTML(value='Zirc<font color=red>^z</font>i Judit'), Label(value='9…"
      ]
     },
     "metadata": {},
     "output_type": "display_data"
    },
    {
     "data": {
      "application/vnd.jupyter.widget-view+json": {
       "model_id": "327f8051b4b744e292807ee4ee1a5f60",
       "version_major": 2,
       "version_minor": 0
      },
      "text/plain": [
       "HBox(children=(Label(value='Hubert Sielecki'), HTML(value='Huber<font color=red>^t</font> Sielecki'), Label(va…"
      ]
     },
     "metadata": {},
     "output_type": "display_data"
    },
    {
     "data": {
      "application/vnd.jupyter.widget-view+json": {
       "model_id": "f6fc587e6bbd41d7aa5376943562c2a1",
       "version_major": 2,
       "version_minor": 0
      },
      "text/plain": [
       "HBox(children=(Label(value='Orgoványi Gbor'), HTML(value='Orgoványi G<font color=green>^á</font>bor'), Label(v…"
      ]
     },
     "metadata": {},
     "output_type": "display_data"
    },
    {
     "data": {
      "application/vnd.jupyter.widget-view+json": {
       "model_id": "a48e3b35dc4546d6b65ea3adee61a220",
       "version_major": 2,
       "version_minor": 0
      },
      "text/plain": [
       "HBox(children=(Label(value='Faltisz Alexandra'), HTML(value='Faltis<font color=red>^z</font> Alexandra'), Labe…"
      ]
     },
     "metadata": {},
     "output_type": "display_data"
    },
    {
     "data": {
      "application/vnd.jupyter.widget-view+json": {
       "model_id": "8870608776694178969f5a2e206b1210",
       "version_major": 2,
       "version_minor": 0
      },
      "text/plain": [
       "HBox(children=(Label(value='Kőnig Frigyes'), HTML(value='Kőnig F<font color=red>^r</font>igyes'), Label(value=…"
      ]
     },
     "metadata": {},
     "output_type": "display_data"
    },
    {
     "data": {
      "application/vnd.jupyter.widget-view+json": {
       "model_id": "81d998a81b2449339ce0724c42d4f553",
       "version_major": 2,
       "version_minor": 0
      },
      "text/plain": [
       "HBox(children=(Label(value='PatakiGábor'), HTML(value='Pataki<font color=green>^ </font>Gábor'), Label(value='…"
      ]
     },
     "metadata": {},
     "output_type": "display_data"
    },
    {
     "data": {
      "application/vnd.jupyter.widget-view+json": {
       "model_id": "c416411b076240d4a682f7a22a2f29ab",
       "version_major": 2,
       "version_minor": 0
      },
      "text/plain": [
       "HBox(children=(Label(value='Varga Balázs'), HTML(value='Varg<font color=green>^h</font>a Balázs'), Label(value…"
      ]
     },
     "metadata": {},
     "output_type": "display_data"
    },
    {
     "data": {
      "application/vnd.jupyter.widget-view+json": {
       "model_id": "aa52b8d567eb4a1ab37187e1f410cd51",
       "version_major": 2,
       "version_minor": 0
      },
      "text/plain": [
       "HBox(children=(Label(value='Lieber Erzsébert'), HTML(value='Lieber Erzsébe<font color=red>^r</font>t'), Label(…"
      ]
     },
     "metadata": {},
     "output_type": "display_data"
    },
    {
     "data": {
      "application/vnd.jupyter.widget-view+json": {
       "model_id": "5619c73ed74a4d4496e37358445da705",
       "version_major": 2,
       "version_minor": 0
      },
      "text/plain": [
       "HBox(children=(Label(value='Soltész Melinda'), HTML(value='Soltész <font color=green>^ </font>Melinda'), Label…"
      ]
     },
     "metadata": {},
     "output_type": "display_data"
    },
    {
     "data": {
      "application/vnd.jupyter.widget-view+json": {
       "model_id": "dc4188fea0284508b75af065b99c7768",
       "version_major": 2,
       "version_minor": 0
      },
      "text/plain": [
       "HBox(children=(Label(value='Széchy Beáta'), HTML(value='Széchy Beáta<font color=green>^ </font>'), Label(value…"
      ]
     },
     "metadata": {},
     "output_type": "display_data"
    },
    {
     "data": {
      "application/vnd.jupyter.widget-view+json": {
       "model_id": "9209ce7277284fbe963d8fc0b2423a1c",
       "version_major": 2,
       "version_minor": 0
      },
      "text/plain": [
       "HBox(children=(Label(value='Koroknai Zsolt'), HTML(value='Koroknai <font color=green>^ </font>Zsolt'), Label(v…"
      ]
     },
     "metadata": {},
     "output_type": "display_data"
    },
    {
     "data": {
      "application/vnd.jupyter.widget-view+json": {
       "model_id": "2aa5321fec8543889f352663a0282207",
       "version_major": 2,
       "version_minor": 0
      },
      "text/plain": [
       "HBox(children=(Label(value='Ilés-Muszka Rudolf'), HTML(value='I<font color=green>^l</font>lés-Muszka Rudolf'),…"
      ]
     },
     "metadata": {},
     "output_type": "display_data"
    },
    {
     "data": {
      "application/vnd.jupyter.widget-view+json": {
       "model_id": "3fd872d0a3bb43ae8b019134da99f80d",
       "version_major": 2,
       "version_minor": 0
      },
      "text/plain": [
       "HBox(children=(Label(value='Széchy Beáta '), HTML(value='Széchy Beáta<font color=red>^ </font>'), Label(value=…"
      ]
     },
     "metadata": {},
     "output_type": "display_data"
    },
    {
     "data": {
      "application/vnd.jupyter.widget-view+json": {
       "model_id": "59bc8201a6e74e1a81314e37dfe7dbf2",
       "version_major": 2,
       "version_minor": 0
      },
      "text/plain": [
       "HBox(children=(Label(value='Széchy Beáta '), HTML(value='Széchy Beáta<font color=red>^ </font>'), Label(value=…"
      ]
     },
     "metadata": {},
     "output_type": "display_data"
    },
    {
     "data": {
      "application/vnd.jupyter.widget-view+json": {
       "model_id": "538f43f587464bff8ecd2bf96e389aa6",
       "version_major": 2,
       "version_minor": 0
      },
      "text/plain": [
       "HBox(children=(Label(value='Cakó Ferenc'), HTML(value='C<font color=green>^z</font>akó Ferenc'), Label(value='…"
      ]
     },
     "metadata": {},
     "output_type": "display_data"
    },
    {
     "data": {
      "application/vnd.jupyter.widget-view+json": {
       "model_id": "23f3b8469dca45c282a8b7ec7873f97d",
       "version_major": 2,
       "version_minor": 0
      },
      "text/plain": [
       "HBox(children=(Label(value='Kovács Tibor'), HTML(value='Kovács<font color=green>^y</font> Tibor'), Label(value…"
      ]
     },
     "metadata": {},
     "output_type": "display_data"
    },
    {
     "data": {
      "application/vnd.jupyter.widget-view+json": {
       "model_id": "108f70b47873404daf075905b4aad1b0",
       "version_major": 2,
       "version_minor": 0
      },
      "text/plain": [
       "HBox(children=(Label(value='Pézmann Andrea'), HTML(value='Pézma<font color=red>^n</font>n Andrea'), Label(valu…"
      ]
     },
     "metadata": {},
     "output_type": "display_data"
    },
    {
     "data": {
      "application/vnd.jupyter.widget-view+json": {
       "model_id": "eb4adc22464d45b0b7a6a50fa30f660d",
       "version_major": 2,
       "version_minor": 0
      },
      "text/plain": [
       "HBox(children=(Label(value='Hanna Schimek'), HTML(value='Hanna Schime<font color=green>^c</font>k'), Label(val…"
      ]
     },
     "metadata": {},
     "output_type": "display_data"
    },
    {
     "data": {
      "application/vnd.jupyter.widget-view+json": {
       "model_id": "270e99b682a94ecbbd3c6948c53cae65",
       "version_major": 2,
       "version_minor": 0
      },
      "text/plain": [
       "HBox(children=(Label(value='Hanna Schimek'), HTML(value='Hanna Schime<font color=green>^c</font>k'), Label(val…"
      ]
     },
     "metadata": {},
     "output_type": "display_data"
    },
    {
     "data": {
      "application/vnd.jupyter.widget-view+json": {
       "model_id": "b19f721997b644bd914690c81aa5932d",
       "version_major": 2,
       "version_minor": 0
      },
      "text/plain": [
       "HBox(children=(Label(value='Herman Zoltán'), HTML(value='Herma<font color=green>^n</font>n Zoltán'), Label(val…"
      ]
     },
     "metadata": {},
     "output_type": "display_data"
    },
    {
     "data": {
      "application/vnd.jupyter.widget-view+json": {
       "model_id": "1cd5cd0465d74d49afdc4edb460e5c28",
       "version_major": 2,
       "version_minor": 0
      },
      "text/plain": [
       "HBox(children=(Label(value='Készman József'), HTML(value='Készman József<font color=green>^ </font>'), Label(v…"
      ]
     },
     "metadata": {},
     "output_type": "display_data"
    },
    {
     "data": {
      "application/vnd.jupyter.widget-view+json": {
       "model_id": "274e582e150a43fdad3bca8bb7ba0622",
       "version_major": 2,
       "version_minor": 0
      },
      "text/plain": [
       "HBox(children=(Label(value='Kántor József'), HTML(value='Kántor Jó<font color=red>^z</font>sef'), Label(value=…"
      ]
     },
     "metadata": {},
     "output_type": "display_data"
    },
    {
     "data": {
      "application/vnd.jupyter.widget-view+json": {
       "model_id": "7cafeba0c45b4fdc8d62eb37fcbf0137",
       "version_major": 2,
       "version_minor": 0
      },
      "text/plain": [
       "HBox(children=(Label(value='Mátyási Péter'), HTML(value='Mátyás<font color=red>^i</font> Péter'), Label(value=…"
      ]
     },
     "metadata": {},
     "output_type": "display_data"
    },
    {
     "data": {
      "application/vnd.jupyter.widget-view+json": {
       "model_id": "346a691bc1d1442497ddd277a8730446",
       "version_major": 2,
       "version_minor": 0
      },
      "text/plain": [
       "HBox(children=(Label(value='Mátyási Péter'), HTML(value='Mátyás<font color=red>^i</font> Péter'), Label(value=…"
      ]
     },
     "metadata": {},
     "output_type": "display_data"
    },
    {
     "data": {
      "application/vnd.jupyter.widget-view+json": {
       "model_id": "628cd38cab89405c8b38df57e41820b5",
       "version_major": 2,
       "version_minor": 0
      },
      "text/plain": [
       "HBox(children=(Label(value='Kopasz Tamás'), HTML(value='Kopasz Tamás<font color=green>^z</font>'), Label(value…"
      ]
     },
     "metadata": {},
     "output_type": "display_data"
    },
    {
     "data": {
      "application/vnd.jupyter.widget-view+json": {
       "model_id": "bc233ba595654b14a5dd0ff7dd5da15a",
       "version_major": 2,
       "version_minor": 0
      },
      "text/plain": [
       "HBox(children=(Label(value='Swierkiwicz Róbert'), HTML(value='Swierki<font color=green>^e</font>wicz Róbert'),…"
      ]
     },
     "metadata": {},
     "output_type": "display_data"
    },
    {
     "data": {
      "application/vnd.jupyter.widget-view+json": {
       "model_id": "c7889782c31940c5b23849c9c0e8c70a",
       "version_major": 2,
       "version_minor": 0
      },
      "text/plain": [
       "HBox(children=(Label(value='Ifj. Koffán Károly'), HTML(value='Ifj.<font color=green>^ </font> Koffán Károly'),…"
      ]
     },
     "metadata": {},
     "output_type": "display_data"
    },
    {
     "data": {
      "application/vnd.jupyter.widget-view+json": {
       "model_id": "5034b603a6f84e73a82f20f550662726",
       "version_major": 2,
       "version_minor": 0
      },
      "text/plain": [
       "HBox(children=(Label(value='Gellér B. István'), HTML(value='Gellér B.<font color=red>^ </font>István'), Label(…"
      ]
     },
     "metadata": {},
     "output_type": "display_data"
    },
    {
     "data": {
      "application/vnd.jupyter.widget-view+json": {
       "model_id": "997cedf9995248d4a1db3682f356e2e8",
       "version_major": 2,
       "version_minor": 0
      },
      "text/plain": [
       "HBox(children=(Label(value='Szegedy-Maszák Zsuzsanna'), HTML(value='Szegedy-Masz<font color=blue>^a</font>k Zs…"
      ]
     },
     "metadata": {},
     "output_type": "display_data"
    },
    {
     "data": {
      "application/vnd.jupyter.widget-view+json": {
       "model_id": "feeced435d454447968e0412435b0d28",
       "version_major": 2,
       "version_minor": 0
      },
      "text/plain": [
       "HBox(children=(Label(value='Kecskés Péter'), HTML(value='Kecskés Péter<font color=green>^-</font>'), Label(val…"
      ]
     },
     "metadata": {},
     "output_type": "display_data"
    },
    {
     "data": {
      "application/vnd.jupyter.widget-view+json": {
       "model_id": "e0ada5bee6b04713bdb9ed82e56449b0",
       "version_major": 2,
       "version_minor": 0
      },
      "text/plain": [
       "HBox(children=(Label(value='Agnes von Uray'), HTML(value='Ag<font color=red>^n</font>es von Uray'), Label(valu…"
      ]
     },
     "metadata": {},
     "output_type": "display_data"
    },
    {
     "data": {
      "application/vnd.jupyter.widget-view+json": {
       "model_id": "3a739239ce2c4980aef2e93ef5a54786",
       "version_major": 2,
       "version_minor": 0
      },
      "text/plain": [
       "HBox(children=(Label(value='Karácsonyi László'), HTML(value='Karácsony<font color=red>^i</font> László'), Labe…"
      ]
     },
     "metadata": {},
     "output_type": "display_data"
    }
   ],
   "source": [
    "def write_cleanmap(start, end, filename):\n",
    "    with open(filename, mode='w', encoding='utf=8') as file:\n",
    "        file.write('id'+'\\t'+'name'+'\\t'+'idmatch'+'\\t'+'matchname'+'\\t'+'ratio'+'\\n')\n",
    "\n",
    "        for match in find_fuzzy_variations(df, start=start, end=end):\n",
    "            nameid, name, idmatch, matchname, ratio = match\n",
    "            line = \"{}\\t{}\\t{}\\t{}\\t{:.2f}\\n\".format(nameid, name, idmatch, matchname, ratio)\n",
    "            file.write(line)\n",
    "            display( HBox([Label(name), display_diff(name, matchname), Label(\"{}%\".format(ratio))]))\n",
    "\n",
    "\n",
    "write_cleanmap(0, 8500, \"./data/fuzzy_map0-8500.csv\")\n"
   ]
  },
  {
   "cell_type": "code",
   "execution_count": 36,
   "metadata": {},
   "outputs": [
    {
     "data": {
      "text/html": [
       "<div>\n",
       "<style scoped>\n",
       "    .dataframe tbody tr th:only-of-type {\n",
       "        vertical-align: middle;\n",
       "    }\n",
       "\n",
       "    .dataframe tbody tr th {\n",
       "        vertical-align: top;\n",
       "    }\n",
       "\n",
       "    .dataframe thead th {\n",
       "        text-align: right;\n",
       "    }\n",
       "</style>\n",
       "<table border=\"1\" class=\"dataframe\">\n",
       "  <thead>\n",
       "    <tr style=\"text-align: right;\">\n",
       "      <th></th>\n",
       "      <th>id</th>\n",
       "      <th>name</th>\n",
       "      <th>idmatch</th>\n",
       "      <th>namematch</th>\n",
       "      <th>ratio\\r</th>\n",
       "    </tr>\n",
       "  </thead>\n",
       "  <tbody>\n",
       "    <tr>\n",
       "      <th>0</th>\n",
       "      <td>73</td>\n",
       "      <td>Készman József</td>\n",
       "      <td>9909</td>\n",
       "      <td>Készman József</td>\n",
       "      <td>97.0</td>\n",
       "    </tr>\n",
       "    <tr>\n",
       "      <th>1</th>\n",
       "      <td>148</td>\n",
       "      <td>Koroknai Zsolt</td>\n",
       "      <td>11400</td>\n",
       "      <td>Koroknai  Zsolt</td>\n",
       "      <td>97.0</td>\n",
       "    </tr>\n",
       "    <tr>\n",
       "      <th>2</th>\n",
       "      <td>345</td>\n",
       "      <td>Kerekes Gábor</td>\n",
       "      <td>2278</td>\n",
       "      <td>Kerekes Gábor)</td>\n",
       "      <td>96.0</td>\n",
       "    </tr>\n",
       "    <tr>\n",
       "      <th>3</th>\n",
       "      <td>345</td>\n",
       "      <td>Kerekes Gábor</td>\n",
       "      <td>392</td>\n",
       "      <td>Kerekes Gábor.</td>\n",
       "      <td>96.0</td>\n",
       "    </tr>\n",
       "    <tr>\n",
       "      <th>4</th>\n",
       "      <td>196</td>\n",
       "      <td>Nemes Csaba</td>\n",
       "      <td>11218</td>\n",
       "      <td>Nemes Csaba:</td>\n",
       "      <td>96.0</td>\n",
       "    </tr>\n",
       "    <tr>\n",
       "      <th>...</th>\n",
       "      <td>...</td>\n",
       "      <td>...</td>\n",
       "      <td>...</td>\n",
       "      <td>...</td>\n",
       "      <td>...</td>\n",
       "    </tr>\n",
       "    <tr>\n",
       "      <th>671</th>\n",
       "      <td>3164</td>\n",
       "      <td>Prieger Zsolt (Anima Sound System)</td>\n",
       "      <td>2018</td>\n",
       "      <td>Prieger Zsolt (Anima Sound system)</td>\n",
       "      <td>97.0</td>\n",
       "    </tr>\n",
       "    <tr>\n",
       "      <th>672</th>\n",
       "      <td>3092</td>\n",
       "      <td>Simonyi Emő.</td>\n",
       "      <td>496</td>\n",
       "      <td>Simonyi Emő</td>\n",
       "      <td>96.0</td>\n",
       "    </tr>\n",
       "    <tr>\n",
       "      <th>673</th>\n",
       "      <td>3068</td>\n",
       "      <td>Hajdu István:</td>\n",
       "      <td>2089</td>\n",
       "      <td>Hajdu István</td>\n",
       "      <td>96.0</td>\n",
       "    </tr>\n",
       "    <tr>\n",
       "      <th>674</th>\n",
       "      <td>2230</td>\n",
       "      <td>Myriam Laplante (Olaszország)</td>\n",
       "      <td>2223</td>\n",
       "      <td>Myriam Laplante (Olaszorszag)</td>\n",
       "      <td>97.0</td>\n",
       "    </tr>\n",
       "    <tr>\n",
       "      <th>675</th>\n",
       "      <td>1411</td>\n",
       "      <td>Ivo Weber  (Köln)</td>\n",
       "      <td>1396</td>\n",
       "      <td>Ivo Weber (Köln)</td>\n",
       "      <td>97.0</td>\n",
       "    </tr>\n",
       "  </tbody>\n",
       "</table>\n",
       "<p>676 rows × 5 columns</p>\n",
       "</div>"
      ],
      "text/plain": [
       "       id                                name  idmatch  \\\n",
       "0      73                      Készman József     9909   \n",
       "1     148                      Koroknai Zsolt    11400   \n",
       "2     345                       Kerekes Gábor     2278   \n",
       "3     345                       Kerekes Gábor      392   \n",
       "4     196                         Nemes Csaba    11218   \n",
       "..    ...                                 ...      ...   \n",
       "671  3164  Prieger Zsolt (Anima Sound System)     2018   \n",
       "672  3092                        Simonyi Emő.      496   \n",
       "673  3068                       Hajdu István:     2089   \n",
       "674  2230       Myriam Laplante (Olaszország)     2223   \n",
       "675  1411                   Ivo Weber  (Köln)     1396   \n",
       "\n",
       "                              namematch  ratio\\r  \n",
       "0                       Készman József      97.0  \n",
       "1                       Koroknai  Zsolt     97.0  \n",
       "2                        Kerekes Gábor)     96.0  \n",
       "3                        Kerekes Gábor.     96.0  \n",
       "4                          Nemes Csaba:     96.0  \n",
       "..                                  ...      ...  \n",
       "671  Prieger Zsolt (Anima Sound system)     97.0  \n",
       "672                         Simonyi Emő     96.0  \n",
       "673                        Hajdu István     96.0  \n",
       "674       Myriam Laplante (Olaszorszag)     97.0  \n",
       "675                    Ivo Weber (Köln)     97.0  \n",
       "\n",
       "[676 rows x 5 columns]"
      ]
     },
     "metadata": {},
     "output_type": "display_data"
    }
   ],
   "source": [
    "fuzzymap = pd.read_csv('./data/fuzzy_map_full.csv', sep='\\t', lineterminator='\\n')\n",
    "display(fuzzymap)"
   ]
  },
  {
   "cell_type": "code",
   "execution_count": 50,
   "metadata": {},
   "outputs": [
    {
     "name": "stdout",
     "output_type": "stream",
     "text": [
      "676\n"
     ]
    },
    {
     "data": {
      "application/vnd.jupyter.widget-view+json": {
       "model_id": "b8ec72f4b6e74518871a95fcb800bfa2",
       "version_major": 2,
       "version_minor": 0
      },
      "text/plain": [
       "HBox(children=(Label(value='73'), Label(value='Készman József'), HTML(value='Készman József<font color=green>^…"
      ]
     },
     "metadata": {},
     "output_type": "display_data"
    },
    {
     "data": {
      "application/vnd.jupyter.widget-view+json": {
       "model_id": "52f4f1f531524657820389229cf9bb35",
       "version_major": 2,
       "version_minor": 0
      },
      "text/plain": [
       "HBox(children=(Label(value='148'), Label(value='Koroknai Zsolt'), HTML(value='Koroknai <font color=green>^ </f…"
      ]
     },
     "metadata": {},
     "output_type": "display_data"
    },
    {
     "data": {
      "application/vnd.jupyter.widget-view+json": {
       "model_id": "cf8ce16faa9244ad9664c5a149bf60a8",
       "version_major": 2,
       "version_minor": 0
      },
      "text/plain": [
       "HBox(children=(Label(value='345'), Label(value='Kerekes Gábor'), HTML(value='Kerekes Gábor<font color=green>^)…"
      ]
     },
     "metadata": {},
     "output_type": "display_data"
    },
    {
     "data": {
      "application/vnd.jupyter.widget-view+json": {
       "model_id": "5ece73474b8a4061a7886ea5dc1af5dc",
       "version_major": 2,
       "version_minor": 0
      },
      "text/plain": [
       "HBox(children=(Label(value='345'), Label(value='Kerekes Gábor'), HTML(value='Kerekes Gábor<font color=green>^.…"
      ]
     },
     "metadata": {},
     "output_type": "display_data"
    },
    {
     "data": {
      "application/vnd.jupyter.widget-view+json": {
       "model_id": "bda7c8e005b24cb1986d75148c9520e6",
       "version_major": 2,
       "version_minor": 0
      },
      "text/plain": [
       "HBox(children=(Label(value='196'), Label(value='Nemes Csaba'), HTML(value='Nemes Csaba<font color=green>^:</fo…"
      ]
     },
     "metadata": {},
     "output_type": "display_data"
    },
    {
     "data": {
      "application/vnd.jupyter.widget-view+json": {
       "model_id": "969df8854a264334b5af78152e8d6613",
       "version_major": 2,
       "version_minor": 0
      },
      "text/plain": [
       "HBox(children=(Label(value='699'), Label(value='Kecskés Péter'), HTML(value='Kecskés Péter<font color=green>^-…"
      ]
     },
     "metadata": {},
     "output_type": "display_data"
    },
    {
     "data": {
      "application/vnd.jupyter.widget-view+json": {
       "model_id": "94663882bf1d44eba63c12cd67e6d9c2",
       "version_major": 2,
       "version_minor": 0
      },
      "text/plain": [
       "HBox(children=(Label(value='14673'), Label(value='Tomasz Piars'), HTML(value='Tomas<font color=red>^z</font> P…"
      ]
     },
     "metadata": {},
     "output_type": "display_data"
    },
    {
     "data": {
      "application/vnd.jupyter.widget-view+json": {
       "model_id": "aadaa739e01746a9999b6cee48ee0dae",
       "version_major": 2,
       "version_minor": 0
      },
      "text/plain": [
       "HBox(children=(Label(value='17332'), Label(value='Schneller János'), HTML(value='Sc<font color=red>^h</font>ne…"
      ]
     },
     "metadata": {},
     "output_type": "display_data"
    },
    {
     "data": {
      "application/vnd.jupyter.widget-view+json": {
       "model_id": "a002ae1f8a474410a115f638566f08bc",
       "version_major": 2,
       "version_minor": 0
      },
      "text/plain": [
       "HBox(children=(Label(value='1769'), Label(value='Mécs Miklós'), HTML(value='Mécs Miklós<font color=green>^)</f…"
      ]
     },
     "metadata": {},
     "output_type": "display_data"
    },
    {
     "data": {
      "application/vnd.jupyter.widget-view+json": {
       "model_id": "d8bfee3831454f5a88f2ed14adbc04a4",
       "version_major": 2,
       "version_minor": 0
      },
      "text/plain": [
       "HBox(children=(Label(value='1469'), Label(value='Csiszér Zsuzsi'), HTML(value='C<font color=red>^s</font>iszér…"
      ]
     },
     "metadata": {},
     "output_type": "display_data"
    },
    {
     "data": {
      "application/vnd.jupyter.widget-view+json": {
       "model_id": "62bdf9017f5b4c59a9cad5fababc11f9",
       "version_major": 2,
       "version_minor": 0
      },
      "text/plain": [
       "HBox(children=(Label(value='852'), Label(value='Kisspál Szabolcs'), HTML(value='Ki<font color=red>^s</font>spá…"
      ]
     },
     "metadata": {},
     "output_type": "display_data"
    },
    {
     "data": {
      "application/vnd.jupyter.widget-view+json": {
       "model_id": "794d344bff30444dbe6640fb732438bd",
       "version_major": 2,
       "version_minor": 0
      },
      "text/plain": [
       "HBox(children=(Label(value='4095'), Label(value='Mátrai Erik'), HTML(value='Mátrai Erik<font color=green>^a</f…"
      ]
     },
     "metadata": {},
     "output_type": "display_data"
    },
    {
     "data": {
      "application/vnd.jupyter.widget-view+json": {
       "model_id": "cb3d31d6a0ed4fe2b365ce6750ff7c33",
       "version_major": 2,
       "version_minor": 0
      },
      "text/plain": [
       "HBox(children=(Label(value='797'), Label(value='Szotyory László'), HTML(value='Szotyory László<font color=gree…"
      ]
     },
     "metadata": {},
     "output_type": "display_data"
    },
    {
     "data": {
      "application/vnd.jupyter.widget-view+json": {
       "model_id": "ab6847e1a8474aa8b103546f3185a3a5",
       "version_major": 2,
       "version_minor": 0
      },
      "text/plain": [
       "HBox(children=(Label(value='2350'), Label(value='Gróf Ferenc'), HTML(value='<font color=green>^(</font>Gróf Fe…"
      ]
     },
     "metadata": {},
     "output_type": "display_data"
    },
    {
     "data": {
      "application/vnd.jupyter.widget-view+json": {
       "model_id": "c5a11caacb714c649e259f72b83390ac",
       "version_major": 2,
       "version_minor": 0
      },
      "text/plain": [
       "HBox(children=(Label(value='86'), Label(value='Szász György'), HTML(value='<font color=red>^S</font>zász Györg…"
      ]
     },
     "metadata": {},
     "output_type": "display_data"
    },
    {
     "data": {
      "application/vnd.jupyter.widget-view+json": {
       "model_id": "f9541daa4c104ef895b2b0f09e51efc8",
       "version_major": 2,
       "version_minor": 0
      },
      "text/plain": [
       "HBox(children=(Label(value='6351'), Label(value='Jakatics-Szabó Veronika'), HTML(value='Jakati<font color=blue…"
      ]
     },
     "metadata": {},
     "output_type": "display_data"
    },
    {
     "data": {
      "application/vnd.jupyter.widget-view+json": {
       "model_id": "224ca156bedc4aa5a30b940cdbb42a18",
       "version_major": 2,
       "version_minor": 0
      },
      "text/plain": [
       "HBox(children=(Label(value='6351'), Label(value='Jakatics-Szabó Veronika'), HTML(value='Jakatics<font color=bl…"
      ]
     },
     "metadata": {},
     "output_type": "display_data"
    },
    {
     "data": {
      "application/vnd.jupyter.widget-view+json": {
       "model_id": "e574439ed8d946eebed9fb4921dba051",
       "version_major": 2,
       "version_minor": 0
      },
      "text/plain": [
       "HBox(children=(Label(value='6351'), Label(value='Jakatics-Szabó Veronika'), HTML(value='Jakat<font color=green…"
      ]
     },
     "metadata": {},
     "output_type": "display_data"
    },
    {
     "data": {
      "application/vnd.jupyter.widget-view+json": {
       "model_id": "84a793b828f04fbf946d655a8d390bca",
       "version_major": 2,
       "version_minor": 0
      },
      "text/plain": [
       "HBox(children=(Label(value='1759'), Label(value='Bullás József'), HTML(value='Bullás József<font color=green>^…"
      ]
     },
     "metadata": {},
     "output_type": "display_data"
    },
    {
     "data": {
      "application/vnd.jupyter.widget-view+json": {
       "model_id": "cdcb2f0ca16a4e51bbc080d3ed5afe78",
       "version_major": 2,
       "version_minor": 0
      },
      "text/plain": [
       "HBox(children=(Label(value='1759'), Label(value='Bullás József'), HTML(value='Bullás József<font color=green>^…"
      ]
     },
     "metadata": {},
     "output_type": "display_data"
    },
    {
     "data": {
      "application/vnd.jupyter.widget-view+json": {
       "model_id": "31be95f132894b1dab6ebba5240b0a66",
       "version_major": 2,
       "version_minor": 0
      },
      "text/plain": [
       "HBox(children=(Label(value='5135'), Label(value='Karácsonyi László'), HTML(value='Karácsony<font color=red>^i<…"
      ]
     },
     "metadata": {},
     "output_type": "display_data"
    },
    {
     "data": {
      "application/vnd.jupyter.widget-view+json": {
       "model_id": "765360d46ab84d6bac2636033c90b1af",
       "version_major": 2,
       "version_minor": 0
      },
      "text/plain": [
       "HBox(children=(Label(value='2239'), Label(value='Pataki Gábor'), HTML(value='Pataki<font color=red>^ </font>Gá…"
      ]
     },
     "metadata": {},
     "output_type": "display_data"
    },
    {
     "data": {
      "application/vnd.jupyter.widget-view+json": {
       "model_id": "3fa8641aa2264cffb84c0f149992c995",
       "version_major": 2,
       "version_minor": 0
      },
      "text/plain": [
       "HBox(children=(Label(value='369'), Label(value='Erőss István'), HTML(value='Erő<font color=red>^s</font>s Istv…"
      ]
     },
     "metadata": {},
     "output_type": "display_data"
    },
    {
     "data": {
      "application/vnd.jupyter.widget-view+json": {
       "model_id": "27bba240aaca40cd91ce07946312f5d2",
       "version_major": 2,
       "version_minor": 0
      },
      "text/plain": [
       "HBox(children=(Label(value='265'), Label(value='Kőnig Frigyes'), HTML(value='Kőnig F<font color=red>^r</font>i…"
      ]
     },
     "metadata": {},
     "output_type": "display_data"
    },
    {
     "data": {
      "application/vnd.jupyter.widget-view+json": {
       "model_id": "663b54d0fcd74690961b5ff12922e0c8",
       "version_major": 2,
       "version_minor": 0
      },
      "text/plain": [
       "HBox(children=(Label(value='4418'), Label(value='Frazon Zsófia'), HTML(value='Frazon Zsófi<font color=red>^a</…"
      ]
     },
     "metadata": {},
     "output_type": "display_data"
    },
    {
     "data": {
      "application/vnd.jupyter.widget-view+json": {
       "model_id": "aa5458d4f5944d0fb57d21a5a5aca919",
       "version_major": 2,
       "version_minor": 0
      },
      "text/plain": [
       "HBox(children=(Label(value='144'), Label(value='Kopasz Tamás'), HTML(value='Kopasz Tamás<font color=green>^z</…"
      ]
     },
     "metadata": {},
     "output_type": "display_data"
    },
    {
     "data": {
      "application/vnd.jupyter.widget-view+json": {
       "model_id": "d4e0cc2989ac48a69b1a79ce4262c513",
       "version_major": 2,
       "version_minor": 0
      },
      "text/plain": [
       "HBox(children=(Label(value='11944'), Label(value='Juhász Anna'), HTML(value='Juhász Ann<font color=green>^n</f…"
      ]
     },
     "metadata": {},
     "output_type": "display_data"
    },
    {
     "data": {
      "application/vnd.jupyter.widget-view+json": {
       "model_id": "01c853e8b6dd4b6e822d51a90a504f2e",
       "version_major": 2,
       "version_minor": 0
      },
      "text/plain": [
       "HBox(children=(Label(value='281'), Label(value='Károlyi Zsigmond'), HTML(value='Károlyi<font color=green>^ </f…"
      ]
     },
     "metadata": {},
     "output_type": "display_data"
    },
    {
     "data": {
      "application/vnd.jupyter.widget-view+json": {
       "model_id": "05a2281df45041e0a51e7cd7e2153253",
       "version_major": 2,
       "version_minor": 0
      },
      "text/plain": [
       "HBox(children=(Label(value='14731'), Label(value='Kútvölgyi-Szabó Áron'), HTML(value='Kútvölgyi<font color=gre…"
      ]
     },
     "metadata": {},
     "output_type": "display_data"
    },
    {
     "data": {
      "application/vnd.jupyter.widget-view+json": {
       "model_id": "1a32f3f63f0d4a328ed219b05e690bea",
       "version_major": 2,
       "version_minor": 0
      },
      "text/plain": [
       "HBox(children=(Label(value='307'), Label(value='Somogyi Zsófia'), HTML(value='Somogyi Zsófi<font color=red>^a<…"
      ]
     },
     "metadata": {},
     "output_type": "display_data"
    },
    {
     "data": {
      "application/vnd.jupyter.widget-view+json": {
       "model_id": "85c8e16f9326409881fed3465bab1ec1",
       "version_major": 2,
       "version_minor": 0
      },
      "text/plain": [
       "HBox(children=(Label(value='7693'), Label(value='Kishonthy Zsolt'), HTML(value='Kishont<font color=red>^h</fon…"
      ]
     },
     "metadata": {},
     "output_type": "display_data"
    },
    {
     "data": {
      "application/vnd.jupyter.widget-view+json": {
       "model_id": "dac42559b33346acaa7218b441543018",
       "version_major": 2,
       "version_minor": 0
      },
      "text/plain": [
       "HBox(children=(Label(value='7219'), Label(value='Szolnoki József'), HTML(value='Szolnoki József<font color=gre…"
      ]
     },
     "metadata": {},
     "output_type": "display_data"
    },
    {
     "data": {
      "application/vnd.jupyter.widget-view+json": {
       "model_id": "b8797b0f3a4f4615ba04347a253a2651",
       "version_major": 2,
       "version_minor": 0
      },
      "text/plain": [
       "HBox(children=(Label(value='2645'), Label(value='Barabás Zsófi'), HTML(value='Barabás Zsófi<font color=green>^…"
      ]
     },
     "metadata": {},
     "output_type": "display_data"
    },
    {
     "data": {
      "application/vnd.jupyter.widget-view+json": {
       "model_id": "5999d4aadb444ee1911b2eb8b34028c4",
       "version_major": 2,
       "version_minor": 0
      },
      "text/plain": [
       "HBox(children=(Label(value='755'), Label(value='Csernus Tibor'), HTML(value='Csernus<font color=green>^s</font…"
      ]
     },
     "metadata": {},
     "output_type": "display_data"
    },
    {
     "data": {
      "application/vnd.jupyter.widget-view+json": {
       "model_id": "9c32f255bb7345d39f2ba606ef40a617",
       "version_major": 2,
       "version_minor": 0
      },
      "text/plain": [
       "HBox(children=(Label(value='2205'), Label(value='ef Zámbó István'), HTML(value='ef<font color=red>^ </font>Zám…"
      ]
     },
     "metadata": {},
     "output_type": "display_data"
    },
    {
     "data": {
      "application/vnd.jupyter.widget-view+json": {
       "model_id": "2aea7035bcf34cfb80a8d934d61f1e6c",
       "version_major": 2,
       "version_minor": 0
      },
      "text/plain": [
       "HBox(children=(Label(value='1336'), Label(value='Krizbai Sándor'), HTML(value='Krizbai <font color=green>^ </f…"
      ]
     },
     "metadata": {},
     "output_type": "display_data"
    },
    {
     "data": {
      "application/vnd.jupyter.widget-view+json": {
       "model_id": "33904cd977bc493d9c3bf17c381cd2bd",
       "version_major": 2,
       "version_minor": 0
      },
      "text/plain": [
       "HBox(children=(Label(value='674'), Label(value='Dr. Gálig Zoltán'), HTML(value='Dr.<font color=red>^ </font>Gá…"
      ]
     },
     "metadata": {},
     "output_type": "display_data"
    },
    {
     "data": {
      "application/vnd.jupyter.widget-view+json": {
       "model_id": "2b6d8da0bcd54f878233cb6b140589f0",
       "version_major": 2,
       "version_minor": 0
      },
      "text/plain": [
       "HBox(children=(Label(value='9996'), Label(value='Szécsényi-Nagy Loránd'), HTML(value='Szécsényi<font color=gre…"
      ]
     },
     "metadata": {},
     "output_type": "display_data"
    },
    {
     "data": {
      "application/vnd.jupyter.widget-view+json": {
       "model_id": "3cb34fbc39df4d99a74606cf9a964b0c",
       "version_major": 2,
       "version_minor": 0
      },
      "text/plain": [
       "HBox(children=(Label(value='8068'), Label(value='Mátyási Péter'), HTML(value='Mátyás<font color=red>^i</font> …"
      ]
     },
     "metadata": {},
     "output_type": "display_data"
    },
    {
     "data": {
      "application/vnd.jupyter.widget-view+json": {
       "model_id": "6f51c14e9e764465876a3cd78af520c5",
       "version_major": 2,
       "version_minor": 0
      },
      "text/plain": [
       "HBox(children=(Label(value='8068'), Label(value='Mátyási Péter'), HTML(value='Mátyás<font color=red>^i</font> …"
      ]
     },
     "metadata": {},
     "output_type": "display_data"
    },
    {
     "data": {
      "application/vnd.jupyter.widget-view+json": {
       "model_id": "efe3508b0ac94ebfbd18bb1c1c4153ae",
       "version_major": 2,
       "version_minor": 0
      },
      "text/plain": [
       "HBox(children=(Label(value='8068'), Label(value='Mátyási Péter'), HTML(value='Mátyás<font color=red>^i</font> …"
      ]
     },
     "metadata": {},
     "output_type": "display_data"
    },
    {
     "data": {
      "application/vnd.jupyter.widget-view+json": {
       "model_id": "828bcecbee77403dbe3b3dd5b6eb0d41",
       "version_major": 2,
       "version_minor": 0
      },
      "text/plain": [
       "HBox(children=(Label(value='8068'), Label(value='Mátyási Péter'), HTML(value='Mátyás<font color=red>^i</font> …"
      ]
     },
     "metadata": {},
     "output_type": "display_data"
    },
    {
     "data": {
      "application/vnd.jupyter.widget-view+json": {
       "model_id": "9250cce5b64f41cf82028efca92cca8b",
       "version_major": 2,
       "version_minor": 0
      },
      "text/plain": [
       "HBox(children=(Label(value='8068'), Label(value='Mátyási Péter'), HTML(value='Mátyás<font color=red>^i</font> …"
      ]
     },
     "metadata": {},
     "output_type": "display_data"
    },
    {
     "data": {
      "application/vnd.jupyter.widget-view+json": {
       "model_id": "1e35167de59643cab6519135032ec843",
       "version_major": 2,
       "version_minor": 0
      },
      "text/plain": [
       "HBox(children=(Label(value='2864'), Label(value='Mayer Marianna'), HTML(value='Mayer Mariann<font color=red>^a…"
      ]
     },
     "metadata": {},
     "output_type": "display_data"
    },
    {
     "data": {
      "application/vnd.jupyter.widget-view+json": {
       "model_id": "ea2fe5f594774175b9cb5d3cec1707d8",
       "version_major": 2,
       "version_minor": 0
      },
      "text/plain": [
       "HBox(children=(Label(value='528'), Label(value='Antal István'), HTML(value='Anta<font color=green>^l</font>l I…"
      ]
     },
     "metadata": {},
     "output_type": "display_data"
    },
    {
     "data": {
      "application/vnd.jupyter.widget-view+json": {
       "model_id": "16cb20eebab14faca64f9ed74f184c9f",
       "version_major": 2,
       "version_minor": 0
      },
      "text/plain": [
       "HBox(children=(Label(value='528'), Label(value='Antal István'), HTML(value='Anta<font color=green>^l</font>l I…"
      ]
     },
     "metadata": {},
     "output_type": "display_data"
    },
    {
     "data": {
      "application/vnd.jupyter.widget-view+json": {
       "model_id": "19e2e1e467f84d6889e8b78707553eca",
       "version_major": 2,
       "version_minor": 0
      },
      "text/plain": [
       "HBox(children=(Label(value='453'), Label(value='Swierkiewicz Róbert'), HTML(value='Swierki<font color=red>^e</…"
      ]
     },
     "metadata": {},
     "output_type": "display_data"
    },
    {
     "data": {
      "application/vnd.jupyter.widget-view+json": {
       "model_id": "746047de220746f99391fe57bd216d07",
       "version_major": 2,
       "version_minor": 0
      },
      "text/plain": [
       "HBox(children=(Label(value='453'), Label(value='Swierkiewicz Róbert'), HTML(value='Swierk<font color=red>^i</f…"
      ]
     },
     "metadata": {},
     "output_type": "display_data"
    },
    {
     "data": {
      "application/vnd.jupyter.widget-view+json": {
       "model_id": "2daed110ec7c4f4e9b13249dd786fc34",
       "version_major": 2,
       "version_minor": 0
      },
      "text/plain": [
       "HBox(children=(Label(value='8249'), Label(value='Veszely Ferenc'), HTML(value='Ves<font color=red>^z</font>ely…"
      ]
     },
     "metadata": {},
     "output_type": "display_data"
    },
    {
     "data": {
      "application/vnd.jupyter.widget-view+json": {
       "model_id": "f104d450a1a84e64a74705b58be8680f",
       "version_major": 2,
       "version_minor": 0
      },
      "text/plain": [
       "HBox(children=(Label(value='7116'), Label(value='Tóth Márton Emil'), HTML(value='Tóth Márton Emil<font color=g…"
      ]
     },
     "metadata": {},
     "output_type": "display_data"
    },
    {
     "data": {
      "application/vnd.jupyter.widget-view+json": {
       "model_id": "addd0289db1c45309da89f33dd2244d3",
       "version_major": 2,
       "version_minor": 0
      },
      "text/plain": [
       "HBox(children=(Label(value='3074'), Label(value='Pataki Gábor'), HTML(value='Pataki<font color=red>^ </font>Gá…"
      ]
     },
     "metadata": {},
     "output_type": "display_data"
    },
    {
     "data": {
      "application/vnd.jupyter.widget-view+json": {
       "model_id": "7702cb6b8e0745e78249f7467c66971f",
       "version_major": 2,
       "version_minor": 0
      },
      "text/plain": [
       "HBox(children=(Label(value='2010'), Label(value='Barakonyi Szabolcs'), HTML(value='Barakonyi <font color=green…"
      ]
     },
     "metadata": {},
     "output_type": "display_data"
    },
    {
     "data": {
      "application/vnd.jupyter.widget-view+json": {
       "model_id": "3b3649e53d2345b7b5c43a4b37c27297",
       "version_major": 2,
       "version_minor": 0
      },
      "text/plain": [
       "HBox(children=(Label(value='250'), Label(value='Hermann Zoltán'), HTML(value='Herma<font color=red>^n</font>n …"
      ]
     },
     "metadata": {},
     "output_type": "display_data"
    },
    {
     "data": {
      "application/vnd.jupyter.widget-view+json": {
       "model_id": "c01c906a20c44ade8542fc86cf88ce11",
       "version_major": 2,
       "version_minor": 0
      },
      "text/plain": [
       "HBox(children=(Label(value='65'), Label(value='Katona Zoltán'), HTML(value='Katona<font color=red>^ </font>Zol…"
      ]
     },
     "metadata": {},
     "output_type": "display_data"
    },
    {
     "data": {
      "application/vnd.jupyter.widget-view+json": {
       "model_id": "097a84a7edde4a1ea74949d1e465c449",
       "version_major": 2,
       "version_minor": 0
      },
      "text/plain": [
       "HBox(children=(Label(value='6076'), Label(value='Lucza Zsigmond'), HTML(value='Luc<font color=red>^z</font>a Z…"
      ]
     },
     "metadata": {},
     "output_type": "display_data"
    },
    {
     "data": {
      "application/vnd.jupyter.widget-view+json": {
       "model_id": "329a2729274d4615aba5330ec1c6baf8",
       "version_major": 2,
       "version_minor": 0
      },
      "text/plain": [
       "HBox(children=(Label(value='15702'), Label(value='Szegedy-Maszák Zsuzsanna'), HTML(value='Szegedy-Masz<font co…"
      ]
     },
     "metadata": {},
     "output_type": "display_data"
    },
    {
     "data": {
      "application/vnd.jupyter.widget-view+json": {
       "model_id": "3e3e1e2ce316462ca41903c74084804f",
       "version_major": 2,
       "version_minor": 0
      },
      "text/plain": [
       "HBox(children=(Label(value='11614'), Label(value='Pályi Zsófia'), HTML(value='Pályi Zsófi<font color=red>^a</f…"
      ]
     },
     "metadata": {},
     "output_type": "display_data"
    },
    {
     "data": {
      "application/vnd.jupyter.widget-view+json": {
       "model_id": "54108320f4bc4d65b070e7446c969d3e",
       "version_major": 2,
       "version_minor": 0
      },
      "text/plain": [
       "HBox(children=(Label(value='1675'), Label(value='Nagy Gabriella'), HTML(value='Nagy Gab<font color=red>^r</fon…"
      ]
     },
     "metadata": {},
     "output_type": "display_data"
    },
    {
     "data": {
      "application/vnd.jupyter.widget-view+json": {
       "model_id": "1c65971c80b94597a4f39d92d45a8ce9",
       "version_major": 2,
       "version_minor": 0
      },
      "text/plain": [
       "HBox(children=(Label(value='8102'), Label(value='Rechnitzer Zsófi'), HTML(value='Rechnitzer Zsófi<font color=g…"
      ]
     },
     "metadata": {},
     "output_type": "display_data"
    },
    {
     "data": {
      "application/vnd.jupyter.widget-view+json": {
       "model_id": "c59497d68f0c40df820f9400f1ef78cb",
       "version_major": 2,
       "version_minor": 0
      },
      "text/plain": [
       "HBox(children=(Label(value='4562'), Label(value='L. Simon László'), HTML(value='L.<font color=red>^ </font>Sim…"
      ]
     },
     "metadata": {},
     "output_type": "display_data"
    },
    {
     "data": {
      "application/vnd.jupyter.widget-view+json": {
       "model_id": "e4ca3043a8d949c389959312c2013158",
       "version_major": 2,
       "version_minor": 0
      },
      "text/plain": [
       "HBox(children=(Label(value='4376'), Label(value='Navratil Judit'), HTML(value='Navratil Judit<font color=green…"
      ]
     },
     "metadata": {},
     "output_type": "display_data"
    },
    {
     "data": {
      "application/vnd.jupyter.widget-view+json": {
       "model_id": "5705710600a84c099d906281224ab235",
       "version_major": 2,
       "version_minor": 0
      },
      "text/plain": [
       "HBox(children=(Label(value='641'), Label(value='Juhász R. József'), HTML(value='Juhász R.<font color=red>^ </f…"
      ]
     },
     "metadata": {},
     "output_type": "display_data"
    },
    {
     "data": {
      "application/vnd.jupyter.widget-view+json": {
       "model_id": "8dae2303d54f4967b936b8819aef850e",
       "version_major": 2,
       "version_minor": 0
      },
      "text/plain": [
       "HBox(children=(Label(value='418'), Label(value='P. Szabó Ernő'), HTML(value='P<font color=red>^.</font> Szabó …"
      ]
     },
     "metadata": {},
     "output_type": "display_data"
    },
    {
     "data": {
      "application/vnd.jupyter.widget-view+json": {
       "model_id": "6057e70c22d94a7daeebf9bfc6a4bc2d",
       "version_major": 2,
       "version_minor": 0
      },
      "text/plain": [
       "HBox(children=(Label(value='12293'), Label(value='Schneller János'), HTML(value='Sc<font color=red>^h</font>ne…"
      ]
     },
     "metadata": {},
     "output_type": "display_data"
    },
    {
     "data": {
      "application/vnd.jupyter.widget-view+json": {
       "model_id": "ca45e0e5d2f54db98e2fd267546f3b93",
       "version_major": 2,
       "version_minor": 0
      },
      "text/plain": [
       "HBox(children=(Label(value='11662'), Label(value='Ázbej Kristóf'), HTML(value='Ázbej Kris<font color=red>^t</f…"
      ]
     },
     "metadata": {},
     "output_type": "display_data"
    },
    {
     "data": {
      "application/vnd.jupyter.widget-view+json": {
       "model_id": "c040f97633e644acb0ed74d591bcc778",
       "version_major": 2,
       "version_minor": 0
      },
      "text/plain": [
       "HBox(children=(Label(value='6946'), Label(value='P. Szabó Ernő'), HTML(value='P<font color=red>^.</font> Szabó…"
      ]
     },
     "metadata": {},
     "output_type": "display_data"
    },
    {
     "data": {
      "application/vnd.jupyter.widget-view+json": {
       "model_id": "a6b24d4ebced40219fe6a5ad53a61168",
       "version_major": 2,
       "version_minor": 0
      },
      "text/plain": [
       "HBox(children=(Label(value='3727'), Label(value='N. Mészáros Júlia'), HTML(value='N.<font color=red>^ </font>M…"
      ]
     },
     "metadata": {},
     "output_type": "display_data"
    },
    {
     "data": {
      "application/vnd.jupyter.widget-view+json": {
       "model_id": "2ed8ebcde78245d0a57de24cafd58a5c",
       "version_major": 2,
       "version_minor": 0
      },
      "text/plain": [
       "HBox(children=(Label(value='3727'), Label(value='N. Mészáros Júlia'), HTML(value='N.<font color=red>^ </font>M…"
      ]
     },
     "metadata": {},
     "output_type": "display_data"
    },
    {
     "data": {
      "application/vnd.jupyter.widget-view+json": {
       "model_id": "cc22c986548c4a74a18d036fb1529c21",
       "version_major": 2,
       "version_minor": 0
      },
      "text/plain": [
       "HBox(children=(Label(value='3241'), Label(value='Tóth Szilvi'), HTML(value='Tóth Szilvi<font color=green>^a</f…"
      ]
     },
     "metadata": {},
     "output_type": "display_data"
    },
    {
     "data": {
      "application/vnd.jupyter.widget-view+json": {
       "model_id": "7518f547bf3d4bf3b7786afbe268103a",
       "version_major": 2,
       "version_minor": 0
      },
      "text/plain": [
       "HBox(children=(Label(value='2689'), Label(value='Haris László'), HTML(value='Ha<font color=green>^r</font>ris …"
      ]
     },
     "metadata": {},
     "output_type": "display_data"
    },
    {
     "data": {
      "application/vnd.jupyter.widget-view+json": {
       "model_id": "5fe19e3656c74bf78afb73f6f1617bc0",
       "version_major": 2,
       "version_minor": 0
      },
      "text/plain": [
       "HBox(children=(Label(value='8224'), Label(value='Rabóczky Judit Rita'), HTML(value='Rabóczky Judit <font color…"
      ]
     },
     "metadata": {},
     "output_type": "display_data"
    },
    {
     "data": {
      "application/vnd.jupyter.widget-view+json": {
       "model_id": "7443af18fcf44d2f8d8180e0e6b1db2f",
       "version_major": 2,
       "version_minor": 0
      },
      "text/plain": [
       "HBox(children=(Label(value='7664'), Label(value='Pettendi Szabó Péter'), HTML(value='Pettendi Szabó<font color…"
      ]
     },
     "metadata": {},
     "output_type": "display_data"
    },
    {
     "data": {
      "application/vnd.jupyter.widget-view+json": {
       "model_id": "86a6b539125446948587eeb778798f5f",
       "version_major": 2,
       "version_minor": 0
      },
      "text/plain": [
       "HBox(children=(Label(value='2982'), Label(value='Kovács Lehel'), HTML(value='Ko<font color=green>^k</font>vács…"
      ]
     },
     "metadata": {},
     "output_type": "display_data"
    },
    {
     "data": {
      "application/vnd.jupyter.widget-view+json": {
       "model_id": "ce7797f5a7214efc84463ff9e17a8a9f",
       "version_major": 2,
       "version_minor": 0
      },
      "text/plain": [
       "HBox(children=(Label(value='547'), Label(value='Mengyán András'), HTML(value='Me<font color=red>^n</font>gyán …"
      ]
     },
     "metadata": {},
     "output_type": "display_data"
    },
    {
     "data": {
      "application/vnd.jupyter.widget-view+json": {
       "model_id": "5a5273cf2d1f42e3bc2a9dc0c6b4a6cc",
       "version_major": 2,
       "version_minor": 0
      },
      "text/plain": [
       "HBox(children=(Label(value='197'), Label(value='Szépfalvi Ágnes'), HTML(value='<font color=red>^S</font>zépfal…"
      ]
     },
     "metadata": {},
     "output_type": "display_data"
    },
    {
     "data": {
      "application/vnd.jupyter.widget-view+json": {
       "model_id": "2776c240309f44b5b3bbb7a531ec6f28",
       "version_major": 2,
       "version_minor": 0
      },
      "text/plain": [
       "HBox(children=(Label(value='10294'), Label(value='Pacsika Márton'), HTML(value='P<font color=red>^a</font>csik…"
      ]
     },
     "metadata": {},
     "output_type": "display_data"
    },
    {
     "data": {
      "application/vnd.jupyter.widget-view+json": {
       "model_id": "aa93e6f1ce304b55a634d9eaa256ba1d",
       "version_major": 2,
       "version_minor": 0
      },
      "text/plain": [
       "HBox(children=(Label(value='8071'), Label(value='Pinczés József'), HTML(value='Pinc<font color=red>^z</font>és…"
      ]
     },
     "metadata": {},
     "output_type": "display_data"
    },
    {
     "data": {
      "application/vnd.jupyter.widget-view+json": {
       "model_id": "77ad8a3e714e482ea41eca735d9ae63e",
       "version_major": 2,
       "version_minor": 0
      },
      "text/plain": [
       "HBox(children=(Label(value='3915'), Label(value='Készman József'), HTML(value='Készman József<font color=green…"
      ]
     },
     "metadata": {},
     "output_type": "display_data"
    },
    {
     "data": {
      "application/vnd.jupyter.widget-view+json": {
       "model_id": "b4a3cbd78aa844b0a31810cc14532df8",
       "version_major": 2,
       "version_minor": 0
      },
      "text/plain": [
       "HBox(children=(Label(value='3315'), Label(value='Farkas Zsófia'), HTML(value='Farkas Zsófi<font color=red>^a</…"
      ]
     },
     "metadata": {},
     "output_type": "display_data"
    },
    {
     "data": {
      "application/vnd.jupyter.widget-view+json": {
       "model_id": "6b1f2b337ae64ec786feed41714a6e4f",
       "version_major": 2,
       "version_minor": 0
      },
      "text/plain": [
       "HBox(children=(Label(value='2625'), Label(value='efZámbó István'), HTML(value='ef<font color=green>^ </font>Zá…"
      ]
     },
     "metadata": {},
     "output_type": "display_data"
    },
    {
     "data": {
      "application/vnd.jupyter.widget-view+json": {
       "model_id": "db2e0f9bd78c4ed6a4eb70a065000385",
       "version_major": 2,
       "version_minor": 0
      },
      "text/plain": [
       "HBox(children=(Label(value='2625'), Label(value='efZámbó István'), HTML(value='ef<font color=green>^ </font>Zá…"
      ]
     },
     "metadata": {},
     "output_type": "display_data"
    },
    {
     "data": {
      "application/vnd.jupyter.widget-view+json": {
       "model_id": "13f051f46b89433cb5c9f33999a42f35",
       "version_major": 2,
       "version_minor": 0
      },
      "text/plain": [
       "HBox(children=(Label(value='2625'), Label(value='efZámbó István'), HTML(value='ef<font color=green>^ </font>Zá…"
      ]
     },
     "metadata": {},
     "output_type": "display_data"
    },
    {
     "data": {
      "application/vnd.jupyter.widget-view+json": {
       "model_id": "e7aa6d9ae71f4fff817dc14f9aa99f6d",
       "version_major": 2,
       "version_minor": 0
      },
      "text/plain": [
       "HBox(children=(Label(value='2625'), Label(value='efZámbó István'), HTML(value='ef<font color=green>^.</font>Zá…"
      ]
     },
     "metadata": {},
     "output_type": "display_data"
    },
    {
     "data": {
      "application/vnd.jupyter.widget-view+json": {
       "model_id": "66acaaacc5c44187b9392f8c251f7abf",
       "version_major": 2,
       "version_minor": 0
      },
      "text/plain": [
       "HBox(children=(Label(value='962'), Label(value='Drozdik Orshi'), HTML(value='Drozdik Ors<font color=red>^h</fo…"
      ]
     },
     "metadata": {},
     "output_type": "display_data"
    },
    {
     "data": {
      "application/vnd.jupyter.widget-view+json": {
       "model_id": "ea4d5f571c104e52aed6e9aa520cea0f",
       "version_major": 2,
       "version_minor": 0
      },
      "text/plain": [
       "HBox(children=(Label(value='84'), Label(value='Orosz Csaba'), HTML(value='Orosz<font color=green>^y</font> Csa…"
      ]
     },
     "metadata": {},
     "output_type": "display_data"
    },
    {
     "data": {
      "application/vnd.jupyter.widget-view+json": {
       "model_id": "1c92f02edcee473c9a531126c6a85fb5",
       "version_major": 2,
       "version_minor": 0
      },
      "text/plain": [
       "HBox(children=(Label(value='10388'), Label(value='Erdész László'), HTML(value='Erdész Lász<font color=red>^l</…"
      ]
     },
     "metadata": {},
     "output_type": "display_data"
    },
    {
     "data": {
      "application/vnd.jupyter.widget-view+json": {
       "model_id": "9dd4596718334e119470a247a110d6c7",
       "version_major": 2,
       "version_minor": 0
      },
      "text/plain": [
       "HBox(children=(Label(value='10160'), Label(value='Solt András'), HTML(value='Solt<font color=green>^i</font> A…"
      ]
     },
     "metadata": {},
     "output_type": "display_data"
    },
    {
     "data": {
      "application/vnd.jupyter.widget-view+json": {
       "model_id": "f7bb38a995cd4408ac908d1ff119de30",
       "version_major": 2,
       "version_minor": 0
      },
      "text/plain": [
       "HBox(children=(Label(value='10160'), Label(value='Solt András'), HTML(value='Solt<font color=green>^i</font> A…"
      ]
     },
     "metadata": {},
     "output_type": "display_data"
    },
    {
     "data": {
      "application/vnd.jupyter.widget-view+json": {
       "model_id": "efc6ed4a813e44218844388e583abd40",
       "version_major": 2,
       "version_minor": 0
      },
      "text/plain": [
       "HBox(children=(Label(value='6000'), Label(value='Kárpáti Tibor'), HTML(value='Kár<font color=green>^t</font>pá…"
      ]
     },
     "metadata": {},
     "output_type": "display_data"
    },
    {
     "data": {
      "application/vnd.jupyter.widget-view+json": {
       "model_id": "0638a54ce216477c94acbc6c7aba1c9a",
       "version_major": 2,
       "version_minor": 0
      },
      "text/plain": [
       "HBox(children=(Label(value='4651'), Label(value='Miklós Hajnal'), HTML(value='Mik<font color=red>^l</font>ós H…"
      ]
     },
     "metadata": {},
     "output_type": "display_data"
    },
    {
     "data": {
      "application/vnd.jupyter.widget-view+json": {
       "model_id": "f784f78ebcb04523a4adb5323de1d51b",
       "version_major": 2,
       "version_minor": 0
      },
      "text/plain": [
       "HBox(children=(Label(value='4318'), Label(value='Katharina Roters'), HTML(value='Kat<font color=red>^h</font>a…"
      ]
     },
     "metadata": {},
     "output_type": "display_data"
    },
    {
     "data": {
      "application/vnd.jupyter.widget-view+json": {
       "model_id": "683225e82bbb45ea9aff464e32adf076",
       "version_major": 2,
       "version_minor": 0
      },
      "text/plain": [
       "HBox(children=(Label(value='3719'), Label(value='Tillmann József'), HTML(value='Tillmann <font color=green>^ <…"
      ]
     },
     "metadata": {},
     "output_type": "display_data"
    },
    {
     "data": {
      "application/vnd.jupyter.widget-view+json": {
       "model_id": "17397a43a2214ba79d69ca16cb4ec230",
       "version_major": 2,
       "version_minor": 0
      },
      "text/plain": [
       "HBox(children=(Label(value='1874'), Label(value='Katarina Sevic'), HTML(value='Kat<font color=red>^a</font>rin…"
      ]
     },
     "metadata": {},
     "output_type": "display_data"
    },
    {
     "data": {
      "application/vnd.jupyter.widget-view+json": {
       "model_id": "c4ad5bafb6704fdd9de509376ab9d6a3",
       "version_major": 2,
       "version_minor": 0
      },
      "text/plain": [
       "HBox(children=(Label(value='378'), Label(value='Gellér B. István'), HTML(value='Gellér B.<font color=red>^ </f…"
      ]
     },
     "metadata": {},
     "output_type": "display_data"
    },
    {
     "data": {
      "application/vnd.jupyter.widget-view+json": {
       "model_id": "09cd8f41e13d48d1a054d2336eb445a5",
       "version_major": 2,
       "version_minor": 0
      },
      "text/plain": [
       "HBox(children=(Label(value='16710'), Label(value='Demeter Dávid'), HTML(value='Demeter Dávid<font color=green>…"
      ]
     },
     "metadata": {},
     "output_type": "display_data"
    },
    {
     "data": {
      "application/vnd.jupyter.widget-view+json": {
       "model_id": "4e389c7d9b6a4f16add6131a8bd5fe1b",
       "version_major": 2,
       "version_minor": 0
      },
      "text/plain": [
       "HBox(children=(Label(value='10209'), Label(value='Jagicza Patrícia'), HTML(value='Jagicza Pa<font color=red>^t…"
      ]
     },
     "metadata": {},
     "output_type": "display_data"
    },
    {
     "data": {
      "application/vnd.jupyter.widget-view+json": {
       "model_id": "0121c02e346d40e0861e8c063301fd11",
       "version_major": 2,
       "version_minor": 0
      },
      "text/plain": [
       "HBox(children=(Label(value='6266'), Label(value='Baráth Fábián'), HTML(value='Barát<font color=red>^h</font> F…"
      ]
     },
     "metadata": {},
     "output_type": "display_data"
    },
    {
     "data": {
      "application/vnd.jupyter.widget-view+json": {
       "model_id": "56ad38db94bd4c2dbc307ae6d35f345e",
       "version_major": 2,
       "version_minor": 0
      },
      "text/plain": [
       "HBox(children=(Label(value='3965'), Label(value='Boros Miklós János'), HTML(value='Boros Mik<font color=green>…"
      ]
     },
     "metadata": {},
     "output_type": "display_data"
    },
    {
     "data": {
      "application/vnd.jupyter.widget-view+json": {
       "model_id": "79a160ca7f2546ca8ce182194293044c",
       "version_major": 2,
       "version_minor": 0
      },
      "text/plain": [
       "HBox(children=(Label(value='3133'), Label(value='Ilona Keserü Ilona'), HTML(value='<font color=green>^-</font>…"
      ]
     },
     "metadata": {},
     "output_type": "display_data"
    },
    {
     "data": {
      "application/vnd.jupyter.widget-view+json": {
       "model_id": "faaf4da9fdcf4893998c2ce48ca47cb0",
       "version_major": 2,
       "version_minor": 0
      },
      "text/plain": [
       "HBox(children=(Label(value='2274'), Label(value='Mata Attila'), HTML(value='Ma<font color=green>^t</font>ta At…"
      ]
     },
     "metadata": {},
     "output_type": "display_data"
    },
    {
     "data": {
      "application/vnd.jupyter.widget-view+json": {
       "model_id": "048389a5e6484558b5e053f33548a721",
       "version_major": 2,
       "version_minor": 0
      },
      "text/plain": [
       "HBox(children=(Label(value='1201'), Label(value='Gajzágó Donáta'), HTML(value='Gajzágó Donát<font color=red>^a…"
      ]
     },
     "metadata": {},
     "output_type": "display_data"
    },
    {
     "data": {
      "application/vnd.jupyter.widget-view+json": {
       "model_id": "325e3c04423f4b0eb3b069c0db1f78d0",
       "version_major": 2,
       "version_minor": 0
      },
      "text/plain": [
       "HBox(children=(Label(value='17154'), Label(value='Bencze Péter'), HTML(value='Benc<font color=red>^z</font>e P…"
      ]
     },
     "metadata": {},
     "output_type": "display_data"
    },
    {
     "data": {
      "application/vnd.jupyter.widget-view+json": {
       "model_id": "61f66d77b3d747cbb406c50b92290770",
       "version_major": 2,
       "version_minor": 0
      },
      "text/plain": [
       "HBox(children=(Label(value='11204'), Label(value='Csernátony Lukács László'), HTML(value='Csern<font color=blu…"
      ]
     },
     "metadata": {},
     "output_type": "display_data"
    },
    {
     "data": {
      "application/vnd.jupyter.widget-view+json": {
       "model_id": "3daf3c9bdde14b2ba0a18b7dd6177188",
       "version_major": 2,
       "version_minor": 0
      },
      "text/plain": [
       "HBox(children=(Label(value='6553'), Label(value='Zádor Tamás'), HTML(value='Zádor Tamás<font color=green>^.</f…"
      ]
     },
     "metadata": {},
     "output_type": "display_data"
    },
    {
     "data": {
      "application/vnd.jupyter.widget-view+json": {
       "model_id": "9a5866331fd8423c88a321f6a2117652",
       "version_major": 2,
       "version_minor": 0
      },
      "text/plain": [
       "HBox(children=(Label(value='5945'), Label(value='Frankl Aliona'), HTML(value='Frank<font color=red>^l</font> A…"
      ]
     },
     "metadata": {},
     "output_type": "display_data"
    },
    {
     "data": {
      "application/vnd.jupyter.widget-view+json": {
       "model_id": "b6f880d632704a8489fa29eff7036ac3",
       "version_major": 2,
       "version_minor": 0
      },
      "text/plain": [
       "HBox(children=(Label(value='1200'), Label(value='Kótai Tamás'), HTML(value='Kó<font color=green>^ü</font>tai T…"
      ]
     },
     "metadata": {},
     "output_type": "display_data"
    },
    {
     "data": {
      "application/vnd.jupyter.widget-view+json": {
       "model_id": "6e1c90bbacda42df9fff876f3c3ea69f",
       "version_major": 2,
       "version_minor": 0
      },
      "text/plain": [
       "HBox(children=(Label(value='1188'), Label(value='Szepes Hédi'), HTML(value='Szepes<font color=green>^i</font> …"
      ]
     },
     "metadata": {},
     "output_type": "display_data"
    },
    {
     "data": {
      "application/vnd.jupyter.widget-view+json": {
       "model_id": "d89c589d5aea4ba589baf1fb51d7a730",
       "version_major": 2,
       "version_minor": 0
      },
      "text/plain": [
       "HBox(children=(Label(value='1029'), Label(value='Ütő Gusztáv'), HTML(value='Ütő Gusz<font color=green>^\\xad</f…"
      ]
     },
     "metadata": {},
     "output_type": "display_data"
    },
    {
     "data": {
      "application/vnd.jupyter.widget-view+json": {
       "model_id": "a79f2bc79d8d4923a24c4cc0a354e794",
       "version_major": 2,
       "version_minor": 0
      },
      "text/plain": [
       "HBox(children=(Label(value='13442'), Label(value='Kákóczki András'), HTML(value='Kákócz<font color=red>^k</fon…"
      ]
     },
     "metadata": {},
     "output_type": "display_data"
    },
    {
     "data": {
      "application/vnd.jupyter.widget-view+json": {
       "model_id": "d6f3f198296b49ba8902f0ee3c9d953a",
       "version_major": 2,
       "version_minor": 0
      },
      "text/plain": [
       "HBox(children=(Label(value='9729'), Label(value='Kákóczki András'), HTML(value='Kákócz<font color=red>^k</font…"
      ]
     },
     "metadata": {},
     "output_type": "display_data"
    },
    {
     "data": {
      "application/vnd.jupyter.widget-view+json": {
       "model_id": "0ccb7d7844904b33a5cc7da83db2db97",
       "version_major": 2,
       "version_minor": 0
      },
      "text/plain": [
       "HBox(children=(Label(value='5989'), Label(value='Oroszy Csaba'), HTML(value='Orosz<font color=red>^y</font> Cs…"
      ]
     },
     "metadata": {},
     "output_type": "display_data"
    },
    {
     "data": {
      "application/vnd.jupyter.widget-view+json": {
       "model_id": "7f5ee86b87be4dfbb4cd997cb193dce4",
       "version_major": 2,
       "version_minor": 0
      },
      "text/plain": [
       "HBox(children=(Label(value='5867'), Label(value='Ladjánszki Márta'), HTML(value='Ladjánszki <font color=green>…"
      ]
     },
     "metadata": {},
     "output_type": "display_data"
    },
    {
     "data": {
      "application/vnd.jupyter.widget-view+json": {
       "model_id": "46fdb76e8b974e0091612f86ec1c6f0e",
       "version_major": 2,
       "version_minor": 0
      },
      "text/plain": [
       "HBox(children=(Label(value='5445'), Label(value='Büki Zsuzsanna'), HTML(value='Bü<font color=green>^k</font>ki…"
      ]
     },
     "metadata": {},
     "output_type": "display_data"
    },
    {
     "data": {
      "application/vnd.jupyter.widget-view+json": {
       "model_id": "7b6a45a94e6f44fcb5c83eb153687a97",
       "version_major": 2,
       "version_minor": 0
      },
      "text/plain": [
       "HBox(children=(Label(value='5429'), Label(value='Barbara Kruger'), HTML(value='Barbara Kruge<font color=red>^r…"
      ]
     },
     "metadata": {},
     "output_type": "display_data"
    },
    {
     "data": {
      "application/vnd.jupyter.widget-view+json": {
       "model_id": "36feb2eb9ef34722ba4efea4edce7eec",
       "version_major": 2,
       "version_minor": 0
      },
      "text/plain": [
       "HBox(children=(Label(value='4644'), Label(value='Fáskerti Zsófia'), HTML(value='Fáskerti Zsófi<font color=red>…"
      ]
     },
     "metadata": {},
     "output_type": "display_data"
    },
    {
     "data": {
      "application/vnd.jupyter.widget-view+json": {
       "model_id": "a4f51167c03845f59b25de9210f28a71",
       "version_major": 2,
       "version_minor": 0
      },
      "text/plain": [
       "HBox(children=(Label(value='1985'), Label(value='Juhász Dóra'), HTML(value='Ju<font color=green>^\\xad</font>há…"
      ]
     },
     "metadata": {},
     "output_type": "display_data"
    },
    {
     "data": {
      "application/vnd.jupyter.widget-view+json": {
       "model_id": "c5192341554443fa9944413b8771eff9",
       "version_major": 2,
       "version_minor": 0
      },
      "text/plain": [
       "HBox(children=(Label(value='239'), Label(value='Havas Bálint'), HTML(value='Havas Bálint<font color=green>^)</…"
      ]
     },
     "metadata": {},
     "output_type": "display_data"
    },
    {
     "data": {
      "application/vnd.jupyter.widget-view+json": {
       "model_id": "7d25ef853c08414da68a38aa8e4a1eaf",
       "version_major": 2,
       "version_minor": 0
      },
      "text/plain": [
       "HBox(children=(Label(value='15839'), Label(value='Básthy Ágnes'), HTML(value='Bást<font color=red>^h</font>y Á…"
      ]
     },
     "metadata": {},
     "output_type": "display_data"
    },
    {
     "data": {
      "application/vnd.jupyter.widget-view+json": {
       "model_id": "3dcf4637d71e44e3872ede988146014b",
       "version_major": 2,
       "version_minor": 0
      },
      "text/plain": [
       "HBox(children=(Label(value='14418'), Label(value='Bánfi Brigitta'), HTML(value='Bán<font color=green>^f</font>…"
      ]
     },
     "metadata": {},
     "output_type": "display_data"
    },
    {
     "data": {
      "application/vnd.jupyter.widget-view+json": {
       "model_id": "0a6abf37df994cd08ef60b615d94ce12",
       "version_major": 2,
       "version_minor": 0
      },
      "text/plain": [
       "HBox(children=(Label(value='11936'), Label(value='Széchy Beáta'), HTML(value='Széchy Beáta<font color=green>^ …"
      ]
     },
     "metadata": {},
     "output_type": "display_data"
    },
    {
     "data": {
      "application/vnd.jupyter.widget-view+json": {
       "model_id": "e11f6964dd6f4a8cba784d5a6e43fab3",
       "version_major": 2,
       "version_minor": 0
      },
      "text/plain": [
       "HBox(children=(Label(value='9033'), Label(value='Barát Fábián'), HTML(value='Barát<font color=green>^h</font> …"
      ]
     },
     "metadata": {},
     "output_type": "display_data"
    },
    {
     "data": {
      "application/vnd.jupyter.widget-view+json": {
       "model_id": "9245bed430aa42e49a40bc63311284e6",
       "version_major": 2,
       "version_minor": 0
      },
      "text/plain": [
       "HBox(children=(Label(value='8941'), Label(value='Szirányi István'), HTML(value='Szirányi Istvá<font color=red>…"
      ]
     },
     "metadata": {},
     "output_type": "display_data"
    },
    {
     "data": {
      "application/vnd.jupyter.widget-view+json": {
       "model_id": "be0aadfa661e4d9e989fcc4b0af70512",
       "version_major": 2,
       "version_minor": 0
      },
      "text/plain": [
       "HBox(children=(Label(value='5138'), Label(value='Nádudvari Noémi'), HTML(value='Nádudvari Noémi<font color=gre…"
      ]
     },
     "metadata": {},
     "output_type": "display_data"
    },
    {
     "data": {
      "application/vnd.jupyter.widget-view+json": {
       "model_id": "192139aa236a4cd38983f7eb67534108",
       "version_major": 2,
       "version_minor": 0
      },
      "text/plain": [
       "HBox(children=(Label(value='3559'), Label(value='Kisspál Szabolcs'), HTML(value='Ki<font color=red>^s</font>sp…"
      ]
     },
     "metadata": {},
     "output_type": "display_data"
    },
    {
     "data": {
      "application/vnd.jupyter.widget-view+json": {
       "model_id": "883dc820a7e24f2d9f25823636554dd1",
       "version_major": 2,
       "version_minor": 0
      },
      "text/plain": [
       "HBox(children=(Label(value='1068'), Label(value='S. Nagy Katalin'), HTML(value='S.<font color=red>^ </font>Nag…"
      ]
     },
     "metadata": {},
     "output_type": "display_data"
    },
    {
     "data": {
      "application/vnd.jupyter.widget-view+json": {
       "model_id": "5d187bc68c8347418a5e2ce1a804fcd8",
       "version_major": 2,
       "version_minor": 0
      },
      "text/plain": [
       "HBox(children=(Label(value='568'), Label(value='Lábass Endre'), HTML(value='Lá<font color=green>^\\xad</font>ba…"
      ]
     },
     "metadata": {},
     "output_type": "display_data"
    },
    {
     "data": {
      "application/vnd.jupyter.widget-view+json": {
       "model_id": "3dab5dc9889b4dbf831991c624c2be64",
       "version_major": 2,
       "version_minor": 0
      },
      "text/plain": [
       "HBox(children=(Label(value='568'), Label(value='Lábass Endre'), HTML(value='Lába<font color=red>^s</font>s End…"
      ]
     },
     "metadata": {},
     "output_type": "display_data"
    },
    {
     "data": {
      "application/vnd.jupyter.widget-view+json": {
       "model_id": "0f7c969aeb4a4312948442a8f81679f2",
       "version_major": 2,
       "version_minor": 0
      },
      "text/plain": [
       "HBox(children=(Label(value='501'), Label(value='Pőcze Attila'), HTML(value='Pőcze At<font color=red>^t</font>i…"
      ]
     },
     "metadata": {},
     "output_type": "display_data"
    },
    {
     "data": {
      "application/vnd.jupyter.widget-view+json": {
       "model_id": "1a85b6e86d2e492387e91751c3857925",
       "version_major": 2,
       "version_minor": 0
      },
      "text/plain": [
       "HBox(children=(Label(value='23'), Label(value='Borsos Miklós'), HTML(value='Bor<font color=red>^s</font>os Mik…"
      ]
     },
     "metadata": {},
     "output_type": "display_data"
    },
    {
     "data": {
      "application/vnd.jupyter.widget-view+json": {
       "model_id": "1b66a8a24cdf49c7b0abc66153b2b5fc",
       "version_major": 2,
       "version_minor": 0
      },
      "text/plain": [
       "HBox(children=(Label(value='19547'), Label(value='Szilágyi Zsófia Júlia'), HTML(value='Szilágyi Zsófia Jú<font…"
      ]
     },
     "metadata": {},
     "output_type": "display_data"
    },
    {
     "data": {
      "application/vnd.jupyter.widget-view+json": {
       "model_id": "a7b977bec36a4e7c8e6bcc1b1ce226fb",
       "version_major": 2,
       "version_minor": 0
      },
      "text/plain": [
       "HBox(children=(Label(value='15984'), Label(value='Koroknai Zsolt'), HTML(value='Koroknai <font color=green>^ <…"
      ]
     },
     "metadata": {},
     "output_type": "display_data"
    },
    {
     "data": {
      "application/vnd.jupyter.widget-view+json": {
       "model_id": "1ddb081cc788478496dbb36275d5b88f",
       "version_major": 2,
       "version_minor": 0
      },
      "text/plain": [
       "HBox(children=(Label(value='14715'), Label(value='Mátyás Péter'), HTML(value='Mátyás<font color=green>^i</font…"
      ]
     },
     "metadata": {},
     "output_type": "display_data"
    },
    {
     "data": {
      "application/vnd.jupyter.widget-view+json": {
       "model_id": "370f958ea05745a4bb2c165f31a2851b",
       "version_major": 2,
       "version_minor": 0
      },
      "text/plain": [
       "HBox(children=(Label(value='14715'), Label(value='Mátyás Péter'), HTML(value='Mátyás<font color=green>^i</font…"
      ]
     },
     "metadata": {},
     "output_type": "display_data"
    },
    {
     "data": {
      "application/vnd.jupyter.widget-view+json": {
       "model_id": "7d4f88d726f142c19aa8bd7a98a33d76",
       "version_major": 2,
       "version_minor": 0
      },
      "text/plain": [
       "HBox(children=(Label(value='13906'), Label(value='Mihályi Barbara'), HTML(value='Mihályi Bar<font color=green>…"
      ]
     },
     "metadata": {},
     "output_type": "display_data"
    },
    {
     "data": {
      "application/vnd.jupyter.widget-view+json": {
       "model_id": "8ab8fbe1f6954c75bd1bf6889e25eec4",
       "version_major": 2,
       "version_minor": 0
      },
      "text/plain": [
       "HBox(children=(Label(value='13115'), Label(value='Konkoly Ágnes'), HTML(value='Konkoly Ágnes<font color=green>…"
      ]
     },
     "metadata": {},
     "output_type": "display_data"
    },
    {
     "data": {
      "application/vnd.jupyter.widget-view+json": {
       "model_id": "191f762de4194b48ab412447a8f0807d",
       "version_major": 2,
       "version_minor": 0
      },
      "text/plain": [
       "HBox(children=(Label(value='9150'), Label(value='Gyarmathy Tihamér'), HTML(value='Gyarmathy Tihamé<font color=…"
      ]
     },
     "metadata": {},
     "output_type": "display_data"
    },
    {
     "data": {
      "application/vnd.jupyter.widget-view+json": {
       "model_id": "6982c45c22fa4c27827543f9f96a9bba",
       "version_major": 2,
       "version_minor": 0
      },
      "text/plain": [
       "HBox(children=(Label(value='7365'), Label(value='Pittmann Zsófi'), HTML(value='Pittmann Zsófi<font color=green…"
      ]
     },
     "metadata": {},
     "output_type": "display_data"
    },
    {
     "data": {
      "application/vnd.jupyter.widget-view+json": {
       "model_id": "b922f3c9e0f74c1a8671316c9d1da616",
       "version_major": 2,
       "version_minor": 0
      },
      "text/plain": [
       "HBox(children=(Label(value='7350'), Label(value='Rechnitzer Zsófia'), HTML(value='Rechnitzer Zsófi<font color=…"
      ]
     },
     "metadata": {},
     "output_type": "display_data"
    },
    {
     "data": {
      "application/vnd.jupyter.widget-view+json": {
       "model_id": "df5dae38e2ad47d3a495ce70baebb028",
       "version_major": 2,
       "version_minor": 0
      },
      "text/plain": [
       "HBox(children=(Label(value='6471'), Label(value='Hafner Mónika'), HTML(value='Hafner Móni<font color=red>^k</f…"
      ]
     },
     "metadata": {},
     "output_type": "display_data"
    },
    {
     "data": {
      "application/vnd.jupyter.widget-view+json": {
       "model_id": "e1f838c3e440423e871edab3eafd474a",
       "version_major": 2,
       "version_minor": 0
      },
      "text/plain": [
       "HBox(children=(Label(value='2503'), Label(value='Saxon-Szász János'), HTML(value='S<font color=green>^z</font>…"
      ]
     },
     "metadata": {},
     "output_type": "display_data"
    },
    {
     "data": {
      "application/vnd.jupyter.widget-view+json": {
       "model_id": "c2f0c55ce22b40a38d3c3b8312239361",
       "version_major": 2,
       "version_minor": 0
      },
      "text/plain": [
       "HBox(children=(Label(value='1658'), Label(value='Frey Krisztián'), HTML(value='Frey Krisz<font color=red>^t</f…"
      ]
     },
     "metadata": {},
     "output_type": "display_data"
    },
    {
     "data": {
      "application/vnd.jupyter.widget-view+json": {
       "model_id": "2ae2ede6703d4d7aa23d80c493c1f3e2",
       "version_major": 2,
       "version_minor": 0
      },
      "text/plain": [
       "HBox(children=(Label(value='18144'), Label(value='Sivák Zsófia'), HTML(value='Sivák Zsófi<font color=red>^a</f…"
      ]
     },
     "metadata": {},
     "output_type": "display_data"
    },
    {
     "data": {
      "application/vnd.jupyter.widget-view+json": {
       "model_id": "fba030544acd46a6b51939f2b8b08024",
       "version_major": 2,
       "version_minor": 0
      },
      "text/plain": [
       "HBox(children=(Label(value='13484'), Label(value='Kántor József'), HTML(value='Kántor Jó<font color=red>^z</fo…"
      ]
     },
     "metadata": {},
     "output_type": "display_data"
    },
    {
     "data": {
      "application/vnd.jupyter.widget-view+json": {
       "model_id": "8c9018978da24c8d9c91d1d0f34302b1",
       "version_major": 2,
       "version_minor": 0
      },
      "text/plain": [
       "HBox(children=(Label(value='13431'), Label(value='Bp. Szabó György'), HTML(value='Bp.<font color=red>^ </font>…"
      ]
     },
     "metadata": {},
     "output_type": "display_data"
    },
    {
     "data": {
      "application/vnd.jupyter.widget-view+json": {
       "model_id": "825292229a664f5e8ee560ce03af3c05",
       "version_major": 2,
       "version_minor": 0
      },
      "text/plain": [
       "HBox(children=(Label(value='12993'), Label(value='Kincses Károly fotómuzeológus'), HTML(value='Kincses Károly …"
      ]
     },
     "metadata": {},
     "output_type": "display_data"
    },
    {
     "data": {
      "application/vnd.jupyter.widget-view+json": {
       "model_id": "0afb47a959fe4c4588414eaeeb859a11",
       "version_major": 2,
       "version_minor": 0
      },
      "text/plain": [
       "HBox(children=(Label(value='12993'), Label(value='Kincses Károly fotómuzeológus'), HTML(value='Kincses Károly …"
      ]
     },
     "metadata": {},
     "output_type": "display_data"
    },
    {
     "data": {
      "application/vnd.jupyter.widget-view+json": {
       "model_id": "8ceb49f5b1e144c9aabb885184b8cadc",
       "version_major": 2,
       "version_minor": 0
      },
      "text/plain": [
       "HBox(children=(Label(value='10696'), Label(value='Kiss Tanne István'), HTML(value='Kiss Tanne Is<font color=re…"
      ]
     },
     "metadata": {},
     "output_type": "display_data"
    },
    {
     "data": {
      "application/vnd.jupyter.widget-view+json": {
       "model_id": "21e30cb9a7e146de8513b312de72d776",
       "version_major": 2,
       "version_minor": 0
      },
      "text/plain": [
       "HBox(children=(Label(value='9944'), Label(value='Palman Zsuzsi'), HTML(value='Palma<font color=green>^n</font>…"
      ]
     },
     "metadata": {},
     "output_type": "display_data"
    },
    {
     "data": {
      "application/vnd.jupyter.widget-view+json": {
       "model_id": "c50df29d5f054b4c922467461dc807ae",
       "version_major": 2,
       "version_minor": 0
      },
      "text/plain": [
       "HBox(children=(Label(value='8774'), Label(value='Frazon Zsófia'), HTML(value='Frazon Zsófi<font color=red>^a</…"
      ]
     },
     "metadata": {},
     "output_type": "display_data"
    },
    {
     "data": {
      "application/vnd.jupyter.widget-view+json": {
       "model_id": "696a49c4e7cb4481ba7a333825395359",
       "version_major": 2,
       "version_minor": 0
      },
      "text/plain": [
       "HBox(children=(Label(value='8095'), Label(value='Erős Ágost Koppány'), HTML(value='Erő<font color=green>^s</fo…"
      ]
     },
     "metadata": {},
     "output_type": "display_data"
    },
    {
     "data": {
      "application/vnd.jupyter.widget-view+json": {
       "model_id": "5d91cd2ede2f4b55885874a76a280b37",
       "version_major": 2,
       "version_minor": 0
      },
      "text/plain": [
       "HBox(children=(Label(value='6795'), Label(value='Ézsiás István'), HTML(value='Ézs<font color=green>^a</font>iá…"
      ]
     },
     "metadata": {},
     "output_type": "display_data"
    },
    {
     "data": {
      "application/vnd.jupyter.widget-view+json": {
       "model_id": "a9a6fab6861d48d4aa08a72ef3928ffc",
       "version_major": 2,
       "version_minor": 0
      },
      "text/plain": [
       "HBox(children=(Label(value='6390'), Label(value='Balogh Krisztián'), HTML(value='Balog<font color=red>^h</font…"
      ]
     },
     "metadata": {},
     "output_type": "display_data"
    },
    {
     "data": {
      "application/vnd.jupyter.widget-view+json": {
       "model_id": "6def2548204f4b1ead36e2beec84e6a0",
       "version_major": 2,
       "version_minor": 0
      },
      "text/plain": [
       "HBox(children=(Label(value='5082'), Label(value='Blaha Tamás'), HTML(value='B<font color=green>^a</font>laha T…"
      ]
     },
     "metadata": {},
     "output_type": "display_data"
    },
    {
     "data": {
      "application/vnd.jupyter.widget-view+json": {
       "model_id": "08fd47bf8e2845009715f836d0c0dffa",
       "version_major": 2,
       "version_minor": 0
      },
      "text/plain": [
       "HBox(children=(Label(value='3710'), Label(value='Roy Lichtenstein'), HTML(value='Roy Li<font color=green>^e</f…"
      ]
     },
     "metadata": {},
     "output_type": "display_data"
    },
    {
     "data": {
      "application/vnd.jupyter.widget-view+json": {
       "model_id": "bd8576b1297548a2b1d8377ee8746247",
       "version_major": 2,
       "version_minor": 0
      },
      "text/plain": [
       "HBox(children=(Label(value='2354'), Label(value='Balás Eszter'), HTML(value='Balá<font color=green>^z</font>s …"
      ]
     },
     "metadata": {},
     "output_type": "display_data"
    },
    {
     "data": {
      "application/vnd.jupyter.widget-view+json": {
       "model_id": "795faf6ad6354cfd85a9a32a35ef6ee5",
       "version_major": 2,
       "version_minor": 0
      },
      "text/plain": [
       "HBox(children=(Label(value='2331'), Label(value='Ferencz S. Apor'), HTML(value='Ferenc<font color=red>^z</font…"
      ]
     },
     "metadata": {},
     "output_type": "display_data"
    },
    {
     "data": {
      "application/vnd.jupyter.widget-view+json": {
       "model_id": "35383785e8ae431d828d3fe76fb6dc21",
       "version_major": 2,
       "version_minor": 0
      },
      "text/plain": [
       "HBox(children=(Label(value='2331'), Label(value='Ferencz S. Apor'), HTML(value='Ferencz S<font color=red>^.</f…"
      ]
     },
     "metadata": {},
     "output_type": "display_data"
    },
    {
     "data": {
      "application/vnd.jupyter.widget-view+json": {
       "model_id": "55589a0b443644a0887ac2c5f60d13f1",
       "version_major": 2,
       "version_minor": 0
      },
      "text/plain": [
       "HBox(children=(Label(value='1279'), Label(value='Ghyczy Dénes'), HTML(value='Ghyczy Dénes<font color=green>^h<…"
      ]
     },
     "metadata": {},
     "output_type": "display_data"
    },
    {
     "data": {
      "application/vnd.jupyter.widget-view+json": {
       "model_id": "4fcb9e1200414040a571aa2cd5597fde",
       "version_major": 2,
       "version_minor": 0
      },
      "text/plain": [
       "HBox(children=(Label(value='1279'), Label(value='Ghyczy Dénes'), HTML(value='G<font color=red>^h</font>yczy Dé…"
      ]
     },
     "metadata": {},
     "output_type": "display_data"
    },
    {
     "data": {
      "application/vnd.jupyter.widget-view+json": {
       "model_id": "3a4dc57210db41dd990dcf17f5684737",
       "version_major": 2,
       "version_minor": 0
      },
      "text/plain": [
       "HBox(children=(Label(value='639'), Label(value='Pásztor Erika Katalina'), HTML(value='Pásztor Erika Katalin<fo…"
      ]
     },
     "metadata": {},
     "output_type": "display_data"
    },
    {
     "data": {
      "application/vnd.jupyter.widget-view+json": {
       "model_id": "1351eaa8a3fa4059ad040a3e4645e7d5",
       "version_major": 2,
       "version_minor": 0
      },
      "text/plain": [
       "HBox(children=(Label(value='331'), Label(value='Kokvács Lehel'), HTML(value='Ko<font color=red>^k</font>vács L…"
      ]
     },
     "metadata": {},
     "output_type": "display_data"
    },
    {
     "data": {
      "application/vnd.jupyter.widget-view+json": {
       "model_id": "12bdb2680c024c0ca9f127c076366fea",
       "version_major": 2,
       "version_minor": 0
      },
      "text/plain": [
       "HBox(children=(Label(value='71'), Label(value='Turányi Gábor'), HTML(value='<font color=green>^-</font>Turányi…"
      ]
     },
     "metadata": {},
     "output_type": "display_data"
    },
    {
     "data": {
      "application/vnd.jupyter.widget-view+json": {
       "model_id": "1de86914374b4203ab65f9a0791c35d1",
       "version_major": 2,
       "version_minor": 0
      },
      "text/plain": [
       "HBox(children=(Label(value='23463'), Label(value='Voytenko Ganna'), HTML(value='Voytenko G<font color=green>^h…"
      ]
     },
     "metadata": {},
     "output_type": "display_data"
    },
    {
     "data": {
      "application/vnd.jupyter.widget-view+json": {
       "model_id": "3de1bd5d44af4d27b648428e55ebb89d",
       "version_major": 2,
       "version_minor": 0
      },
      "text/plain": [
       "HBox(children=(Label(value='20120'), Label(value='Soltész Melinda'), HTML(value='Soltész <font color=green>^ <…"
      ]
     },
     "metadata": {},
     "output_type": "display_data"
    },
    {
     "data": {
      "application/vnd.jupyter.widget-view+json": {
       "model_id": "2eab1bbc617c4c9a842dab0e7966749b",
       "version_major": 2,
       "version_minor": 0
      },
      "text/plain": [
       "HBox(children=(Label(value='19443'), Label(value='Mátyás Péter'), HTML(value='Mátyás<font color=green>^i</font…"
      ]
     },
     "metadata": {},
     "output_type": "display_data"
    },
    {
     "data": {
      "application/vnd.jupyter.widget-view+json": {
       "model_id": "4f74cb72b0ff4896868980ef46837906",
       "version_major": 2,
       "version_minor": 0
      },
      "text/plain": [
       "HBox(children=(Label(value='19443'), Label(value='Mátyás Péter'), HTML(value='Mátyás<font color=green>^i</font…"
      ]
     },
     "metadata": {},
     "output_type": "display_data"
    },
    {
     "data": {
      "application/vnd.jupyter.widget-view+json": {
       "model_id": "ccfc0e729e0e4656924b7dae70d4c04b",
       "version_major": 2,
       "version_minor": 0
      },
      "text/plain": [
       "HBox(children=(Label(value='18725'), Label(value='Juhász Annna'), HTML(value='Juhász Ann<font color=red>^n</fo…"
      ]
     },
     "metadata": {},
     "output_type": "display_data"
    },
    {
     "data": {
      "application/vnd.jupyter.widget-view+json": {
       "model_id": "9cda9b1c3a004ba99e42375a72c7fb80",
       "version_major": 2,
       "version_minor": 0
      },
      "text/plain": [
       "HBox(children=(Label(value='18725'), Label(value='Juhász Annna'), HTML(value='Juhász Ann<font color=red>^n</fo…"
      ]
     },
     "metadata": {},
     "output_type": "display_data"
    },
    {
     "data": {
      "application/vnd.jupyter.widget-view+json": {
       "model_id": "fc0def35b0434b64b26dd0a76d62a35d",
       "version_major": 2,
       "version_minor": 0
      },
      "text/plain": [
       "HBox(children=(Label(value='17194'), Label(value='Kecskés Péter'), HTML(value='Kecskés Péter<font color=green>…"
      ]
     },
     "metadata": {},
     "output_type": "display_data"
    },
    {
     "data": {
      "application/vnd.jupyter.widget-view+json": {
       "model_id": "bda4b891a6a54923a9021bd7a7d125ab",
       "version_major": 2,
       "version_minor": 0
      },
      "text/plain": [
       "HBox(children=(Label(value='16964'), Label(value='Kiss Adrian'), HTML(value='Kiss Adria<font color=green>^́</f…"
      ]
     },
     "metadata": {},
     "output_type": "display_data"
    },
    {
     "data": {
      "application/vnd.jupyter.widget-view+json": {
       "model_id": "d2c4e3d2628f4d22840ad1ed3dd2ad4d",
       "version_major": 2,
       "version_minor": 0
      },
      "text/plain": [
       "HBox(children=(Label(value='13909'), Label(value='Seemann Adrienn'), HTML(value='S<font color=red>^e</font>ema…"
      ]
     },
     "metadata": {},
     "output_type": "display_data"
    },
    {
     "data": {
      "application/vnd.jupyter.widget-view+json": {
       "model_id": "3a507670cb7744eaa86a641569272d2a",
       "version_major": 2,
       "version_minor": 0
      },
      "text/plain": [
       "HBox(children=(Label(value='13601'), Label(value='Kaplár F. Krisztina'), HTML(value='Kaplár F.<font color=red>…"
      ]
     },
     "metadata": {},
     "output_type": "display_data"
    },
    {
     "data": {
      "application/vnd.jupyter.widget-view+json": {
       "model_id": "ca59cb9ed8d148ecb6b32ac563c52237",
       "version_major": 2,
       "version_minor": 0
      },
      "text/plain": [
       "HBox(children=(Label(value='13489'), Label(value='Repászki Ferenc'), HTML(value='Repászki <font color=green>^ …"
      ]
     },
     "metadata": {},
     "output_type": "display_data"
    },
    {
     "data": {
      "application/vnd.jupyter.widget-view+json": {
       "model_id": "79c3597b9dfd4dfa9dc0494d3f0bc849",
       "version_major": 2,
       "version_minor": 0
      },
      "text/plain": [
       "HBox(children=(Label(value='13489'), Label(value='Repászki Ferenc'), HTML(value='Repászki <font color=green>^ …"
      ]
     },
     "metadata": {},
     "output_type": "display_data"
    },
    {
     "data": {
      "application/vnd.jupyter.widget-view+json": {
       "model_id": "69d3e11fd42c42feba01fc7d1b801caf",
       "version_major": 2,
       "version_minor": 0
      },
      "text/plain": [
       "HBox(children=(Label(value='12130'), Label(value='Gál Krisztián'), HTML(value='G<font color=green>^a</font>ál …"
      ]
     },
     "metadata": {},
     "output_type": "display_data"
    },
    {
     "data": {
      "application/vnd.jupyter.widget-view+json": {
       "model_id": "bab91af985b94167a1389ad934ace74b",
       "version_major": 2,
       "version_minor": 0
      },
      "text/plain": [
       "HBox(children=(Label(value='11995'), Label(value='Kusnyár Eveline'), HTML(value='Kusnyár Evelin<font color=red…"
      ]
     },
     "metadata": {},
     "output_type": "display_data"
    },
    {
     "data": {
      "application/vnd.jupyter.widget-view+json": {
       "model_id": "336f33ad8ec848fb89faac8389ea14b7",
       "version_major": 2,
       "version_minor": 0
      },
      "text/plain": [
       "HBox(children=(Label(value='11493'), Label(value='Balázs Eszter'), HTML(value='Balá<font color=red>^z</font>s …"
      ]
     },
     "metadata": {},
     "output_type": "display_data"
    },
    {
     "data": {
      "application/vnd.jupyter.widget-view+json": {
       "model_id": "ca6b0ad726154eb481b2f0278ffa9c7d",
       "version_major": 2,
       "version_minor": 0
      },
      "text/plain": [
       "HBox(children=(Label(value='10574'), Label(value='Agnes von Uray'), HTML(value='Ag<font color=red>^n</font>es …"
      ]
     },
     "metadata": {},
     "output_type": "display_data"
    },
    {
     "data": {
      "application/vnd.jupyter.widget-view+json": {
       "model_id": "3c939cf6d87b4def9d92444c999e1ba2",
       "version_major": 2,
       "version_minor": 0
      },
      "text/plain": [
       "HBox(children=(Label(value='9440'), Label(value='Tehnica Schweiz'), HTML(value='Te<font color=green>^c</font>h…"
      ]
     },
     "metadata": {},
     "output_type": "display_data"
    },
    {
     "data": {
      "application/vnd.jupyter.widget-view+json": {
       "model_id": "600a022f89764c7586c22b06eea4856f",
       "version_major": 2,
       "version_minor": 0
      },
      "text/plain": [
       "HBox(children=(Label(value='8544'), Label(value='Szunyoghy Viktória'), HTML(value='Szunyoghy <font color=green…"
      ]
     },
     "metadata": {},
     "output_type": "display_data"
    },
    {
     "data": {
      "application/vnd.jupyter.widget-view+json": {
       "model_id": "d59d34c12e854c78b1b987be0d7e8cc9",
       "version_major": 2,
       "version_minor": 0
      },
      "text/plain": [
       "HBox(children=(Label(value='8366'), Label(value='Lengyel Péter'), HTML(value='Len<font color=green>^\\xad</font…"
      ]
     },
     "metadata": {},
     "output_type": "display_data"
    },
    {
     "data": {
      "application/vnd.jupyter.widget-view+json": {
       "model_id": "22484444ce064efd9edbc6163bd9fc4f",
       "version_major": 2,
       "version_minor": 0
      },
      "text/plain": [
       "HBox(children=(Label(value='8003'), Label(value='Péterfy Gergely'), HTML(value='Péter<font color=green>^f</fon…"
      ]
     },
     "metadata": {},
     "output_type": "display_data"
    },
    {
     "data": {
      "application/vnd.jupyter.widget-view+json": {
       "model_id": "fa13cb1631b74922adc4072e7e3a32d4",
       "version_major": 2,
       "version_minor": 0
      },
      "text/plain": [
       "HBox(children=(Label(value='6759'), Label(value='Pézman Andrea'), HTML(value='Pézma<font color=green>^n</font>…"
      ]
     },
     "metadata": {},
     "output_type": "display_data"
    },
    {
     "data": {
      "application/vnd.jupyter.widget-view+json": {
       "model_id": "4bd0f23df7e94bd6aabf6aa16937ae90",
       "version_major": 2,
       "version_minor": 0
      },
      "text/plain": [
       "HBox(children=(Label(value='5909'), Label(value='Hermann Nitsch'), HTML(value='Herma<font color=red>^n</font>n…"
      ]
     },
     "metadata": {},
     "output_type": "display_data"
    },
    {
     "data": {
      "application/vnd.jupyter.widget-view+json": {
       "model_id": "c9d700933b4a4104b72c75f644bc4095",
       "version_major": 2,
       "version_minor": 0
      },
      "text/plain": [
       "HBox(children=(Label(value='5889'), Label(value='Erőss István'), HTML(value='Erő<font color=red>^s</font>s Ist…"
      ]
     },
     "metadata": {},
     "output_type": "display_data"
    },
    {
     "data": {
      "application/vnd.jupyter.widget-view+json": {
       "model_id": "696b91fb44e94f24bc966140eef59af4",
       "version_major": 2,
       "version_minor": 0
      },
      "text/plain": [
       "HBox(children=(Label(value='5431'), Label(value='Tillmann J.A.'), HTML(value='Tillmann J.<font color=green>^ <…"
      ]
     },
     "metadata": {},
     "output_type": "display_data"
    },
    {
     "data": {
      "application/vnd.jupyter.widget-view+json": {
       "model_id": "b8c86dab241143a2a872bca533a1fcae",
       "version_major": 2,
       "version_minor": 0
      },
      "text/plain": [
       "HBox(children=(Label(value='5431'), Label(value='Tillmann J.A.'), HTML(value='Tillmann J.<font color=green>^ <…"
      ]
     },
     "metadata": {},
     "output_type": "display_data"
    },
    {
     "data": {
      "application/vnd.jupyter.widget-view+json": {
       "model_id": "219bb928ba5d4686aeec21b8c144774e",
       "version_major": 2,
       "version_minor": 0
      },
      "text/plain": [
       "HBox(children=(Label(value='5431'), Label(value='Tillmann J.A.'), HTML(value='Tillmann J.<font color=green>^ <…"
      ]
     },
     "metadata": {},
     "output_type": "display_data"
    },
    {
     "data": {
      "application/vnd.jupyter.widget-view+json": {
       "model_id": "9a12a7cea39c49f4bdc7c603d9df3768",
       "version_major": 2,
       "version_minor": 0
      },
      "text/plain": [
       "HBox(children=(Label(value='5431'), Label(value='Tillmann J.A.'), HTML(value='Tillmann J.<font color=green>^ <…"
      ]
     },
     "metadata": {},
     "output_type": "display_data"
    },
    {
     "data": {
      "application/vnd.jupyter.widget-view+json": {
       "model_id": "892642903667438e9b276a0ee6b07925",
       "version_major": 2,
       "version_minor": 0
      },
      "text/plain": [
       "HBox(children=(Label(value='5431'), Label(value='Tillmann J.A.'), HTML(value='Tillmann J.<font color=green>^ <…"
      ]
     },
     "metadata": {},
     "output_type": "display_data"
    },
    {
     "data": {
      "application/vnd.jupyter.widget-view+json": {
       "model_id": "50717ee73261491a9a95386a382a1560",
       "version_major": 2,
       "version_minor": 0
      },
      "text/plain": [
       "HBox(children=(Label(value='5431'), Label(value='Tillmann J.A.'), HTML(value='Tillman<font color=red>^n</font>…"
      ]
     },
     "metadata": {},
     "output_type": "display_data"
    },
    {
     "data": {
      "application/vnd.jupyter.widget-view+json": {
       "model_id": "d9baa3a5634344aca3dc440d3f0b71ff",
       "version_major": 2,
       "version_minor": 0
      },
      "text/plain": [
       "HBox(children=(Label(value='5431'), Label(value='Tillmann J.A.'), HTML(value='Tillmann J.<font color=green>^ <…"
      ]
     },
     "metadata": {},
     "output_type": "display_data"
    },
    {
     "data": {
      "application/vnd.jupyter.widget-view+json": {
       "model_id": "daadd24bfe274e53960e6496582e8193",
       "version_major": 2,
       "version_minor": 0
      },
      "text/plain": [
       "HBox(children=(Label(value='4616'), Label(value='Nemes Csaba'), HTML(value='Nemes Csaba<font color=green>^:</f…"
      ]
     },
     "metadata": {},
     "output_type": "display_data"
    },
    {
     "data": {
      "application/vnd.jupyter.widget-view+json": {
       "model_id": "a246ca2807e24066b58e34d850294158",
       "version_major": 2,
       "version_minor": 0
      },
      "text/plain": [
       "HBox(children=(Label(value='4296'), Label(value='Szepes Hédi'), HTML(value='Szepes<font color=green>^i</font> …"
      ]
     },
     "metadata": {},
     "output_type": "display_data"
    },
    {
     "data": {
      "application/vnd.jupyter.widget-view+json": {
       "model_id": "3d2fc3f816054a329b4bfc9ed33af189",
       "version_major": 2,
       "version_minor": 0
      },
      "text/plain": [
       "HBox(children=(Label(value='4110'), Label(value='Miklya Gábor'), HTML(value='Mik<font color=green>^\\xad</font>…"
      ]
     },
     "metadata": {},
     "output_type": "display_data"
    },
    {
     "data": {
      "application/vnd.jupyter.widget-view+json": {
       "model_id": "e76fdd334c1249c8ad74e6cb397c77b3",
       "version_major": 2,
       "version_minor": 0
      },
      "text/plain": [
       "HBox(children=(Label(value='598'), Label(value='Bakács Tibor Settenkedő'), HTML(value='Baká<font color=blue>^t…"
      ]
     },
     "metadata": {},
     "output_type": "display_data"
    },
    {
     "data": {
      "application/vnd.jupyter.widget-view+json": {
       "model_id": "e1906113b5e84ad195c767088f9c8293",
       "version_major": 2,
       "version_minor": 0
      },
      "text/plain": [
       "HBox(children=(Label(value='21979'), Label(value='Böjte Horváth István'), HTML(value='Böjte<font color=green>^…"
      ]
     },
     "metadata": {},
     "output_type": "display_data"
    },
    {
     "data": {
      "application/vnd.jupyter.widget-view+json": {
       "model_id": "788e5619871f46c382b3f1296620a53c",
       "version_major": 2,
       "version_minor": 0
      },
      "text/plain": [
       "HBox(children=(Label(value='21464'), Label(value='Katrina Sevic'), HTML(value='Kat<font color=green>^a</font>r…"
      ]
     },
     "metadata": {},
     "output_type": "display_data"
    },
    {
     "data": {
      "application/vnd.jupyter.widget-view+json": {
       "model_id": "858ca3517cb94288ab0d48600742b9f6",
       "version_major": 2,
       "version_minor": 0
      },
      "text/plain": [
       "HBox(children=(Label(value='20591'), Label(value='Lucza Zsigmond'), HTML(value='Luc<font color=red>^z</font>a …"
      ]
     },
     "metadata": {},
     "output_type": "display_data"
    },
    {
     "data": {
      "application/vnd.jupyter.widget-view+json": {
       "model_id": "d891ce70a1194b488797ebf468744d46",
       "version_major": 2,
       "version_minor": 0
      },
      "text/plain": [
       "HBox(children=(Label(value='20589'), Label(value='Horváth Helén Sára'), HTML(value='Horvát<font color=red>^h</…"
      ]
     },
     "metadata": {},
     "output_type": "display_data"
    },
    {
     "data": {
      "application/vnd.jupyter.widget-view+json": {
       "model_id": "a008d2b2bb6e418d938ac4e36613d429",
       "version_major": 2,
       "version_minor": 0
      },
      "text/plain": [
       "HBox(children=(Label(value='18800'), Label(value='Horváth Helén Sára'), HTML(value='Horvát<font color=red>^h</…"
      ]
     },
     "metadata": {},
     "output_type": "display_data"
    },
    {
     "data": {
      "application/vnd.jupyter.widget-view+json": {
       "model_id": "2fe2f7e4e702433ea3e8f9c9d9189bac",
       "version_major": 2,
       "version_minor": 0
      },
      "text/plain": [
       "HBox(children=(Label(value='17849'), Label(value='Sztefanu Marina'), HTML(value='Sztefanu Mari<font color=gree…"
      ]
     },
     "metadata": {},
     "output_type": "display_data"
    },
    {
     "data": {
      "application/vnd.jupyter.widget-view+json": {
       "model_id": "6379abfec12c4f0cb6dd0981d98969c9",
       "version_major": 2,
       "version_minor": 0
      },
      "text/plain": [
       "HBox(children=(Label(value='17200'), Label(value='Mengyán András'), HTML(value='Me<font color=red>^n</font>gyá…"
      ]
     },
     "metadata": {},
     "output_type": "display_data"
    },
    {
     "data": {
      "application/vnd.jupyter.widget-view+json": {
       "model_id": "03b890335cb44104b471faf6a037a5b2",
       "version_major": 2,
       "version_minor": 0
      },
      "text/plain": [
       "HBox(children=(Label(value='16266'), Label(value='Szolnoki József'), HTML(value='Szolnoki József<font color=gr…"
      ]
     },
     "metadata": {},
     "output_type": "display_data"
    },
    {
     "data": {
      "application/vnd.jupyter.widget-view+json": {
       "model_id": "4edae13fdfe0480fae1523cacf85b5e3",
       "version_major": 2,
       "version_minor": 0
      },
      "text/plain": [
       "HBox(children=(Label(value='15973'), Label(value='Büki Zsuzsanna'), HTML(value='Bü<font color=green>^k</font>k…"
      ]
     },
     "metadata": {},
     "output_type": "display_data"
    },
    {
     "data": {
      "application/vnd.jupyter.widget-view+json": {
       "model_id": "e9b33ddee36b41e1a7306cb6ffa96f27",
       "version_major": 2,
       "version_minor": 0
      },
      "text/plain": [
       "HBox(children=(Label(value='15288'), Label(value='Reischl Szilvia'), HTML(value='Reischl Szilvi<font color=red…"
      ]
     },
     "metadata": {},
     "output_type": "display_data"
    },
    {
     "data": {
      "application/vnd.jupyter.widget-view+json": {
       "model_id": "cebe7480113e48b7a5b1a9bc3de8c66d",
       "version_major": 2,
       "version_minor": 0
      },
      "text/plain": [
       "HBox(children=(Label(value='14401'), Label(value='Konkoly Ágnes'), HTML(value='Konkoly Ágnes<font color=green>…"
      ]
     },
     "metadata": {},
     "output_type": "display_data"
    },
    {
     "data": {
      "application/vnd.jupyter.widget-view+json": {
       "model_id": "a98dd83cd96144b38d121c2357ad5f21",
       "version_major": 2,
       "version_minor": 0
      },
      "text/plain": [
       "HBox(children=(Label(value='12876'), Label(value='Kemény Zsófi'), HTML(value='Kemény Zsófi<font color=green>^a…"
      ]
     },
     "metadata": {},
     "output_type": "display_data"
    },
    {
     "data": {
      "application/vnd.jupyter.widget-view+json": {
       "model_id": "d98c624f1ff847a287e4c0383a812a68",
       "version_major": 2,
       "version_minor": 0
      },
      "text/plain": [
       "HBox(children=(Label(value='12790'), Label(value='Tasnádi Szandra'), HTML(value='Tasnádi Sza<font color=red>^n…"
      ]
     },
     "metadata": {},
     "output_type": "display_data"
    },
    {
     "data": {
      "application/vnd.jupyter.widget-view+json": {
       "model_id": "99935f9348584b0284afd00c7fe76eed",
       "version_major": 2,
       "version_minor": 0
      },
      "text/plain": [
       "HBox(children=(Label(value='11811'), Label(value='Antall István'), HTML(value='Anta<font color=red>^l</font>l …"
      ]
     },
     "metadata": {},
     "output_type": "display_data"
    },
    {
     "data": {
      "application/vnd.jupyter.widget-view+json": {
       "model_id": "9e523a4a2f4d45639cdd4c35a0f40abc",
       "version_major": 2,
       "version_minor": 0
      },
      "text/plain": [
       "HBox(children=(Label(value='10774'), Label(value='Müllner András'), HTML(value='<font color=green>^-</font>Mül…"
      ]
     },
     "metadata": {},
     "output_type": "display_data"
    },
    {
     "data": {
      "application/vnd.jupyter.widget-view+json": {
       "model_id": "ea232fc1e9ed443ab96ee67539c001d3",
       "version_major": 2,
       "version_minor": 0
      },
      "text/plain": [
       "HBox(children=(Label(value='8307'), Label(value='Meggyes László Vendel'), HTML(value='Me<font color=red>^g</fo…"
      ]
     },
     "metadata": {},
     "output_type": "display_data"
    },
    {
     "data": {
      "application/vnd.jupyter.widget-view+json": {
       "model_id": "03035ec901314ce586d8f797060b5ca8",
       "version_major": 2,
       "version_minor": 0
      },
      "text/plain": [
       "HBox(children=(Label(value='8125'), Label(value='Farkas Zsófi'), HTML(value='Farkas Zsófi<font color=green>^a<…"
      ]
     },
     "metadata": {},
     "output_type": "display_data"
    },
    {
     "data": {
      "application/vnd.jupyter.widget-view+json": {
       "model_id": "a69e0a74baed47e8a0676a241a0dc7b8",
       "version_major": 2,
       "version_minor": 0
      },
      "text/plain": [
       "HBox(children=(Label(value='7881'), Label(value='Hudra Klára'), HTML(value='<font color=green>^-</font>Hudra K…"
      ]
     },
     "metadata": {},
     "output_type": "display_data"
    },
    {
     "data": {
      "application/vnd.jupyter.widget-view+json": {
       "model_id": "9afd0415dc204dffa08fc0c27ff0229a",
       "version_major": 2,
       "version_minor": 0
      },
      "text/plain": [
       "HBox(children=(Label(value='7455'), Label(value='Antall István'), HTML(value='Anta<font color=red>^l</font>l I…"
      ]
     },
     "metadata": {},
     "output_type": "display_data"
    },
    {
     "data": {
      "application/vnd.jupyter.widget-view+json": {
       "model_id": "9075ab7c08a64a0d8b63e13c9f04fe4d",
       "version_major": 2,
       "version_minor": 0
      },
      "text/plain": [
       "HBox(children=(Label(value='7303'), Label(value='Philippe Brame'), HTML(value='Phi<font color=green>^l</font>l…"
      ]
     },
     "metadata": {},
     "output_type": "display_data"
    },
    {
     "data": {
      "application/vnd.jupyter.widget-view+json": {
       "model_id": "963ece5a7eec48028aa79a5262a5d76b",
       "version_major": 2,
       "version_minor": 0
      },
      "text/plain": [
       "HBox(children=(Label(value='6981'), Label(value='Hajdu István'), HTML(value='Hajdu István<font color=green>^:<…"
      ]
     },
     "metadata": {},
     "output_type": "display_data"
    },
    {
     "data": {
      "application/vnd.jupyter.widget-view+json": {
       "model_id": "44cadf8412064434ba17860ec7ba54d3",
       "version_major": 2,
       "version_minor": 0
      },
      "text/plain": [
       "HBox(children=(Label(value='5984'), Label(value='Zirczi Judit'), HTML(value='Zirc<font color=red>^z</font>i Ju…"
      ]
     },
     "metadata": {},
     "output_type": "display_data"
    },
    {
     "data": {
      "application/vnd.jupyter.widget-view+json": {
       "model_id": "e9e31a35877544ee8d5f66e7cac7b4dd",
       "version_major": 2,
       "version_minor": 0
      },
      "text/plain": [
       "HBox(children=(Label(value='5061'), Label(value='Herczeg László'), HTML(value='Herc<font color=red>^z</font>eg…"
      ]
     },
     "metadata": {},
     "output_type": "display_data"
    },
    {
     "data": {
      "application/vnd.jupyter.widget-view+json": {
       "model_id": "ea0f9b4babd94018b8ddab654682bdf3",
       "version_major": 2,
       "version_minor": 0
      },
      "text/plain": [
       "HBox(children=(Label(value='4885'), Label(value='Janáky István'), HTML(value='<font color=green>^+</font>Janák…"
      ]
     },
     "metadata": {},
     "output_type": "display_data"
    },
    {
     "data": {
      "application/vnd.jupyter.widget-view+json": {
       "model_id": "82f6b48411634396999059cc138702ce",
       "version_major": 2,
       "version_minor": 0
      },
      "text/plain": [
       "HBox(children=(Label(value='4407'), Label(value='Békési László'), HTML(value='Békési Lász<font color=red>^l</f…"
      ]
     },
     "metadata": {},
     "output_type": "display_data"
    },
    {
     "data": {
      "application/vnd.jupyter.widget-view+json": {
       "model_id": "68a28137de39404e8ca43f89515364df",
       "version_major": 2,
       "version_minor": 0
      },
      "text/plain": [
       "HBox(children=(Label(value='4109'), Label(value='Kuti László'), HTML(value='Kuti Lász<font color=green>^\\xad</…"
      ]
     },
     "metadata": {},
     "output_type": "display_data"
    },
    {
     "data": {
      "application/vnd.jupyter.widget-view+json": {
       "model_id": "4e7ec6dd09a449209667aa066eb05e54",
       "version_major": 2,
       "version_minor": 0
      },
      "text/plain": [
       "HBox(children=(Label(value='3787'), Label(value='Tillmann J. A.'), HTML(value='Tillman<font color=red>^n</font…"
      ]
     },
     "metadata": {},
     "output_type": "display_data"
    },
    {
     "data": {
      "application/vnd.jupyter.widget-view+json": {
       "model_id": "cb59d803f2294733b9bb170a6999ec2c",
       "version_major": 2,
       "version_minor": 0
      },
      "text/plain": [
       "HBox(children=(Label(value='3787'), Label(value='Tillmann J. A.'), HTML(value='Ti<font color=red>^l</font>lman…"
      ]
     },
     "metadata": {},
     "output_type": "display_data"
    },
    {
     "data": {
      "application/vnd.jupyter.widget-view+json": {
       "model_id": "6536a8b048ce4340851fb37a9981f3f7",
       "version_major": 2,
       "version_minor": 0
      },
      "text/plain": [
       "HBox(children=(Label(value='3787'), Label(value='Tillmann J. A.'), HTML(value='Tillmann J.<font color=red>^ </…"
      ]
     },
     "metadata": {},
     "output_type": "display_data"
    },
    {
     "data": {
      "application/vnd.jupyter.widget-view+json": {
       "model_id": "7735e100529b4195afcae5450a700f2b",
       "version_major": 2,
       "version_minor": 0
      },
      "text/plain": [
       "HBox(children=(Label(value='3378'), Label(value='Sz. Szilágyi Gábor'), HTML(value='Sz.<font color=red>^ </font…"
      ]
     },
     "metadata": {},
     "output_type": "display_data"
    },
    {
     "data": {
      "application/vnd.jupyter.widget-view+json": {
       "model_id": "990845b30f8d4e64949dd53e632db63d",
       "version_major": 2,
       "version_minor": 0
      },
      "text/plain": [
       "HBox(children=(Label(value='3287'), Label(value='Balázs Imre Barna'), HTML(value='Ba<font color=green>^\\xad</f…"
      ]
     },
     "metadata": {},
     "output_type": "display_data"
    },
    {
     "data": {
      "application/vnd.jupyter.widget-view+json": {
       "model_id": "901e9f1c2dad49a3886b1fc071e4ae36",
       "version_major": 2,
       "version_minor": 0
      },
      "text/plain": [
       "HBox(children=(Label(value='3178'), Label(value='Bullás József'), HTML(value='Bullás József<font color=green>^…"
      ]
     },
     "metadata": {},
     "output_type": "display_data"
    },
    {
     "data": {
      "application/vnd.jupyter.widget-view+json": {
       "model_id": "dc26572f17d54598a8f69d7d20acf653",
       "version_major": 2,
       "version_minor": 0
      },
      "text/plain": [
       "HBox(children=(Label(value='3178'), Label(value='Bullás József'), HTML(value='Bullás József<font color=green>^…"
      ]
     },
     "metadata": {},
     "output_type": "display_data"
    },
    {
     "data": {
      "application/vnd.jupyter.widget-view+json": {
       "model_id": "89262c3ad31a42a8b7ee5faf970f9077",
       "version_major": 2,
       "version_minor": 0
      },
      "text/plain": [
       "HBox(children=(Label(value='959'), Label(value='Langh Róbert'), HTML(value='Lang<font color=red>^h</font> Róbe…"
      ]
     },
     "metadata": {},
     "output_type": "display_data"
    },
    {
     "data": {
      "application/vnd.jupyter.widget-view+json": {
       "model_id": "d403c8a9d214482e860debb215a4da7a",
       "version_major": 2,
       "version_minor": 0
      },
      "text/plain": [
       "HBox(children=(Label(value='788'), Label(value='Mayer Mariann'), HTML(value='Mayer Mariann<font color=green>^a…"
      ]
     },
     "metadata": {},
     "output_type": "display_data"
    },
    {
     "data": {
      "application/vnd.jupyter.widget-view+json": {
       "model_id": "9a07d8b1a2a1465a9cded16207ef3e18",
       "version_major": 2,
       "version_minor": 0
      },
      "text/plain": [
       "HBox(children=(Label(value='788'), Label(value='Mayer Mariann'), HTML(value='Mayer Marian<font color=red>^n</f…"
      ]
     },
     "metadata": {},
     "output_type": "display_data"
    },
    {
     "data": {
      "application/vnd.jupyter.widget-view+json": {
       "model_id": "ab287bb32f5c49aea52abd9f2f4cebc6",
       "version_major": 2,
       "version_minor": 0
      },
      "text/plain": [
       "HBox(children=(Label(value='470'), Label(value='Francoise Gilot'), HTML(value='Francoise Gil<font color=green>…"
      ]
     },
     "metadata": {},
     "output_type": "display_data"
    },
    {
     "data": {
      "application/vnd.jupyter.widget-view+json": {
       "model_id": "7936e4fc2c3544339c13ccfa02d2c6e5",
       "version_major": 2,
       "version_minor": 0
      },
      "text/plain": [
       "HBox(children=(Label(value='189'), Label(value='Készman József'), HTML(value='Készman József<font color=green>…"
      ]
     },
     "metadata": {},
     "output_type": "display_data"
    },
    {
     "data": {
      "application/vnd.jupyter.widget-view+json": {
       "model_id": "abcb006ff40640d48ce6289c986b6e71",
       "version_major": 2,
       "version_minor": 0
      },
      "text/plain": [
       "HBox(children=(Label(value='119'), Label(value='Michal Kolecek'), HTML(value='Micha<font color=green>^i</font>…"
      ]
     },
     "metadata": {},
     "output_type": "display_data"
    },
    {
     "data": {
      "application/vnd.jupyter.widget-view+json": {
       "model_id": "f6e5185948fa45a4bee44c418e15962a",
       "version_major": 2,
       "version_minor": 0
      },
      "text/plain": [
       "HBox(children=(Label(value='23753'), Label(value='Kiss Adrian'), HTML(value='Kiss Adria<font color=green>^́</f…"
      ]
     },
     "metadata": {},
     "output_type": "display_data"
    },
    {
     "data": {
      "application/vnd.jupyter.widget-view+json": {
       "model_id": "fa89ecc243654cda852f1590e9f8deda",
       "version_major": 2,
       "version_minor": 0
      },
      "text/plain": [
       "HBox(children=(Label(value='23157'), Label(value='Koroknai Zsolt'), HTML(value='Koroknai <font color=green>^ <…"
      ]
     },
     "metadata": {},
     "output_type": "display_data"
    },
    {
     "data": {
      "application/vnd.jupyter.widget-view+json": {
       "model_id": "7b4010d54fb14d04aa07e728bcc5da2f",
       "version_major": 2,
       "version_minor": 0
      },
      "text/plain": [
       "HBox(children=(Label(value='22410'), Label(value='N. Mészáros Júlia'), HTML(value='N.<font color=red>^ </font>…"
      ]
     },
     "metadata": {},
     "output_type": "display_data"
    },
    {
     "data": {
      "application/vnd.jupyter.widget-view+json": {
       "model_id": "a8a93eac25c7405b9f705146f1cec805",
       "version_major": 2,
       "version_minor": 0
      },
      "text/plain": [
       "HBox(children=(Label(value='22410'), Label(value='N. Mészáros Júlia'), HTML(value='N.<font color=red>^ </font>…"
      ]
     },
     "metadata": {},
     "output_type": "display_data"
    },
    {
     "data": {
      "application/vnd.jupyter.widget-view+json": {
       "model_id": "33b5bc951a5542b2b17ab4986006fc95",
       "version_major": 2,
       "version_minor": 0
      },
      "text/plain": [
       "HBox(children=(Label(value='22375'), Label(value='Ferencz S. Apor'), HTML(value='Ferenc<font color=red>^z</fon…"
      ]
     },
     "metadata": {},
     "output_type": "display_data"
    },
    {
     "data": {
      "application/vnd.jupyter.widget-view+json": {
       "model_id": "efe418d0dc3641a3866b4c95a1d9c8fb",
       "version_major": 2,
       "version_minor": 0
      },
      "text/plain": [
       "HBox(children=(Label(value='22375'), Label(value='Ferencz S. Apor'), HTML(value='Ferencz S<font color=red>^.</…"
      ]
     },
     "metadata": {},
     "output_type": "display_data"
    },
    {
     "data": {
      "application/vnd.jupyter.widget-view+json": {
       "model_id": "3bfca0fe070144ccb957a162155e656b",
       "version_major": 2,
       "version_minor": 0
      },
      "text/plain": [
       "HBox(children=(Label(value='22323'), Label(value='Somogyi-Rohonczy Zsófia'), HTML(value='Somogyi-Rohonczy Zsóf…"
      ]
     },
     "metadata": {},
     "output_type": "display_data"
    },
    {
     "data": {
      "application/vnd.jupyter.widget-view+json": {
       "model_id": "9515d30fc2a94621b6e01c38f0a36035",
       "version_major": 2,
       "version_minor": 0
      },
      "text/plain": [
       "HBox(children=(Label(value='22323'), Label(value='Somogyi-Rohonczy Zsófia'), HTML(value='Somogyi<font color=bl…"
      ]
     },
     "metadata": {},
     "output_type": "display_data"
    },
    {
     "data": {
      "application/vnd.jupyter.widget-view+json": {
       "model_id": "b40a633acff744009bdcbee57724a279",
       "version_major": 2,
       "version_minor": 0
      },
      "text/plain": [
       "HBox(children=(Label(value='21716'), Label(value='Kovács Tibor'), HTML(value='Kovács<font color=green>^y</font…"
      ]
     },
     "metadata": {},
     "output_type": "display_data"
    },
    {
     "data": {
      "application/vnd.jupyter.widget-view+json": {
       "model_id": "ab7c9eb81e744b6c9ba3c58c93795698",
       "version_major": 2,
       "version_minor": 0
      },
      "text/plain": [
       "HBox(children=(Label(value='21325'), Label(value='Mátyás Péter'), HTML(value='Mátyás<font color=green>^i</font…"
      ]
     },
     "metadata": {},
     "output_type": "display_data"
    },
    {
     "data": {
      "application/vnd.jupyter.widget-view+json": {
       "model_id": "e792e21a0c6d4f07894814b4d9b42740",
       "version_major": 2,
       "version_minor": 0
      },
      "text/plain": [
       "HBox(children=(Label(value='21325'), Label(value='Mátyás Péter'), HTML(value='Mátyás<font color=green>^i</font…"
      ]
     },
     "metadata": {},
     "output_type": "display_data"
    },
    {
     "data": {
      "application/vnd.jupyter.widget-view+json": {
       "model_id": "72393e0da05e4dd5a4b9e0863790ff61",
       "version_major": 2,
       "version_minor": 0
      },
      "text/plain": [
       "HBox(children=(Label(value='21230'), Label(value='Ázbej Kristóf'), HTML(value='Ázbej Kris<font color=red>^t</f…"
      ]
     },
     "metadata": {},
     "output_type": "display_data"
    },
    {
     "data": {
      "application/vnd.jupyter.widget-view+json": {
       "model_id": "c6472149967b48c998ac349dab9d9750",
       "version_major": 2,
       "version_minor": 0
      },
      "text/plain": [
       "HBox(children=(Label(value='20854'), Label(value='Szász György'), HTML(value='<font color=red>^S</font>zász Gy…"
      ]
     },
     "metadata": {},
     "output_type": "display_data"
    },
    {
     "data": {
      "application/vnd.jupyter.widget-view+json": {
       "model_id": "8510d5417c384d4cba5c128066264377",
       "version_major": 2,
       "version_minor": 0
      },
      "text/plain": [
       "HBox(children=(Label(value='20668'), Label(value='Sajnos Gergely'), HTML(value='Sajnos Ge<font color=red>^r</f…"
      ]
     },
     "metadata": {},
     "output_type": "display_data"
    },
    {
     "data": {
      "application/vnd.jupyter.widget-view+json": {
       "model_id": "f8286a22e96d4e14b2d15306c543e5ae",
       "version_major": 2,
       "version_minor": 0
      },
      "text/plain": [
       "HBox(children=(Label(value='20429'), Label(value='Julije Knifer'), HTML(value='Juli<font color=red>^j</font>e …"
      ]
     },
     "metadata": {},
     "output_type": "display_data"
    },
    {
     "data": {
      "application/vnd.jupyter.widget-view+json": {
       "model_id": "cff4b3c055464767ae7c7df61b667d68",
       "version_major": 2,
       "version_minor": 0
      },
      "text/plain": [
       "HBox(children=(Label(value='20344'), Label(value='Kosinsky Richárd'), HTML(value='Kosins<font color=green>^z</…"
      ]
     },
     "metadata": {},
     "output_type": "display_data"
    },
    {
     "data": {
      "application/vnd.jupyter.widget-view+json": {
       "model_id": "f86bbb72aa7a44849571a42f8501c6b6",
       "version_major": 2,
       "version_minor": 0
      },
      "text/plain": [
       "HBox(children=(Label(value='20193'), Label(value='Gróf Ferenc'), HTML(value='<font color=green>^(</font>Gróf F…"
      ]
     },
     "metadata": {},
     "output_type": "display_data"
    },
    {
     "data": {
      "application/vnd.jupyter.widget-view+json": {
       "model_id": "2bbb2bec8a8840418c866e1eed50eed3",
       "version_major": 2,
       "version_minor": 0
      },
      "text/plain": [
       "HBox(children=(Label(value='19828'), Label(value='Pettendi Szabó Péter'), HTML(value='Pettendi Szabó<font colo…"
      ]
     },
     "metadata": {},
     "output_type": "display_data"
    },
    {
     "data": {
      "application/vnd.jupyter.widget-view+json": {
       "model_id": "468a7d8bbba84afbae41241dd2a9d909",
       "version_major": 2,
       "version_minor": 0
      },
      "text/plain": [
       "HBox(children=(Label(value='18229'), Label(value='Ifj. Koffán Károly'), HTML(value='Ifj.<font color=green>^ </…"
      ]
     },
     "metadata": {},
     "output_type": "display_data"
    },
    {
     "data": {
      "application/vnd.jupyter.widget-view+json": {
       "model_id": "3f713095818645769a16182bc4688f0c",
       "version_major": 2,
       "version_minor": 0
      },
      "text/plain": [
       "HBox(children=(Label(value='18162'), Label(value='Wrobel Péter'), HTML(value='Wrobel <font color=green>^ </fon…"
      ]
     },
     "metadata": {},
     "output_type": "display_data"
    },
    {
     "data": {
      "application/vnd.jupyter.widget-view+json": {
       "model_id": "3cbf641f2226488f9d8ce08b4dda94a5",
       "version_major": 2,
       "version_minor": 0
      },
      "text/plain": [
       "HBox(children=(Label(value='18053'), Label(value='Szotyory László'), HTML(value='Szotyory László<font color=gr…"
      ]
     },
     "metadata": {},
     "output_type": "display_data"
    },
    {
     "data": {
      "application/vnd.jupyter.widget-view+json": {
       "model_id": "8e30c99a1b2e4b5fb7f47ca35e37daad",
       "version_major": 2,
       "version_minor": 0
      },
      "text/plain": [
       "HBox(children=(Label(value='17961'), Label(value='Tillmann J. A.'), HTML(value='Tillman<font color=red>^n</fon…"
      ]
     },
     "metadata": {},
     "output_type": "display_data"
    },
    {
     "data": {
      "application/vnd.jupyter.widget-view+json": {
       "model_id": "4b5cb4d01dde48508f5905e395f08904",
       "version_major": 2,
       "version_minor": 0
      },
      "text/plain": [
       "HBox(children=(Label(value='17961'), Label(value='Tillmann J. A.'), HTML(value='Ti<font color=red>^l</font>lma…"
      ]
     },
     "metadata": {},
     "output_type": "display_data"
    },
    {
     "data": {
      "application/vnd.jupyter.widget-view+json": {
       "model_id": "8877eca90aa74da48bbbfa3c96baf14e",
       "version_major": 2,
       "version_minor": 0
      },
      "text/plain": [
       "HBox(children=(Label(value='17961'), Label(value='Tillmann J. A.'), HTML(value='Tillmann J.<font color=red>^ <…"
      ]
     },
     "metadata": {},
     "output_type": "display_data"
    },
    {
     "data": {
      "application/vnd.jupyter.widget-view+json": {
       "model_id": "c882a0d86bda4199b1741872f90f8efb",
       "version_major": 2,
       "version_minor": 0
      },
      "text/plain": [
       "HBox(children=(Label(value='16598'), Label(value='Kishonthy Zsolt'), HTML(value='Kishont<font color=red>^h</fo…"
      ]
     },
     "metadata": {},
     "output_type": "display_data"
    },
    {
     "data": {
      "application/vnd.jupyter.widget-view+json": {
       "model_id": "0d51bb2efea640ddb474cce216910c90",
       "version_major": 2,
       "version_minor": 0
      },
      "text/plain": [
       "HBox(children=(Label(value='16194'), Label(value='Nemes Csaba'), HTML(value='Nemes Csaba<font color=green>^:</…"
      ]
     },
     "metadata": {},
     "output_type": "display_data"
    },
    {
     "data": {
      "application/vnd.jupyter.widget-view+json": {
       "model_id": "ce64ac7028924fa5b0297c8b759cd5f4",
       "version_major": 2,
       "version_minor": 0
      },
      "text/plain": [
       "HBox(children=(Label(value='15928'), Label(value='Gadányi Jenő'), HTML(value='Gadányi Jenő<font color=green>^ …"
      ]
     },
     "metadata": {},
     "output_type": "display_data"
    },
    {
     "data": {
      "application/vnd.jupyter.widget-view+json": {
       "model_id": "efef6f259ec2409d8ff84bdef575991b",
       "version_major": 2,
       "version_minor": 0
      },
      "text/plain": [
       "HBox(children=(Label(value='15928'), Label(value='Gadányi Jenő'), HTML(value='Gadány<font color=red>^i</font> …"
      ]
     },
     "metadata": {},
     "output_type": "display_data"
    },
    {
     "data": {
      "application/vnd.jupyter.widget-view+json": {
       "model_id": "b44f2c6551c942f892804f4fcf1bedf6",
       "version_major": 2,
       "version_minor": 0
      },
      "text/plain": [
       "HBox(children=(Label(value='15286'), Label(value='Kozák Zsuzska'), HTML(value='Kozák Zsuzs<font color=red>^k</…"
      ]
     },
     "metadata": {},
     "output_type": "display_data"
    },
    {
     "data": {
      "application/vnd.jupyter.widget-view+json": {
       "model_id": "97bc5b6fed124a3ab2db6cced6fa45ae",
       "version_major": 2,
       "version_minor": 0
      },
      "text/plain": [
       "HBox(children=(Label(value='15286'), Label(value='Kozák Zsuzska'), HTML(value='Kozák Zsu<font color=red>^z</fo…"
      ]
     },
     "metadata": {},
     "output_type": "display_data"
    },
    {
     "data": {
      "application/vnd.jupyter.widget-view+json": {
       "model_id": "3990d1274caf4eb79675cac473637820",
       "version_major": 2,
       "version_minor": 0
      },
      "text/plain": [
       "HBox(children=(Label(value='13824'), Label(value='Kiss Gábor Attila'), HTML(value='Ki<font color=red>^s</font>…"
      ]
     },
     "metadata": {},
     "output_type": "display_data"
    },
    {
     "data": {
      "application/vnd.jupyter.widget-view+json": {
       "model_id": "0fd191a1da2b4e7f9ad37d81992954e7",
       "version_major": 2,
       "version_minor": 0
      },
      "text/plain": [
       "HBox(children=(Label(value='13302'), Label(value='Derek Michael Besant'), HTML(value='Derek<font color=green>^…"
      ]
     },
     "metadata": {},
     "output_type": "display_data"
    },
    {
     "data": {
      "application/vnd.jupyter.widget-view+json": {
       "model_id": "85d0f3faa935478998e536341dfb4b41",
       "version_major": 2,
       "version_minor": 0
      },
      "text/plain": [
       "HBox(children=(Label(value='11060'), Label(value='Csiszér Zsuzsi'), HTML(value='C<font color=red>^s</font>iszé…"
      ]
     },
     "metadata": {},
     "output_type": "display_data"
    },
    {
     "data": {
      "application/vnd.jupyter.widget-view+json": {
       "model_id": "11ccabe754bd45b38959bc994eb418cb",
       "version_major": 2,
       "version_minor": 0
      },
      "text/plain": [
       "HBox(children=(Label(value='10732'), Label(value='Tóth Márton Emil'), HTML(value='Tóth Márton Emil<font color=…"
      ]
     },
     "metadata": {},
     "output_type": "display_data"
    },
    {
     "data": {
      "application/vnd.jupyter.widget-view+json": {
       "model_id": "5d0d66235cc947f78275396d55ccb905",
       "version_major": 2,
       "version_minor": 0
      },
      "text/plain": [
       "HBox(children=(Label(value='10621'), Label(value='Kerekes Gábor'), HTML(value='Kerekes Gábor<font color=green>…"
      ]
     },
     "metadata": {},
     "output_type": "display_data"
    },
    {
     "data": {
      "application/vnd.jupyter.widget-view+json": {
       "model_id": "15c3b3e7bc984d169312c55df5241d29",
       "version_major": 2,
       "version_minor": 0
      },
      "text/plain": [
       "HBox(children=(Label(value='10621'), Label(value='Kerekes Gábor'), HTML(value='Kerekes Gábor<font color=green>…"
      ]
     },
     "metadata": {},
     "output_type": "display_data"
    },
    {
     "data": {
      "application/vnd.jupyter.widget-view+json": {
       "model_id": "2656b2caa9de42779961866802be70c9",
       "version_major": 2,
       "version_minor": 0
      },
      "text/plain": [
       "HBox(children=(Label(value='10180'), Label(value='Tillmann J. A.'), HTML(value='Tillman<font color=red>^n</fon…"
      ]
     },
     "metadata": {},
     "output_type": "display_data"
    },
    {
     "data": {
      "application/vnd.jupyter.widget-view+json": {
       "model_id": "37454e8da8fa43b8a2365842182cee81",
       "version_major": 2,
       "version_minor": 0
      },
      "text/plain": [
       "HBox(children=(Label(value='10180'), Label(value='Tillmann J. A.'), HTML(value='Ti<font color=red>^l</font>lma…"
      ]
     },
     "metadata": {},
     "output_type": "display_data"
    },
    {
     "data": {
      "application/vnd.jupyter.widget-view+json": {
       "model_id": "a2d253c331574b58967808be2ad9f2c0",
       "version_major": 2,
       "version_minor": 0
      },
      "text/plain": [
       "HBox(children=(Label(value='10180'), Label(value='Tillmann J. A.'), HTML(value='Tillmann J.<font color=red>^ <…"
      ]
     },
     "metadata": {},
     "output_type": "display_data"
    },
    {
     "data": {
      "application/vnd.jupyter.widget-view+json": {
       "model_id": "7ef3efbcb5be4adebbb1afdb3fe13b4f",
       "version_major": 2,
       "version_minor": 0
      },
      "text/plain": [
       "HBox(children=(Label(value='9880'), Label(value='Veszprémi Sára'), HTML(value='Ves<font color=red>^z</font>pré…"
      ]
     },
     "metadata": {},
     "output_type": "display_data"
    },
    {
     "data": {
      "application/vnd.jupyter.widget-view+json": {
       "model_id": "a764cdd1e56d426e8f8f8bdd81123792",
       "version_major": 2,
       "version_minor": 0
      },
      "text/plain": [
       "HBox(children=(Label(value='9103'), Label(value='Baranyai (b) András'), HTML(value='Barany<font color=red>^a</…"
      ]
     },
     "metadata": {},
     "output_type": "display_data"
    },
    {
     "data": {
      "application/vnd.jupyter.widget-view+json": {
       "model_id": "08a0cdac97d54eb7b7764c0c81efd85f",
       "version_major": 2,
       "version_minor": 0
      },
      "text/plain": [
       "HBox(children=(Label(value='8407'), Label(value='Podmaniczky Szilárd'), HTML(value='P<font color=red>^o</font>…"
      ]
     },
     "metadata": {},
     "output_type": "display_data"
    },
    {
     "data": {
      "application/vnd.jupyter.widget-view+json": {
       "model_id": "6ef06279b6ce422ab5fd6b5d77a7a8d6",
       "version_major": 2,
       "version_minor": 0
      },
      "text/plain": [
       "HBox(children=(Label(value='7647'), Label(value='Erőss István'), HTML(value='Erő<font color=red>^s</font>s Ist…"
      ]
     },
     "metadata": {},
     "output_type": "display_data"
    },
    {
     "data": {
      "application/vnd.jupyter.widget-view+json": {
       "model_id": "8780fdaca05747cd885fd62db649ee69",
       "version_major": 2,
       "version_minor": 0
      },
      "text/plain": [
       "HBox(children=(Label(value='7451'), Label(value='Somogyi Zsófi'), HTML(value='Somogyi Zsófi<font color=green>^…"
      ]
     },
     "metadata": {},
     "output_type": "display_data"
    },
    {
     "data": {
      "application/vnd.jupyter.widget-view+json": {
       "model_id": "692b7e91706445f49147eecfd818be45",
       "version_major": 2,
       "version_minor": 0
      },
      "text/plain": [
       "HBox(children=(Label(value='6743'), Label(value='Barabás Zsófia'), HTML(value='Barabás Zsófi<font color=red>^a…"
      ]
     },
     "metadata": {},
     "output_type": "display_data"
    },
    {
     "data": {
      "application/vnd.jupyter.widget-view+json": {
       "model_id": "ad003df0266948b6b44ccf1b55df3cf0",
       "version_major": 2,
       "version_minor": 0
      },
      "text/plain": [
       "HBox(children=(Label(value='5568'), Label(value='Földesi Barnabás'), HTML(value='Földes<font color=red>^i</fon…"
      ]
     },
     "metadata": {},
     "output_type": "display_data"
    },
    {
     "data": {
      "application/vnd.jupyter.widget-view+json": {
       "model_id": "fe897d2299d34c95aa7941978bedadb7",
       "version_major": 2,
       "version_minor": 0
      },
      "text/plain": [
       "HBox(children=(Label(value='4638'), Label(value='Hudra Klára'), HTML(value='<font color=green>^-</font>Hudra K…"
      ]
     },
     "metadata": {},
     "output_type": "display_data"
    },
    {
     "data": {
      "application/vnd.jupyter.widget-view+json": {
       "model_id": "dcc7b6728d594c32affbfabb40d78163",
       "version_major": 2,
       "version_minor": 0
      },
      "text/plain": [
       "HBox(children=(Label(value='4615'), Label(value='Mécs Miklós'), HTML(value='Mécs Miklós<font color=green>^)</f…"
      ]
     },
     "metadata": {},
     "output_type": "display_data"
    },
    {
     "data": {
      "application/vnd.jupyter.widget-view+json": {
       "model_id": "ccb52ec9ba8e4f9091a5091be8768e71",
       "version_major": 2,
       "version_minor": 0
      },
      "text/plain": [
       "HBox(children=(Label(value='4353'), Label(value='Sz. Szilágyi Gábor'), HTML(value='Sz.<font color=red>^ </font…"
      ]
     },
     "metadata": {},
     "output_type": "display_data"
    },
    {
     "data": {
      "application/vnd.jupyter.widget-view+json": {
       "model_id": "435b90baadb748be892f3c9a61e0fdf5",
       "version_major": 2,
       "version_minor": 0
      },
      "text/plain": [
       "HBox(children=(Label(value='3837'), Label(value='Baróthy Anna'), HTML(value='Baró<font color=green>^\\xad</font…"
      ]
     },
     "metadata": {},
     "output_type": "display_data"
    },
    {
     "data": {
      "application/vnd.jupyter.widget-view+json": {
       "model_id": "d40303098f0c4b869dde63604cba3fb4",
       "version_major": 2,
       "version_minor": 0
      },
      "text/plain": [
       "HBox(children=(Label(value='3676'), Label(value='Horváth Levente'), HTML(value='Horvát<font color=red>^h</font…"
      ]
     },
     "metadata": {},
     "output_type": "display_data"
    },
    {
     "data": {
      "application/vnd.jupyter.widget-view+json": {
       "model_id": "75cee321ac3f418d99c3568990b8d208",
       "version_major": 2,
       "version_minor": 0
      },
      "text/plain": [
       "HBox(children=(Label(value='3062'), Label(value='Meggyes László'), HTML(value='Me<font color=red>^g</font>gyes…"
      ]
     },
     "metadata": {},
     "output_type": "display_data"
    },
    {
     "data": {
      "application/vnd.jupyter.widget-view+json": {
       "model_id": "bced2540919948bf95f987ba7d1feabf",
       "version_major": 2,
       "version_minor": 0
      },
      "text/plain": [
       "HBox(children=(Label(value='2855'), Label(value='Mohácsi András'), HTML(value='Mohács<font color=red>^i</font>…"
      ]
     },
     "metadata": {},
     "output_type": "display_data"
    },
    {
     "data": {
      "application/vnd.jupyter.widget-view+json": {
       "model_id": "b4c45cd56b584190954f25214b25930e",
       "version_major": 2,
       "version_minor": 0
      },
      "text/plain": [
       "HBox(children=(Label(value='2517'), Label(value='Andreas Gursky'), HTML(value='An<font color=red>^d</font>reas…"
      ]
     },
     "metadata": {},
     "output_type": "display_data"
    },
    {
     "data": {
      "application/vnd.jupyter.widget-view+json": {
       "model_id": "2ab1b279175242859bad60c29208a14a",
       "version_major": 2,
       "version_minor": 0
      },
      "text/plain": [
       "HBox(children=(Label(value='937'), Label(value='Litván Gábor'), HTML(value='Li<font color=red>^t</font>ván Gáb…"
      ]
     },
     "metadata": {},
     "output_type": "display_data"
    },
    {
     "data": {
      "application/vnd.jupyter.widget-view+json": {
       "model_id": "4dc5da0d154248a9968f011d2d2962e5",
       "version_major": 2,
       "version_minor": 0
      },
      "text/plain": [
       "HBox(children=(Label(value='113'), Label(value='Nemes Judith'), HTML(value='Nemes Judit<font color=red>^h</fon…"
      ]
     },
     "metadata": {},
     "output_type": "display_data"
    },
    {
     "data": {
      "application/vnd.jupyter.widget-view+json": {
       "model_id": "13328cbbd036479fa9772b86a056ecbb",
       "version_major": 2,
       "version_minor": 0
      },
      "text/plain": [
       "HBox(children=(Label(value='113'), Label(value='Nemes Judith'), HTML(value='Nemes Judit<font color=red>^h</fon…"
      ]
     },
     "metadata": {},
     "output_type": "display_data"
    },
    {
     "data": {
      "application/vnd.jupyter.widget-view+json": {
       "model_id": "26cdb3edf1e84b358b5c4e353b8cd9a7",
       "version_major": 2,
       "version_minor": 0
      },
      "text/plain": [
       "HBox(children=(Label(value='51'), Label(value='Ütő Gusztáv'), HTML(value='Ütő Gusz<font color=green>^\\xad</fon…"
      ]
     },
     "metadata": {},
     "output_type": "display_data"
    },
    {
     "data": {
      "application/vnd.jupyter.widget-view+json": {
       "model_id": "c01d6cd047334c1aa4df027d7c1c7535",
       "version_major": 2,
       "version_minor": 0
      },
      "text/plain": [
       "HBox(children=(Label(value='49'), Label(value='Szász György'), HTML(value='<font color=red>^S</font>zász Györg…"
      ]
     },
     "metadata": {},
     "output_type": "display_data"
    },
    {
     "data": {
      "application/vnd.jupyter.widget-view+json": {
       "model_id": "45a1d596b141495ca86c65575224def7",
       "version_major": 2,
       "version_minor": 0
      },
      "text/plain": [
       "HBox(children=(Label(value='35'), Label(value='Kisspál Szabolcs'), HTML(value='Ki<font color=red>^s</font>spál…"
      ]
     },
     "metadata": {},
     "output_type": "display_data"
    },
    {
     "data": {
      "application/vnd.jupyter.widget-view+json": {
       "model_id": "db6717ad7b224c7d80e569187136aae2",
       "version_major": 2,
       "version_minor": 0
      },
      "text/plain": [
       "HBox(children=(Label(value='24314'), Label(value='Kerekes Gábor'), HTML(value='Kerekes Gábor<font color=green>…"
      ]
     },
     "metadata": {},
     "output_type": "display_data"
    },
    {
     "data": {
      "application/vnd.jupyter.widget-view+json": {
       "model_id": "25168c0d892a4450be014d5ff577cbf8",
       "version_major": 2,
       "version_minor": 0
      },
      "text/plain": [
       "HBox(children=(Label(value='24314'), Label(value='Kerekes Gábor'), HTML(value='Kerekes Gábor<font color=green>…"
      ]
     },
     "metadata": {},
     "output_type": "display_data"
    },
    {
     "data": {
      "application/vnd.jupyter.widget-view+json": {
       "model_id": "4463c8a8eb0d41ca80bfd817339867d6",
       "version_major": 2,
       "version_minor": 0
      },
      "text/plain": [
       "HBox(children=(Label(value='23911'), Label(value='Hajdu István'), HTML(value='Hajdu István<font color=green>^:…"
      ]
     },
     "metadata": {},
     "output_type": "display_data"
    },
    {
     "data": {
      "application/vnd.jupyter.widget-view+json": {
       "model_id": "b9db5867e14d472dbb7d2b9adc2defde",
       "version_major": 2,
       "version_minor": 0
      },
      "text/plain": [
       "HBox(children=(Label(value='23048'), Label(value='Piergiorgio Zangara'), HTML(value='Piergiorg<font color=red>…"
      ]
     },
     "metadata": {},
     "output_type": "display_data"
    },
    {
     "data": {
      "application/vnd.jupyter.widget-view+json": {
       "model_id": "006771f949e842159a242d6dca69a627",
       "version_major": 2,
       "version_minor": 0
      },
      "text/plain": [
       "HBox(children=(Label(value='22504'), Label(value='Zuzanna Zurbolová'), HTML(value='Zuza<font color=red>^n</fon…"
      ]
     },
     "metadata": {},
     "output_type": "display_data"
    },
    {
     "data": {
      "application/vnd.jupyter.widget-view+json": {
       "model_id": "ee09a0702e4b44d18f8c1b80d503d131",
       "version_major": 2,
       "version_minor": 0
      },
      "text/plain": [
       "HBox(children=(Label(value='22496'), Label(value='Kelemen Bíborka'), HTML(value='Kelemen<font color=green>^t</…"
      ]
     },
     "metadata": {},
     "output_type": "display_data"
    },
    {
     "data": {
      "application/vnd.jupyter.widget-view+json": {
       "model_id": "03a0c1c720164742b0c6386072180916",
       "version_major": 2,
       "version_minor": 0
      },
      "text/plain": [
       "HBox(children=(Label(value='22240'), Label(value='Szegedy-Maszák Zsuzsanna'), HTML(value='Szegedy-Masz<font co…"
      ]
     },
     "metadata": {},
     "output_type": "display_data"
    },
    {
     "data": {
      "application/vnd.jupyter.widget-view+json": {
       "model_id": "efef1679df2844c382a3b4e8ae155001",
       "version_major": 2,
       "version_minor": 0
      },
      "text/plain": [
       "HBox(children=(Label(value='21957'), Label(value='Ilés-Muszka Rudolf'), HTML(value='I<font color=green>^l</fon…"
      ]
     },
     "metadata": {},
     "output_type": "display_data"
    },
    {
     "data": {
      "application/vnd.jupyter.widget-view+json": {
       "model_id": "6e9dafd9235e4a2d9c2e3b197174d2fe",
       "version_major": 2,
       "version_minor": 0
      },
      "text/plain": [
       "HBox(children=(Label(value='21671'), Label(value='Ozsváth Sára'), HTML(value='Ozsvát<font color=red>^h</font> …"
      ]
     },
     "metadata": {},
     "output_type": "display_data"
    },
    {
     "data": {
      "application/vnd.jupyter.widget-view+json": {
       "model_id": "93bfa8b380d74af8ae7e15a25485be74",
       "version_major": 2,
       "version_minor": 0
      },
      "text/plain": [
       "HBox(children=(Label(value='21578'), Label(value='Kántor József'), HTML(value='Kántor Jó<font color=red>^z</fo…"
      ]
     },
     "metadata": {},
     "output_type": "display_data"
    },
    {
     "data": {
      "application/vnd.jupyter.widget-view+json": {
       "model_id": "ca25a324a6a943f2bdeedf3e4c328f39",
       "version_major": 2,
       "version_minor": 0
      },
      "text/plain": [
       "HBox(children=(Label(value='21559'), Label(value='Tóth Zsuzsanna'), HTML(value='Tóth Zsuzsann<font color=red>^…"
      ]
     },
     "metadata": {},
     "output_type": "display_data"
    },
    {
     "data": {
      "application/vnd.jupyter.widget-view+json": {
       "model_id": "e96119e29fc142c08c7ff3ce63fd5c65",
       "version_major": 2,
       "version_minor": 0
      },
      "text/plain": [
       "HBox(children=(Label(value='21511'), Label(value='Holló István'), HTML(value='Holló<font color=green>^s</font>…"
      ]
     },
     "metadata": {},
     "output_type": "display_data"
    },
    {
     "data": {
      "application/vnd.jupyter.widget-view+json": {
       "model_id": "7cd968a3db3a40d59d600689e68b60bb",
       "version_major": 2,
       "version_minor": 0
      },
      "text/plain": [
       "HBox(children=(Label(value='21489'), Label(value='Varga Balázs'), HTML(value='Varg<font color=green>^h</font>a…"
      ]
     },
     "metadata": {},
     "output_type": "display_data"
    },
    {
     "data": {
      "application/vnd.jupyter.widget-view+json": {
       "model_id": "937f12b152504b72b3b2b0a7af12f0dd",
       "version_major": 2,
       "version_minor": 0
      },
      "text/plain": [
       "HBox(children=(Label(value='21284'), Label(value='Szekeres Alexandra'), HTML(value='Szekeres Alexan<font color…"
      ]
     },
     "metadata": {},
     "output_type": "display_data"
    },
    {
     "data": {
      "application/vnd.jupyter.widget-view+json": {
       "model_id": "c0ba8b0af8174888b6969662cea7abed",
       "version_major": 2,
       "version_minor": 0
      },
      "text/plain": [
       "HBox(children=(Label(value='21086'), Label(value='Orgoványi Gábor'), HTML(value='Orgoványi G<font color=red>^á…"
      ]
     },
     "metadata": {},
     "output_type": "display_data"
    },
    {
     "data": {
      "application/vnd.jupyter.widget-view+json": {
       "model_id": "68d17bab901941b9b460576d43e57d22",
       "version_major": 2,
       "version_minor": 0
      },
      "text/plain": [
       "HBox(children=(Label(value='20791'), Label(value='Pézman Andrea'), HTML(value='Pézma<font color=green>^n</font…"
      ]
     },
     "metadata": {},
     "output_type": "display_data"
    },
    {
     "data": {
      "application/vnd.jupyter.widget-view+json": {
       "model_id": "735e83bfa44b46ea84c3153586f49353",
       "version_major": 2,
       "version_minor": 0
      },
      "text/plain": [
       "HBox(children=(Label(value='20684'), Label(value='Lieber Erzsébet'), HTML(value='Lieber Erzsébe<font color=gre…"
      ]
     },
     "metadata": {},
     "output_type": "display_data"
    },
    {
     "data": {
      "application/vnd.jupyter.widget-view+json": {
       "model_id": "0b3cc9c9ddc54badb44addfcc65587a7",
       "version_major": 2,
       "version_minor": 0
      },
      "text/plain": [
       "HBox(children=(Label(value='20239'), Label(value='Repászki Ferenc'), HTML(value='Repászki <font color=green>^ …"
      ]
     },
     "metadata": {},
     "output_type": "display_data"
    },
    {
     "data": {
      "application/vnd.jupyter.widget-view+json": {
       "model_id": "b37a81da4597404ea0da7321c90660b7",
       "version_major": 2,
       "version_minor": 0
      },
      "text/plain": [
       "HBox(children=(Label(value='20239'), Label(value='Repászki Ferenc'), HTML(value='Repászki <font color=green>^ …"
      ]
     },
     "metadata": {},
     "output_type": "display_data"
    },
    {
     "data": {
      "application/vnd.jupyter.widget-view+json": {
       "model_id": "01ed8c854f5340fd94e5744a88799e11",
       "version_major": 2,
       "version_minor": 0
      },
      "text/plain": [
       "HBox(children=(Label(value='19904'), Label(value='Maros Krisztina'), HTML(value='Maros<font color=green>^i</fo…"
      ]
     },
     "metadata": {},
     "output_type": "display_data"
    },
    {
     "data": {
      "application/vnd.jupyter.widget-view+json": {
       "model_id": "e3b24f322a2a40f088121b4e466be775",
       "version_major": 2,
       "version_minor": 0
      },
      "text/plain": [
       "HBox(children=(Label(value='19696'), Label(value='D. Udvary Ildikó'), HTML(value='D<font color=green>^r</font>…"
      ]
     },
     "metadata": {},
     "output_type": "display_data"
    },
    {
     "data": {
      "application/vnd.jupyter.widget-view+json": {
       "model_id": "59e130db09914146a4fad1c01ce832e8",
       "version_major": 2,
       "version_minor": 0
      },
      "text/plain": [
       "HBox(children=(Label(value='19696'), Label(value='D. Udvary Ildikó'), HTML(value='D.<font color=red>^ </font>U…"
      ]
     },
     "metadata": {},
     "output_type": "display_data"
    },
    {
     "data": {
      "application/vnd.jupyter.widget-view+json": {
       "model_id": "c40a20023ddb48d391ab52cd8184e164",
       "version_major": 2,
       "version_minor": 0
      },
      "text/plain": [
       "HBox(children=(Label(value='19403'), Label(value='Varga Balázs'), HTML(value='Varg<font color=green>^h</font>a…"
      ]
     },
     "metadata": {},
     "output_type": "display_data"
    },
    {
     "data": {
      "application/vnd.jupyter.widget-view+json": {
       "model_id": "0c4d44fd4d43499193ef4f405f00314f",
       "version_major": 2,
       "version_minor": 0
      },
      "text/plain": [
       "HBox(children=(Label(value='18569'), Label(value='Kútvölgyi-Szabó Áron'), HTML(value='Kútvölgyi<font color=gre…"
      ]
     },
     "metadata": {},
     "output_type": "display_data"
    },
    {
     "data": {
      "application/vnd.jupyter.widget-view+json": {
       "model_id": "2712d2f1628c4959b72caf50837ecad8",
       "version_major": 2,
       "version_minor": 0
      },
      "text/plain": [
       "HBox(children=(Label(value='17291'), Label(value='Oravecz Tímea'), HTML(value='Oravecz Tíme<font color=red>^a<…"
      ]
     },
     "metadata": {},
     "output_type": "display_data"
    },
    {
     "data": {
      "application/vnd.jupyter.widget-view+json": {
       "model_id": "061a9121e47443538317dfd2a1bdad3b",
       "version_major": 2,
       "version_minor": 0
      },
      "text/plain": [
       "HBox(children=(Label(value='17263'), Label(value='Dr. Keserü Katalin'), HTML(value='Dr.<font color=red>^ </fon…"
      ]
     },
     "metadata": {},
     "output_type": "display_data"
    },
    {
     "data": {
      "application/vnd.jupyter.widget-view+json": {
       "model_id": "fbffba115fc246f1ab4d63e040e4a65a",
       "version_major": 2,
       "version_minor": 0
      },
      "text/plain": [
       "HBox(children=(Label(value='17246'), Label(value='Zuzana Zurbolová'), HTML(value='Zuzana Zurbolová<font color=…"
      ]
     },
     "metadata": {},
     "output_type": "display_data"
    },
    {
     "data": {
      "application/vnd.jupyter.widget-view+json": {
       "model_id": "6b45874247764f18afff816a28941dc7",
       "version_major": 2,
       "version_minor": 0
      },
      "text/plain": [
       "HBox(children=(Label(value='17004'), Label(value='Bene Zsuzsanna'), HTML(value='Ben<font color=green>^d</font>…"
      ]
     },
     "metadata": {},
     "output_type": "display_data"
    },
    {
     "data": {
      "application/vnd.jupyter.widget-view+json": {
       "model_id": "e520114a5d924a43b2d73bcd9716b4a9",
       "version_major": 2,
       "version_minor": 0
      },
      "text/plain": [
       "HBox(children=(Label(value='16737'), Label(value='Tomasz Piars'), HTML(value='Tomas<font color=red>^z</font> P…"
      ]
     },
     "metadata": {},
     "output_type": "display_data"
    },
    {
     "data": {
      "application/vnd.jupyter.widget-view+json": {
       "model_id": "2c466758811e4709bfcb98283f2da7e4",
       "version_major": 2,
       "version_minor": 0
      },
      "text/plain": [
       "HBox(children=(Label(value='16388'), Label(value='Simonyi Emő'), HTML(value='Simonyi Emő<font color=green>^.</…"
      ]
     },
     "metadata": {},
     "output_type": "display_data"
    },
    {
     "data": {
      "application/vnd.jupyter.widget-view+json": {
       "model_id": "108ab418352e4a6ebc70b7a7739ddcfc",
       "version_major": 2,
       "version_minor": 0
      },
      "text/plain": [
       "HBox(children=(Label(value='15946'), Label(value='Random! csoport'), HTML(value='Random<font color=red>^!</fon…"
      ]
     },
     "metadata": {},
     "output_type": "display_data"
    },
    {
     "data": {
      "application/vnd.jupyter.widget-view+json": {
       "model_id": "b3996c5146cc4ec984ffea54228fac89",
       "version_major": 2,
       "version_minor": 0
      },
      "text/plain": [
       "HBox(children=(Label(value='15861'), Label(value='Erőss István'), HTML(value='Erő<font color=red>^s</font>s Is…"
      ]
     },
     "metadata": {},
     "output_type": "display_data"
    },
    {
     "data": {
      "application/vnd.jupyter.widget-view+json": {
       "model_id": "44570b45b2f14ff68d7a862b09b1a483",
       "version_major": 2,
       "version_minor": 0
      },
      "text/plain": [
       "HBox(children=(Label(value='15726'), Label(value='Pap Emese Dorottya'), HTML(value='Pap Emese Dorot<font color…"
      ]
     },
     "metadata": {},
     "output_type": "display_data"
    },
    {
     "data": {
      "application/vnd.jupyter.widget-view+json": {
       "model_id": "1b1779a3bb0449edb45399fa84ef9694",
       "version_major": 2,
       "version_minor": 0
      },
      "text/plain": [
       "HBox(children=(Label(value='15542'), Label(value='Tillmann J. A.'), HTML(value='Tillman<font color=red>^n</fon…"
      ]
     },
     "metadata": {},
     "output_type": "display_data"
    },
    {
     "data": {
      "application/vnd.jupyter.widget-view+json": {
       "model_id": "e5d523f8ddf141328edb498559eb9b1b",
       "version_major": 2,
       "version_minor": 0
      },
      "text/plain": [
       "HBox(children=(Label(value='15542'), Label(value='Tillmann J. A.'), HTML(value='Ti<font color=red>^l</font>lma…"
      ]
     },
     "metadata": {},
     "output_type": "display_data"
    },
    {
     "data": {
      "application/vnd.jupyter.widget-view+json": {
       "model_id": "1484aef9530d4aa8a98718603c1b35fd",
       "version_major": 2,
       "version_minor": 0
      },
      "text/plain": [
       "HBox(children=(Label(value='15542'), Label(value='Tillmann J. A.'), HTML(value='Tillmann J.<font color=red>^ <…"
      ]
     },
     "metadata": {},
     "output_type": "display_data"
    },
    {
     "data": {
      "application/vnd.jupyter.widget-view+json": {
       "model_id": "6ecaf98fcb434a66b350ea71aee2569e",
       "version_major": 2,
       "version_minor": 0
      },
      "text/plain": [
       "HBox(children=(Label(value='15201'), Label(value='Csernus Tibor'), HTML(value='Csernus<font color=green>^s</fo…"
      ]
     },
     "metadata": {},
     "output_type": "display_data"
    },
    {
     "data": {
      "application/vnd.jupyter.widget-view+json": {
       "model_id": "3864f01c1907407595d64f84d24000bc",
       "version_major": 2,
       "version_minor": 0
      },
      "text/plain": [
       "HBox(children=(Label(value='14315'), Label(value='Kelemen Marcel'), HTML(value='Kelemen Marcel<font color=gree…"
      ]
     },
     "metadata": {},
     "output_type": "display_data"
    },
    {
     "data": {
      "application/vnd.jupyter.widget-view+json": {
       "model_id": "cec6b6ab96ed4a2c811893c960e5e5e9",
       "version_major": 2,
       "version_minor": 0
      },
      "text/plain": [
       "HBox(children=(Label(value='13944'), Label(value='Kerstin Franke-Gneuss'), HTML(value='Kerstin Franke-Gneuss<f…"
      ]
     },
     "metadata": {},
     "output_type": "display_data"
    },
    {
     "data": {
      "application/vnd.jupyter.widget-view+json": {
       "model_id": "b921cc3d2c834dc294e7e7af8c8f99ff",
       "version_major": 2,
       "version_minor": 0
      },
      "text/plain": [
       "HBox(children=(Label(value='13904'), Label(value='Erdős Zsófi'), HTML(value='Erdős Zsófi<font color=green>^a</…"
      ]
     },
     "metadata": {},
     "output_type": "display_data"
    },
    {
     "data": {
      "application/vnd.jupyter.widget-view+json": {
       "model_id": "1843030fd1754649a28906a884a0ba93",
       "version_major": 2,
       "version_minor": 0
      },
      "text/plain": [
       "HBox(children=(Label(value='13721'), Label(value='Tomas Piars'), HTML(value='Tomas<font color=green>^z</font> …"
      ]
     },
     "metadata": {},
     "output_type": "display_data"
    },
    {
     "data": {
      "application/vnd.jupyter.widget-view+json": {
       "model_id": "1f3a788facfb4e4296d183d2a8c012a5",
       "version_major": 2,
       "version_minor": 0
      },
      "text/plain": [
       "HBox(children=(Label(value='13721'), Label(value='Tomas Piars'), HTML(value='Tomas<font color=green>^z</font> …"
      ]
     },
     "metadata": {},
     "output_type": "display_data"
    },
    {
     "data": {
      "application/vnd.jupyter.widget-view+json": {
       "model_id": "378cccff9fc04e729c5589cf1c5e49e5",
       "version_major": 2,
       "version_minor": 0
      },
      "text/plain": [
       "HBox(children=(Label(value='12640'), Label(value='Dr. Dobrik István'), HTML(value='Dr.<font color=red>^ </font…"
      ]
     },
     "metadata": {},
     "output_type": "display_data"
    },
    {
     "data": {
      "application/vnd.jupyter.widget-view+json": {
       "model_id": "5d212c8709a24c6599417e715b9bc160",
       "version_major": 2,
       "version_minor": 0
      },
      "text/plain": [
       "HBox(children=(Label(value='12239'), Label(value='Vitaly Pushnitsky'), HTML(value='Vitaly Pushnit<font color=r…"
      ]
     },
     "metadata": {},
     "output_type": "display_data"
    },
    {
     "data": {
      "application/vnd.jupyter.widget-view+json": {
       "model_id": "193b8df78bb44dbd82abf079b2e5509d",
       "version_major": 2,
       "version_minor": 0
      },
      "text/plain": [
       "HBox(children=(Label(value='11612'), Label(value='Lukács Andrea'), HTML(value='Lukács<font color=green>^i</fon…"
      ]
     },
     "metadata": {},
     "output_type": "display_data"
    },
    {
     "data": {
      "application/vnd.jupyter.widget-view+json": {
       "model_id": "5168517fd78c4d0a85595c15f68b67a3",
       "version_major": 2,
       "version_minor": 0
      },
      "text/plain": [
       "HBox(children=(Label(value='11564'), Label(value='Ungváry Krisztián'), HTML(value='Ungváry Krisztián<font colo…"
      ]
     },
     "metadata": {},
     "output_type": "display_data"
    },
    {
     "data": {
      "application/vnd.jupyter.widget-view+json": {
       "model_id": "9b3f6d234bab4759b3c559fc4ea59d8a",
       "version_major": 2,
       "version_minor": 0
      },
      "text/plain": [
       "HBox(children=(Label(value='11448'), Label(value='Müllner Péter'), HTML(value='Müll<font color=red>^n</font>er…"
      ]
     },
     "metadata": {},
     "output_type": "display_data"
    },
    {
     "data": {
      "application/vnd.jupyter.widget-view+json": {
       "model_id": "3d79a92982644e8fac255daec024dfb6",
       "version_major": 2,
       "version_minor": 0
      },
      "text/plain": [
       "HBox(children=(Label(value='11394'), Label(value='Bernáthy Sándor'), HTML(value='Bernáth<font color=green>^/</…"
      ]
     },
     "metadata": {},
     "output_type": "display_data"
    },
    {
     "data": {
      "application/vnd.jupyter.widget-view+json": {
       "model_id": "a995478c496242c09ad012d65de51bea",
       "version_major": 2,
       "version_minor": 0
      },
      "text/plain": [
       "HBox(children=(Label(value='11354'), Label(value='Kőnig Frigyes'), HTML(value='Kőnig F<font color=red>^r</font…"
      ]
     },
     "metadata": {},
     "output_type": "display_data"
    },
    {
     "data": {
      "application/vnd.jupyter.widget-view+json": {
       "model_id": "b75464b703d44802be589a58a256dd7e",
       "version_major": 2,
       "version_minor": 0
      },
      "text/plain": [
       "HBox(children=(Label(value='10997'), Label(value='Horváth Zsófia'), HTML(value='Horváth Zsófi<font color=red>^…"
      ]
     },
     "metadata": {},
     "output_type": "display_data"
    },
    {
     "data": {
      "application/vnd.jupyter.widget-view+json": {
       "model_id": "e0154d5732c141ccaafdcb16532f4d1d",
       "version_major": 2,
       "version_minor": 0
      },
      "text/plain": [
       "HBox(children=(Label(value='10994'), Label(value='Ungváry Krisztián'), HTML(value='Ungváry Krisztián<font colo…"
      ]
     },
     "metadata": {},
     "output_type": "display_data"
    },
    {
     "data": {
      "application/vnd.jupyter.widget-view+json": {
       "model_id": "8f046901cf5c4dc5822ff85f7fca4ff0",
       "version_major": 2,
       "version_minor": 0
      },
      "text/plain": [
       "HBox(children=(Label(value='10517'), Label(value='Hecher / Keim / Koronczi'), HTML(value='Hecher / Keim<font c…"
      ]
     },
     "metadata": {},
     "output_type": "display_data"
    },
    {
     "data": {
      "application/vnd.jupyter.widget-view+json": {
       "model_id": "ebcc8ac1e73b499c8f4ff205f3c3b878",
       "version_major": 2,
       "version_minor": 0
      },
      "text/plain": [
       "HBox(children=(Label(value='10331'), Label(value='Kornis Mihály'), HTML(value='Korni<font color=green>^s</font…"
      ]
     },
     "metadata": {},
     "output_type": "display_data"
    },
    {
     "data": {
      "application/vnd.jupyter.widget-view+json": {
       "model_id": "37b8bf351a9a441ea07d89b103be9e78",
       "version_major": 2,
       "version_minor": 0
      },
      "text/plain": [
       "HBox(children=(Label(value='10249'), Label(value='Szász György'), HTML(value='<font color=red>^S</font>zász Gy…"
      ]
     },
     "metadata": {},
     "output_type": "display_data"
    },
    {
     "data": {
      "application/vnd.jupyter.widget-view+json": {
       "model_id": "b17e5ff3e01442218d3ca19efe4eb37d",
       "version_major": 2,
       "version_minor": 0
      },
      "text/plain": [
       "HBox(children=(Label(value='9370'), Label(value='Szegedy-Maszák Zsuzsanna'), HTML(value='Szegedy-Masz<font col…"
      ]
     },
     "metadata": {},
     "output_type": "display_data"
    },
    {
     "data": {
      "application/vnd.jupyter.widget-view+json": {
       "model_id": "8207405e1ea34668979b43a1a9fc604c",
       "version_major": 2,
       "version_minor": 0
      },
      "text/plain": [
       "HBox(children=(Label(value='9256'), Label(value='Koszta József'), HTML(value='Koszt<font color=red>^a</font> J…"
      ]
     },
     "metadata": {},
     "output_type": "display_data"
    },
    {
     "data": {
      "application/vnd.jupyter.widget-view+json": {
       "model_id": "7be976316bd14f7495ac9dd3bfc79365",
       "version_major": 2,
       "version_minor": 0
      },
      "text/plain": [
       "HBox(children=(Label(value='8988'), Label(value='Molnári Mariann'), HTML(value='Molnár<font color=red>^i</font…"
      ]
     },
     "metadata": {},
     "output_type": "display_data"
    },
    {
     "data": {
      "application/vnd.jupyter.widget-view+json": {
       "model_id": "ac3a1f9f881248c6b10184214e3f3589",
       "version_major": 2,
       "version_minor": 0
      },
      "text/plain": [
       "HBox(children=(Label(value='8672'), Label(value='Delaine Le Bas'), HTML(value='Delaine Le<font color=red>^ </f…"
      ]
     },
     "metadata": {},
     "output_type": "display_data"
    },
    {
     "data": {
      "application/vnd.jupyter.widget-view+json": {
       "model_id": "fa2c4bd529b346b1b5bd29b8becaf98d",
       "version_major": 2,
       "version_minor": 0
      },
      "text/plain": [
       "HBox(children=(Label(value='8663'), Label(value='Dr. Baán László'), HTML(value='Dr.<font color=red>^ </font>Ba…"
      ]
     },
     "metadata": {},
     "output_type": "display_data"
    },
    {
     "data": {
      "application/vnd.jupyter.widget-view+json": {
       "model_id": "60440e21550f41d1b29ed5cce821c769",
       "version_major": 2,
       "version_minor": 0
      },
      "text/plain": [
       "HBox(children=(Label(value='8510'), Label(value='Mata Attila'), HTML(value='Ma<font color=green>^t</font>ta At…"
      ]
     },
     "metadata": {},
     "output_type": "display_data"
    },
    {
     "data": {
      "application/vnd.jupyter.widget-view+json": {
       "model_id": "57c79f64527b4ac7b2cdd04c93729d7a",
       "version_major": 2,
       "version_minor": 0
      },
      "text/plain": [
       "HBox(children=(Label(value='8446'), Label(value='Kőnig Frigyes'), HTML(value='Kőnig F<font color=red>^r</font>…"
      ]
     },
     "metadata": {},
     "output_type": "display_data"
    },
    {
     "data": {
      "application/vnd.jupyter.widget-view+json": {
       "model_id": "635e21b1abd3423199012ea8b23c26d6",
       "version_major": 2,
       "version_minor": 0
      },
      "text/plain": [
       "HBox(children=(Label(value='8192'), Label(value='Vollmuth Krisztián'), HTML(value='Vo<font color=red>^l</font>…"
      ]
     },
     "metadata": {},
     "output_type": "display_data"
    },
    {
     "data": {
      "application/vnd.jupyter.widget-view+json": {
       "model_id": "a3d3dd71aba549dbbd9bb0bc705016b1",
       "version_major": 2,
       "version_minor": 0
      },
      "text/plain": [
       "HBox(children=(Label(value='8192'), Label(value='Vollmuth Krisztián'), HTML(value='Vollmut<font color=red>^h</…"
      ]
     },
     "metadata": {},
     "output_type": "display_data"
    },
    {
     "data": {
      "application/vnd.jupyter.widget-view+json": {
       "model_id": "16a428ff6484492ab6b53b8b2245fe88",
       "version_major": 2,
       "version_minor": 0
      },
      "text/plain": [
       "HBox(children=(Label(value='8168'), Label(value='Hajdu István'), HTML(value='Hajdu István<font color=green>^:<…"
      ]
     },
     "metadata": {},
     "output_type": "display_data"
    },
    {
     "data": {
      "application/vnd.jupyter.widget-view+json": {
       "model_id": "4f7ab680096a474085156b0e472ffa23",
       "version_major": 2,
       "version_minor": 0
      },
      "text/plain": [
       "HBox(children=(Label(value='8135'), Label(value='Hollós István'), HTML(value='Holló<font color=red>^s</font> I…"
      ]
     },
     "metadata": {},
     "output_type": "display_data"
    },
    {
     "data": {
      "application/vnd.jupyter.widget-view+json": {
       "model_id": "dbe906e25f0b4bb3be3dc93dbd5afac1",
       "version_major": 2,
       "version_minor": 0
      },
      "text/plain": [
       "HBox(children=(Label(value='8135'), Label(value='Hollós István'), HTML(value='Holló<font color=red>^s</font> I…"
      ]
     },
     "metadata": {},
     "output_type": "display_data"
    },
    {
     "data": {
      "application/vnd.jupyter.widget-view+json": {
       "model_id": "8fe9c3f1830445ef850289b7f5e53b4c",
       "version_major": 2,
       "version_minor": 0
      },
      "text/plain": [
       "HBox(children=(Label(value='7992'), Label(value='Magyar Képzőművészeti Egyetem'), HTML(value='<font color=gree…"
      ]
     },
     "metadata": {},
     "output_type": "display_data"
    },
    {
     "data": {
      "application/vnd.jupyter.widget-view+json": {
       "model_id": "71a650bf40c746f4ae176c0fa2e2abac",
       "version_major": 2,
       "version_minor": 0
      },
      "text/plain": [
       "HBox(children=(Label(value='7425'), Label(value='Helmut Kandl'), HTML(value='Helmut<font color=green>^h</font>…"
      ]
     },
     "metadata": {},
     "output_type": "display_data"
    },
    {
     "data": {
      "application/vnd.jupyter.widget-view+json": {
       "model_id": "07ad1b64f3d6479ea2ab279642487598",
       "version_major": 2,
       "version_minor": 0
      },
      "text/plain": [
       "HBox(children=(Label(value='7337'), Label(value='Készman József'), HTML(value='Készman József<font color=green…"
      ]
     },
     "metadata": {},
     "output_type": "display_data"
    },
    {
     "data": {
      "application/vnd.jupyter.widget-view+json": {
       "model_id": "27b0623bf9fd4e2d887e291f666ab348",
       "version_major": 2,
       "version_minor": 0
      },
      "text/plain": [
       "HBox(children=(Label(value='7128'), Label(value='Bereczky Loránd'), HTML(value='Bereczky Loránd<font color=gre…"
      ]
     },
     "metadata": {},
     "output_type": "display_data"
    },
    {
     "data": {
      "application/vnd.jupyter.widget-view+json": {
       "model_id": "245dbb81b74b45ce84f46900843920f8",
       "version_major": 2,
       "version_minor": 0
      },
      "text/plain": [
       "HBox(children=(Label(value='6706'), Label(value='Bodó N Sándor'), HTML(value='Bodó N<font color=green>^.</font…"
      ]
     },
     "metadata": {},
     "output_type": "display_data"
    },
    {
     "data": {
      "application/vnd.jupyter.widget-view+json": {
       "model_id": "33b65641e7ba41558f5601ffbbc09c92",
       "version_major": 2,
       "version_minor": 0
      },
      "text/plain": [
       "HBox(children=(Label(value='6653'), Label(value='Csordás Gábor'), HTML(value='Csordás Gábor<font color=green>^…"
      ]
     },
     "metadata": {},
     "output_type": "display_data"
    },
    {
     "data": {
      "application/vnd.jupyter.widget-view+json": {
       "model_id": "3b4630acf0ee43cdb077596e0da532c3",
       "version_major": 2,
       "version_minor": 0
      },
      "text/plain": [
       "HBox(children=(Label(value='6576'), Label(value='Vlad Morariu'), HTML(value='Vlad Morariu<font color=green>^m<…"
      ]
     },
     "metadata": {},
     "output_type": "display_data"
    },
    {
     "data": {
      "application/vnd.jupyter.widget-view+json": {
       "model_id": "222d75f8db2f4feba0c6baed4a7b194d",
       "version_major": 2,
       "version_minor": 0
      },
      "text/plain": [
       "HBox(children=(Label(value='5749'), Label(value='Mata Attila'), HTML(value='Ma<font color=green>^t</font>ta At…"
      ]
     },
     "metadata": {},
     "output_type": "display_data"
    },
    {
     "data": {
      "application/vnd.jupyter.widget-view+json": {
       "model_id": "3a93ded1df22485689d072e1184f1d27",
       "version_major": 2,
       "version_minor": 0
      },
      "text/plain": [
       "HBox(children=(Label(value='5680'), Label(value='Mata Attila'), HTML(value='Ma<font color=green>^t</font>ta At…"
      ]
     },
     "metadata": {},
     "output_type": "display_data"
    },
    {
     "data": {
      "application/vnd.jupyter.widget-view+json": {
       "model_id": "233407923be1477ca52873b8cb23d7f7",
       "version_major": 2,
       "version_minor": 0
      },
      "text/plain": [
       "HBox(children=(Label(value='4958'), Label(value='P. Szabó Ernő'), HTML(value='P<font color=red>^.</font> Szabó…"
      ]
     },
     "metadata": {},
     "output_type": "display_data"
    },
    {
     "data": {
      "application/vnd.jupyter.widget-view+json": {
       "model_id": "4c67a4e4b8c64b00be5d168b857ae587",
       "version_major": 2,
       "version_minor": 0
      },
      "text/plain": [
       "HBox(children=(Label(value='4918'), Label(value='Szili Katalin'), HTML(value='Szil<font color=red>^i</font> Ka…"
      ]
     },
     "metadata": {},
     "output_type": "display_data"
    },
    {
     "data": {
      "application/vnd.jupyter.widget-view+json": {
       "model_id": "350c241d164e49009c8bf246161d6f1c",
       "version_major": 2,
       "version_minor": 0
      },
      "text/plain": [
       "HBox(children=(Label(value='4681'), Label(value='Katkó Tamás'), HTML(value='<font color=green>^-</font>Katkó T…"
      ]
     },
     "metadata": {},
     "output_type": "display_data"
    },
    {
     "data": {
      "application/vnd.jupyter.widget-view+json": {
       "model_id": "a60450f711014e9483ca1013bc60a527",
       "version_major": 2,
       "version_minor": 0
      },
      "text/plain": [
       "HBox(children=(Label(value='10783'), Label(value='Kísérleti Pop-Performance Csoport'), HTML(value='K<font colo…"
      ]
     },
     "metadata": {},
     "output_type": "display_data"
    },
    {
     "data": {
      "application/vnd.jupyter.widget-view+json": {
       "model_id": "45ab7a18ac5c4dbb8573d53c5e8f913e",
       "version_major": 2,
       "version_minor": 0
      },
      "text/plain": [
       "HBox(children=(Label(value='4037'), Label(value='Keserue Zsolt'), HTML(value='Ke<font color=green>^r</font>ser…"
      ]
     },
     "metadata": {},
     "output_type": "display_data"
    },
    {
     "data": {
      "application/vnd.jupyter.widget-view+json": {
       "model_id": "db466534d0d84618825a5e70850d4bd4",
       "version_major": 2,
       "version_minor": 0
      },
      "text/plain": [
       "HBox(children=(Label(value='3993'), Label(value='Michal Kolecek'), HTML(value='Micha<font color=green>^i</font…"
      ]
     },
     "metadata": {},
     "output_type": "display_data"
    },
    {
     "data": {
      "application/vnd.jupyter.widget-view+json": {
       "model_id": "26468709d433460c80c20d96e5607f51",
       "version_major": 2,
       "version_minor": 0
      },
      "text/plain": [
       "HBox(children=(Label(value='3984'), Label(value='Vincze Angéla'), HTML(value='Vinc<font color=red>^z</font>e A…"
      ]
     },
     "metadata": {},
     "output_type": "display_data"
    },
    {
     "data": {
      "application/vnd.jupyter.widget-view+json": {
       "model_id": "8d8f74c5c7b642a087af11a9a610bc1a",
       "version_major": 2,
       "version_minor": 0
      },
      "text/plain": [
       "HBox(children=(Label(value='3967'), Label(value='Falvay Miklós.'), HTML(value='Falvay Miklós<font color=red>^.…"
      ]
     },
     "metadata": {},
     "output_type": "display_data"
    },
    {
     "data": {
      "application/vnd.jupyter.widget-view+json": {
       "model_id": "bedaa15a6aee44ff9a055e28f5ed8d97",
       "version_major": 2,
       "version_minor": 0
      },
      "text/plain": [
       "HBox(children=(Label(value='3329'), Label(value='Kispál Szabolcs'), HTML(value='Ki<font color=green>^s</font>s…"
      ]
     },
     "metadata": {},
     "output_type": "display_data"
    },
    {
     "data": {
      "application/vnd.jupyter.widget-view+json": {
       "model_id": "588a8d4730c847d0892ace06cb6abde4",
       "version_major": 2,
       "version_minor": 0
      },
      "text/plain": [
       "HBox(children=(Label(value='3329'), Label(value='Kispál Szabolcs'), HTML(value='Ki<font color=green>^s</font>s…"
      ]
     },
     "metadata": {},
     "output_type": "display_data"
    },
    {
     "data": {
      "application/vnd.jupyter.widget-view+json": {
       "model_id": "8291252b8a4b4fceba89e7efa8f3f6b0",
       "version_major": 2,
       "version_minor": 0
      },
      "text/plain": [
       "HBox(children=(Label(value='3329'), Label(value='Kispál Szabolcs'), HTML(value='Ki<font color=green>^s</font>s…"
      ]
     },
     "metadata": {},
     "output_type": "display_data"
    },
    {
     "data": {
      "application/vnd.jupyter.widget-view+json": {
       "model_id": "fc7da34e489641bfb6497bc3da1e3ded",
       "version_major": 2,
       "version_minor": 0
      },
      "text/plain": [
       "HBox(children=(Label(value='3329'), Label(value='Kispál Szabolcs'), HTML(value='Ki<font color=green>^s</font>s…"
      ]
     },
     "metadata": {},
     "output_type": "display_data"
    },
    {
     "data": {
      "application/vnd.jupyter.widget-view+json": {
       "model_id": "8d1c0e369766456ab53710ddfba88913",
       "version_major": 2,
       "version_minor": 0
      },
      "text/plain": [
       "HBox(children=(Label(value='3329'), Label(value='Kispál Szabolcs'), HTML(value='Ki<font color=green>^s</font>s…"
      ]
     },
     "metadata": {},
     "output_type": "display_data"
    },
    {
     "data": {
      "application/vnd.jupyter.widget-view+json": {
       "model_id": "40c70aebba4f472f8c269887217a0963",
       "version_major": 2,
       "version_minor": 0
      },
      "text/plain": [
       "HBox(children=(Label(value='3163'), Label(value='Dr. Gálig Zoltán'), HTML(value='Dr.<font color=red>^ </font>G…"
      ]
     },
     "metadata": {},
     "output_type": "display_data"
    },
    {
     "data": {
      "application/vnd.jupyter.widget-view+json": {
       "model_id": "d471e3a2285f4775a631b5d1c7278be2",
       "version_major": 2,
       "version_minor": 0
      },
      "text/plain": [
       "HBox(children=(Label(value='2976'), Label(value='Bodoni D. Zsolt'), HTML(value='Bodoni D.<font color=red>^ </f…"
      ]
     },
     "metadata": {},
     "output_type": "display_data"
    },
    {
     "data": {
      "application/vnd.jupyter.widget-view+json": {
       "model_id": "bbb5c511c28543509a99637c37508b79",
       "version_major": 2,
       "version_minor": 0
      },
      "text/plain": [
       "HBox(children=(Label(value='2891'), Label(value='Hajdu István'), HTML(value='Hajdu István<font color=green>^:<…"
      ]
     },
     "metadata": {},
     "output_type": "display_data"
    },
    {
     "data": {
      "application/vnd.jupyter.widget-view+json": {
       "model_id": "97cdef051eb04334bfafad43fdaba505",
       "version_major": 2,
       "version_minor": 0
      },
      "text/plain": [
       "HBox(children=(Label(value='2779'), Label(value='Tillman J. A.'), HTML(value='Tillman<font color=green>^n</fon…"
      ]
     },
     "metadata": {},
     "output_type": "display_data"
    },
    {
     "data": {
      "application/vnd.jupyter.widget-view+json": {
       "model_id": "e2cc9cbbce944a81ad5fbfdbf6454481",
       "version_major": 2,
       "version_minor": 0
      },
      "text/plain": [
       "HBox(children=(Label(value='2779'), Label(value='Tillman J. A.'), HTML(value='Tillman J.<font color=red>^ </fo…"
      ]
     },
     "metadata": {},
     "output_type": "display_data"
    },
    {
     "data": {
      "application/vnd.jupyter.widget-view+json": {
       "model_id": "45ebabd332d443c8b6ed5bf1cf028631",
       "version_major": 2,
       "version_minor": 0
      },
      "text/plain": [
       "HBox(children=(Label(value='2779'), Label(value='Tillman J. A.'), HTML(value='Tillman<font color=green>^n</fon…"
      ]
     },
     "metadata": {},
     "output_type": "display_data"
    },
    {
     "data": {
      "application/vnd.jupyter.widget-view+json": {
       "model_id": "127ad4407686454ebcc2745542da80f2",
       "version_major": 2,
       "version_minor": 0
      },
      "text/plain": [
       "HBox(children=(Label(value='2242'), Label(value='Mohácsi András'), HTML(value='Mohács<font color=red>^i</font>…"
      ]
     },
     "metadata": {},
     "output_type": "display_data"
    },
    {
     "data": {
      "application/vnd.jupyter.widget-view+json": {
       "model_id": "53ead1c7c8a8411c9b7fd5bbe690207b",
       "version_major": 2,
       "version_minor": 0
      },
      "text/plain": [
       "HBox(children=(Label(value='1974'), Label(value='Kerekes Gábor'), HTML(value='Kerekes Gábor<font color=green>^…"
      ]
     },
     "metadata": {},
     "output_type": "display_data"
    },
    {
     "data": {
      "application/vnd.jupyter.widget-view+json": {
       "model_id": "0179572879a8474381dcedf1f2b20408",
       "version_major": 2,
       "version_minor": 0
      },
      "text/plain": [
       "HBox(children=(Label(value='1974'), Label(value='Kerekes Gábor'), HTML(value='Kerekes Gábor<font color=green>^…"
      ]
     },
     "metadata": {},
     "output_type": "display_data"
    },
    {
     "data": {
      "application/vnd.jupyter.widget-view+json": {
       "model_id": "b475a0a8645248a2a3272c9a4895ad2b",
       "version_major": 2,
       "version_minor": 0
      },
      "text/plain": [
       "HBox(children=(Label(value='1888'), Label(value='Csordás Gábor'), HTML(value='Csordás Gábor<font color=green>^…"
      ]
     },
     "metadata": {},
     "output_type": "display_data"
    },
    {
     "data": {
      "application/vnd.jupyter.widget-view+json": {
       "model_id": "c098b01aa4f24687b839885cfde1cc8d",
       "version_major": 2,
       "version_minor": 0
      },
      "text/plain": [
       "HBox(children=(Label(value='1772'), Label(value='Váradi Zsófi'), HTML(value='Váradi Zsófi<font color=green>^a<…"
      ]
     },
     "metadata": {},
     "output_type": "display_data"
    },
    {
     "data": {
      "application/vnd.jupyter.widget-view+json": {
       "model_id": "387fd475ff1a4bdebb8ad9eaf8200531",
       "version_major": 2,
       "version_minor": 0
      },
      "text/plain": [
       "HBox(children=(Label(value='1066'), Label(value='Tenke István'), HTML(value='Tenk<font color=red>^e</font> Ist…"
      ]
     },
     "metadata": {},
     "output_type": "display_data"
    },
    {
     "data": {
      "application/vnd.jupyter.widget-view+json": {
       "model_id": "0ced761b421a45d0acb45ac2df31d414",
       "version_major": 2,
       "version_minor": 0
      },
      "text/plain": [
       "HBox(children=(Label(value='210'), Label(value='Janáky István'), HTML(value='<font color=green>^+</font>Janáky…"
      ]
     },
     "metadata": {},
     "output_type": "display_data"
    },
    {
     "data": {
      "application/vnd.jupyter.widget-view+json": {
       "model_id": "54bc372e7bb94ab8b9394091457fb493",
       "version_major": 2,
       "version_minor": 0
      },
      "text/plain": [
       "HBox(children=(Label(value='2'), Label(value='Ef Zámbó István'), HTML(value='Ef<font color=green>^.</font> Zám…"
      ]
     },
     "metadata": {},
     "output_type": "display_data"
    },
    {
     "data": {
      "application/vnd.jupyter.widget-view+json": {
       "model_id": "7462002d48f140c59df906b9d2886b5a",
       "version_major": 2,
       "version_minor": 0
      },
      "text/plain": [
       "HBox(children=(Label(value='25278'), Label(value='Kiss-Kuntler Árpád'), HTML(value='Kiss-Kunt<font color=red>^…"
      ]
     },
     "metadata": {},
     "output_type": "display_data"
    },
    {
     "data": {
      "application/vnd.jupyter.widget-view+json": {
       "model_id": "dda54d43c4d142b197e7820de000e09b",
       "version_major": 2,
       "version_minor": 0
      },
      "text/plain": [
       "HBox(children=(Label(value='25278'), Label(value='Kiss-Kuntler Árpád'), HTML(value='Ki<font color=red>^s</font…"
      ]
     },
     "metadata": {},
     "output_type": "display_data"
    },
    {
     "data": {
      "application/vnd.jupyter.widget-view+json": {
       "model_id": "c3cf293cb5514e2890171f294bd979b5",
       "version_major": 2,
       "version_minor": 0
      },
      "text/plain": [
       "HBox(children=(Label(value='25255'), Label(value='Krizbai Sándor'), HTML(value='Krizbai <font color=green>^ </…"
      ]
     },
     "metadata": {},
     "output_type": "display_data"
    },
    {
     "data": {
      "application/vnd.jupyter.widget-view+json": {
       "model_id": "1939a28b2470490998f8cdfbf0523931",
       "version_major": 2,
       "version_minor": 0
      },
      "text/plain": [
       "HBox(children=(Label(value='25151'), Label(value='Dr. Udvardy Ildikó'), HTML(value='Dr. Udvar<font color=red>^…"
      ]
     },
     "metadata": {},
     "output_type": "display_data"
    },
    {
     "data": {
      "application/vnd.jupyter.widget-view+json": {
       "model_id": "fbd7ec7bc7304d259e8bbffea9c356eb",
       "version_major": 2,
       "version_minor": 0
      },
      "text/plain": [
       "HBox(children=(Label(value='25014'), Label(value='Szotyory László '), HTML(value='Szotyory László<font color=r…"
      ]
     },
     "metadata": {},
     "output_type": "display_data"
    },
    {
     "data": {
      "application/vnd.jupyter.widget-view+json": {
       "model_id": "634b0aa348a546629d179531d7983d9f",
       "version_major": 2,
       "version_minor": 0
      },
      "text/plain": [
       "HBox(children=(Label(value='24932'), Label(value='Bereznay Péter'), HTML(value='Ber<font color=red>^e</font>zn…"
      ]
     },
     "metadata": {},
     "output_type": "display_data"
    },
    {
     "data": {
      "application/vnd.jupyter.widget-view+json": {
       "model_id": "1b8f07ccf4db4c76ab2f688c01c5df08",
       "version_major": 2,
       "version_minor": 0
      },
      "text/plain": [
       "HBox(children=(Label(value='24809'), Label(value='Dr. György Péter'), HTML(value='Dr<font color=red>^.</font> …"
      ]
     },
     "metadata": {},
     "output_type": "display_data"
    },
    {
     "data": {
      "application/vnd.jupyter.widget-view+json": {
       "model_id": "4cb35974bc584ea5a23a0dfaf5d6dd78",
       "version_major": 2,
       "version_minor": 0
      },
      "text/plain": [
       "HBox(children=(Label(value='24757'), Label(value='Tenke István'), HTML(value='Tenk<font color=red>^e</font> Is…"
      ]
     },
     "metadata": {},
     "output_type": "display_data"
    },
    {
     "data": {
      "application/vnd.jupyter.widget-view+json": {
       "model_id": "c016ba56846e46c08f89a52a9c52041b",
       "version_major": 2,
       "version_minor": 0
      },
      "text/plain": [
       "HBox(children=(Label(value='24745'), Label(value='Szirányi István'), HTML(value='Szirányi Istvá<font color=red…"
      ]
     },
     "metadata": {},
     "output_type": "display_data"
    },
    {
     "data": {
      "application/vnd.jupyter.widget-view+json": {
       "model_id": "9f6a2cd78ef142d8ad6951fa14320352",
       "version_major": 2,
       "version_minor": 0
      },
      "text/plain": [
       "HBox(children=(Label(value='24680'), Label(value='Roy Liechtenstein'), HTML(value='Roy Li<font color=red>^e</f…"
      ]
     },
     "metadata": {},
     "output_type": "display_data"
    },
    {
     "data": {
      "application/vnd.jupyter.widget-view+json": {
       "model_id": "04824f6851e14c10bb2c8b320ca61069",
       "version_major": 2,
       "version_minor": 0
      },
      "text/plain": [
       "HBox(children=(Label(value='24668'), Label(value='Ladjánszki Márta'), HTML(value='Ladjánszki <font color=green…"
      ]
     },
     "metadata": {},
     "output_type": "display_data"
    },
    {
     "data": {
      "application/vnd.jupyter.widget-view+json": {
       "model_id": "ceacb179396b476da7ad8064df474f3e",
       "version_major": 2,
       "version_minor": 0
      },
      "text/plain": [
       "HBox(children=(Label(value='24667'), Label(value='Koroknai Zsolt'), HTML(value='Koroknai <font color=green>^ <…"
      ]
     },
     "metadata": {},
     "output_type": "display_data"
    },
    {
     "data": {
      "application/vnd.jupyter.widget-view+json": {
       "model_id": "1c00bb4d2a8648aba5b18b65a5c864e7",
       "version_major": 2,
       "version_minor": 0
      },
      "text/plain": [
       "HBox(children=(Label(value='24655'), Label(value='Lantos Csenge'), HTML(value='Lantos Cs<font color=red>^e</fo…"
      ]
     },
     "metadata": {},
     "output_type": "display_data"
    },
    {
     "data": {
      "application/vnd.jupyter.widget-view+json": {
       "model_id": "3c03ea4c77a24430b5a6f18438dcb427",
       "version_major": 2,
       "version_minor": 0
      },
      "text/plain": [
       "HBox(children=(Label(value='24646'), Label(value='Szilágyi Zsófia Júia'), HTML(value='Szilágyi Zsófia Jú<font …"
      ]
     },
     "metadata": {},
     "output_type": "display_data"
    },
    {
     "data": {
      "application/vnd.jupyter.widget-view+json": {
       "model_id": "90d8bea38deb445b99daa7618d59cf06",
       "version_major": 2,
       "version_minor": 0
      },
      "text/plain": [
       "HBox(children=(Label(value='24598'), Label(value='Zirczi Judit'), HTML(value='Zirc<font color=red>^z</font>i J…"
      ]
     },
     "metadata": {},
     "output_type": "display_data"
    },
    {
     "data": {
      "application/vnd.jupyter.widget-view+json": {
       "model_id": "eb5737750b8b41d895bc5978ffdda11e",
       "version_major": 2,
       "version_minor": 0
      },
      "text/plain": [
       "HBox(children=(Label(value='24591'), Label(value='Hubert Sielecki'), HTML(value='Huber<font color=red>^t</font…"
      ]
     },
     "metadata": {},
     "output_type": "display_data"
    },
    {
     "data": {
      "application/vnd.jupyter.widget-view+json": {
       "model_id": "7a69be91f0074dc88b118b10890deb7c",
       "version_major": 2,
       "version_minor": 0
      },
      "text/plain": [
       "HBox(children=(Label(value='24580'), Label(value='Orgoványi Gbor'), HTML(value='Orgoványi G<font color=green>^…"
      ]
     },
     "metadata": {},
     "output_type": "display_data"
    },
    {
     "data": {
      "application/vnd.jupyter.widget-view+json": {
       "model_id": "c13a0901ee8240009dc31760f1638b55",
       "version_major": 2,
       "version_minor": 0
      },
      "text/plain": [
       "HBox(children=(Label(value='24560'), Label(value='Faltisz Alexandra'), HTML(value='Faltis<font color=red>^z</f…"
      ]
     },
     "metadata": {},
     "output_type": "display_data"
    },
    {
     "data": {
      "application/vnd.jupyter.widget-view+json": {
       "model_id": "210202f9827143808f4a65b445993389",
       "version_major": 2,
       "version_minor": 0
      },
      "text/plain": [
       "HBox(children=(Label(value='24549'), Label(value='Kőnig Frigyes'), HTML(value='Kőnig F<font color=red>^r</font…"
      ]
     },
     "metadata": {},
     "output_type": "display_data"
    },
    {
     "data": {
      "application/vnd.jupyter.widget-view+json": {
       "model_id": "94cd47b8433c422895b0edb830704e09",
       "version_major": 2,
       "version_minor": 0
      },
      "text/plain": [
       "HBox(children=(Label(value='24540'), Label(value='PatakiGábor'), HTML(value='Pataki<font color=green>^ </font>…"
      ]
     },
     "metadata": {},
     "output_type": "display_data"
    },
    {
     "data": {
      "application/vnd.jupyter.widget-view+json": {
       "model_id": "cc45303b3794421780d28f207633d412",
       "version_major": 2,
       "version_minor": 0
      },
      "text/plain": [
       "HBox(children=(Label(value='24531'), Label(value='Varga Balázs'), HTML(value='Varg<font color=green>^h</font>a…"
      ]
     },
     "metadata": {},
     "output_type": "display_data"
    },
    {
     "data": {
      "application/vnd.jupyter.widget-view+json": {
       "model_id": "523a568676524c86a1928397847373e5",
       "version_major": 2,
       "version_minor": 0
      },
      "text/plain": [
       "HBox(children=(Label(value='24508'), Label(value='Lieber Erzsébert'), HTML(value='Lieber Erzsébe<font color=re…"
      ]
     },
     "metadata": {},
     "output_type": "display_data"
    },
    {
     "data": {
      "application/vnd.jupyter.widget-view+json": {
       "model_id": "bc4deeac9e4a4c25ac3d90236fe64534",
       "version_major": 2,
       "version_minor": 0
      },
      "text/plain": [
       "HBox(children=(Label(value='24480'), Label(value='Soltész Melinda'), HTML(value='Soltész <font color=green>^ <…"
      ]
     },
     "metadata": {},
     "output_type": "display_data"
    },
    {
     "data": {
      "application/vnd.jupyter.widget-view+json": {
       "model_id": "42b0ce735abe4a2497944a33560111e7",
       "version_major": 2,
       "version_minor": 0
      },
      "text/plain": [
       "HBox(children=(Label(value='24465'), Label(value='Széchy Beáta'), HTML(value='Széchy Beáta<font color=green>^ …"
      ]
     },
     "metadata": {},
     "output_type": "display_data"
    },
    {
     "data": {
      "application/vnd.jupyter.widget-view+json": {
       "model_id": "203beba3767e4f5ca6cee39592ebd9b3",
       "version_major": 2,
       "version_minor": 0
      },
      "text/plain": [
       "HBox(children=(Label(value='24442'), Label(value='Koroknai Zsolt'), HTML(value='Koroknai <font color=green>^ <…"
      ]
     },
     "metadata": {},
     "output_type": "display_data"
    },
    {
     "data": {
      "application/vnd.jupyter.widget-view+json": {
       "model_id": "b7bf739298a9496db19601fe9c15fe7b",
       "version_major": 2,
       "version_minor": 0
      },
      "text/plain": [
       "HBox(children=(Label(value='24420'), Label(value='Ilés-Muszka Rudolf'), HTML(value='I<font color=green>^l</fon…"
      ]
     },
     "metadata": {},
     "output_type": "display_data"
    },
    {
     "data": {
      "application/vnd.jupyter.widget-view+json": {
       "model_id": "3f3b207c8310495eb0b7e0d6f5cf928b",
       "version_major": 2,
       "version_minor": 0
      },
      "text/plain": [
       "HBox(children=(Label(value='24404'), Label(value='Széchy Beáta '), HTML(value='Széchy Beáta<font color=red>^ <…"
      ]
     },
     "metadata": {},
     "output_type": "display_data"
    },
    {
     "data": {
      "application/vnd.jupyter.widget-view+json": {
       "model_id": "200e0da011964f26b0fdae48f88b1de6",
       "version_major": 2,
       "version_minor": 0
      },
      "text/plain": [
       "HBox(children=(Label(value='24404'), Label(value='Széchy Beáta '), HTML(value='Széchy Beáta<font color=red>^ <…"
      ]
     },
     "metadata": {},
     "output_type": "display_data"
    },
    {
     "data": {
      "application/vnd.jupyter.widget-view+json": {
       "model_id": "cb2852dbcf0c4362b668e06e68419fa3",
       "version_major": 2,
       "version_minor": 0
      },
      "text/plain": [
       "HBox(children=(Label(value='24127'), Label(value='Cakó Ferenc'), HTML(value='C<font color=green>^z</font>akó F…"
      ]
     },
     "metadata": {},
     "output_type": "display_data"
    },
    {
     "data": {
      "application/vnd.jupyter.widget-view+json": {
       "model_id": "ba73267b7c38426ab3626b0a7c1a2edf",
       "version_major": 2,
       "version_minor": 0
      },
      "text/plain": [
       "HBox(children=(Label(value='24076'), Label(value='Kovács Tibor'), HTML(value='Kovács<font color=green>^y</font…"
      ]
     },
     "metadata": {},
     "output_type": "display_data"
    },
    {
     "data": {
      "application/vnd.jupyter.widget-view+json": {
       "model_id": "e77ccfd1711b47c1b66eab97464960c1",
       "version_major": 2,
       "version_minor": 0
      },
      "text/plain": [
       "HBox(children=(Label(value='24056'), Label(value='Pézmann Andrea'), HTML(value='Pézma<font color=red>^n</font>…"
      ]
     },
     "metadata": {},
     "output_type": "display_data"
    },
    {
     "data": {
      "application/vnd.jupyter.widget-view+json": {
       "model_id": "bd40779c389f40e5a61e8811abd6f7ed",
       "version_major": 2,
       "version_minor": 0
      },
      "text/plain": [
       "HBox(children=(Label(value='24014'), Label(value='Hanna Schimek'), HTML(value='Hanna Schime<font color=green>^…"
      ]
     },
     "metadata": {},
     "output_type": "display_data"
    },
    {
     "data": {
      "application/vnd.jupyter.widget-view+json": {
       "model_id": "55b3f4ca42d448b185a0518adeb84d46",
       "version_major": 2,
       "version_minor": 0
      },
      "text/plain": [
       "HBox(children=(Label(value='24014'), Label(value='Hanna Schimek'), HTML(value='Hanna Schime<font color=green>^…"
      ]
     },
     "metadata": {},
     "output_type": "display_data"
    },
    {
     "data": {
      "application/vnd.jupyter.widget-view+json": {
       "model_id": "95e8a28f46c24ed697af5eb302e2f961",
       "version_major": 2,
       "version_minor": 0
      },
      "text/plain": [
       "HBox(children=(Label(value='23983'), Label(value='Herman Zoltán'), HTML(value='Herma<font color=green>^n</font…"
      ]
     },
     "metadata": {},
     "output_type": "display_data"
    },
    {
     "data": {
      "application/vnd.jupyter.widget-view+json": {
       "model_id": "cd6edcb6669f4f4b99ecb5fdf5fad84b",
       "version_major": 2,
       "version_minor": 0
      },
      "text/plain": [
       "HBox(children=(Label(value='23948'), Label(value='Készman József'), HTML(value='Készman József<font color=gree…"
      ]
     },
     "metadata": {},
     "output_type": "display_data"
    },
    {
     "data": {
      "application/vnd.jupyter.widget-view+json": {
       "model_id": "5c708a0d11b04678993751ecd3139371",
       "version_major": 2,
       "version_minor": 0
      },
      "text/plain": [
       "HBox(children=(Label(value='23938'), Label(value='Kántor József'), HTML(value='Kántor Jó<font color=red>^z</fo…"
      ]
     },
     "metadata": {},
     "output_type": "display_data"
    },
    {
     "data": {
      "application/vnd.jupyter.widget-view+json": {
       "model_id": "c42e76cc920b4db09296d7c5ea936f26",
       "version_major": 2,
       "version_minor": 0
      },
      "text/plain": [
       "HBox(children=(Label(value='23886'), Label(value='Mátyási Péter'), HTML(value='Mátyás<font color=red>^i</font>…"
      ]
     },
     "metadata": {},
     "output_type": "display_data"
    },
    {
     "data": {
      "application/vnd.jupyter.widget-view+json": {
       "model_id": "9a9dee2e39c3405480db63a3a22ec6a3",
       "version_major": 2,
       "version_minor": 0
      },
      "text/plain": [
       "HBox(children=(Label(value='23886'), Label(value='Mátyási Péter'), HTML(value='Mátyás<font color=red>^i</font>…"
      ]
     },
     "metadata": {},
     "output_type": "display_data"
    },
    {
     "data": {
      "application/vnd.jupyter.widget-view+json": {
       "model_id": "df9043e3317a477aac5e4228892d1f33",
       "version_major": 2,
       "version_minor": 0
      },
      "text/plain": [
       "HBox(children=(Label(value='23882'), Label(value='Kopasz Tamás'), HTML(value='Kopasz Tamás<font color=green>^z…"
      ]
     },
     "metadata": {},
     "output_type": "display_data"
    },
    {
     "data": {
      "application/vnd.jupyter.widget-view+json": {
       "model_id": "916b4322241e4367992fc1b5c8d216f8",
       "version_major": 2,
       "version_minor": 0
      },
      "text/plain": [
       "HBox(children=(Label(value='23827'), Label(value='Swierkiwicz Róbert'), HTML(value='Swierki<font color=green>^…"
      ]
     },
     "metadata": {},
     "output_type": "display_data"
    },
    {
     "data": {
      "application/vnd.jupyter.widget-view+json": {
       "model_id": "a2757f0c1a1a4be1ae2da8da707119a2",
       "version_major": 2,
       "version_minor": 0
      },
      "text/plain": [
       "HBox(children=(Label(value='23807'), Label(value='Ifj. Koffán Károly'), HTML(value='Ifj.<font color=green>^ </…"
      ]
     },
     "metadata": {},
     "output_type": "display_data"
    },
    {
     "data": {
      "application/vnd.jupyter.widget-view+json": {
       "model_id": "a2f5a0c3f7c343ecb728813883f72e24",
       "version_major": 2,
       "version_minor": 0
      },
      "text/plain": [
       "HBox(children=(Label(value='23798'), Label(value='Gellér B. István'), HTML(value='Gellér B.<font color=red>^ <…"
      ]
     },
     "metadata": {},
     "output_type": "display_data"
    },
    {
     "data": {
      "application/vnd.jupyter.widget-view+json": {
       "model_id": "47f842ca8968407c881b985c73dfd63c",
       "version_major": 2,
       "version_minor": 0
      },
      "text/plain": [
       "HBox(children=(Label(value='23775'), Label(value='Szegedy-Maszák Zsuzsanna'), HTML(value='Szegedy-Masz<font co…"
      ]
     },
     "metadata": {},
     "output_type": "display_data"
    },
    {
     "data": {
      "application/vnd.jupyter.widget-view+json": {
       "model_id": "ddfbd1d738974a2c9560f7ef6935083b",
       "version_major": 2,
       "version_minor": 0
      },
      "text/plain": [
       "HBox(children=(Label(value='23689'), Label(value='Kecskés Péter'), HTML(value='Kecskés Péter<font color=green>…"
      ]
     },
     "metadata": {},
     "output_type": "display_data"
    },
    {
     "data": {
      "application/vnd.jupyter.widget-view+json": {
       "model_id": "33afaaea6b884e4db8702e61e46bd1e0",
       "version_major": 2,
       "version_minor": 0
      },
      "text/plain": [
       "HBox(children=(Label(value='23599'), Label(value='Agnes von Uray'), HTML(value='Ag<font color=red>^n</font>es …"
      ]
     },
     "metadata": {},
     "output_type": "display_data"
    },
    {
     "data": {
      "application/vnd.jupyter.widget-view+json": {
       "model_id": "670b4b7a31ba43a49d968c276ba5b36f",
       "version_major": 2,
       "version_minor": 0
      },
      "text/plain": [
       "HBox(children=(Label(value='23595'), Label(value='Karácsonyi László'), HTML(value='Karácsony<font color=red>^i…"
      ]
     },
     "metadata": {},
     "output_type": "display_data"
    },
    {
     "data": {
      "application/vnd.jupyter.widget-view+json": {
       "model_id": "b7a7856b9998416a843b7c58aca8de0d",
       "version_major": 2,
       "version_minor": 0
      },
      "text/plain": [
       "HBox(children=(Label(value='23588'), Label(value='Konopás Judit Emese'), HTML(value='Kono<font color=red>^p</f…"
      ]
     },
     "metadata": {},
     "output_type": "display_data"
    },
    {
     "data": {
      "application/vnd.jupyter.widget-view+json": {
       "model_id": "ca5a496d0d7949249c8dee773b069e90",
       "version_major": 2,
       "version_minor": 0
      },
      "text/plain": [
       "HBox(children=(Label(value='23540'), Label(value='Barakonyi Szabolcs'), HTML(value='Barakonyi <font color=gree…"
      ]
     },
     "metadata": {},
     "output_type": "display_data"
    },
    {
     "data": {
      "application/vnd.jupyter.widget-view+json": {
       "model_id": "aaf214d41d2c494cbfb2db7532416c23",
       "version_major": 2,
       "version_minor": 0
      },
      "text/plain": [
       "HBox(children=(Label(value='23443'), Label(value='dr. Feledy Balázs'), HTML(value='dr<font color=red>^.</font>…"
      ]
     },
     "metadata": {},
     "output_type": "display_data"
    },
    {
     "data": {
      "application/vnd.jupyter.widget-view+json": {
       "model_id": "c20b8db242264d7b8ae3436f5c0a33cc",
       "version_major": 2,
       "version_minor": 0
      },
      "text/plain": [
       "HBox(children=(Label(value='23389'), Label(value='Somogyi-Rohonczy Zsófia'), HTML(value='Somogyi-Rohonczy Zsóf…"
      ]
     },
     "metadata": {},
     "output_type": "display_data"
    },
    {
     "data": {
      "application/vnd.jupyter.widget-view+json": {
       "model_id": "00bee0c632304404a5a03bb1433c34ab",
       "version_major": 2,
       "version_minor": 0
      },
      "text/plain": [
       "HBox(children=(Label(value='23389'), Label(value='Somogyi-Rohonczy Zsófia'), HTML(value='Somogyi<font color=bl…"
      ]
     },
     "metadata": {},
     "output_type": "display_data"
    },
    {
     "data": {
      "application/vnd.jupyter.widget-view+json": {
       "model_id": "863cb193b4744ff8b4e4d9b14102984b",
       "version_major": 2,
       "version_minor": 0
      },
      "text/plain": [
       "HBox(children=(Label(value='23388'), Label(value='Vince Angéla'), HTML(value='Vinc<font color=green>^z</font>e…"
      ]
     },
     "metadata": {},
     "output_type": "display_data"
    },
    {
     "data": {
      "application/vnd.jupyter.widget-view+json": {
       "model_id": "589da424b9ef4a98a1e0fd60c1906461",
       "version_major": 2,
       "version_minor": 0
      },
      "text/plain": [
       "HBox(children=(Label(value='23258'), Label(value='Bencs Dániel'), HTML(value='Bencs<font color=green>^i</font>…"
      ]
     },
     "metadata": {},
     "output_type": "display_data"
    },
    {
     "data": {
      "application/vnd.jupyter.widget-view+json": {
       "model_id": "8016477579a74159adfdc0344151c2e6",
       "version_major": 2,
       "version_minor": 0
      },
      "text/plain": [
       "HBox(children=(Label(value='23146'), Label(value='Nemes Csaba'), HTML(value='Nemes Csaba<font color=green>^:</…"
      ]
     },
     "metadata": {},
     "output_type": "display_data"
    },
    {
     "data": {
      "application/vnd.jupyter.widget-view+json": {
       "model_id": "6e0d812c2e054c9a850eb4b26606a76c",
       "version_major": 2,
       "version_minor": 0
      },
      "text/plain": [
       "HBox(children=(Label(value='23133'), Label(value='Juhász R. József'), HTML(value='Juhász R.<font color=red>^ <…"
      ]
     },
     "metadata": {},
     "output_type": "display_data"
    },
    {
     "data": {
      "application/vnd.jupyter.widget-view+json": {
       "model_id": "1f2c6a69dedc406aacd4c39fc46ef0a0",
       "version_major": 2,
       "version_minor": 0
      },
      "text/plain": [
       "HBox(children=(Label(value='23086'), Label(value='Mátrai Erika'), HTML(value='Mátrai Erik<font color=red>^a</f…"
      ]
     },
     "metadata": {},
     "output_type": "display_data"
    },
    {
     "data": {
      "application/vnd.jupyter.widget-view+json": {
       "model_id": "087089d1048146f88c54698d2acdd9c8",
       "version_major": 2,
       "version_minor": 0
      },
      "text/plain": [
       "HBox(children=(Label(value='23015'), Label(value='Mátyási Péter'), HTML(value='Mátyás<font color=red>^i</font>…"
      ]
     },
     "metadata": {},
     "output_type": "display_data"
    },
    {
     "data": {
      "application/vnd.jupyter.widget-view+json": {
       "model_id": "d58aef87d4b04c5e9304adfeff00a607",
       "version_major": 2,
       "version_minor": 0
      },
      "text/plain": [
       "HBox(children=(Label(value='23015'), Label(value='Mátyási Péter'), HTML(value='Mátyás<font color=red>^i</font>…"
      ]
     },
     "metadata": {},
     "output_type": "display_data"
    },
    {
     "data": {
      "application/vnd.jupyter.widget-view+json": {
       "model_id": "2e33a6bb550a42829a5f161c257935e6",
       "version_major": 2,
       "version_minor": 0
      },
      "text/plain": [
       "HBox(children=(Label(value='22943'), Label(value='dr Feledy Balázs'), HTML(value='dr<font color=green>^.</font…"
      ]
     },
     "metadata": {},
     "output_type": "display_data"
    },
    {
     "data": {
      "application/vnd.jupyter.widget-view+json": {
       "model_id": "1309836c4dbe49e3bdea1f6dd3ad9928",
       "version_major": 2,
       "version_minor": 0
      },
      "text/plain": [
       "HBox(children=(Label(value='22903'), Label(value='Károlyi Zsigmond'), HTML(value='Károlyi<font color=green>^ <…"
      ]
     },
     "metadata": {},
     "output_type": "display_data"
    },
    {
     "data": {
      "application/vnd.jupyter.widget-view+json": {
       "model_id": "efb1f837a0a44a88915560310ff715f2",
       "version_major": 2,
       "version_minor": 0
      },
      "text/plain": [
       "HBox(children=(Label(value='22898'), Label(value='Csernus Tibor'), HTML(value='Csernus<font color=green>^s</fo…"
      ]
     },
     "metadata": {},
     "output_type": "display_data"
    },
    {
     "data": {
      "application/vnd.jupyter.widget-view+json": {
       "model_id": "7ea2c995117e4b69b9e361c8481bf8fe",
       "version_major": 2,
       "version_minor": 0
      },
      "text/plain": [
       "HBox(children=(Label(value='22851'), Label(value='Koroknai Zsolt'), HTML(value='Koroknai <font color=green>^ <…"
      ]
     },
     "metadata": {},
     "output_type": "display_data"
    },
    {
     "data": {
      "application/vnd.jupyter.widget-view+json": {
       "model_id": "a0049bf6192e4f6bafa66d76994369b5",
       "version_major": 2,
       "version_minor": 0
      },
      "text/plain": [
       "HBox(children=(Label(value='22752'), Label(value='Balogh Gallusz'), HTML(value='Balogh Gallus<font color=red>^…"
      ]
     },
     "metadata": {},
     "output_type": "display_data"
    },
    {
     "data": {
      "application/vnd.jupyter.widget-view+json": {
       "model_id": "9187864674d84d10a6899945324c3dc4",
       "version_major": 2,
       "version_minor": 0
      },
      "text/plain": [
       "HBox(children=(Label(value='22727'), Label(value='Tóth Márton Emil'), HTML(value='Tóth Márton Emil<font color=…"
      ]
     },
     "metadata": {},
     "output_type": "display_data"
    },
    {
     "data": {
      "application/vnd.jupyter.widget-view+json": {
       "model_id": "f9e17759fb944591b6dbe8d377a447b6",
       "version_major": 2,
       "version_minor": 0
      },
      "text/plain": [
       "HBox(children=(Label(value='22711'), Label(value='Jakatics-Szabó Veronika'), HTML(value='Jakati<font color=blu…"
      ]
     },
     "metadata": {},
     "output_type": "display_data"
    },
    {
     "data": {
      "application/vnd.jupyter.widget-view+json": {
       "model_id": "f569faba0e974529add1bf8314a9dc6e",
       "version_major": 2,
       "version_minor": 0
      },
      "text/plain": [
       "HBox(children=(Label(value='22711'), Label(value='Jakatics-Szabó Veronika'), HTML(value='Jakatics<font color=b…"
      ]
     },
     "metadata": {},
     "output_type": "display_data"
    },
    {
     "data": {
      "application/vnd.jupyter.widget-view+json": {
       "model_id": "b71baaf1ee414b4b8af12b0c19b81010",
       "version_major": 2,
       "version_minor": 0
      },
      "text/plain": [
       "HBox(children=(Label(value='22711'), Label(value='Jakatics-Szabó Veronika'), HTML(value='Jakat<font color=gree…"
      ]
     },
     "metadata": {},
     "output_type": "display_data"
    },
    {
     "data": {
      "application/vnd.jupyter.widget-view+json": {
       "model_id": "3192c3c7af754a4fb4a1d243d424992c",
       "version_major": 2,
       "version_minor": 0
      },
      "text/plain": [
       "HBox(children=(Label(value='7916'), Label(value='Plágium 2000'), HTML(value='Plágium<font color=red>^ </font>2…"
      ]
     },
     "metadata": {},
     "output_type": "display_data"
    },
    {
     "data": {
      "application/vnd.jupyter.widget-view+json": {
       "model_id": "105c072e2bd942d98209c249f475e15a",
       "version_major": 2,
       "version_minor": 0
      },
      "text/plain": [
       "HBox(children=(Label(value='7916'), Label(value='Plágium 2000'), HTML(value='Plágium 200<font color=red>^0</fo…"
      ]
     },
     "metadata": {},
     "output_type": "display_data"
    },
    {
     "data": {
      "application/vnd.jupyter.widget-view+json": {
       "model_id": "1b1093c962014a7788ec529e9ce131f4",
       "version_major": 2,
       "version_minor": 0
      },
      "text/plain": [
       "HBox(children=(Label(value='22644'), Label(value='Bereczky Loránd'), HTML(value='Bereczky Loránd<font color=gr…"
      ]
     },
     "metadata": {},
     "output_type": "display_data"
    },
    {
     "data": {
      "application/vnd.jupyter.widget-view+json": {
       "model_id": "fcf02c605853461196fdecdf7760bce1",
       "version_major": 2,
       "version_minor": 0
      },
      "text/plain": [
       "HBox(children=(Label(value='22583'), Label(value='Károlyi  Zsigmond'), HTML(value='Károlyi<font color=red>^ </…"
      ]
     },
     "metadata": {},
     "output_type": "display_data"
    },
    {
     "data": {
      "application/vnd.jupyter.widget-view+json": {
       "model_id": "2f68901db68b4b088fa44ffe346852ba",
       "version_major": 2,
       "version_minor": 0
      },
      "text/plain": [
       "HBox(children=(Label(value='22471'), Label(value='Domonkos Ágnes'), HTML(value='Domo<font color=red>^n</font>k…"
      ]
     },
     "metadata": {},
     "output_type": "display_data"
    },
    {
     "data": {
      "application/vnd.jupyter.widget-view+json": {
       "model_id": "aa08bade1343408aa8a6dec0a16ba183",
       "version_major": 2,
       "version_minor": 0
      },
      "text/plain": [
       "HBox(children=(Label(value='22419'), Label(value='Koszt József'), HTML(value='Koszt<font color=green>^a</font>…"
      ]
     },
     "metadata": {},
     "output_type": "display_data"
    },
    {
     "data": {
      "application/vnd.jupyter.widget-view+json": {
       "model_id": "dbaba194d5834dbc93ee10196bc6890a",
       "version_major": 2,
       "version_minor": 0
      },
      "text/plain": [
       "HBox(children=(Label(value='22395'), Label(value='Nagy Gabriella'), HTML(value='Nagy Gab<font color=red>^r</fo…"
      ]
     },
     "metadata": {},
     "output_type": "display_data"
    },
    {
     "data": {
      "application/vnd.jupyter.widget-view+json": {
       "model_id": "0ab965bcb5d446bc9e16c6b6c8a0668f",
       "version_major": 2,
       "version_minor": 0
      },
      "text/plain": [
       "HBox(children=(Label(value='22283'), Label(value='Pettendi Szabó Péter'), HTML(value='Pettendi Szabó<font colo…"
      ]
     },
     "metadata": {},
     "output_type": "display_data"
    },
    {
     "data": {
      "application/vnd.jupyter.widget-view+json": {
       "model_id": "1e25a53eb471488099bc2495efd60795",
       "version_major": 2,
       "version_minor": 0
      },
      "text/plain": [
       "HBox(children=(Label(value='22223'), Label(value='Agnes von Uray'), HTML(value='Ag<font color=red>^n</font>es …"
      ]
     },
     "metadata": {},
     "output_type": "display_data"
    },
    {
     "data": {
      "application/vnd.jupyter.widget-view+json": {
       "model_id": "413d38a7c5714c2bb1025866690cfe71",
       "version_major": 2,
       "version_minor": 0
      },
      "text/plain": [
       "HBox(children=(Label(value='22213'), Label(value='Nagy Gabiella'), HTML(value='Nagy Gab<font color=green>^r</f…"
      ]
     },
     "metadata": {},
     "output_type": "display_data"
    },
    {
     "data": {
      "application/vnd.jupyter.widget-view+json": {
       "model_id": "f47f32e564e045128c5d15a689e10a4e",
       "version_major": 2,
       "version_minor": 0
      },
      "text/plain": [
       "HBox(children=(Label(value='22198'), Label(value='Frazon Zsófia'), HTML(value='Frazon Zsófi<font color=red>^a<…"
      ]
     },
     "metadata": {},
     "output_type": "display_data"
    },
    {
     "data": {
      "application/vnd.jupyter.widget-view+json": {
       "model_id": "131fb06932a84a39a10a803d39dc80f5",
       "version_major": 2,
       "version_minor": 0
      },
      "text/plain": [
       "HBox(children=(Label(value='22184'), Label(value='Perlaki  Márton'), HTML(value='Perlaki <font color=red>^ </f…"
      ]
     },
     "metadata": {},
     "output_type": "display_data"
    },
    {
     "data": {
      "application/vnd.jupyter.widget-view+json": {
       "model_id": "4a388c04179a443faa004edc54a83935",
       "version_major": 2,
       "version_minor": 0
      },
      "text/plain": [
       "HBox(children=(Label(value='22178'), Label(value='Németh Kristián'), HTML(value='Németh Kris<font color=green>…"
      ]
     },
     "metadata": {},
     "output_type": "display_data"
    },
    {
     "data": {
      "application/vnd.jupyter.widget-view+json": {
       "model_id": "c10bef701867463e916c73dc5acbc601",
       "version_major": 2,
       "version_minor": 0
      },
      "text/plain": [
       "HBox(children=(Label(value='22134'), Label(value='Blaskó János '), HTML(value='Blaskó János<font color=red>^ <…"
      ]
     },
     "metadata": {},
     "output_type": "display_data"
    },
    {
     "data": {
      "application/vnd.jupyter.widget-view+json": {
       "model_id": "db07a5de18d041608ee5d03b61c33fe8",
       "version_major": 2,
       "version_minor": 0
      },
      "text/plain": [
       "HBox(children=(Label(value='22134'), Label(value='Blaskó János '), HTML(value='Blaskó János<font color=red>^ <…"
      ]
     },
     "metadata": {},
     "output_type": "display_data"
    },
    {
     "data": {
      "application/vnd.jupyter.widget-view+json": {
       "model_id": "bb96e6753c8b4f838b157e367b5ffb77",
       "version_major": 2,
       "version_minor": 0
      },
      "text/plain": [
       "HBox(children=(Label(value='22108'), Label(value='Gadányi Jenő '), HTML(value='Gadányi Jenő<font color=red>^ <…"
      ]
     },
     "metadata": {},
     "output_type": "display_data"
    },
    {
     "data": {
      "application/vnd.jupyter.widget-view+json": {
       "model_id": "aace3de900304adb861a34cfd32fb1e1",
       "version_major": 2,
       "version_minor": 0
      },
      "text/plain": [
       "HBox(children=(Label(value='22085'), Label(value='Rabóczky Judit Rita'), HTML(value='Rabóczky Judit <font colo…"
      ]
     },
     "metadata": {},
     "output_type": "display_data"
    },
    {
     "data": {
      "application/vnd.jupyter.widget-view+json": {
       "model_id": "9b00b355f53d4c96b317d17f1c384d7b",
       "version_major": 2,
       "version_minor": 0
      },
      "text/plain": [
       "HBox(children=(Label(value='22063'), Label(value='Hajdu István'), HTML(value='Hajdu István<font color=green>^:…"
      ]
     },
     "metadata": {},
     "output_type": "display_data"
    },
    {
     "data": {
      "application/vnd.jupyter.widget-view+json": {
       "model_id": "d92ae1bfdc0e4fd78ebc6fe97b132d26",
       "version_major": 2,
       "version_minor": 0
      },
      "text/plain": [
       "HBox(children=(Label(value='22053'), Label(value='Erőss István'), HTML(value='Erő<font color=red>^s</font>s Is…"
      ]
     },
     "metadata": {},
     "output_type": "display_data"
    },
    {
     "data": {
      "application/vnd.jupyter.widget-view+json": {
       "model_id": "9e8816d879ff4f258ecf4955e0ea3de3",
       "version_major": 2,
       "version_minor": 0
      },
      "text/plain": [
       "HBox(children=(Label(value='22045'), Label(value='Ungváry Krisztián'), HTML(value='Ungváry Krisztián<font colo…"
      ]
     },
     "metadata": {},
     "output_type": "display_data"
    },
    {
     "data": {
      "application/vnd.jupyter.widget-view+json": {
       "model_id": "9aed5975baf1416fb02369c6ca4785a3",
       "version_major": 2,
       "version_minor": 0
      },
      "text/plain": [
       "HBox(children=(Label(value='21913'), Label(value='Gadányi Jenő'), HTML(value='Gadány<font color=red>^i</font> …"
      ]
     },
     "metadata": {},
     "output_type": "display_data"
    },
    {
     "data": {
      "application/vnd.jupyter.widget-view+json": {
       "model_id": "cb828898396c416d94a3e6095a897826",
       "version_major": 2,
       "version_minor": 0
      },
      "text/plain": [
       "HBox(children=(Label(value='21839'), Label(value='Tilmann J. A.'), HTML(value='Ti<font color=green>^l</font>lm…"
      ]
     },
     "metadata": {},
     "output_type": "display_data"
    },
    {
     "data": {
      "application/vnd.jupyter.widget-view+json": {
       "model_id": "abec7ccf577f44118bdcfce96222e8a3",
       "version_major": 2,
       "version_minor": 0
      },
      "text/plain": [
       "HBox(children=(Label(value='21839'), Label(value='Tilmann J. A.'), HTML(value='Ti<font color=green>^l</font>lm…"
      ]
     },
     "metadata": {},
     "output_type": "display_data"
    },
    {
     "data": {
      "application/vnd.jupyter.widget-view+json": {
       "model_id": "6bb2bc5eb5eb42889c6e035e7c893b12",
       "version_major": 2,
       "version_minor": 0
      },
      "text/plain": [
       "HBox(children=(Label(value='21743'), Label(value='Básthy Ágnes'), HTML(value='Bást<font color=red>^h</font>y Á…"
      ]
     },
     "metadata": {},
     "output_type": "display_data"
    },
    {
     "data": {
      "application/vnd.jupyter.widget-view+json": {
       "model_id": "af7fcdb9197844c9be40a167e637d1a1",
       "version_major": 2,
       "version_minor": 0
      },
      "text/plain": [
       "HBox(children=(Label(value='21603'), Label(value='Wrobel Péter'), HTML(value='Wrobel <font color=green>^ </fon…"
      ]
     },
     "metadata": {},
     "output_type": "display_data"
    },
    {
     "data": {
      "application/vnd.jupyter.widget-view+json": {
       "model_id": "661d0666f3c747d2bff11bcd56659450",
       "version_major": 2,
       "version_minor": 0
      },
      "text/plain": [
       "HBox(children=(Label(value='21584'), Label(value='Ifj. Koffán Károly'), HTML(value='Ifj.<font color=green>^ </…"
      ]
     },
     "metadata": {},
     "output_type": "display_data"
    },
    {
     "data": {
      "application/vnd.jupyter.widget-view+json": {
       "model_id": "6d88ce9a16d34970a06ef68df47306ff",
       "version_major": 2,
       "version_minor": 0
      },
      "text/plain": [
       "HBox(children=(Label(value='21547'), Label(value='Nem’s Judit'), HTML(value='Nem’s Judit<font color=green>^h</…"
      ]
     },
     "metadata": {},
     "output_type": "display_data"
    },
    {
     "data": {
      "application/vnd.jupyter.widget-view+json": {
       "model_id": "b2e71893c3c94e27b1b3494ba17fc2c3",
       "version_major": 2,
       "version_minor": 0
      },
      "text/plain": [
       "HBox(children=(Label(value='21500'), Label(value='Kishonty Zsolt'), HTML(value='Kishont<font color=green>^h</f…"
      ]
     },
     "metadata": {},
     "output_type": "display_data"
    },
    {
     "data": {
      "application/vnd.jupyter.widget-view+json": {
       "model_id": "45b93b4a7f1342459babef2585c18b55",
       "version_major": 2,
       "version_minor": 0
      },
      "text/plain": [
       "HBox(children=(Label(value='21349'), Label(value='Demeter Dávidi'), HTML(value='Demeter Dávid<font color=red>^…"
      ]
     },
     "metadata": {},
     "output_type": "display_data"
    },
    {
     "data": {
      "application/vnd.jupyter.widget-view+json": {
       "model_id": "2d0119e32320410cafed037c5e892fbf",
       "version_major": 2,
       "version_minor": 0
      },
      "text/plain": [
       "HBox(children=(Label(value='21161'), Label(value='Kútvölgyi-Szabó Áron'), HTML(value='Kútvölgyi<font color=gre…"
      ]
     },
     "metadata": {},
     "output_type": "display_data"
    },
    {
     "data": {
      "application/vnd.jupyter.widget-view+json": {
       "model_id": "1a5a85f1bc4948559d08fdb79782e026",
       "version_major": 2,
       "version_minor": 0
      },
      "text/plain": [
       "HBox(children=(Label(value='21078'), Label(value='Fatis Alexandra'), HTML(value='Fa<font color=green>^l</font>…"
      ]
     },
     "metadata": {},
     "output_type": "display_data"
    },
    {
     "data": {
      "application/vnd.jupyter.widget-view+json": {
       "model_id": "798a04f48ab9422b80a5e9e57cdff8b3",
       "version_major": 2,
       "version_minor": 0
      },
      "text/plain": [
       "HBox(children=(Label(value='21074'), Label(value='Swierkewicz Róbert'), HTML(value='Swierk<font color=green>^i…"
      ]
     },
     "metadata": {},
     "output_type": "display_data"
    },
    {
     "data": {
      "application/vnd.jupyter.widget-view+json": {
       "model_id": "d4e2823b84194b2891f6ea71597b1c3f",
       "version_major": 2,
       "version_minor": 0
      },
      "text/plain": [
       "HBox(children=(Label(value='20978'), Label(value='Péterfy Gergely'), HTML(value='Péter<font color=green>^f</fo…"
      ]
     },
     "metadata": {},
     "output_type": "display_data"
    },
    {
     "data": {
      "application/vnd.jupyter.widget-view+json": {
       "model_id": "daf269149d8040ae82c805bbb45bb2f7",
       "version_major": 2,
       "version_minor": 0
      },
      "text/plain": [
       "HBox(children=(Label(value='20976'), Label(value='Szolnoki József '), HTML(value='Szolnoki József <font color=…"
      ]
     },
     "metadata": {},
     "output_type": "display_data"
    },
    {
     "data": {
      "application/vnd.jupyter.widget-view+json": {
       "model_id": "5defaf014d394c11b8ee03686ceafcce",
       "version_major": 2,
       "version_minor": 0
      },
      "text/plain": [
       "HBox(children=(Label(value='20974'), Label(value='Katharina Roters'), HTML(value='Kat<font color=red>^h</font>…"
      ]
     },
     "metadata": {},
     "output_type": "display_data"
    },
    {
     "data": {
      "application/vnd.jupyter.widget-view+json": {
       "model_id": "c1020099259343feb183ee0f3468fc0d",
       "version_major": 2,
       "version_minor": 0
      },
      "text/plain": [
       "HBox(children=(Label(value='20872'), Label(value='Tom McCarthy: Spotlight'), HTML(value='Tom McCarthy: <font c…"
      ]
     },
     "metadata": {},
     "output_type": "display_data"
    },
    {
     "data": {
      "application/vnd.jupyter.widget-view+json": {
       "model_id": "70c63600808c448894238b84a33d2c4d",
       "version_major": 2,
       "version_minor": 0
      },
      "text/plain": [
       "HBox(children=(Label(value='20856'), Label(value='Szegedy-Maszák Zsuzsanna'), HTML(value='Szegedy-Masz<font co…"
      ]
     },
     "metadata": {},
     "output_type": "display_data"
    },
    {
     "data": {
      "application/vnd.jupyter.widget-view+json": {
       "model_id": "7286c366251d4ee8a4bfd2af886dc312",
       "version_major": 2,
       "version_minor": 0
      },
      "text/plain": [
       "HBox(children=(Label(value='20817'), Label(value='Keserue Zsolt'), HTML(value='Ke<font color=green>^r</font>se…"
      ]
     },
     "metadata": {},
     "output_type": "display_data"
    },
    {
     "data": {
      "application/vnd.jupyter.widget-view+json": {
       "model_id": "df877c78184242429b9689ac89929954",
       "version_major": 2,
       "version_minor": 0
      },
      "text/plain": [
       "HBox(children=(Label(value='20734'), Label(value='Michaela Holotová-Bodnárová'), HTML(value='Michaela Holotová…"
      ]
     },
     "metadata": {},
     "output_type": "display_data"
    },
    {
     "data": {
      "application/vnd.jupyter.widget-view+json": {
       "model_id": "56815749e89e40ce8fd12d0b04f8ffc8",
       "version_major": 2,
       "version_minor": 0
      },
      "text/plain": [
       "HBox(children=(Label(value='20702'), Label(value='Szegedy-Maszák Zsuzsanna'), HTML(value='Szegedy-Masz<font co…"
      ]
     },
     "metadata": {},
     "output_type": "display_data"
    },
    {
     "data": {
      "application/vnd.jupyter.widget-view+json": {
       "model_id": "8884d63770714537acdb4e8849298242",
       "version_major": 2,
       "version_minor": 0
      },
      "text/plain": [
       "HBox(children=(Label(value='20660'), Label(value='Nemes Csaba'), HTML(value='Nemes Csaba<font color=green>^:</…"
      ]
     },
     "metadata": {},
     "output_type": "display_data"
    },
    {
     "data": {
      "application/vnd.jupyter.widget-view+json": {
       "model_id": "7df1702a57224d49b378ce5945349e2c",
       "version_major": 2,
       "version_minor": 0
      },
      "text/plain": [
       "HBox(children=(Label(value='20637'), Label(value='Benyovszky-Szűcs Domonkos'), HTML(value='Benyovszky<font col…"
      ]
     },
     "metadata": {},
     "output_type": "display_data"
    },
    {
     "data": {
      "application/vnd.jupyter.widget-view+json": {
       "model_id": "f5d65d7a7949497ab562b8c3b336f2fc",
       "version_major": 2,
       "version_minor": 0
      },
      "text/plain": [
       "HBox(children=(Label(value='20353'), Label(value='Hubert Sielecki'), HTML(value='Huber<font color=red>^t</font…"
      ]
     },
     "metadata": {},
     "output_type": "display_data"
    },
    {
     "data": {
      "application/vnd.jupyter.widget-view+json": {
       "model_id": "5aadb6c503044fc6a7c93473359cb0ae",
       "version_major": 2,
       "version_minor": 0
      },
      "text/plain": [
       "HBox(children=(Label(value='20322'), Label(value='Keserue Zsolt'), HTML(value='Ke<font color=green>^r</font>se…"
      ]
     },
     "metadata": {},
     "output_type": "display_data"
    },
    {
     "data": {
      "application/vnd.jupyter.widget-view+json": {
       "model_id": "d101a9a3e9a4445db15cca827715d31a",
       "version_major": 2,
       "version_minor": 0
      },
      "text/plain": [
       "HBox(children=(Label(value='20294'), Label(value='Meszlényi Károly'), HTML(value='Meszlényi <font color=green>…"
      ]
     },
     "metadata": {},
     "output_type": "display_data"
    },
    {
     "data": {
      "application/vnd.jupyter.widget-view+json": {
       "model_id": "5fb48797ef9c4d72a510929b4a862033",
       "version_major": 2,
       "version_minor": 0
      },
      "text/plain": [
       "HBox(children=(Label(value='20176'), Label(value='Györffy Miklós'), HTML(value='Györffy Mik<font color=red>^l<…"
      ]
     },
     "metadata": {},
     "output_type": "display_data"
    },
    {
     "data": {
      "application/vnd.jupyter.widget-view+json": {
       "model_id": "6a70199712074531aff2463d292e6c2d",
       "version_major": 2,
       "version_minor": 0
      },
      "text/plain": [
       "HBox(children=(Label(value='20100'), Label(value='Kőnig Frigyes'), HTML(value='Kőnig F<font color=red>^r</font…"
      ]
     },
     "metadata": {},
     "output_type": "display_data"
    },
    {
     "data": {
      "application/vnd.jupyter.widget-view+json": {
       "model_id": "6d6930bd1e694c72861b939fd19ca368",
       "version_major": 2,
       "version_minor": 0
      },
      "text/plain": [
       "HBox(children=(Label(value='9708'), Label(value='Tehnica Schweiz'), HTML(value='Te<font color=green>^c</font>h…"
      ]
     },
     "metadata": {},
     "output_type": "display_data"
    },
    {
     "data": {
      "application/vnd.jupyter.widget-view+json": {
       "model_id": "2421c0433a644e8aa55b365452a06ffd",
       "version_major": 2,
       "version_minor": 0
      },
      "text/plain": [
       "HBox(children=(Label(value='8294'), Label(value='Tehnica Schweiz'), HTML(value='Te<font color=green>^c</font>h…"
      ]
     },
     "metadata": {},
     "output_type": "display_data"
    },
    {
     "data": {
      "application/vnd.jupyter.widget-view+json": {
       "model_id": "877ed8d41dc249709ad88666b539c8a0",
       "version_major": 2,
       "version_minor": 0
      },
      "text/plain": [
       "HBox(children=(Label(value='20028'), Label(value='Kőnig Frigyes'), HTML(value='Kőnig F<font color=red>^r</font…"
      ]
     },
     "metadata": {},
     "output_type": "display_data"
    },
    {
     "data": {
      "application/vnd.jupyter.widget-view+json": {
       "model_id": "56cd7198b925442db1a8e0322de5f1d6",
       "version_major": 2,
       "version_minor": 0
      },
      "text/plain": [
       "HBox(children=(Label(value='19895'), Label(value='Györffy Miklós'), HTML(value='Györffy Mik<font color=red>^l<…"
      ]
     },
     "metadata": {},
     "output_type": "display_data"
    },
    {
     "data": {
      "application/vnd.jupyter.widget-view+json": {
       "model_id": "2012f35814cf47888666b59aa40e0207",
       "version_major": 2,
       "version_minor": 0
      },
      "text/plain": [
       "HBox(children=(Label(value='19889'), Label(value='Péterffy Gergely'), HTML(value='Péter<font color=red>^f</fon…"
      ]
     },
     "metadata": {},
     "output_type": "display_data"
    },
    {
     "data": {
      "application/vnd.jupyter.widget-view+json": {
       "model_id": "457665bd13324e4ca0a0d77ac20daec2",
       "version_major": 2,
       "version_minor": 0
      },
      "text/plain": [
       "HBox(children=(Label(value='19872'), Label(value='Farkas Róbert'), HTML(value='Farkas<font color=green>^h</fon…"
      ]
     },
     "metadata": {},
     "output_type": "display_data"
    },
    {
     "data": {
      "application/vnd.jupyter.widget-view+json": {
       "model_id": "e628b136044a4eef84e0c7a8002b42e9",
       "version_major": 2,
       "version_minor": 0
      },
      "text/plain": [
       "HBox(children=(Label(value='19847'), Label(value='Kozák Zsuzsanna'), HTML(value='Kozák Zsuzsann<font color=red…"
      ]
     },
     "metadata": {},
     "output_type": "display_data"
    },
    {
     "data": {
      "application/vnd.jupyter.widget-view+json": {
       "model_id": "d0853e6ae7f04b58be970bf6f7db4a6e",
       "version_major": 2,
       "version_minor": 0
      },
      "text/plain": [
       "HBox(children=(Label(value='19747'), Label(value='Pittmann Zsófia'), HTML(value='Pittmann Zsófi<font color=red…"
      ]
     },
     "metadata": {},
     "output_type": "display_data"
    },
    {
     "data": {
      "application/vnd.jupyter.widget-view+json": {
       "model_id": "3ab2795623b94a3caf664ea25dfbabd8",
       "version_major": 2,
       "version_minor": 0
      },
      "text/plain": [
       "HBox(children=(Label(value='19742'), Label(value='Ju\\xadhász Dóra'), HTML(value='Ju<font color=red>^\\xad</font…"
      ]
     },
     "metadata": {},
     "output_type": "display_data"
    },
    {
     "data": {
      "application/vnd.jupyter.widget-view+json": {
       "model_id": "ca188ea9afae4463a3761dbd3cc670fc",
       "version_major": 2,
       "version_minor": 0
      },
      "text/plain": [
       "HBox(children=(Label(value='19719'), Label(value='Baró\\xadthy Anna'), HTML(value='Baró<font color=red>^\\xad</f…"
      ]
     },
     "metadata": {},
     "output_type": "display_data"
    },
    {
     "data": {
      "application/vnd.jupyter.widget-view+json": {
       "model_id": "a6c68141a1f44933953a78385696e49b",
       "version_major": 2,
       "version_minor": 0
      },
      "text/plain": [
       "HBox(children=(Label(value='19660'), Label(value='Mécs Miklós'), HTML(value='Mécs Miklós<font color=green>^)</…"
      ]
     },
     "metadata": {},
     "output_type": "display_data"
    },
    {
     "data": {
      "application/vnd.jupyter.widget-view+json": {
       "model_id": "d9cd47af5585418bbf1a0fbb46be942d",
       "version_major": 2,
       "version_minor": 0
      },
      "text/plain": [
       "HBox(children=(Label(value='19473'), Label(value='Christoph Girardet'), HTML(value='Christoph Gira<font color=…"
      ]
     },
     "metadata": {},
     "output_type": "display_data"
    },
    {
     "data": {
      "application/vnd.jupyter.widget-view+json": {
       "model_id": "ad53685ca41245f680356c10653c0068",
       "version_major": 2,
       "version_minor": 0
      },
      "text/plain": [
       "HBox(children=(Label(value='19467'), Label(value='Erőss István'), HTML(value='Erő<font color=red>^s</font>s Is…"
      ]
     },
     "metadata": {},
     "output_type": "display_data"
    },
    {
     "data": {
      "application/vnd.jupyter.widget-view+json": {
       "model_id": "f3166e4bc5024a9eb0689de0faaf889b",
       "version_major": 2,
       "version_minor": 0
      },
      "text/plain": [
       "HBox(children=(Label(value='19365'), Label(value='Vécsei Juli'), HTML(value='Vécsei Juli<font color=green>^a</…"
      ]
     },
     "metadata": {},
     "output_type": "display_data"
    },
    {
     "data": {
      "application/vnd.jupyter.widget-view+json": {
       "model_id": "ee6b3d3b85874908b2ee77f43f8785ce",
       "version_major": 2,
       "version_minor": 0
      },
      "text/plain": [
       "HBox(children=(Label(value='19251'), Label(value='John K. Grande'), HTML(value='John K. Gran<font color=green>…"
      ]
     },
     "metadata": {},
     "output_type": "display_data"
    },
    {
     "data": {
      "application/vnd.jupyter.widget-view+json": {
       "model_id": "006aac4187f844aba101bdaa169501eb",
       "version_major": 2,
       "version_minor": 0
      },
      "text/plain": [
       "HBox(children=(Label(value='19232'), Label(value='Jakatics-Szabó Veronika'), HTML(value='Jakati<font color=blu…"
      ]
     },
     "metadata": {},
     "output_type": "display_data"
    },
    {
     "data": {
      "application/vnd.jupyter.widget-view+json": {
       "model_id": "178af54ef6c54e0fafffbd820200fb3c",
       "version_major": 2,
       "version_minor": 0
      },
      "text/plain": [
       "HBox(children=(Label(value='19232'), Label(value='Jakatics-Szabó Veronika'), HTML(value='Jakatics<font color=b…"
      ]
     },
     "metadata": {},
     "output_type": "display_data"
    },
    {
     "data": {
      "application/vnd.jupyter.widget-view+json": {
       "model_id": "847baeea57d14f83b98904c1c87a8dc2",
       "version_major": 2,
       "version_minor": 0
      },
      "text/plain": [
       "HBox(children=(Label(value='19232'), Label(value='Jakatics-Szabó Veronika'), HTML(value='Jakat<font color=gree…"
      ]
     },
     "metadata": {},
     "output_type": "display_data"
    },
    {
     "data": {
      "application/vnd.jupyter.widget-view+json": {
       "model_id": "a7cec81505004da08198531c79fa388e",
       "version_major": 2,
       "version_minor": 0
      },
      "text/plain": [
       "HBox(children=(Label(value='19231'), Label(value='Tóth Márton Emil'), HTML(value='Tóth Márton Emil<font color=…"
      ]
     },
     "metadata": {},
     "output_type": "display_data"
    },
    {
     "data": {
      "application/vnd.jupyter.widget-view+json": {
       "model_id": "92744fcb2f1e4baebacb176896c00410",
       "version_major": 2,
       "version_minor": 0
      },
      "text/plain": [
       "HBox(children=(Label(value='19230'), Label(value='Haris László'), HTML(value='Ha<font color=green>^r</font>ris…"
      ]
     },
     "metadata": {},
     "output_type": "display_data"
    },
    {
     "data": {
      "application/vnd.jupyter.widget-view+json": {
       "model_id": "d950e606d9f743f98eeffac9efd2a8f2",
       "version_major": 2,
       "version_minor": 0
      },
      "text/plain": [
       "HBox(children=(Label(value='19166'), Label(value='Törteli Lilla'), HTML(value='Törte<font color=green>^l</font…"
      ]
     },
     "metadata": {},
     "output_type": "display_data"
    },
    {
     "data": {
      "application/vnd.jupyter.widget-view+json": {
       "model_id": "98842e56f2394883975811cdf534f792",
       "version_major": 2,
       "version_minor": 0
      },
      "text/plain": [
       "HBox(children=(Label(value='19057'), Label(value='Erőss István'), HTML(value='Erő<font color=red>^s</font>s Is…"
      ]
     },
     "metadata": {},
     "output_type": "display_data"
    },
    {
     "data": {
      "application/vnd.jupyter.widget-view+json": {
       "model_id": "f5816f0fb3f54f2cb0a3b0d387e50cd9",
       "version_major": 2,
       "version_minor": 0
      },
      "text/plain": [
       "HBox(children=(Label(value='18993'), Label(value='Gábor Tamás Indianaa'), HTML(value='Gábor Tamás Indiana<font…"
      ]
     },
     "metadata": {},
     "output_type": "display_data"
    },
    {
     "data": {
      "application/vnd.jupyter.widget-view+json": {
       "model_id": "b3425875e0734f20bdc340e650633202",
       "version_major": 2,
       "version_minor": 0
      },
      "text/plain": [
       "HBox(children=(Label(value='18778'), Label(value='Spengler Katalin művészeti'), HTML(value='Spengler Katalin <…"
      ]
     },
     "metadata": {},
     "output_type": "display_data"
    },
    {
     "data": {
      "application/vnd.jupyter.widget-view+json": {
       "model_id": "742da7ff8f42448f8a72c874fe7fd1ad",
       "version_major": 2,
       "version_minor": 0
      },
      "text/plain": [
       "HBox(children=(Label(value='18754'), Label(value='Mohács András'), HTML(value='Mohács<font color=green>^i</fon…"
      ]
     },
     "metadata": {},
     "output_type": "display_data"
    },
    {
     "data": {
      "application/vnd.jupyter.widget-view+json": {
       "model_id": "8cd1bcfa4fec4eb4b965999c296822e4",
       "version_major": 2,
       "version_minor": 0
      },
      "text/plain": [
       "HBox(children=(Label(value='18687'), Label(value='Jakatics-Szabó Veronika'), HTML(value='Jakati<font color=blu…"
      ]
     },
     "metadata": {},
     "output_type": "display_data"
    },
    {
     "data": {
      "application/vnd.jupyter.widget-view+json": {
       "model_id": "4ebfc03557d145288cc2170bc18ca30f",
       "version_major": 2,
       "version_minor": 0
      },
      "text/plain": [
       "HBox(children=(Label(value='18687'), Label(value='Jakatics-Szabó Veronika'), HTML(value='Jakatics<font color=b…"
      ]
     },
     "metadata": {},
     "output_type": "display_data"
    },
    {
     "data": {
      "application/vnd.jupyter.widget-view+json": {
       "model_id": "97e050077c5148489bdc02dabbae6221",
       "version_major": 2,
       "version_minor": 0
      },
      "text/plain": [
       "HBox(children=(Label(value='18687'), Label(value='Jakatics-Szabó Veronika'), HTML(value='Jakat<font color=gree…"
      ]
     },
     "metadata": {},
     "output_type": "display_data"
    },
    {
     "data": {
      "application/vnd.jupyter.widget-view+json": {
       "model_id": "02dfcba721224d479676b5484df38808",
       "version_major": 2,
       "version_minor": 0
      },
      "text/plain": [
       "HBox(children=(Label(value='18622'), Label(value='Tillmann J. A.'), HTML(value='Tillmann J.<font color=red>^ <…"
      ]
     },
     "metadata": {},
     "output_type": "display_data"
    },
    {
     "data": {
      "application/vnd.jupyter.widget-view+json": {
       "model_id": "54c750cd657646a7badf243564789bb6",
       "version_major": 2,
       "version_minor": 0
      },
      "text/plain": [
       "HBox(children=(Label(value='18592'), Label(value='Cséfai Györgyi'), HTML(value='Csé<font color=green>^f</font>…"
      ]
     },
     "metadata": {},
     "output_type": "display_data"
    },
    {
     "data": {
      "application/vnd.jupyter.widget-view+json": {
       "model_id": "83b7b5db4cb34550904c514e9e5b2765",
       "version_major": 2,
       "version_minor": 0
      },
      "text/plain": [
       "HBox(children=(Label(value='18468'), Label(value='Mécs Miklós'), HTML(value='Mécs Miklós<font color=green>^)</…"
      ]
     },
     "metadata": {},
     "output_type": "display_data"
    },
    {
     "data": {
      "application/vnd.jupyter.widget-view+json": {
       "model_id": "29ec77413c674e33a4272baed6c1129f",
       "version_major": 2,
       "version_minor": 0
      },
      "text/plain": [
       "HBox(children=(Label(value='18454'), Label(value='ifj. Szlávics László'), HTML(value='ifj.<font color=red>^ </…"
      ]
     },
     "metadata": {},
     "output_type": "display_data"
    },
    {
     "data": {
      "application/vnd.jupyter.widget-view+json": {
       "model_id": "c3efc241b33c4d52baf7cce6ab3e638a",
       "version_major": 2,
       "version_minor": 0
      },
      "text/plain": [
       "HBox(children=(Label(value='18283'), Label(value='Megyes László Vendel'), HTML(value='Me<font color=green>^g</…"
      ]
     },
     "metadata": {},
     "output_type": "display_data"
    },
    {
     "data": {
      "application/vnd.jupyter.widget-view+json": {
       "model_id": "21d78223df754257ab00cfc7c594c45d",
       "version_major": 2,
       "version_minor": 0
      },
      "text/plain": [
       "HBox(children=(Label(value='18161'), Label(value='Müllner András'), HTML(value='<font color=green>^-</font>Mül…"
      ]
     },
     "metadata": {},
     "output_type": "display_data"
    },
    {
     "data": {
      "application/vnd.jupyter.widget-view+json": {
       "model_id": "f0d792a42b3a494a86fa2d4cae63f746",
       "version_major": 2,
       "version_minor": 0
      },
      "text/plain": [
       "HBox(children=(Label(value='18153'), Label(value='Ladjánszki  Márta'), HTML(value='Ladjánszki <font color=red>…"
      ]
     },
     "metadata": {},
     "output_type": "display_data"
    },
    {
     "data": {
      "application/vnd.jupyter.widget-view+json": {
       "model_id": "f497481c28ff4c03b9b9191920f1bd87",
       "version_major": 2,
       "version_minor": 0
      },
      "text/plain": [
       "HBox(children=(Label(value='18104'), Label(value='Juhász R. József'), HTML(value='Juhász R.<font color=red>^ <…"
      ]
     },
     "metadata": {},
     "output_type": "display_data"
    },
    {
     "data": {
      "application/vnd.jupyter.widget-view+json": {
       "model_id": "e0de0c74c55a4bbb8992376a06e5f0f4",
       "version_major": 2,
       "version_minor": 0
      },
      "text/plain": [
       "HBox(children=(Label(value='18011'), Label(value='Seemann Adrienn'), HTML(value='S<font color=red>^e</font>ema…"
      ]
     },
     "metadata": {},
     "output_type": "display_data"
    },
    {
     "data": {
      "application/vnd.jupyter.widget-view+json": {
       "model_id": "dec0e91c54334ff3baf4f1e97bc63f48",
       "version_major": 2,
       "version_minor": 0
      },
      "text/plain": [
       "HBox(children=(Label(value='17790'), Label(value='Konkoly Ágnes'), HTML(value='Konkoly Ágnes<font color=green>…"
      ]
     },
     "metadata": {},
     "output_type": "display_data"
    },
    {
     "data": {
      "application/vnd.jupyter.widget-view+json": {
       "model_id": "4ea12afe0db1414eb93253c67baf22dd",
       "version_major": 2,
       "version_minor": 0
      },
      "text/plain": [
       "HBox(children=(Label(value='17751'), Label(value='Magyar Mónika'), HTML(value='Magyar<font color=green>^i</fon…"
      ]
     },
     "metadata": {},
     "output_type": "display_data"
    },
    {
     "data": {
      "application/vnd.jupyter.widget-view+json": {
       "model_id": "cee783f6aa104e66a981b410686b1ca4",
       "version_major": 2,
       "version_minor": 0
      },
      "text/plain": [
       "HBox(children=(Label(value='17608'), Label(value='Pályi Zsófi'), HTML(value='Pályi Zsófi<font color=green>^a</…"
      ]
     },
     "metadata": {},
     "output_type": "display_data"
    },
    {
     "data": {
      "application/vnd.jupyter.widget-view+json": {
       "model_id": "f6adaaa772084ef58df016df2546afa8",
       "version_major": 2,
       "version_minor": 0
      },
      "text/plain": [
       "HBox(children=(Label(value='17608'), Label(value='Pályi Zsófi'), HTML(value='Pályi Zsófi<font color=green>^a</…"
      ]
     },
     "metadata": {},
     "output_type": "display_data"
    },
    {
     "data": {
      "application/vnd.jupyter.widget-view+json": {
       "model_id": "2bcdc1c2037a40d3a433ec9cc638a40f",
       "version_major": 2,
       "version_minor": 0
      },
      "text/plain": [
       "HBox(children=(Label(value='17534'), Label(value='Müllner András'), HTML(value='<font color=green>^-</font>Mül…"
      ]
     },
     "metadata": {},
     "output_type": "display_data"
    },
    {
     "data": {
      "application/vnd.jupyter.widget-view+json": {
       "model_id": "1e0962c4f82146a5ad0abd180fa48ef1",
       "version_major": 2,
       "version_minor": 0
      },
      "text/plain": [
       "HBox(children=(Label(value='17125'), Label(value='Bóbics Dianna'), HTML(value='Bóbics Dian<font color=red>^n</…"
      ]
     },
     "metadata": {},
     "output_type": "display_data"
    },
    {
     "data": {
      "application/vnd.jupyter.widget-view+json": {
       "model_id": "ff8d1c88723b4321bb6d1a6e180e90ee",
       "version_major": 2,
       "version_minor": 0
      },
      "text/plain": [
       "HBox(children=(Label(value='16665'), Label(value='Akademia Sztuk Pięknych im Jana Matejki w Krakowie'), HTML(v…"
      ]
     },
     "metadata": {},
     "output_type": "display_data"
    },
    {
     "data": {
      "application/vnd.jupyter.widget-view+json": {
       "model_id": "9c63bfc382ac4f628454415558dd54d8",
       "version_major": 2,
       "version_minor": 0
      },
      "text/plain": [
       "HBox(children=(Label(value='16653'), Label(value='Turányi Gábor'), HTML(value='<font color=green>^-</font>Turá…"
      ]
     },
     "metadata": {},
     "output_type": "display_data"
    },
    {
     "data": {
      "application/vnd.jupyter.widget-view+json": {
       "model_id": "ef8cf4c1a34946f793710fa66cb5e1dd",
       "version_major": 2,
       "version_minor": 0
      },
      "text/plain": [
       "HBox(children=(Label(value='16597'), Label(value='a Kitchen Budapest alapító csapatának tagja'), HTML(value='a…"
      ]
     },
     "metadata": {},
     "output_type": "display_data"
    },
    {
     "data": {
      "application/vnd.jupyter.widget-view+json": {
       "model_id": "ebd1dc7c14594bc59a46162ff522a1aa",
       "version_major": 2,
       "version_minor": 0
      },
      "text/plain": [
       "HBox(children=(Label(value='16596'), Label(value='Nemes Attila kulturális közvetítő'), HTML(value='Nemes Attil…"
      ]
     },
     "metadata": {},
     "output_type": "display_data"
    },
    {
     "data": {
      "application/vnd.jupyter.widget-view+json": {
       "model_id": "f7c82451fa894854b70a6d09f0c0b5e4",
       "version_major": 2,
       "version_minor": 0
      },
      "text/plain": [
       "HBox(children=(Label(value='16576'), Label(value='Dr. Pogány Gábor'), HTML(value='Dr<font color=red>^.</font> …"
      ]
     },
     "metadata": {},
     "output_type": "display_data"
    },
    {
     "data": {
      "application/vnd.jupyter.widget-view+json": {
       "model_id": "9d38d280c57b4c5ca92ef27f579320f8",
       "version_major": 2,
       "version_minor": 0
      },
      "text/plain": [
       "HBox(children=(Label(value='16501'), Label(value='Őexcellenciája Gajus Scheltema a  Holland Királyság Budapest…"
      ]
     },
     "metadata": {},
     "output_type": "display_data"
    },
    {
     "data": {
      "application/vnd.jupyter.widget-view+json": {
       "model_id": "8c309ba846b541ae9b3fbf7feacc13f6",
       "version_major": 2,
       "version_minor": 0
      },
      "text/plain": [
       "HBox(children=(Label(value='16280'), Label(value='Hajdu István főszerkesztő'), HTML(value='Hajd<font color=blu…"
      ]
     },
     "metadata": {},
     "output_type": "display_data"
    },
    {
     "data": {
      "application/vnd.jupyter.widget-view+json": {
       "model_id": "009d7ed64602430cb3b88afb7d649187",
       "version_major": 2,
       "version_minor": 0
      },
      "text/plain": [
       "HBox(children=(Label(value='16255'), Label(value='kultúrakutató'), HTML(value='kultúrakutató<font color=green>…"
      ]
     },
     "metadata": {},
     "output_type": "display_data"
    },
    {
     "data": {
      "application/vnd.jupyter.widget-view+json": {
       "model_id": "dd359afc69344c35ba50445798609c56",
       "version_major": 2,
       "version_minor": 0
      },
      "text/plain": [
       "HBox(children=(Label(value='15814'), Label(value='Baji Miklós Zoltán BMZ'), HTML(value='Baji Miklós Zoltán <fo…"
      ]
     },
     "metadata": {},
     "output_type": "display_data"
    },
    {
     "data": {
      "application/vnd.jupyter.widget-view+json": {
       "model_id": "775fc0b753bd4b70abca8f65a8724d9e",
       "version_major": 2,
       "version_minor": 0
      },
      "text/plain": [
       "HBox(children=(Label(value='15810'), Label(value='Gáll Attila polgármeszter'), HTML(value='Gáll Attila <font c…"
      ]
     },
     "metadata": {},
     "output_type": "display_data"
    },
    {
     "data": {
      "application/vnd.jupyter.widget-view+json": {
       "model_id": "ae4a4d36f0f54fce84bcb97baf30d7e2",
       "version_major": 2,
       "version_minor": 0
      },
      "text/plain": [
       "HBox(children=(Label(value='15739'), Label(value='MKE Képzőművészet-elméleti Tanszék'), HTML(value='MKE Képzőm…"
      ]
     },
     "metadata": {},
     "output_type": "display_data"
    },
    {
     "data": {
      "application/vnd.jupyter.widget-view+json": {
       "model_id": "4f228a8edf63459b81dea8db6b4d026e",
       "version_major": 2,
       "version_minor": 0
      },
      "text/plain": [
       "HBox(children=(Label(value='15732'), Label(value='MKE – Tervezőgrafika szakirány: Lakosi Krisztián'), HTML(val…"
      ]
     },
     "metadata": {},
     "output_type": "display_data"
    },
    {
     "data": {
      "application/vnd.jupyter.widget-view+json": {
       "model_id": "a3aa0b271e3541168203c677d257bdd1",
       "version_major": 2,
       "version_minor": 0
      },
      "text/plain": [
       "HBox(children=(Label(value='15634'), Label(value='Katharina Roters'), HTML(value='Kat<font color=red>^h</font>…"
      ]
     },
     "metadata": {},
     "output_type": "display_data"
    },
    {
     "data": {
      "application/vnd.jupyter.widget-view+json": {
       "model_id": "88d950485ca34d4fada98aa94de82b52",
       "version_major": 2,
       "version_minor": 0
      },
      "text/plain": [
       "HBox(children=(Label(value='15563'), Label(value='Sinkó István  művészeti író'), HTML(value='Sinkó István<font…"
      ]
     },
     "metadata": {},
     "output_type": "display_data"
    },
    {
     "data": {
      "application/vnd.jupyter.widget-view+json": {
       "model_id": "34fef3ed9fa945bda78fa9044599215b",
       "version_major": 2,
       "version_minor": 0
      },
      "text/plain": [
       "HBox(children=(Label(value='15429'), Label(value='Kovács Mári'), HTML(value='Kovács Mári<font color=green>^a</…"
      ]
     },
     "metadata": {},
     "output_type": "display_data"
    },
    {
     "data": {
      "application/vnd.jupyter.widget-view+json": {
       "model_id": "12baf52a25ef4e00b4a90ebefc4ab269",
       "version_major": 2,
       "version_minor": 0
      },
      "text/plain": [
       "HBox(children=(Label(value='15334'), Label(value='Dr. Pogány Gábor'), HTML(value='Dr<font color=red>^.</font> …"
      ]
     },
     "metadata": {},
     "output_type": "display_data"
    },
    {
     "data": {
      "application/vnd.jupyter.widget-view+json": {
       "model_id": "ab65ebebf4b14ed7a6f41d48afa854e2",
       "version_major": 2,
       "version_minor": 0
      },
      "text/plain": [
       "HBox(children=(Label(value='15316'), Label(value='szervezők: tranzit. hu + szervezői csoport (Balazs Anna'), H…"
      ]
     },
     "metadata": {},
     "output_type": "display_data"
    },
    {
     "data": {
      "application/vnd.jupyter.widget-view+json": {
       "model_id": "afb2e305b00848d1ac6e69720d400a0b",
       "version_major": 2,
       "version_minor": 0
      },
      "text/plain": [
       "HBox(children=(Label(value='15316'), Label(value='szervezők: tranzit. hu + szervezői csoport (Balazs Anna'), H…"
      ]
     },
     "metadata": {},
     "output_type": "display_data"
    },
    {
     "data": {
      "application/vnd.jupyter.widget-view+json": {
       "model_id": "7498cb0d86da40719bff0e277198f5e6",
       "version_major": 2,
       "version_minor": 0
      },
      "text/plain": [
       "HBox(children=(Label(value='15163'), Label(value='Szurcsik József - Munkácsy-díjas'), HTML(value='Szurcsik Józ…"
      ]
     },
     "metadata": {},
     "output_type": "display_data"
    },
    {
     "data": {
      "application/vnd.jupyter.widget-view+json": {
       "model_id": "6f6179709ebe4996bc53db9bb2c38a99",
       "version_major": 2,
       "version_minor": 0
      },
      "text/plain": [
       "HBox(children=(Label(value='15150'), Label(value='A Magyar Elektrográfiai Társaság kiállítása'), HTML(value='<…"
      ]
     },
     "metadata": {},
     "output_type": "display_data"
    },
    {
     "data": {
      "application/vnd.jupyter.widget-view+json": {
       "model_id": "5f1c1575dee34277951010ebf754ad00",
       "version_major": 2,
       "version_minor": 0
      },
      "text/plain": [
       "HBox(children=(Label(value='14803'), Label(value='Szabó Gyula'), HTML(value='Szabó Gyula<font color=green>^.</…"
      ]
     },
     "metadata": {},
     "output_type": "display_data"
    },
    {
     "data": {
      "application/vnd.jupyter.widget-view+json": {
       "model_id": "62c9dfb034ce4a32b817057d3d4b3032",
       "version_major": 2,
       "version_minor": 0
      },
      "text/plain": [
       "HBox(children=(Label(value='14766'), Label(value='szervezők: ranzit. hu + szervezői csoport (Balázs Anna'), HT…"
      ]
     },
     "metadata": {},
     "output_type": "display_data"
    },
    {
     "data": {
      "application/vnd.jupyter.widget-view+json": {
       "model_id": "868a1723b224484a8017fdbd3a740f14",
       "version_major": 2,
       "version_minor": 0
      },
      "text/plain": [
       "HBox(children=(Label(value='14708'), Label(value='Szakolczay Lajos József Attila-díjas irodalom- és'), HTML(va…"
      ]
     },
     "metadata": {},
     "output_type": "display_data"
    },
    {
     "data": {
      "application/vnd.jupyter.widget-view+json": {
       "model_id": "4b70367616164a5b94e4125e5fdcb00e",
       "version_major": 2,
       "version_minor": 0
      },
      "text/plain": [
       "HBox(children=(Label(value='14671'), Label(value='tranzit. hu+ szervezői csoport (Balazs Anna'), HTML(value='t…"
      ]
     },
     "metadata": {},
     "output_type": "display_data"
    },
    {
     "data": {
      "application/vnd.jupyter.widget-view+json": {
       "model_id": "3d270465517e4bd8a5b92b554865be21",
       "version_major": 2,
       "version_minor": 0
      },
      "text/plain": [
       "HBox(children=(Label(value='14581'), Label(value='Dr Szabó Lilla'), HTML(value='Dr<font color=green>^.</font> …"
      ]
     },
     "metadata": {},
     "output_type": "display_data"
    },
    {
     "data": {
      "application/vnd.jupyter.widget-view+json": {
       "model_id": "98de4b6f28054a66a5ef5efb1fc83ffc",
       "version_major": 2,
       "version_minor": 0
      },
      "text/plain": [
       "HBox(children=(Label(value='14316'), Label(value='Kormos Mercedes'), HTML(value='Kormos Mercedes<font color=gr…"
      ]
     },
     "metadata": {},
     "output_type": "display_data"
    },
    {
     "data": {
      "application/vnd.jupyter.widget-view+json": {
       "model_id": "37c2cb5d62884857bf0e9e5d3e077260",
       "version_major": 2,
       "version_minor": 0
      },
      "text/plain": [
       "HBox(children=(Label(value='14217'), Label(value='Dr. Gálig Zoltán'), HTML(value='Dr.<font color=red>^ </font>…"
      ]
     },
     "metadata": {},
     "output_type": "display_data"
    },
    {
     "data": {
      "application/vnd.jupyter.widget-view+json": {
       "model_id": "e9272bdd3f06452db77817a0ed0881c1",
       "version_major": 2,
       "version_minor": 0
      },
      "text/plain": [
       "HBox(children=(Label(value='13963'), Label(value='S. Nagy Katalin'), HTML(value='S.<font color=red>^ </font>Na…"
      ]
     },
     "metadata": {},
     "output_type": "display_data"
    },
    {
     "data": {
      "application/vnd.jupyter.widget-view+json": {
       "model_id": "06e3cc0614c14d6c996b8f190a93a534",
       "version_major": 2,
       "version_minor": 0
      },
      "text/plain": [
       "HBox(children=(Label(value='13915'), Label(value='Lukácsi Nóra'), HTML(value='Lukács<font color=red>^i</font> …"
      ]
     },
     "metadata": {},
     "output_type": "display_data"
    },
    {
     "data": {
      "application/vnd.jupyter.widget-view+json": {
       "model_id": "6d2f3c5ae9834d2a9c8ccc5ccfb137b0",
       "version_major": 2,
       "version_minor": 0
      },
      "text/plain": [
       "HBox(children=(Label(value='13907'), Label(value='Mocsár Zsófia'), HTML(value='Mocsár Zsófi<font color=red>^a<…"
      ]
     },
     "metadata": {},
     "output_type": "display_data"
    },
    {
     "data": {
      "application/vnd.jupyter.widget-view+json": {
       "model_id": "8c10ddf05c5642329e93437689c50f56",
       "version_major": 2,
       "version_minor": 0
      },
      "text/plain": [
       "HBox(children=(Label(value='13886'), Label(value='Dr. Dobrik István'), HTML(value='Dr.<font color=red>^ </font…"
      ]
     },
     "metadata": {},
     "output_type": "display_data"
    },
    {
     "data": {
      "application/vnd.jupyter.widget-view+json": {
       "model_id": "55d0bf1f5091463890437ea0d7119801",
       "version_major": 2,
       "version_minor": 0
      },
      "text/plain": [
       "HBox(children=(Label(value='13873'), Label(value='Dr. Kriza Ákos Miskolc polgármestere'), HTML(value='Dr. Kriz…"
      ]
     },
     "metadata": {},
     "output_type": "display_data"
    },
    {
     "data": {
      "application/vnd.jupyter.widget-view+json": {
       "model_id": "831644ca67ea48aa96902709be6c806f",
       "version_major": 2,
       "version_minor": 0
      },
      "text/plain": [
       "HBox(children=(Label(value='13872'), Label(value='Kiss Gábor  Miskolc alpolgármestere'), HTML(value='Kiss Gábo…"
      ]
     },
     "metadata": {},
     "output_type": "display_data"
    },
    {
     "data": {
      "application/vnd.jupyter.widget-view+json": {
       "model_id": "525a3d18b9524c319e95c07283ddb639",
       "version_major": 2,
       "version_minor": 0
      },
      "text/plain": [
       "HBox(children=(Label(value='13711'), Label(value='Hemrich László művészeti'), HTML(value='He<font color=green>…"
      ]
     },
     "metadata": {},
     "output_type": "display_data"
    },
    {
     "data": {
      "application/vnd.jupyter.widget-view+json": {
       "model_id": "28a9d34cc78a4deb92ffb7cde04405ee",
       "version_major": 2,
       "version_minor": 0
      },
      "text/plain": [
       "HBox(children=(Label(value='13702'), Label(value='Menesi Attila – Christoph Rauch'), HTML(value='Menesi Attila…"
      ]
     },
     "metadata": {},
     "output_type": "display_data"
    },
    {
     "data": {
      "application/vnd.jupyter.widget-view+json": {
       "model_id": "652fc31722cc4f0c863b4b0e7082e275",
       "version_major": 2,
       "version_minor": 0
      },
      "text/plain": [
       "HBox(children=(Label(value='13702'), Label(value='Menesi Attila – Christoph Rauch'), HTML(value='Menesi Attila…"
      ]
     },
     "metadata": {},
     "output_type": "display_data"
    },
    {
     "data": {
      "application/vnd.jupyter.widget-view+json": {
       "model_id": "45d01e6f0e05400fb2aebbaf9757e19e",
       "version_major": 2,
       "version_minor": 0
      },
      "text/plain": [
       "HBox(children=(Label(value='13677'), Label(value='Czimbalmos Márta Cedenka'), HTML(value='Czimbalmos Márta Ce<…"
      ]
     },
     "metadata": {},
     "output_type": "display_data"
    },
    {
     "data": {
      "application/vnd.jupyter.widget-view+json": {
       "model_id": "94ca554f9fdd4189a7d4e140ac7e29a5",
       "version_major": 2,
       "version_minor": 0
      },
      "text/plain": [
       "HBox(children=(Label(value='13677'), Label(value='Czimbalmos Márta Cedenka'), HTML(value='C<font color=red>^z<…"
      ]
     },
     "metadata": {},
     "output_type": "display_data"
    },
    {
     "data": {
      "application/vnd.jupyter.widget-view+json": {
       "model_id": "f6e6159efe9a4bbd8d53d2fa13dd31f5",
       "version_major": 2,
       "version_minor": 0
      },
      "text/plain": [
       "HBox(children=(Label(value='13516'), Label(value='Erőss István'), HTML(value='Erő<font color=red>^s</font>s Is…"
      ]
     },
     "metadata": {},
     "output_type": "display_data"
    },
    {
     "data": {
      "application/vnd.jupyter.widget-view+json": {
       "model_id": "78ca810962104a5893a6caf0b579ff7c",
       "version_major": 2,
       "version_minor": 0
      },
      "text/plain": [
       "HBox(children=(Label(value='13473'), Label(value='Agelus Iván'), HTML(value='A<font color=green>^n</font>gelus…"
      ]
     },
     "metadata": {},
     "output_type": "display_data"
    },
    {
     "data": {
      "application/vnd.jupyter.widget-view+json": {
       "model_id": "bcc3f7d8dc594901bb3429fac4bd2caa",
       "version_major": 2,
       "version_minor": 0
      },
      "text/plain": [
       "HBox(children=(Label(value='13383'), Label(value='Szalkay Dávid'), HTML(value='Szal<font color=red>^k</font>ay…"
      ]
     },
     "metadata": {},
     "output_type": "display_data"
    },
    {
     "data": {
      "application/vnd.jupyter.widget-view+json": {
       "model_id": "db911f84df824747b6a3e92116095239",
       "version_major": 2,
       "version_minor": 0
      },
      "text/plain": [
       "HBox(children=(Label(value='13383'), Label(value='Szalkay Dávid'), HTML(value='Szal<font color=red>^k</font>ay…"
      ]
     },
     "metadata": {},
     "output_type": "display_data"
    },
    {
     "data": {
      "application/vnd.jupyter.widget-view+json": {
       "model_id": "69ce95f344e448aead23326b70cd45f6",
       "version_major": 2,
       "version_minor": 0
      },
      "text/plain": [
       "HBox(children=(Label(value='13330'), Label(value='..és még sokan mások'), HTML(value='<font color=green>^.</fo…"
      ]
     },
     "metadata": {},
     "output_type": "display_data"
    },
    {
     "data": {
      "application/vnd.jupyter.widget-view+json": {
       "model_id": "a6bb40bd7d844ac8984e65a39604e8b4",
       "version_major": 2,
       "version_minor": 0
      },
      "text/plain": [
       "HBox(children=(Label(value='13179'), Label(value='Alexander Kalachev'), HTML(value='Alexand<font color=red>^e<…"
      ]
     },
     "metadata": {},
     "output_type": "display_data"
    },
    {
     "data": {
      "application/vnd.jupyter.widget-view+json": {
       "model_id": "c94f926c5d2941d4812ac38a10f389c6",
       "version_major": 2,
       "version_minor": 0
      },
      "text/plain": [
       "HBox(children=(Label(value='12950'), Label(value='Tillman J.A.'), HTML(value='Tillman<font color=green>^n</fon…"
      ]
     },
     "metadata": {},
     "output_type": "display_data"
    },
    {
     "data": {
      "application/vnd.jupyter.widget-view+json": {
       "model_id": "6e9a81b172b04d25b7eccc452bff6130",
       "version_major": 2,
       "version_minor": 0
      },
      "text/plain": [
       "HBox(children=(Label(value='12704'), Label(value='Dr. habil Kőnig Frigyes  a Magyar Képzőművészeti Egyetem rek…"
      ]
     },
     "metadata": {},
     "output_type": "display_data"
    },
    {
     "data": {
      "application/vnd.jupyter.widget-view+json": {
       "model_id": "cbd196a0e7f74c16ac930df037191856",
       "version_major": 2,
       "version_minor": 0
      },
      "text/plain": [
       "HBox(children=(Label(value='12410'), Label(value='Köszöntőt mond dr. Bácskai János  Ferencváros polgármestere.…"
      ]
     },
     "metadata": {},
     "output_type": "display_data"
    },
    {
     "data": {
      "application/vnd.jupyter.widget-view+json": {
       "model_id": "1444fc51bd7c426382ebb6515b466228",
       "version_major": 2,
       "version_minor": 0
      },
      "text/plain": [
       "HBox(children=(Label(value='12288'), Label(value='Hajdu István'), HTML(value='Hajdu István<font color=green>^:…"
      ]
     },
     "metadata": {},
     "output_type": "display_data"
    },
    {
     "data": {
      "application/vnd.jupyter.widget-view+json": {
       "model_id": "80baa6b889e24d41a004e39a333f8af0",
       "version_major": 2,
       "version_minor": 0
      },
      "text/plain": [
       "HBox(children=(Label(value='11977'), Label(value='Yan Yeresko / Fehéroroszország'), HTML(value='Yan Yeresko <f…"
      ]
     },
     "metadata": {},
     "output_type": "display_data"
    },
    {
     "data": {
      "application/vnd.jupyter.widget-view+json": {
       "model_id": "847b7a67a8664dc68f4cc6f2464e2ed0",
       "version_major": 2,
       "version_minor": 0
      },
      "text/plain": [
       "HBox(children=(Label(value='11961'), Label(value='Kis Veronika Edit'), HTML(value='Ki<font color=green>^s</fon…"
      ]
     },
     "metadata": {},
     "output_type": "display_data"
    },
    {
     "data": {
      "application/vnd.jupyter.widget-view+json": {
       "model_id": "66c0bcc874194f9c9ff3fb6cce7198f0",
       "version_major": 2,
       "version_minor": 0
      },
      "text/plain": [
       "HBox(children=(Label(value='11920'), Label(value='Czimbalmos Márta Cendenka'), HTML(value='C<font color=red>^z…"
      ]
     },
     "metadata": {},
     "output_type": "display_data"
    },
    {
     "data": {
      "application/vnd.jupyter.widget-view+json": {
       "model_id": "fcc53019fbf043f4bcfb2d5a82584c1c",
       "version_major": 2,
       "version_minor": 0
      },
      "text/plain": [
       "HBox(children=(Label(value='11892'), Label(value='Alexander Brener-Barbara Schurz'), HTML(value='Alexander Bre…"
      ]
     },
     "metadata": {},
     "output_type": "display_data"
    },
    {
     "data": {
      "application/vnd.jupyter.widget-view+json": {
       "model_id": "c041dd4f5c894514a9f4272fb230d590",
       "version_major": 2,
       "version_minor": 0
      },
      "text/plain": [
       "HBox(children=(Label(value='11784'), Label(value='Nádudvari Noémi-'), HTML(value='Nádudvari Noémi<font color=r…"
      ]
     },
     "metadata": {},
     "output_type": "display_data"
    },
    {
     "data": {
      "application/vnd.jupyter.widget-view+json": {
       "model_id": "c94e69cfe9d2440597e12bbdaeaba276",
       "version_major": 2,
       "version_minor": 0
      },
      "text/plain": [
       "HBox(children=(Label(value='11754'), Label(value='Készman József'), HTML(value='Készman József<font color=gree…"
      ]
     },
     "metadata": {},
     "output_type": "display_data"
    },
    {
     "data": {
      "application/vnd.jupyter.widget-view+json": {
       "model_id": "67458bb4aab04e859a7177e4abca1884",
       "version_major": 2,
       "version_minor": 0
      },
      "text/plain": [
       "HBox(children=(Label(value='11400'), Label(value='Koroknai  Zsolt'), HTML(value='Koroknai <font color=red>^ </…"
      ]
     },
     "metadata": {},
     "output_type": "display_data"
    },
    {
     "data": {
      "application/vnd.jupyter.widget-view+json": {
       "model_id": "21e9bf023af04dacb2f6596aa304ed42",
       "version_major": 2,
       "version_minor": 0
      },
      "text/plain": [
       "HBox(children=(Label(value='11314'), Label(value='Szkripka-Jávorszky Anasztázia'), HTML(value='<font color=gre…"
      ]
     },
     "metadata": {},
     "output_type": "display_data"
    },
    {
     "data": {
      "application/vnd.jupyter.widget-view+json": {
       "model_id": "00db644900704e30ae5fe4d200cf7ab4",
       "version_major": 2,
       "version_minor": 0
      },
      "text/plain": [
       "HBox(children=(Label(value='11218'), Label(value='Nemes Csaba:'), HTML(value='Nemes Csaba<font color=red>^:</f…"
      ]
     },
     "metadata": {},
     "output_type": "display_data"
    },
    {
     "data": {
      "application/vnd.jupyter.widget-view+json": {
       "model_id": "f29f0e1792934e07beeb083914674801",
       "version_major": 2,
       "version_minor": 0
      },
      "text/plain": [
       "HBox(children=(Label(value='11099'), Label(value='Erőss István'), HTML(value='Erő<font color=red>^s</font>s Is…"
      ]
     },
     "metadata": {},
     "output_type": "display_data"
    },
    {
     "data": {
      "application/vnd.jupyter.widget-view+json": {
       "model_id": "d4878c023c39488496e4a27ed6acc56c",
       "version_major": 2,
       "version_minor": 0
      },
      "text/plain": [
       "HBox(children=(Label(value='11021'), Label(value='Rockenbauer Zoltán  PhD'), HTML(value='Rockenbauer Zoltán  <…"
      ]
     },
     "metadata": {},
     "output_type": "display_data"
    },
    {
     "data": {
      "application/vnd.jupyter.widget-view+json": {
       "model_id": "1e66a7fa7cde4b368091dd0d44e46806",
       "version_major": 2,
       "version_minor": 0
      },
      "text/plain": [
       "HBox(children=(Label(value='10674'), Label(value='Készman József'), HTML(value='Készman József<font color=gree…"
      ]
     },
     "metadata": {},
     "output_type": "display_data"
    },
    {
     "data": {
      "application/vnd.jupyter.widget-view+json": {
       "model_id": "d69f9ee17a684fea8aec1d91b9e84a70",
       "version_major": 2,
       "version_minor": 0
      },
      "text/plain": [
       "HBox(children=(Label(value='10618'), Label(value='Süvecz Emese   tranzit.hu'), HTML(value='Süvecz Emese  <font…"
      ]
     },
     "metadata": {},
     "output_type": "display_data"
    },
    {
     "data": {
      "application/vnd.jupyter.widget-view+json": {
       "model_id": "9e87fe6ef5604d46aa765db53ec3d6a7",
       "version_major": 2,
       "version_minor": 0
      },
      "text/plain": [
       "HBox(children=(Label(value='10420'), Label(value='Süvecz Emese tranzit. hu'), HTML(value='Süvecz Emese <font c…"
      ]
     },
     "metadata": {},
     "output_type": "display_data"
    },
    {
     "data": {
      "application/vnd.jupyter.widget-view+json": {
       "model_id": "508db38e90ef42b882025c42b0258e3f",
       "version_major": 2,
       "version_minor": 0
      },
      "text/plain": [
       "HBox(children=(Label(value='10268'), Label(value='Pdmaniczky Szilárd'), HTML(value='P<font color=green>^o</fon…"
      ]
     },
     "metadata": {},
     "output_type": "display_data"
    },
    {
     "data": {
      "application/vnd.jupyter.widget-view+json": {
       "model_id": "c5384d4bdff6498bbb283bc1ee4229e0",
       "version_major": 2,
       "version_minor": 0
      },
      "text/plain": [
       "HBox(children=(Label(value='10175'), Label(value='Kovács Panni'), HTML(value='Kovács<font color=green>^a</font…"
      ]
     },
     "metadata": {},
     "output_type": "display_data"
    },
    {
     "data": {
      "application/vnd.jupyter.widget-view+json": {
       "model_id": "af265b3dd1dc489d9f128238064f8f58",
       "version_major": 2,
       "version_minor": 0
      },
      "text/plain": [
       "HBox(children=(Label(value='10166'), Label(value='Dr. Keserű Katalin'), HTML(value='Dr.<font color=red>^ </fon…"
      ]
     },
     "metadata": {},
     "output_type": "display_data"
    },
    {
     "data": {
      "application/vnd.jupyter.widget-view+json": {
       "model_id": "b3dfbc1d0db84c6d8d5e05e6f7006b35",
       "version_major": 2,
       "version_minor": 0
      },
      "text/plain": [
       "HBox(children=(Label(value='10154'), Label(value='Bujdos Attila'), HTML(value='Bujdos<font color=green>^ó</fon…"
      ]
     },
     "metadata": {},
     "output_type": "display_data"
    },
    {
     "data": {
      "application/vnd.jupyter.widget-view+json": {
       "model_id": "a33013a2d6974b2fbb736f1dd29da9d1",
       "version_major": 2,
       "version_minor": 0
      },
      "text/plain": [
       "HBox(children=(Label(value='9923'), Label(value='Dr. Gálig Zoltán   a Szombathelyi Képtár igazgatója'), HTML(v…"
      ]
     },
     "metadata": {},
     "output_type": "display_data"
    },
    {
     "data": {
      "application/vnd.jupyter.widget-view+json": {
       "model_id": "a9124572ea194f2da15b34daba151f66",
       "version_major": 2,
       "version_minor": 0
      },
      "text/plain": [
       "HBox(children=(Label(value='9792'), Label(value='Budapesten élő MAMŰ-tagok'), HTML(value='Budapesten élő MAMŰ<…"
      ]
     },
     "metadata": {},
     "output_type": "display_data"
    },
    {
     "data": {
      "application/vnd.jupyter.widget-view+json": {
       "model_id": "9a19bf2f28234d1ca3ece45387b89539",
       "version_major": 2,
       "version_minor": 0
      },
      "text/plain": [
       "HBox(children=(Label(value='9701'), Label(value='Lawrence Weine'), HTML(value='Lawrence Weine<font color=green…"
      ]
     },
     "metadata": {},
     "output_type": "display_data"
    },
    {
     "data": {
      "application/vnd.jupyter.widget-view+json": {
       "model_id": "bab98a3582fa4c36aba6d859ce4b323c",
       "version_major": 2,
       "version_minor": 0
      },
      "text/plain": [
       "HBox(children=(Label(value='9503'), Label(value='Tillmann J. A.'), HTML(value='Tillmann J.<font color=red>^ </…"
      ]
     },
     "metadata": {},
     "output_type": "display_data"
    },
    {
     "data": {
      "application/vnd.jupyter.widget-view+json": {
       "model_id": "954c656f723b4cc0a4f08ab12956ccf8",
       "version_major": 2,
       "version_minor": 0
      },
      "text/plain": [
       "HBox(children=(Label(value='9389'), Label(value='Dr. Salvatore Ettorre - a budapesti olasz kulturális intézet …"
      ]
     },
     "metadata": {},
     "output_type": "display_data"
    },
    {
     "data": {
      "application/vnd.jupyter.widget-view+json": {
       "model_id": "e46c062b124e41e885768ecc51c860b2",
       "version_major": 2,
       "version_minor": 0
      },
      "text/plain": [
       "HBox(children=(Label(value='8948'), Label(value='Dr. Elisabeth Kornfeind  az Osztrák Kulturális Fórum igazgató…"
      ]
     },
     "metadata": {},
     "output_type": "display_data"
    },
    {
     "data": {
      "application/vnd.jupyter.widget-view+json": {
       "model_id": "206c78dc033744b5868032498b428b98",
       "version_major": 2,
       "version_minor": 0
      },
      "text/plain": [
       "HBox(children=(Label(value='8938'), Label(value='Mészáros Márta Millesime'), HTML(value='Mészáros Márta <font …"
      ]
     },
     "metadata": {},
     "output_type": "display_data"
    },
    {
     "data": {
      "application/vnd.jupyter.widget-view+json": {
       "model_id": "2873e86f6a414bea91337ba9947ba5f6",
       "version_major": 2,
       "version_minor": 0
      },
      "text/plain": [
       "HBox(children=(Label(value='8841'), Label(value='L Menyhért László'), HTML(value='L<font color=green>^.</font>…"
      ]
     },
     "metadata": {},
     "output_type": "display_data"
    },
    {
     "data": {
      "application/vnd.jupyter.widget-view+json": {
       "model_id": "d833b2f8d22a4983a7d618c5303a9188",
       "version_major": 2,
       "version_minor": 0
      },
      "text/plain": [
       "HBox(children=(Label(value='8603'), Label(value='Dr.Schneider Márta kulturális szakállamtitkár'), HTML(value='…"
      ]
     },
     "metadata": {},
     "output_type": "display_data"
    },
    {
     "data": {
      "application/vnd.jupyter.widget-view+json": {
       "model_id": "373e73d358624fca9021fe191327708e",
       "version_major": 2,
       "version_minor": 0
      },
      "text/plain": [
       "HBox(children=(Label(value='8549'), Label(value='Dr. Gálig Zoltán   képtár igazgató'), HTML(value='Dr. Gálig Z…"
      ]
     },
     "metadata": {},
     "output_type": "display_data"
    },
    {
     "data": {
      "application/vnd.jupyter.widget-view+json": {
       "model_id": "435707833f8246ea9b1bada40f274a82",
       "version_major": 2,
       "version_minor": 0
      },
      "text/plain": [
       "HBox(children=(Label(value='8359'), Label(value='SZALAI Attila'), HTML(value='SZALAI A<font color=green>^ </fo…"
      ]
     },
     "metadata": {},
     "output_type": "display_data"
    },
    {
     "data": {
      "application/vnd.jupyter.widget-view+json": {
       "model_id": "896d089a834a4380ab6a861a1fa0375a",
       "version_major": 2,
       "version_minor": 0
      },
      "text/plain": [
       "HBox(children=(Label(value='8350'), Label(value='szlovák cseh és magyar művészek részvételével'), HTML(value='…"
      ]
     },
     "metadata": {},
     "output_type": "display_data"
    },
    {
     "data": {
      "application/vnd.jupyter.widget-view+json": {
       "model_id": "18f524119e3f455aa697f84744a8ac61",
       "version_major": 2,
       "version_minor": 0
      },
      "text/plain": [
       "HBox(children=(Label(value='7764'), Label(value='Áfrány Gábor-Tóth Zs. Szabolcs'), HTML(value='Áfrány Gábor<fo…"
      ]
     },
     "metadata": {},
     "output_type": "display_data"
    },
    {
     "data": {
      "application/vnd.jupyter.widget-view+json": {
       "model_id": "f1b180853c8e476e85d81df1850598d6",
       "version_major": 2,
       "version_minor": 0
      },
      "text/plain": [
       "HBox(children=(Label(value='7524'), Label(value='Zsigmond Attila főigazgató'), HTML(value='Zsigmond Attila <fo…"
      ]
     },
     "metadata": {},
     "output_type": "display_data"
    },
    {
     "data": {
      "application/vnd.jupyter.widget-view+json": {
       "model_id": "98c9fa37ec454ec0abf2121790760e92",
       "version_major": 2,
       "version_minor": 0
      },
      "text/plain": [
       "HBox(children=(Label(value='7502'), Label(value='Koroknai Zsolt (HU)'), HTML(value='Koroknai Zsolt<font color=…"
      ]
     },
     "metadata": {},
     "output_type": "display_data"
    },
    {
     "data": {
      "application/vnd.jupyter.widget-view+json": {
       "model_id": "a743ed2c7e204fd48db6a7478ab42d4c",
       "version_major": 2,
       "version_minor": 0
      },
      "text/plain": [
       "HBox(children=(Label(value='7375'), Label(value='Hajdu István'), HTML(value='Hajdu István<font color=green>^:<…"
      ]
     },
     "metadata": {},
     "output_type": "display_data"
    },
    {
     "data": {
      "application/vnd.jupyter.widget-view+json": {
       "model_id": "eab42b64314649f2ad4a1293e98d8057",
       "version_major": 2,
       "version_minor": 0
      },
      "text/plain": [
       "HBox(children=(Label(value='7320'), Label(value='Bereczky Loránd  a Magyar Nemzeti Galéria főigazgatója'), HTM…"
      ]
     },
     "metadata": {},
     "output_type": "display_data"
    },
    {
     "data": {
      "application/vnd.jupyter.widget-view+json": {
       "model_id": "50d2345baace47c1aa18d2382e302f13",
       "version_major": 2,
       "version_minor": 0
      },
      "text/plain": [
       "HBox(children=(Label(value='7197'), Label(value='Kettős Tamás'), HTML(value='Kettős Tamás<font color=green>^:<…"
      ]
     },
     "metadata": {},
     "output_type": "display_data"
    },
    {
     "data": {
      "application/vnd.jupyter.widget-view+json": {
       "model_id": "4baa2d6896114dc28b936de3722b0a9f",
       "version_major": 2,
       "version_minor": 0
      },
      "text/plain": [
       "HBox(children=(Label(value='7012'), Label(value='Pent Leditgrandt Emlékzenekar'), HTML(value='Pent Leditgran<f…"
      ]
     },
     "metadata": {},
     "output_type": "display_data"
    },
    {
     "data": {
      "application/vnd.jupyter.widget-view+json": {
       "model_id": "2bf079715bba401898409a59dbd95aae",
       "version_major": 2,
       "version_minor": 0
      },
      "text/plain": [
       "HBox(children=(Label(value='6825'), Label(value='Szépfalvi Ágnes'), HTML(value='<font color=red>^S</font>zépfa…"
      ]
     },
     "metadata": {},
     "output_type": "display_data"
    },
    {
     "data": {
      "application/vnd.jupyter.widget-view+json": {
       "model_id": "336e070f8c0a42a78b012d6d00195ffa",
       "version_major": 2,
       "version_minor": 0
      },
      "text/plain": [
       "HBox(children=(Label(value='6644'), Label(value='Menesi Attila - Christoph Rauch'), HTML(value='Menesi Attila …"
      ]
     },
     "metadata": {},
     "output_type": "display_data"
    },
    {
     "data": {
      "application/vnd.jupyter.widget-view+json": {
       "model_id": "1cbd2f9bac05443889d4334a9cc73179",
       "version_major": 2,
       "version_minor": 0
      },
      "text/plain": [
       "HBox(children=(Label(value='6636'), Label(value='Francois Morellet'), HTML(value='Francois<font color=green>^e…"
      ]
     },
     "metadata": {},
     "output_type": "display_data"
    },
    {
     "data": {
      "application/vnd.jupyter.widget-view+json": {
       "model_id": "8745fd6b59a24fd1a4dc78e4408410c2",
       "version_major": 2,
       "version_minor": 0
      },
      "text/plain": [
       "HBox(children=(Label(value='6597'), Label(value='Krizbai  Sándor'), HTML(value='Krizbai <font color=red>^ </fo…"
      ]
     },
     "metadata": {},
     "output_type": "display_data"
    },
    {
     "data": {
      "application/vnd.jupyter.widget-view+json": {
       "model_id": "b8d8d168a68b4192924d62c0d115eaa4",
       "version_major": 2,
       "version_minor": 0
      },
      "text/plain": [
       "HBox(children=(Label(value='6588'), Label(value='Jan van der Pol'), HTML(value='Jan van der <font color=green>…"
      ]
     },
     "metadata": {},
     "output_type": "display_data"
    },
    {
     "data": {
      "application/vnd.jupyter.widget-view+json": {
       "model_id": "69fa3524318741ccb98f58b457bb0aad",
       "version_major": 2,
       "version_minor": 0
      },
      "text/plain": [
       "HBox(children=(Label(value='6459'), Label(value='IMPEX - a KÖNYV'), HTML(value='IMPEX - a KÖNYV<font color=gre…"
      ]
     },
     "metadata": {},
     "output_type": "display_data"
    },
    {
     "data": {
      "application/vnd.jupyter.widget-view+json": {
       "model_id": "9a27eeb26a9945459a5153ef842cb301",
       "version_major": 2,
       "version_minor": 0
      },
      "text/plain": [
       "HBox(children=(Label(value='6338'), Label(value='Szűr-Szabó Józse'), HTML(value='Szűr-Szabó Józse<font color=g…"
      ]
     },
     "metadata": {},
     "output_type": "display_data"
    },
    {
     "data": {
      "application/vnd.jupyter.widget-view+json": {
       "model_id": "151adf38bcff431abe64b9c60a3c8081",
       "version_major": 2,
       "version_minor": 0
      },
      "text/plain": [
       "HBox(children=(Label(value='6198'), Label(value='Az Országos Széchényi Könyvtár főigazgatója'), HTML(value='<f…"
      ]
     },
     "metadata": {},
     "output_type": "display_data"
    },
    {
     "data": {
      "application/vnd.jupyter.widget-view+json": {
       "model_id": "f6b4ba4bcf114c3db8610c92d05a52ff",
       "version_major": 2,
       "version_minor": 0
      },
      "text/plain": [
       "HBox(children=(Label(value='6021'), Label(value='Márta István'), HTML(value='Márta Istvá<font color=red>^n</fo…"
      ]
     },
     "metadata": {},
     "output_type": "display_data"
    },
    {
     "data": {
      "application/vnd.jupyter.widget-view+json": {
       "model_id": "143adbc9a2fa4a7bbe85839b21f190eb",
       "version_major": 2,
       "version_minor": 0
      },
      "text/plain": [
       "HBox(children=(Label(value='6012'), Label(value='Raphaël Grisey  vetítése'), HTML(value='Rapha<font color=blue…"
      ]
     },
     "metadata": {},
     "output_type": "display_data"
    },
    {
     "data": {
      "application/vnd.jupyter.widget-view+json": {
       "model_id": "9c92d3e718c8468a9f176418c1b5c3cc",
       "version_major": 2,
       "version_minor": 0
      },
      "text/plain": [
       "HBox(children=(Label(value='5965'), Label(value='Márta Istvá'), HTML(value='Márta Istvá<font color=green>^n</f…"
      ]
     },
     "metadata": {},
     "output_type": "display_data"
    },
    {
     "data": {
      "application/vnd.jupyter.widget-view+json": {
       "model_id": "b906d663828244c09f13d95a6b7f5859",
       "version_major": 2,
       "version_minor": 0
      },
      "text/plain": [
       "HBox(children=(Label(value='5906'), Label(value='Més-záros István'), HTML(value='Més<font color=red>^-</font>z…"
      ]
     },
     "metadata": {},
     "output_type": "display_data"
    },
    {
     "data": {
      "application/vnd.jupyter.widget-view+json": {
       "model_id": "9001b29c9ac143c69e1b02a6e89cc8b7",
       "version_major": 2,
       "version_minor": 0
      },
      "text/plain": [
       "HBox(children=(Label(value='5550'), Label(value='Emilio Villanova'), HTML(value='Emilio Vil<font color=red>^l<…"
      ]
     },
     "metadata": {},
     "output_type": "display_data"
    },
    {
     "data": {
      "application/vnd.jupyter.widget-view+json": {
       "model_id": "659602b40a94453199f31371ddc4c976",
       "version_major": 2,
       "version_minor": 0
      },
      "text/plain": [
       "HBox(children=(Label(value='5347'), Label(value='L.Simon László'), HTML(value='L.<font color=green>^ </font>Si…"
      ]
     },
     "metadata": {},
     "output_type": "display_data"
    },
    {
     "data": {
      "application/vnd.jupyter.widget-view+json": {
       "model_id": "5c0b19500cd54d54a260d7c0af73273c",
       "version_major": 2,
       "version_minor": 0
      },
      "text/plain": [
       "HBox(children=(Label(value='5220'), Label(value='a Francia Intézet igazgatóhelyettese'), HTML(value='a Francia…"
      ]
     },
     "metadata": {},
     "output_type": "display_data"
    },
    {
     "data": {
      "application/vnd.jupyter.widget-view+json": {
       "model_id": "9cbd573e66174b70a3ed94da517db8a5",
       "version_major": 2,
       "version_minor": 0
      },
      "text/plain": [
       "HBox(children=(Label(value='5189'), Label(value='Dr. Lénárd László'), HTML(value='Dr<font color=red>^.</font> …"
      ]
     },
     "metadata": {},
     "output_type": "display_data"
    },
    {
     "data": {
      "application/vnd.jupyter.widget-view+json": {
       "model_id": "df5e25767542464da3dcf9d82b1b0993",
       "version_major": 2,
       "version_minor": 0
      },
      "text/plain": [
       "HBox(children=(Label(value='5183'), Label(value='Gonda Tibor alpolgármester úr'), HTML(value='Gonda Tibor<font…"
      ]
     },
     "metadata": {},
     "output_type": "display_data"
    },
    {
     "data": {
      "application/vnd.jupyter.widget-view+json": {
       "model_id": "2ed57ddbcd07462194a6837d27588a3d",
       "version_major": 2,
       "version_minor": 0
      },
      "text/plain": [
       "HBox(children=(Label(value='5015'), Label(value='Radó Gyula filmje'), HTML(value='Radó Gyula filmje<font color…"
      ]
     },
     "metadata": {},
     "output_type": "display_data"
    },
    {
     "data": {
      "application/vnd.jupyter.widget-view+json": {
       "model_id": "dde644a6689e423c9b5c2d6219027192",
       "version_major": 2,
       "version_minor": 0
      },
      "text/plain": [
       "HBox(children=(Label(value='4961'), Label(value='Mazzag Istvá'), HTML(value='Mazzag Istvá<font color=green>^n<…"
      ]
     },
     "metadata": {},
     "output_type": "display_data"
    },
    {
     "data": {
      "application/vnd.jupyter.widget-view+json": {
       "model_id": "5ce4dab8bbac4332afd0e030b53a9154",
       "version_major": 2,
       "version_minor": 0
      },
      "text/plain": [
       "HBox(children=(Label(value='4824'), Label(value='Michal Kolecek'), HTML(value='Micha<font color=green>^i</font…"
      ]
     },
     "metadata": {},
     "output_type": "display_data"
    },
    {
     "data": {
      "application/vnd.jupyter.widget-view+json": {
       "model_id": "752ff133866d402898e4dd14ec6a8e88",
       "version_major": 2,
       "version_minor": 0
      },
      "text/plain": [
       "HBox(children=(Label(value='4602'), Label(value='a Magyar Képzőművészeti Egyetem végzős hallgatói'), HTML(valu…"
      ]
     },
     "metadata": {},
     "output_type": "display_data"
    },
    {
     "data": {
      "application/vnd.jupyter.widget-view+json": {
       "model_id": "6cf3903543034cc6854c7c4bfa6b9476",
       "version_major": 2,
       "version_minor": 0
      },
      "text/plain": [
       "HBox(children=(Label(value='4565'), Label(value='Is-Is Randevú'), HTML(value='Is-<font color=green>^ </font>Is…"
      ]
     },
     "metadata": {},
     "output_type": "display_data"
    },
    {
     "data": {
      "application/vnd.jupyter.widget-view+json": {
       "model_id": "79bd74b37fd14b22a9731ca47c9b36f7",
       "version_major": 2,
       "version_minor": 0
      },
      "text/plain": [
       "HBox(children=(Label(value='4531'), Label(value='a trencséni M. A. Bazovský Galéria igazgatója'), HTML(value='…"
      ]
     },
     "metadata": {},
     "output_type": "display_data"
    },
    {
     "data": {
      "application/vnd.jupyter.widget-view+json": {
       "model_id": "8ec6588ad2554219a5daf0fc92e533dc",
       "version_major": 2,
       "version_minor": 0
      },
      "text/plain": [
       "HBox(children=(Label(value='4478'), Label(value='A Magyar Képzőművészeti Egyetem hallgatói'), HTML(value='A Ma…"
      ]
     },
     "metadata": {},
     "output_type": "display_data"
    },
    {
     "data": {
      "application/vnd.jupyter.widget-view+json": {
       "model_id": "42bdbd816872432888969e05cd0b047a",
       "version_major": 2,
       "version_minor": 0
      },
      "text/plain": [
       "HBox(children=(Label(value='4352'), Label(value='Szociális és Esélyegyenlőégi Minisztérium'), HTML(value='Szoc…"
      ]
     },
     "metadata": {},
     "output_type": "display_data"
    },
    {
     "data": {
      "application/vnd.jupyter.widget-view+json": {
       "model_id": "66e6749d9e4f45a485910e99e4dac9cb",
       "version_major": 2,
       "version_minor": 0
      },
      "text/plain": [
       "HBox(children=(Label(value='4311'), Label(value='Reményi Schmall Róza'), HTML(value='Reményi Schmal<font color…"
      ]
     },
     "metadata": {},
     "output_type": "display_data"
    },
    {
     "data": {
      "application/vnd.jupyter.widget-view+json": {
       "model_id": "3d2b89cda634488baebd8a241883ca2c",
       "version_major": 2,
       "version_minor": 0
      },
      "text/plain": [
       "HBox(children=(Label(value='4311'), Label(value='Reményi Schmall Róza'), HTML(value='Reményi Schmal<font color…"
      ]
     },
     "metadata": {},
     "output_type": "display_data"
    },
    {
     "data": {
      "application/vnd.jupyter.widget-view+json": {
       "model_id": "635ded18f0654a9aba085af8898c2db6",
       "version_major": 2,
       "version_minor": 0
      },
      "text/plain": [
       "HBox(children=(Label(value='4279'), Label(value='Jean-Baptiste Naudy del Fat)'), HTML(value='Jean-Baptiste Nau…"
      ]
     },
     "metadata": {},
     "output_type": "display_data"
    },
    {
     "data": {
      "application/vnd.jupyter.widget-view+json": {
       "model_id": "6bb7e5c13f9a475a8e60ba333165f5be",
       "version_major": 2,
       "version_minor": 0
      },
      "text/plain": [
       "HBox(children=(Label(value='4271'), Label(value='Andreas Fogarasi (AT)'), HTML(value='Andreas Fogarasi (A<font…"
      ]
     },
     "metadata": {},
     "output_type": "display_data"
    },
    {
     "data": {
      "application/vnd.jupyter.widget-view+json": {
       "model_id": "cbbf38741e7d4fdd83aae1a319e9f66b",
       "version_major": 2,
       "version_minor": 0
      },
      "text/plain": [
       "HBox(children=(Label(value='4113'), Label(value='Szilvássy Edit'), HTML(value='Szilvás<font color=red>^s</font…"
      ]
     },
     "metadata": {},
     "output_type": "display_data"
    },
    {
     "data": {
      "application/vnd.jupyter.widget-view+json": {
       "model_id": "a8b0f77971ce489398f99e6038cd95e4",
       "version_major": 2,
       "version_minor": 0
      },
      "text/plain": [
       "HBox(children=(Label(value='3395'), Label(value='Dr. Barabara Lee-Störck'), HTML(value='Dr. Bar<font color=red…"
      ]
     },
     "metadata": {},
     "output_type": "display_data"
    },
    {
     "data": {
      "application/vnd.jupyter.widget-view+json": {
       "model_id": "772c339f048b4e0a96f1cd80e48c9bfe",
       "version_major": 2,
       "version_minor": 0
      },
      "text/plain": [
       "HBox(children=(Label(value='3291'), Label(value='Vértesi Ági.'), HTML(value='Vértesi Ági<font color=red>^.</fo…"
      ]
     },
     "metadata": {},
     "output_type": "display_data"
    },
    {
     "data": {
      "application/vnd.jupyter.widget-view+json": {
       "model_id": "de3ad4e46a28408ca3e775201fcd89ce",
       "version_major": 2,
       "version_minor": 0
      },
      "text/plain": [
       "HBox(children=(Label(value='3164'), Label(value='Prieger Zsolt (Anima Sound System)'), HTML(value='Prieger Zso…"
      ]
     },
     "metadata": {},
     "output_type": "display_data"
    },
    {
     "data": {
      "application/vnd.jupyter.widget-view+json": {
       "model_id": "3b9dea032e0445a9b9b14e45e1b99647",
       "version_major": 2,
       "version_minor": 0
      },
      "text/plain": [
       "HBox(children=(Label(value='3092'), Label(value='Simonyi Emő.'), HTML(value='Simonyi Emő<font color=red>^.</fo…"
      ]
     },
     "metadata": {},
     "output_type": "display_data"
    },
    {
     "data": {
      "application/vnd.jupyter.widget-view+json": {
       "model_id": "033fa59c8cc84a29996c0e4c93a84dae",
       "version_major": 2,
       "version_minor": 0
      },
      "text/plain": [
       "HBox(children=(Label(value='3068'), Label(value='Hajdu István:'), HTML(value='Hajdu István<font color=red>^:</…"
      ]
     },
     "metadata": {},
     "output_type": "display_data"
    },
    {
     "data": {
      "application/vnd.jupyter.widget-view+json": {
       "model_id": "2eb12d23e79f480aa9acaa0d9c138623",
       "version_major": 2,
       "version_minor": 0
      },
      "text/plain": [
       "HBox(children=(Label(value='2230'), Label(value='Myriam Laplante (Olaszország)'), HTML(value='Myriam Laplante …"
      ]
     },
     "metadata": {},
     "output_type": "display_data"
    },
    {
     "data": {
      "application/vnd.jupyter.widget-view+json": {
       "model_id": "387a521e07984ff8978d7f4c7043bf42",
       "version_major": 2,
       "version_minor": 0
      },
      "text/plain": [
       "HBox(children=(Label(value='1411'), Label(value='Ivo Weber  (Köln)'), HTML(value='Ivo Weber <font color=red>^ …"
      ]
     },
     "metadata": {},
     "output_type": "display_data"
    }
   ],
   "source": [
    "# display fuzzy differences\n",
    "print(len(fuzzymap))\n",
    "for i, row in fuzzymap.iterrows():\n",
    "    display(HBox([Label(str(row['id'])), Label(row['name']), display_diff(row['name'], row['namematch'])]))"
   ]
  },
  {
   "cell_type": "code",
   "execution_count": 74,
   "metadata": {},
   "outputs": [
    {
     "ename": "AssertionError",
     "evalue": "",
     "output_type": "error",
     "traceback": [
      "\u001b[1;31m---------------------------------------------------------------------------\u001b[0m",
      "\u001b[1;31mAssertionError\u001b[0m                            Traceback (most recent call last)",
      "\u001b[1;32m<ipython-input-74-f34fd05983c0>\u001b[0m in \u001b[0;36m<module>\u001b[1;34m\u001b[0m\n\u001b[0;32m      3\u001b[0m \u001b[1;32mfor\u001b[0m \u001b[0midx\u001b[0m\u001b[1;33m,\u001b[0m \u001b[0mrow\u001b[0m \u001b[1;32min\u001b[0m \u001b[0mfuzzyfixed\u001b[0m\u001b[1;33m.\u001b[0m\u001b[0miterrows\u001b[0m\u001b[1;33m(\u001b[0m\u001b[1;33m)\u001b[0m\u001b[1;33m:\u001b[0m\u001b[1;33m\u001b[0m\u001b[1;33m\u001b[0m\u001b[0m\n\u001b[0;32m      4\u001b[0m     \u001b[0midmatch\u001b[0m \u001b[1;33m=\u001b[0m \u001b[0mrow\u001b[0m\u001b[1;33m[\u001b[0m\u001b[1;34m'idmatch'\u001b[0m\u001b[1;33m]\u001b[0m\u001b[1;33m\u001b[0m\u001b[1;33m\u001b[0m\u001b[0m\n\u001b[1;32m----> 5\u001b[1;33m     \u001b[1;32massert\u001b[0m \u001b[0mdf\u001b[0m\u001b[1;33m.\u001b[0m\u001b[0mloc\u001b[0m\u001b[1;33m[\u001b[0m\u001b[0midmatch\u001b[0m\u001b[1;33m,\u001b[0m \u001b[1;34m'clean name'\u001b[0m\u001b[1;33m]\u001b[0m \u001b[1;33m==\u001b[0m \u001b[0mrow\u001b[0m\u001b[1;33m[\u001b[0m\u001b[1;34m'namematch'\u001b[0m\u001b[1;33m]\u001b[0m\u001b[1;33m\u001b[0m\u001b[1;33m\u001b[0m\u001b[0m\n\u001b[0m\u001b[0;32m      6\u001b[0m     \u001b[0mprint\u001b[0m\u001b[1;33m(\u001b[0m\u001b[0mdf\u001b[0m\u001b[1;33m.\u001b[0m\u001b[0mloc\u001b[0m\u001b[1;33m[\u001b[0m\u001b[0midmatch\u001b[0m\u001b[1;33m,\u001b[0m \u001b[1;34m'clean name'\u001b[0m\u001b[1;33m]\u001b[0m\u001b[1;33m,\u001b[0m \u001b[1;34m\"=>\"\u001b[0m\u001b[1;33m,\u001b[0m \u001b[0mrow\u001b[0m\u001b[1;33m[\u001b[0m\u001b[1;34m'name'\u001b[0m\u001b[1;33m]\u001b[0m\u001b[1;33m)\u001b[0m\u001b[1;33m\u001b[0m\u001b[1;33m\u001b[0m\u001b[0m\n\u001b[0;32m      7\u001b[0m     \u001b[0mdf\u001b[0m\u001b[1;33m.\u001b[0m\u001b[0mloc\u001b[0m\u001b[1;33m[\u001b[0m\u001b[0midmatch\u001b[0m\u001b[1;33m,\u001b[0m \u001b[1;34m'clean name'\u001b[0m\u001b[1;33m]\u001b[0m \u001b[1;33m=\u001b[0m \u001b[0mrow\u001b[0m\u001b[1;33m[\u001b[0m\u001b[1;34m'name'\u001b[0m\u001b[1;33m]\u001b[0m\u001b[1;33m\u001b[0m\u001b[1;33m\u001b[0m\u001b[0m\n",
      "\u001b[1;31mAssertionError\u001b[0m: "
     ]
    }
   ],
   "source": [
    "# Apply manually fixed fuzzy match\n",
    "fuzzyfixed = pd.read_excel('./data/fuzzy_map_fixed.xlsx')\n",
    "for idx, row in fuzzyfixed.iterrows():\n",
    "    idmatch = row['idmatch']\n",
    "    assert df.loc[idmatch, 'clean name'] == row['namematch']\n",
    "    print(df.loc[idmatch, 'clean name'], \"=>\", row['name'])\n",
    "    df.loc[idmatch, 'clean name'] = row['name']\n",
    "    "
   ]
  },
  {
   "cell_type": "code",
   "execution_count": 75,
   "metadata": {},
   "outputs": [],
   "source": [
    "df.to_excel('./data/artist_list_manual_fuzzy_cleaning_map.xlsx')"
   ]
  },
  {
   "cell_type": "markdown",
   "metadata": {},
   "source": [
    "# Check UPPERCASE Versions"
   ]
  },
  {
   "cell_type": "code",
   "execution_count": 114,
   "metadata": {},
   "outputs": [],
   "source": [
    "df2 = pd.read_excel('./data/artist_list_manual_fuzzy_cleaning_map.xlsx', index_col='id')\n",
    "all_names = [(df2.index[i], df2.iloc[i]['clean name']) for i in range(len(df2))]"
   ]
  },
  {
   "cell_type": "code",
   "execution_count": 120,
   "metadata": {},
   "outputs": [
    {
     "name": "stdout",
     "output_type": "stream",
     "text": [
      "301\tKoronczi Endre\t1372\tkoronczi Endre\n",
      "546\tMaurer Dóra\t9872\tMaurer dóra\n",
      "168\tPetrányi Zsolt\t16093\tPETRÁNYI ZSOLT\n",
      "2876\tVerebes György\t6007\tVEREBES György\n",
      "5122\tFenyvesi Áron\t16463\tFENYVESI Áron\n",
      "5122\tFenyvesi Áron\t8426\tFENYVESI Áron\n",
      "4052\tBánki Ákos\t17385\tBánki ÁKos\n",
      "4052\tBánki Ákos\t11474\tBÁNKI Ákos\n",
      "344\tGyőrffy László\t12375\tGYőRFFY László\n",
      "344\tGyőrffy László\t1368\tGyőrffy lászló\n",
      "699\tKecskés Péter\t5279\tkecskés péter\n",
      "1767\tKaszás Tamás\t16258\tKASZÁS Tamás\n",
      "625\tfeLugossy László\t15748\tfelugossy László\n",
      "1063\tSzurcsik József\t3766\tSZURCSIK JÓZSEF\n",
      "7106\tSzabó Noémi\t14780\tSZABÓ Noémi\n",
      "7106\tSzabó Noémi\t6626\tSZABÓ Noémi\n",
      "853\tKokesch Ádám\t15867\tkokesch ádám\n",
      "434\tElekes Károly\t12080\tELEKES KÁROLY\n",
      "1126\tBirkás Ákos\t15194\tBIRKÁS Ákos\n",
      "93\tHorváth Tibor\t2756\tHORVÁTH TIBOR\n",
      "93\tHorváth Tibor\t1373\tHorváth tibor\n",
      "3935\tVerebics Ágnes\t11035\tVEREBICS ÁGNES\n",
      "1769\tMécs Miklós\t5270\tMÉCS MIKLÓS\n",
      "255\tPacsika Rudolf\t8466\tPACSIKA Rudolf\n",
      "2979\tHerman Levente\t3484\therman levente\n",
      "808\tKincses Károly\t10111\tKINCSES KÁROLY\n",
      "231\tRoskó Gábor\t13788\tROSKÓ GÁBOR\n",
      "1711\tHorváth Dániel\t2406\tHORVÁTH DÁNIEL\n",
      "852\tKisspál Szabolcs\t12204\tKISSPÁL Szabolcs\n",
      "852\tKisspál Szabolcs\t8269\tKIssPál Szabolcs\n",
      "680\tVárnagy Tibor\t10506\tVÁRNAGY Tibor\n",
      "680\tVárnagy Tibor\t5224\tVÁRNAGY TIBOR\n",
      "141\tSzabó Dezső\t12443\tSzabó DEzső\n",
      "3966\tMagyarósi Éva\t16630\tMAGYARÓSI Éva\n",
      "2382\tCsáki László\t14929\tCSÁKI László\n",
      "492\tSzörényi Beatrix\t14955\tSZÖRÉNYI Beatrix\n",
      "175\tEl Kazovszkij\t15477\tEL Kazovszkij\n",
      "4095\tMátrai Erik\t17199\tMÁTRAI Erik\n",
      "4074\tVécsei Júlia\t14963\tVÉCSEI Júlia\n",
      "3980\tBatykó Róbert\t16338\tBATYKÓ Róbert\n",
      "3604\tKicsiny Balázs\t4305\tKICSINY BALÁZS\n",
      "717\tSturcz János\t12850\tSTURCZ János\n",
      "717\tSturcz János\t11160\tSTURCZ János\n",
      "7854\tSzilágyi Rudolf\t17481\tSZILÁGYI RUDOLF\n",
      "756\tJovánovics György\t11547\tJOVÁNOVICS GYÖRGY\n",
      "299\tChilf Mária\t4622\tCHILF Mária\n",
      "299\tChilf Mária\t3764\tCHILF MÁRIA\n",
      "797\tSzotyory László\t15481\tSZOTYORY László\n",
      "83\tNagy Gábor György\t898\tnagy Gábor György\n",
      "3246\tNyakas Ilona\t17130\tNyakas ILona\n",
      "304\tOrbán György\t4617\tORBÁN György\n",
      "145\tBraun András\t9180\tBRAUN András\n",
      "508\tHorányi Attila\t22092\tHORÁNYI Attila\n",
      "525\tAndrási Gábor\t1718\tAndrási gábor\n",
      "440\tHegedűs 2 László\t6431\tHEGEDŰS 2 LÁSZLÓ\n",
      "5095\tKis Róka Csaba\t16342\tKIS RÓKA Csaba\n",
      "648\tRácmolnár Sándor\t6399\tRácmolnáR Sándor\n",
      "2981\tHorváth Roland\t4122\tHORVÁTH ROLAND\n",
      "1653\tKlimó Károly\t11475\tKLIMÓ Károly\n",
      "1653\tKlimó Károly\t10128\tKLIMÓ KÁROLY\n",
      "611\tHaász István\t15866\thaász istván\n",
      "545\tLakner László\t14943\tLAKNER László\n",
      "5118\tRieder Gábor\t14829\tRIEDER Gábor\n",
      "5098\tSzinyova Gergő\t15870\tszinyova gergő\n",
      "5098\tSzinyova Gergő\t5121\tSzinyova GErgő\n",
      "3\tKupcsik Adrián\t9079\tKUPCSIK ADRIÁN\n",
      "1231\tJerger Krisztina\t11163\tJERGER Krisztina\n",
      "1231\tJerger Krisztina\t3093\tJerger krisztina\n",
      "9703\tSomosi Rita\t10692\tSOMOSI Rita\n",
      "2092\tBaksai József\t11541\tBAKSAI JÓZSEF\n",
      "1759\tBullás József\t17403\tBULLÁS József\n",
      "1759\tBullás József\t2262\tBullás józsef\n",
      "518\tJúlius Gyula\t17193\tJÚLIUS Gyula\n",
      "8436\tKeresztesi Botond\t13651\tKERESZTESI Botond\n",
      "6603\tBartha Máté\t7209\tBARTHA Máté\n",
      "3702\tMucius\t3771\tMUCIUS\n",
      "895\tElőd Ágnes\t15211\tELŐD Ágnes\n",
      "895\tElőd Ágnes\t2720\tElőd ágnes\n",
      "6678\tMayer Éva\t18698\tMAYER Éva\n",
      "6249\tSzalai Borbála\t12212\tSZALAI Borbála\n",
      "5135\tKarácsonyi László\t16257\tKARÁCSONYI László\n",
      "3017\tKelemen Károly\t14937\tKELEMEN Károly\n",
      "369\tErőss István\t8797\tERŐSS István\n",
      "265\tKőnig Frigyes\t8313\tKőnig frigyes\n",
      "2435\tBaranyai Levente\t15190\tBARANYAI Levente\n",
      "1224\tAknai Katalin\t16798\tAKNAI KATALIN\n",
      "12364\tKenéz Réka\t12210\tKENÉZ Réka\n",
      "3592\tMoizer Zsuzsa\t16631\tMOIZER Zsuzsa\n",
      "3592\tMoizer Zsuzsa\t11119\tMOIZER ZSUZSA\n",
      "2144\tAndreas Fogarasi\t9852\tAndreas FOGARASI\n",
      "920\tFajó János\t7059\tFAJÓ JÁNOS\n",
      "281\tKárolyi Zsigmond\t9870\tKárolyi zsigmond\n",
      "5738\tBenedek Barna\t8575\tBENEDEK BARNA\n",
      "7693\tKishonthy Zsolt\t692\tkishonthy zsolt\n",
      "152\tBarcsay Jenő\t9937\tBARCSAY JENŐ\n",
      "8440\tBrückner János\t10070\tBrückner jános\n",
      "7445\tVajda Lajos\t14961\tVAJDA Lajos\n",
      "7445\tVajda Lajos\t9940\tVAJDA LAJOS\n",
      "3929\tSipos Eszter\t11401\tSIPOS Eszter\n",
      "2205\tef Zámbó István\t2\tEf Zámbó István\n",
      "2205\tef Zámbó István\t14584\tEF Zámbó István\n",
      "2205\tef Zámbó István\t3762\tef ZÁMBÓ ISTVÁN\n",
      "14490\tBársony István\t16738\tBÁRSONY ISTVÁN\n",
      "12365\tSalamon Júlia\t12211\tSALAMON Júlia\n",
      "9996\tSzécsényi-Nagy Loránd\t10651\tSZÉCSÉNYI-NAGY Loránd\n",
      "5052\tTarr Hajnalka\t16349\tTARR Hajnalka\n",
      "4760\tAllan Siegel\t10503\tAllan SIEGEL\n",
      "3368\tSturcz János\t12850\tSTURCZ János\n",
      "3368\tSturcz János\t11160\tSTURCZ János\n",
      "3276\tLosonczy István\t3024\tLosonczy istván\n",
      "2587\tKondor Béla\t14940\tKONDOR Béla\n",
      "7660\tNemes Márton\t15869\tnemes márton\n",
      "7660\tNemes Márton\t14045\tNEMES MÁRTON\n",
      "5524\tSurányi Mihály\t13586\tSURÁNYI MIHÁLY\n",
      "5524\tSurányi Mihály\t13414\tSurányi MIhály\n",
      "5524\tSurányi Mihály\t7374\tSURÁNYI Mihály\n",
      "4480\tKorodi Luca\t17197\tKORODI Luca\n",
      "2418\tDeim Pál\t15205\tDEIM Pál\n",
      "2010\tBarakonyi Szabolcs\t10008\tBARAKONYI Szabolcs\n",
      "2010\tBarakonyi Szabolcs\t9427\tBARAKONYI SZABOLCS\n",
      "13482\tGyenes Zsolt\t10092\tGYENES ZSOLT\n",
      "8072\tPintér Gábor\t10882\tPINTÉR Gábor\n",
      "5934\tSzőke Gáspár\t11146\tSZŐKE GÁSPÁR\n",
      "3916\tFrançoise Gilot\t8046\tFrançoise GILOT\n",
      "1701\tNemere Réka\t3763\tNEMERE RÉKA\n",
      "1041\tZsemlye Ildikó\t5902\tZSEMLYE Ildikó\n",
      "1041\tZsemlye Ildikó\t3767\tZSEMLYE ILDIKÓ\n",
      "19\tBálint Endre\t15186\tBÁLINT Endre\n",
      "19\tBálint Endre\t9936\tBÁLINT ENDRE\n",
      "13348\tKoós Gábor\t16628\tKOÓS Gábor\n",
      "12858\tSzalipszki Judit\t16459\tSZALIPSZKI Judit\n",
      "7987\tPéter Ildikó\t7210\tPÉTER Ildikó\n",
      "6347\tRobitz Anikó\t15466\tROBITZ Anikó\n",
      "6061\tEsse Bánki Ákos\t16739\tESSE BÁNKI ÁKOS\n",
      "6036\tStenczer Sári\t9335\tSTENCZER Sári\n",
      "2970\tKotormán Norbert\t10266\tKOTORMÁN NORBERT\n",
      "2276\tSzarka Péter\t16348\tSZARKA Péter\n",
      "2276\tSzarka Péter\t8001\tSZARKA PÉTER\n",
      "638\tFarkas Roland\t9187\tFARKAS Roland\n",
      "587\tMattyasovszky Péter\t1645\tMAttyasovszky Péter\n",
      "493\tGábor Áron\t10850\tGÁBOR Áron\n",
      "13636\tDon Tamás\t12679\tDON Tamás\n",
      "8423\tLux Antal\t23813\tLUX Antal\n",
      "8102\tRechnitzer Zsófi\t9492\trechnitzer zsófi\n",
      "8102\tRechnitzer Zsófi\t9366\tRechnitzer zsófi\n",
      "6593\tFöldi Péter\t10607\tFÖLDI PÉTER\n",
      "5928\tCsáji Attila\t17185\tCSÁJI Attila\n",
      "4562\tL. Simon László\t23488\tL. SIMON László\n",
      "4376\tNavratil Judit\t14948\tNAVRATIL Judit\n",
      "2458\tSiegmund Ákos\t12208\tSIEGMUND Ákos\n",
      "880\tHalász Károly\t16797\tHALÁSZ KÁROLY\n",
      "613\tGémes Péter\t16092\tGÉMES PÉTER\n",
      "407\tUglár Csaba\t5895\tUGLÁR CSABA\n",
      "11596\tHardi Ágnes\t12668\tHARDI Ágnes\n",
      "4068\tReigl Judit\t16041\tREIGL Judit\n",
      "252\tTölg-Molnár Zoltán\t11551\tTÖLG-MOLNÁR ZOLTÁN\n",
      "23373\tKaszás Tamás\t16258\tKASZÁS Tamás\n",
      "11601\tTóth Balázs Máté\t12675\tTÓTH Balázs Máté\n",
      "9412\tLadik Katalin\t16343\tLADIK Katalin\n",
      "8485\tHantai Simon\t16027\tHANTAI Simon\n",
      "7324\tBorsos János\t17182\tBORSOS János\n",
      "6661\tAknai Katalin\t16798\tAKNAI KATALIN\n",
      "4650\tMayer Hella\t4919\tMAYER HELLA\n",
      "3928\tRizmayer Péter\t8091\tRIZMAYER PÉTER\n",
      "3928\tRizmayer Péter\t8053\tRIZMAYER Péter\n",
      "3640\tSzűcs Levente\t7176\tSZŰCS LEVENTE\n",
      "1713\tKoralevics Rita\t16259\tKORALEVICS Rita\n",
      "1223\tSzigethy Anna\t10652\tSZIGETHY Anna\n",
      "796\tNyári István\t14950\tNYÁRI István\n",
      "547\tMengyán András\t5750\tMENGYÁN ANDRÁS\n",
      "309\tBartha Sándor\t4620\tBARTHA Sándor\n",
      "197\tSzépfalvi Ágnes\t7818\tSZÉPFALVI ÁGNES\n",
      "10333\tDebreczeni Imre\t23242\tDEBRECZENI Imre\n",
      "5103\tSzabó Noémi\t14780\tSZABÓ Noémi\n",
      "5103\tSzabó Noémi\t6626\tSZABÓ Noémi\n",
      "5085\tDénes Ágnes Dóra\t9183\tDÉNES Ágnes Dóra\n",
      "4719\tKarafiáth Orsolya\t11402\tKARAFIÁTH Orsolya\n",
      "4719\tKarafiáth Orsolya\t5674\tkarafiáth orsolya\n",
      "3603\tVető János\t16351\tVETŐ János\n",
      "3119\tTóth Krisztina\t10303\tTÓTH Krisztina\n",
      "2625\tef Zámbó István\t2\tEf Zámbó István\n",
      "2625\tef Zámbó István\t14584\tEF Zámbó István\n",
      "2625\tef Zámbó István\t3762\tef ZÁMBÓ ISTVÁN\n",
      "1979\tSchmal Károly\t17427\tSCHMAL Károly\n",
      "251\tSzikora Tamás\t11550\tSZIKORA TAMÁS\n",
      "10160\tSolt András\t16644\tSOLT ANDRÁS\n",
      "8957\tSzombat Éva\t10883\tSZOMBAT Éva\n",
      "8254\tVidák Zsolt\t8800\tVidák zsolt\n",
      "5413\tAlexander Tinei\t4359\tAlexander TINEI\n",
      "5352\tSzentesi Csaba\t16322\tSZENTESI Csaba\n",
      "4664\tRévi Norbert\t6006\tRÉVI Norbert\n",
      "4622\tCHILF Mária\t18098\tChilf Mária\n",
      "4622\tCHILF Mária\t3764\tCHILF MÁRIA\n",
      "4412\tNémeth Gábor\t8554\tNÉMETH GÁBOR\n",
      "4302\tVarga Ferenc\t5245\tVarga ferenc\n",
      "4302\tVarga Ferenc\t14962\tVARGA Ferenc\n",
      "3019\tBodó Sándor\t5267\tBODÓ SÁNDOR\n",
      "2419\tHetey Katalin\t12861\tHETEY Katalin\n",
      "1389\tMinyó Szert Károly\t9608\tMINYÓ Szert Károly\n",
      "1131\tRácz Márta\t4618\tRÁCZ Márta\n",
      "378\tGellér B. István\t14326\tGELLÉR B. István\n",
      "272\tSzilágyi Teréz\t2408\tSZILÁGYI TERÉZ\n",
      "11746\tJuhász Tamás\t16639\tJUHÁSZ TAMÁS\n",
      "10912\tVinkler Zsuzsi\t11821\tVINKLER Zsuzsi\n",
      "10209\tJagicza Patrícia\t17484\tJAGICZA Patrícia\n",
      "9774\tBékési Ervin\t13659\tBÉKÉSI Ervin\n",
      "6606\tGáldi Vinkó Andrea\t11499\tGÁLDI VINKÓ ANDREA\n",
      "6549\tJahoda Réka\t13650\tJAHODA Réka\n",
      "6549\tJahoda Réka\t8100\tJAHODA RÉKA\n",
      "6366\tTilo Schulz\t16345\tTilo SCHULZ\n",
      "5998\tBakó Tamás\t9491\tbakó tamás\n",
      "4329\tKomlovszky-Szvet Tamás\t8464\tKOMLOVSZKY-SZVET Tamás\n",
      "4114\tVarga Tünde\t1405\tVARGA Tünde\n",
      "3965\tBoros Miklós János\t5353\tBOROS MIKLÓS JÁNOS\n",
      "3751\tSomogyi Laura\t14952\tSOMOGYI Laura\n"
     ]
    },
    {
     "name": "stdout",
     "output_type": "stream",
     "text": [
      "3679\tRabóczky Judit\t16632\tRABÓCZKY Judit\n",
      "2486\tRichter Sára\t5831\tRICHTER SÁRA\n",
      "2448\tGalbovy Attila\t5893\tGALBOVY ATTILA\n",
      "1461\tDániel András\t4624\tDÁNIEL András\n",
      "988\tNagy Gergely\t4633\tNAGY Gergely\n",
      "966\tDomián Gyula\t17187\tDOMIÁN Gyula\n",
      "13827\tZalavári András\t17429\tZALAVÁRI András\n",
      "12798\tErlich Gábor\t10644\tERLICH Gábor\n",
      "9161\tBoldi\t8202\tBOLDI\n",
      "5093\tBucsi Árpád\t5899\tBUCSI ÁRPÁD\n",
      "4025\tBarta Zsolt Péter\t9324\tBARTA Zsolt Péter\n",
      "4025\tBarta Zsolt Péter\t7267\tBarta ZSolt Péter\n",
      "3698\tElek Judit Katalin\t9184\tELEK Judit Katalin\n",
      "1783\tAndrási Gábor\t1718\tAndrási gábor\n",
      "1766\tHorváth Balázs\t12680\tHORVÁTH Balázs\n",
      "1139\tFilp Csaba\t14499\tFILP CSABA\n",
      "256\tBolcsó Bálint\t14561\tBOLCSÓ BÁLINT\n",
      "14083\tMolnár Dóra Eszter\t16641\tMOLNÁR DÓRA ESZTER\n",
      "11118\tSimon Zsuzsanna\t10650\tSIMON Zsuzsanna\n",
      "8871\tDragomán György\t16730\tDRAGOMÁN György\n",
      "6914\tBorsos Róbert\t14828\tBORSOS Róbert\n",
      "6665\tFenyvesi Áron\t16463\tFENYVESI Áron\n",
      "6665\tFenyvesi Áron\t8426\tFENYVESI Áron\n",
      "5989\tOroszy Csaba\t1629\tOROSZY Csaba\n",
      "3701\tVerebics Kati\t3773\tVEREBICS KATI\n",
      "3636\tKnyihár Amarilla\t3770\tKNYIHÁR AMARILLA\n",
      "2447\tFiczek Ferenc\t9643\tFICZEK FERENC\n",
      "2355\tSzabó Tamás\t5392\tSZABÓ Tamás\n",
      "1997\tKasza Gábor\t4362\tKASZA Gábor\n",
      "640\tJozef Cseres\t16366\tJozef CSERES\n",
      "18698\tMAYER Éva\t24247\tMayer Éva\n",
      "18698\tMAYER Éva\t23895\tMayer Éva\n",
      "18698\tMAYER Éva\t18690\tMayer Éva\n",
      "11599\tLeitner Levente\t12670\tLEITNER Levente\n",
      "10887\tZalavári József\t17430\tZALAVÁRI József\n",
      "9595\tHugyecsek Balázs\t8052\tHUGYECSEK Balázs\n",
      "9595\tHugyecsek Balázs\t8090\tHUGYECSEK BALÁZS\n",
      "8758\tHámori Anett\t14936\tHÁMORI Anett\n",
      "7937\tBuda Gábor\t10604\tBUDA Gábor\n",
      "6002\tSirály Dóri\t9679\tSirály dóri\n",
      "5034\tRieder Gábor\t14829\tRIEDER Gábor\n",
      "4119\tNagy Andrea\t5391\tNAGY ANDREA\n",
      "3872\tFerenczy Béni\t15216\tFERENCZY Béni\n",
      "3559\tKisspál Szabolcs\t12204\tKISSPÁL Szabolcs\n",
      "3559\tKisspál Szabolcs\t8269\tKIssPál Szabolcs\n",
      "1660\tMéhes László\t16035\tMÉHES László\n",
      "426\tfeLugossy László\t15748\tfelugossy László\n",
      "19584\tVarga Bertalan\t15467\tVARGA Bertalan\n",
      "13926\tBalázs Anna\t12677\tBALÁZS Anna\n",
      "9511\tFillér Máté\t12259\tFILLÉR Máté\n",
      "9150\tGyarmathy Tihamér\t3703\tGYARMATHY TIHAMÉR\n",
      "7350\tRechnitzer Zsófia\t8092\tRECHNITZER ZSÓFIA\n",
      "7323\tBlazsek András\t16363\tBLAZSEK András\n",
      "6303\tPodmaniczky Ágnes\t13653\tPODMANICZKY Ágnes\n",
      "4519\tVerebes György\t6007\tVEREBES György\n",
      "4294\tKecskeméti Sándor\t17411\tKECSKEMÉTI Sándor\n",
      "3428\tLugossy Mária\t6489\tLUGOSSY Mária\n",
      "2949\tEsterházy Péter\t14031\tESTERHÁZY Péter\n",
      "2586\tGulácsy Lajos\t14935\tGULÁCSY Lajos\n",
      "70\tNagy Tamás\t2398\tNAGY TAMÁS\n",
      "15977\tGyenes Zsolt\t10092\tGYENES ZSOLT\n",
      "12013\tLois Viktor\t8465\tLOIS Viktor\n",
      "9257\tNagy István\t14947\tNAGY István\n",
      "8429\tCzank Ninetta\t11061\tCZANK Ninetta\n",
      "8286\tNagy Benjámin\t16263\tNAGY Benjámin\n",
      "6795\tÉzsiás István\t8576\tÉZSIÁS ISTVÁN\n",
      "6795\tÉzsiás István\t6177\tÉZSIÁS István\n",
      "6704\tSara Berti\t11582\tSARA BERTI\n",
      "5420\tOrbán Gergely Kristóf\t12206\tORBÁN Gergely Kristóf\n",
      "5207\tMinyó Szert\t10106\tMINYÓ Szert\n",
      "5082\tBlaha Tamás\t5898\tBLAHA TAMÁS\n",
      "4703\tDóró Sándor\t12079\tDÓRÓ SÁNDOR\n",
      "4669\tBohus Zoltán\t6488\tBOHUS Zoltán\n",
      "4552\tHalász Péter\t4631\tHALÁSZ Péter\n",
      "3418\tZáborszky Gábor\t11552\tZÁBORSZKY GÁBOR\n",
      "2950\tSI-LA-GI\t15480\tSI-la-gi\n",
      "606\tKuchta Klára\t17198\tKUCHTA Klára\n",
      "521\tPócsy Ferenc\t8467\tPÓCSY Ferenc\n",
      "91\tFüredi Tamás\t4627\tFÜREDI Tamás\n",
      "91\tFüredi Tamás\t2760\tFÜREDI TAMÁS\n",
      "71\tTurányi Gábor\t2399\tTURÁNYI GÁBOR\n",
      "23754\tKokesch Ádám\t15867\tkokesch ádám\n",
      "18683\tEsse Bánki Ákos\t16739\tESSE BÁNKI ÁKOS\n",
      "17194\tKecskés Péter\t5279\tkecskés péter\n",
      "12367\tMénesi Luca\t12682\tMÉNESI Luca\n",
      "11995\tKusnyár Eveline\t17486\tKUSNYÁR Eveline\n",
      "11779\tHaász Kati\t17409\tHAÁSZ Kati\n",
      "10878\tMucius\t3771\tMUCIUS\n",
      "10571\tSzőke Péter\t12673\tSZŐKE Péter\n",
      "10571\tSzőke Péter\t11147\tSZŐKE PÉTER\n",
      "9524\tifj. Koffán Károly\t18229\tIfj. Koffán Károly\n",
      "9524\tifj. Koffán Károly\t23807\tIfj. Koffán Károly\n",
      "9524\tifj. Koffán Károly\t21584\tIfj. Koffán Károly\n",
      "9524\tifj. Koffán Károly\t15982\tifj. KOFFÁN Károly\n",
      "8825\tTenk László\t739\tTENK LÁSZLÓ\n",
      "8626\tBodnár László\t12075\tBODNÁR LÁSZLÓ\n",
      "7444\tCsontváry Kosztka Tivadar\t15203\tCSONTVÁRY KOSZTKA Tivadar\n",
      "7358\tSomhegyi Zoltán\t5277\tsomhegyi zoltán\n",
      "7118\tMladen Stilinoviæ\t6834\tMladen STILINOVIÆ\n",
      "6759\tPézman Andrea\t15991\tPÉZMAN Andrea\n",
      "5990\tSzántó István\t13655\tSZÁNTÓ István\n",
      "5990\tSzántó István\t11015\tSZÁNTÓ ISTVÁN\n",
      "5889\tErőss István\t8797\tERŐSS István\n",
      "5193\tSzabó Tamás\t5392\tSZABÓ Tamás\n",
      "4361\tHerman Levente\t3484\therman levente\n",
      "4312\tNémeth Gábor\t8554\tNÉMETH GÁBOR\n",
      "1760\tBucskó Mihály\t9181\tBUCSKÓ Mihály\n",
      "882\tAltorjai Sándor\t15185\tALTORJAI Sándor\n",
      "719\tOrbán Attila\t5963\tORBÁN ATTILA\n",
      "343\tFollárd Barbara\t11062\tFOLLÁRD Barbara\n",
      "96\tPáhi Péter\t2758\tPÁHI PÉTER\n",
      "24919\tNobuyoshi Araki\t2870\tNOBUYOSHI ARAKI\n",
      "22897\tBirkás Ákos\t15194\tBIRKÁS Ákos\n",
      "22733\tSandro Miller: Malkovich Malkovich Malkovich\t22396\tSandro Miller: MALKOVICH MALKOVICH MALKOVICH\n",
      "22733\tSandro Miller: Malkovich Malkovich Malkovich\t22341\tSandro Miller: MALKOVICH MALKOVICH MALKOVICH\n",
      "21676\tHorváth Dániel\t2406\tHORVÁTH DÁNIEL\n",
      "21233\tElekes Károly\t12080\tELEKES KÁROLY\n",
      "20107\tKismányoky Károly\t4244\tKISMÁNYOKY KÁROLY\n",
      "11459\tBLOCK Csoport\t15812\tBLOCK CSOPORT\n",
      "1448\tBLOCK Csoport\t15812\tBLOCK CSOPORT\n",
      "17200\tMengyán András\t5750\tMENGYÁN ANDRÁS\n",
      "16604\tKorponovics Roland\t15776\tKORPONOVICS ROLAND\n",
      "16471\tDavid Sutherland\t2917\tDavid SUTHERLAND\n",
      "15539\tÁcs Bálint\t12676\tÁCS Bálint\n",
      "14944\tMaurer Dóra\t9872\tMaurer dóra\n",
      "13921\tPelcz Benjámin\t13652\tPELCZ Benjámin\n",
      "13054\tfeLugossy László\t15748\tfelugossy László\n",
      "12790\tTasnádi Szandra\t12674\tTASNÁDI Szandra\n",
      "12721\tSomosi Rita\t10692\tSOMOSI Rita\n",
      "11714\tKabai Lóránt\t12502\tkabai lóránt\n",
      "11595\tBerkes Ádám Csanád\t12667\tBERKES Ádám Csanád\n",
      "11534\tPetrányi Zsolt\t16093\tPETRÁNYI ZSOLT\n",
      "10914\tForián Szabó Noémi\t13641\tForián szabó Noémi\n",
      "10845\tHopp-Halász Károly\t17192\tHOPP-HALÁSZ Károly\n",
      "9465\tHaász Kati\t17409\tHAÁSZ Kati\n",
      "8688\tMurányi Kristóf\t9421\tMurányi kristóf\n",
      "8121\tKores\t9302\tKORES\n",
      "6981\tHajdu István\t8751\tHAJDU István\n",
      "6981\tHajdu István\t5172\tHAJDU ISTVÁN\n",
      "5787\tZoltán Sándor\t15483\tZOLTÁN Sándor\n",
      "5623\tBölcskey Miklós\t8463\tBÖLCSKEY Miklós\n",
      "5418\tDeli Anett\t8101\tDELI ANETT\n",
      "4619\tRoskó Gábor\t13788\tROSKÓ GÁBOR\n",
      "3178\tBullás József\t17403\tBULLÁS József\n",
      "3178\tBullás József\t2262\tBullás józsef\n",
      "3064\tRékassy Eszter\t6430\tRÉKASSY Eszter\n",
      "2691\tBaditz Gyula\t16878\tBADITZ Gyula\n",
      "1065\tKováts Borbála\t5275\tkováts borbála\n",
      "1004\tBada Dada\t15476\tBADA Dada\n",
      "945\tPetrányi Zsolt\t16093\tPETRÁNYI ZSOLT\n",
      "822\tMari Mahr\t2916\tMari MAHR\n",
      "691\tBánki Ákos\t17385\tBánki ÁKos\n",
      "691\tBánki Ákos\t11474\tBÁNKI Ákos\n",
      "522\tRónai Péter\t17453\tRÓNAI PÉTER\n",
      "455\tThury Levente\t3775\tTHURY LEVENTE\n",
      "359\tFerenczi Róbert\t5896\tFERENCZI RÓBERT\n",
      "23760\tSzabó Dezső\t12443\tSzabó DEzső\n",
      "23744\tBerkes Ádám Csanád\t12667\tBERKES Ádám Csanád\n",
      "22739\tEl Kazovszkij\t15477\tEL Kazovszkij\n",
      "22396\tSandro Miller: MALKOVICH MALKOVICH MALKOVICH\t22551\tSandro Miller: Malkovich Malkovich Malkovich\n",
      "22341\tSandro Miller: MALKOVICH MALKOVICH MALKOVICH\t22551\tSandro Miller: Malkovich Malkovich Malkovich\n",
      "21610\tVerebes György\t6007\tVEREBES György\n",
      "20777\tdr. Hóvári János\t20156\tDr. Hóvári János\n",
      "20746\tIsabel Val\t22541\tIsabel VAL\n",
      "19930\tSzurcsik József\t3766\tSZURCSIK JÓZSEF\n",
      "18229\tIfj. Koffán Károly\t17801\tifj. Koffán Károly\n",
      "18229\tIfj. Koffán Károly\t15982\tifj. KOFFÁN Károly\n",
      "18053\tSzotyory László\t15481\tSZOTYORY László\n",
      "16991\tTóth Krisztina\t10303\tTÓTH Krisztina\n",
      "16866\tSzijártó Kálmán\t4245\tSZIJÁRTÓ KÁLMÁN\n",
      "16640\tKoós Gábor\t16628\tKOÓS Gábor\n",
      "16598\tKishonthy Zsolt\t692\tkishonthy zsolt\n",
      "16179\tPallag Zoltán\t15383\tPALLAG Zoltán\n",
      "15927\tEgry József\t15210\tEGRY József\n",
      "15478\tKicsiny Balázs\t4305\tKICSINY BALÁZS\n",
      "14778\tDr. Bordács Andrea\t17988\tdr. Bordács Andrea\n",
      "14335\tKokesch Ádám\t15867\tkokesch ádám\n",
      "14329\tHaász István\t15866\thaász istván\n",
      "14106\tMarko Tadic\t14384\tMARKO TADIC\n",
      "13203\tM. Novák András\t11548\tM. NOVÁK ANDRÁS\n",
      "13005\tPintér Gábor\t10882\tPINTÉR Gábor\n",
      "11781\tANTALACI\t24697\tantalaci\n",
      "11781\tANTALACI\t21778\tAntalaci\n",
      "11602\tTihanyi Lajos\t14956\tTIHANYI Lajos\n",
      "11055\tKacsó Fugecu\t17457\tkacsó fugecu\n",
      "10524\tVelazquez / Wetmore\t10501\tVELAZQUEZ / WETMORE\n",
      "10523\tStoll / Sugár\t10500\tSTOLL / SUGÁR\n",
      "10522\tRyu / Siegel\t10499\tRYU / SIEGEL\n",
      "10521\tOrmstad / Pourbaix\t10498\tORMSTAD / POURBAIX\n",
      "10519\tLeoni / Meszlényi\t10496\tLEONI / MESZLÉNYI\n",
      "10518\tKomoróczky / Lemeh42\t10495\tKOMORÓCZKY / LEMEH42\n",
      "10516\tHarenstam / Horejs\t10493\tHARENSTAM / HOREJS\n",
      "10515\tBrentjes / Gwiazda\t10492\tBRENTJES / GWIAZDA\n",
      "10514\tBardac / Beöthy\t10491\tBARDAC / BEÖTHY\n",
      "10513\tAnastasakos / Banfi\t10490\tANASTASAKOS / BANFI\n",
      "10512\tAlamshah / Amiran\t10489\tALAMSHAH / AMIRAN\n",
      "10475\tNathalie Koger\t10729\tNathalie KOGER\n",
      "23701\tEJTECH\t18459\tEjtech\n",
      "9773\tFekete László\t16256\tFEKETE László\n",
      "9290\tKepes György\t17195\tKEPES György\n",
      "9039\tSzőke Gábor Miklós\t11145\tSZŐKE GÁBOR MIKLÓS\n",
      "9039\tSzőke Gábor Miklós\t6949\tSZŐKE Gábor Miklós\n"
     ]
    },
    {
     "name": "stdout",
     "output_type": "stream",
     "text": [
      "8898\tIRWIN\t1543\tIrwin\n",
      "8545\tSomhegyi Zoltán\t5277\tsomhegyi zoltán\n",
      "8279\tSzikora Tamás\t11550\tSZIKORA TAMÁS\n",
      "8167\tTóth Árpád\t4117\tTÓTH ÁRPÁD\n",
      "8087\tSzert Lili\t10768\tSzert lili\n",
      "8014\tImpex\t5652\tIMPEX\n",
      "7883\tÖrkényi Antal\t15989\tÖRKÉNYI Antal\n",
      "7857\tPallag Zoltán\t15383\tPALLAG Zoltán\n",
      "7808\tDerkovits Gyula\t15206\tDERKOVITS Gyula\n",
      "7710\tJenei Barna Márton\t7688\tJENEI BARNA MÁRTON\n",
      "7647\tErőss István\t8797\tERŐSS István\n",
      "7509\tNémeth Melitta\t3768\tNÉMETH MELITTA\n",
      "7246\tPallag Zoltán\t15383\tPALLAG Zoltán\n",
      "7114\tParizán Mihály\t12672\tPARIZÁN Mihály\n",
      "6906\tSoós Károly\t14560\tSOÓS KÁROLY\n",
      "23676\tFlorentia Ikonomidou\t24028\tFlorentia IKONOMIDOU\n",
      "6740\tMunkácsy Mihály\t16037\tMUNKÁCSY Mihály\n",
      "6610\tKaulics Viola\t16320\tKAULICS Viola\n",
      "6592\tMészáros Zsófi\t6893\tMészáros zsófi\n",
      "6483\tRácmolnár Sándor\t6399\tRácmolnáR Sándor\n",
      "6450\tPiars Tomasz\t2409\tPIARS TOMASZ\n",
      "5419\tKiss Miklós\t16765\tKIss Miklós\n",
      "25266\tFlorentia Ikonomidou\t24028\tFlorentia IKONOMIDOU\n",
      "4801\tBartha Sándor\t4620\tBARTHA Sándor\n",
      "4757\tKacsó István\t3700\tkacsó István\n",
      "4615\tMécs Miklós\t5270\tMÉCS MIKLÓS\n",
      "4381\tfeLugossy László\t15748\tfelugossy László\n",
      "4211\tPetrányi Zsolt\t16093\tPETRÁNYI ZSOLT\n",
      "3421\tBarabás Miklós\t15189\tBARABÁS Miklós\n",
      "3071\tEl Kazovszkij\t15477\tEL Kazovszkij\n",
      "2624\tZsenia Bozukova\t2410\tZSENIA BOZUKOVA\n",
      "2405\tBánki Ákos\t17385\tBánki ÁKos\n",
      "2405\tBánki Ákos\t11474\tBÁNKI Ákos\n",
      "2132\tPetrányi Zsolt\t16093\tPETRÁNYI ZSOLT\n",
      "1993\tMaurer Dóra\t9872\tMaurer dóra\n",
      "1239\tAndrás Sándor\t17431\tANDRÁS Sándor\n",
      "1180\tBori Bálint\t10269\tBORI Bálint\n",
      "1180\tBori Bálint\t10174\tBORI BÁLINT\n",
      "324\tfeLugossy László\t15748\tfelugossy László\n",
      "290\tBozsogi Nóra\t9179\tBOZSOGI Nóra\n",
      "207\tfeLugossy László\t15748\tfelugossy László\n",
      "113\tNemes Judith\t17420\tNEMES Judith\n",
      "69\tFerencz István\t2397\tFERENCZ ISTVÁN\n",
      "45\tElőd Ágnes\t15211\tELŐD Ágnes\n",
      "45\tElőd Ágnes\t2720\tElőd ágnes\n",
      "35\tKisspál Szabolcs\t12204\tKISSPÁL Szabolcs\n",
      "35\tKisspál Szabolcs\t8269\tKIssPál Szabolcs\n",
      "24697\tantalaci\t21778\tAntalaci\n",
      "24329\tVető János\t16351\tVETŐ János\n",
      "24327\tAlexander Tinei\t4359\tAlexander TINEI\n",
      "24321\tMinyó Szert Károly\t9608\tMINYÓ Szert Károly\n",
      "24320\tMARJAI JUDIT\t4596\tMarjai Judit\n",
      "24319\tMaurer Dóra\t9872\tMaurer dóra\n",
      "24316\tKis Róka Csaba\t16342\tKIS RÓKA Csaba\n",
      "24309\tBraun András\t9180\tBRAUN András\n",
      "23911\tHajdu István\t8751\tHAJDU István\n",
      "23911\tHajdu István\t5172\tHAJDU ISTVÁN\n",
      "23567\tVarga Ferenc\t5245\tVarga ferenc\n",
      "23567\tVarga Ferenc\t14962\tVARGA Ferenc\n",
      "22534\tMurányi Kristóf\t9421\tMurányi kristóf\n",
      "22386\tW. Horváth Tibor\t23061\tw. Horváth Tibor\n",
      "21921\tBori Om\t15771\tBORI OM\n",
      "21228\tJosé Heerkens\t15461\tJosé HEERKENS\n",
      "20981\tBotka Ildikó\t11939\tbotka ildikó\n",
      "20791\tPézman Andrea\t15991\tPÉZMAN Andrea\n",
      "20790\tLux Antal\t23813\tLUX Antal\n",
      "20653\tBaJóTa\t23651\tBajóta\n",
      "20624\tReinhard Roy\t14341\tReinhard ROY\n",
      "20195\tRandomroutines\t17266\trandomroutines\n",
      "19857\tBánki Ákos\t17385\tBánki ÁKos\n",
      "19857\tBánki Ákos\t11474\tBÁNKI Ákos\n",
      "19823\tDejan Sluga\t10012\tDEJAN SLUGA\n",
      "19823\tDejan Sluga\t8316\tDejan SLUGA\n",
      "19454\tTóth Krisztina\t10303\tTÓTH Krisztina\n",
      "18759\tSzirmay Zsanett\t15995\tSZIRMAY Zsanett\n",
      "18365\tKernács Gabriella\t17506\tKERNÁCS GABRIELLA\n",
      "17801\tifj. Koffán Károly\t23807\tIfj. Koffán Károly\n",
      "17801\tifj. Koffán Károly\t21584\tIfj. Koffán Károly\n",
      "17801\tifj. Koffán Károly\t15982\tifj. KOFFÁN Károly\n",
      "17212\tFarkas István\t15213\tFARKAS István\n",
      "16747\tTóth EGO(n) István\t12767\tTóth Ego(n) István\n",
      "16403\tifj. Kurtág György\t19468\tIfj. Kurtág György\n",
      "16341\tHorváth Tibor\t2756\tHORVÁTH TIBOR\n",
      "16341\tHorváth Tibor\t1373\tHorváth tibor\n",
      "16276\tBlock-csoport\t3438\tBLOCK-CSOPORT\n",
      "15987\tLux Antal\t23813\tLUX Antal\n",
      "15985\tKováts Borbála\t5275\tkováts borbála\n",
      "15868\tMaurer Dóra\t9872\tMaurer dóra\n",
      "15861\tErőss István\t8797\tERŐSS István\n",
      "15453\tBenedek Barna\t8575\tBENEDEK BARNA\n",
      "15228\tRadu Comşa\t19331\tRadu ComŞa\n",
      "15212\tFajó János\t7059\tFAJÓ JÁNOS\n",
      "15015\tEsteban de la Torre\t10946\tEsteban De LA Torre\n",
      "14928\tBarcsay Jenő\t9937\tBARCSAY JENŐ\n",
      "14734\tGerardo Nolasco Magaña\t16369\tGerardo NOLASCO MAGAÑA\n",
      "14516\tVera Nimova\t16643\tVERA NIMOVA\n",
      "14413\tGábor Márton Dániel\t15976\tGÁBOR Márton Dániel\n",
      "14296\tDr. Szeifert Judit\t23552\tdr. Szeifert Judit\n",
      "14081\tDarvas Angéla\t12678\tDARVAS Angéla\n",
      "14034\tBaJóTa\t23651\tBajóta\n",
      "14028\tVécsei Júlia\t14963\tVÉCSEI Júlia\n",
      "13959\tKoronczi Endre\t1372\tkoronczi Endre\n",
      "13898\tRoskó Gábor\t13788\tROSKÓ GÁBOR\n",
      "13829\tMednyánszky László\t14945\tMEDNYÁNSZKY László\n",
      "13628\tRYBN.org\t13631\tRYBN.ORG\n",
      "12531\tHorányi Attila\t22092\tHORÁNYI Attila\n",
      "12477\tRéthey-Prikkel Tamás\t16633\tRÉTHEY-PRIKKEL Tamás\n",
      "12470\tBársony István\t16738\tBÁRSONY ISTVÁN\n",
      "12456\tHorányi Attila\t22092\tHORÁNYI Attila\n",
      "12442\tDr. Hoffmann Tamás\t9840\tdr. Hoffmann Tamás\n",
      "12408\tForián Szabó Noémi\t13641\tForián szabó Noémi\n",
      "20021\tIgor és Ivan Buharov\t12663\tIgor és ivan Buharov\n",
      "12256\tBrückner János\t10070\tBrückner jános\n",
      "7560\tIgor és Ivan Buharov\t12663\tIgor és ivan Buharov\n",
      "12205\tKoronczi Endre\t1372\tkoronczi Endre\n",
      "20553\tIgor és Ivan Buharov\t12663\tIgor és ivan Buharov\n",
      "11934\tBaksai József\t11541\tBAKSAI JÓZSEF\n",
      "11876\tAdam Bota\t5318\tAdam BOTA\n",
      "11798\tKicsiny Balázs\t4305\tKICSINY BALÁZS\n",
      "6815\tIgor és Ivan Buharov\t12663\tIgor és ivan Buharov\n",
      "11598\tKiss Rita\t12669\tKISS Rita\n",
      "11354\tKőnig Frigyes\t8313\tKőnig frigyes\n",
      "11325\tRieder Gábor\t14829\tRIEDER Gábor\n",
      "10906\tZvolszky Zita\t15484\tZVOLSZKY Zita\n",
      "10835\tHelga Philipp\t12863\tHelga PHILIPP\n",
      "14103\tIgor és Ivan Buharov\t12663\tIgor és ivan Buharov\n",
      "10509\tfeLugossy László\t15748\tfelugossy László\n",
      "10312\tfeLugossy László\t15748\tfelugossy László\n",
      "9903\tKótun Viktor\t16321\tKÓTUN Viktor\n",
      "9466\tHalász Károly\t16797\tHALÁSZ KÁROLY\n",
      "9255\tCsók István\t15202\tCSÓK István\n",
      "9193\tHorváth Roland\t4122\tHORVÁTH ROLAND\n",
      "8901\tTimm Ulrichs\t17428\tTimm ULRICHS\n",
      "8765\tVárhelyi Csilla\t13992\tVárhelyi csilla\n",
      "8663\tDr. Baán László\t18122\tdr. Baán László\n",
      "8606\tSomhegyi Zoltán\t5277\tsomhegyi zoltán\n",
      "8446\tKőnig Frigyes\t8313\tKőnig frigyes\n",
      "8168\tHajdu István\t8751\tHAJDU István\n",
      "8168\tHajdu István\t5172\tHAJDU ISTVÁN\n",
      "8052\tHUGYECSEK Balázs\t8090\tHUGYECSEK BALÁZS\n",
      "7807\tAba-Novák Vilmos\t15183\tABA-NOVÁK Vilmos\n",
      "7739\tAggtelek (SP)\t7856\tAGGTELEK (SP)\n",
      "7716\tRechnitzer Zsófi\t9492\trechnitzer zsófi\n",
      "7716\tRechnitzer Zsófi\t9366\tRechnitzer zsófi\n",
      "7715\tBánki Ákos\t17385\tBánki ÁKos\n",
      "7715\tBánki Ákos\t11474\tBÁNKI Ákos\n",
      "7575\tSturcz János\t12850\tSTURCZ János\n",
      "7575\tSturcz János\t11160\tSTURCZ János\n",
      "7368\tSulyok Gabriella\t6990\tSULYOK Gabriella\n",
      "7367\tSturcz János\t12850\tSTURCZ János\n",
      "7367\tSturcz János\t11160\tSTURCZ János\n",
      "7039\tMenyhárt Menyus Tamás\t9244\tMenyhárt menyus Tamás\n",
      "6820\tKepes György\t17195\tKEPES György\n",
      "6441\tHegedűs 2 László\t6431\tHEGEDŰS 2 LÁSZLÓ\n",
      "6087\tef Zámbó István\t2\tEf Zámbó István\n",
      "6087\tef Zámbó István\t14584\tEF Zámbó István\n",
      "6087\tef Zámbó István\t3762\tef ZÁMBÓ ISTVÁN\n",
      "5799\tThanos Chrysakis\t16365\tThanos CHRYSAKIS\n",
      "5464\tTeodor Graur\t14455\tTeodor GRAUR\n",
      "19172\tKert csoport\t14693\tKert Csoport\n",
      "5276\tNyakas Ilona\t17130\tNyakas ILona\n",
      "5245\tVarga ferenc\t14962\tVARGA Ferenc\n",
      "5245\tVarga ferenc\t6384\tVarga Ferenc\n",
      "5163\tJosef Albers\t6435\tJOSEF ALBERS\n",
      "4912\tIvan Ladislav Galeta\t14825\tIVAN LADISLAV GALETA\n",
      "4628\tGalbovy Attila\t5893\tGALBOVY ATTILA\n",
      "3989\tSzabó Norbert\t2407\tSZABÓ NORBERT\n",
      "3854\tVetlényi Zsolt\t7067\tVETLÉNYI Zsolt\n",
      "3797\thans w. koch\t8725\tHans W. Koch\n",
      "3699\tRandomroutines\t17266\trandomroutines\n",
      "3693\tFarkas István\t15213\tFARKAS István\n",
      "3683\tJan Danebod\t11471\tJan DANEBOD\n",
      "3451\tKlie Zoltán\t16031\tKLIE Zoltán\n",
      "3410\tTony Cragg\t14322\tTony CRAGG\n",
      "3373\tNyakas Ilona\t17130\tNyakas ILona\n",
      "3370\tDieter Jung\t14333\tDieter JUNG\n",
      "3329\tKisspál Szabolcs\t12204\tKISSPÁL Szabolcs\n",
      "3329\tKisspál Szabolcs\t8269\tKIssPál Szabolcs\n",
      "3128\tGia Edzgveradze\t17522\tGia EDZGVERADZE\n",
      "3049\tCsászár Péter\t1374\tCsászár péter\n",
      "2891\tHajdu István\t8751\tHAJDU István\n",
      "2891\tHajdu István\t5172\tHAJDU ISTVÁN\n",
      "2609\tKisspál Szabolcs\t12204\tKISSPÁL Szabolcs\n",
      "2609\tKisspál Szabolcs\t8269\tKIssPál Szabolcs\n",
      "2008\tSlaven Tolj\t16391\tSlaven TOLJ\n",
      "1980\tSchmal Károly\t17427\tSCHMAL Károly\n",
      "1737\tKoronczi Endre\t1372\tkoronczi Endre\n",
      "975\tKupcsik\t14942\tKUPCSIK\n",
      "775\tKerekes\t4632\tKEREKES\n",
      "571\tHelényi Tibor\t1451\tHELÉNYI Tibor\n",
      "176\tFarkas Zsolt\t10622\tFARKAS Zsolt\n",
      "40\tTölg-Molnár Zoltán\t11551\tTÖLG-MOLNÁR ZOLTÁN\n",
      "2\tEf Zámbó István\t22900\tef Zámbó István\n",
      "2\tEf Zámbó István\t18581\tef Zámbó István\n",
      "2\tEf Zámbó István\t14584\tEF Zámbó István\n",
      "2\tEf Zámbó István\t3762\tef ZÁMBÓ ISTVÁN\n",
      "25305\tSzurcsik József\t3766\tSZURCSIK JÓZSEF\n",
      "25158\tRita Ernst\t14324\tRita ERNST\n",
      "25024\tBori Om\t15771\tBORI OM\n",
      "25014\tSzotyory László\t15481\tSZOTYORY László\n",
      "2009\tMaja és Reuben Fowkes\t6841\tMaja és Reuben FOWKES\n",
      "24963\tBraun Vera\t16025\tBRAUN Vera\n",
      "24862\tEJTECH\t18459\tEjtech\n",
      "24857\tHartmut Böhm\t9468\tHartmut BÖHM\n",
      "24817\tGeorgi Dimitrov\t15456\tGeorgi DIMITROV\n",
      "24785\tKincses Károly\t10111\tKINCSES KÁROLY\n",
      "24775\tSzotyory László\t15481\tSZOTYORY László\n"
     ]
    },
    {
     "name": "stdout",
     "output_type": "stream",
     "text": [
      "24770\tMagyarósi Éva\t16630\tMAGYARÓSI Éva\n",
      "24760\tNagy Gábor György\t898\tnagy Gábor György\n",
      "24672\tDr. Feledy Balázs\t23443\tdr. Feledy Balázs\n",
      "24672\tDr. Feledy Balázs\t22737\tdr. Feledy Balázs\n",
      "24649\tKoronczi Endre\t1372\tkoronczi Endre\n",
      "24549\tKőnig Frigyes\t8313\tKőnig frigyes\n",
      "24535\tUglár Csaba\t5895\tUGLÁR CSABA\n",
      "24475\tLux Antal\t23813\tLUX Antal\n",
      "12387\tNemmivoltunk Crew\t23929\tnemmivoltunk crew\n",
      "12387\tNemmivoltunk Crew\t23927\tnemmivoltunk crew\n",
      "12387\tNemmivoltunk Crew\t18985\tNemMiVoltunk Crew\n",
      "23929\tnemmivoltunk crew\t18985\tNemMiVoltunk Crew\n",
      "23927\tnemmivoltunk crew\t18985\tNemMiVoltunk Crew\n",
      "24108\tRabóczky Judit\t16632\tRABÓCZKY Judit\n",
      "24107\tElőd Ágnes\t15211\tELŐD Ágnes\n",
      "24107\tElőd Ágnes\t2720\tElőd ágnes\n",
      "24100\tHegedűs 2 László\t6431\tHEGEDŰS 2 LÁSZLÓ\n",
      "24015\tGeorgi Dimitrov\t15456\tGeorgi DIMITROV\n",
      "23964\tZagar\t13792\tZAGAR\n",
      "23962\tJermakov Katalin\t5733\tJERMAKOV Katalin\n",
      "23891\tDick Roberts\t18693\tDick ROBERTS\n",
      "23890\tRichter Sára\t5831\tRICHTER SÁRA\n",
      "23819\tNagy Gábor György\t898\tnagy Gábor György\n",
      "23813\tLUX Antal\t21589\tLux Antal\n",
      "23807\tIfj. Koffán Károly\t15982\tifj. KOFFÁN Károly\n",
      "23798\tGellér B. István\t14326\tGELLÉR B. István\n",
      "23783\tBolcsó Bálint\t14561\tBOLCSÓ BÁLINT\n",
      "23698\tFöldi Péter\t10607\tFÖLDI PÉTER\n",
      "23691\tFöldi Péter\t10607\tFÖLDI PÉTER\n",
      "23689\tKecskés Péter\t5279\tkecskés péter\n",
      "23595\tKarácsonyi László\t16257\tKARÁCSONYI László\n",
      "23590\tBada Dada\t15476\tBADA Dada\n",
      "23589\tAltorjai Sándor\t15185\tALTORJAI Sándor\n",
      "23540\tBarakonyi Szabolcs\t10008\tBARAKONYI Szabolcs\n",
      "23540\tBarakonyi Szabolcs\t9427\tBARAKONYI SZABOLCS\n",
      "23522\tStane Jagodic\t10110\tSTANE JAGODIC\n",
      "23488\tL. SIMON László\t1763\tL. Simon László\n",
      "23446\tSzabó Tamás\t5392\tSZABÓ Tamás\n",
      "23443\tdr. Feledy Balázs\t22208\tDr. Feledy Balázs\n",
      "23443\tdr. Feledy Balázs\t22154\tDr. Feledy Balázs\n",
      "23443\tdr. Feledy Balázs\t14284\tDr. Feledy Balázs\n",
      "23443\tdr. Feledy Balázs\t8051\tDr. Feledy Balázs\n",
      "23425\tSomogyi Laura\t14952\tSOMOGYI Laura\n",
      "23398\tHorváth Dániel\t2406\tHORVÁTH DÁNIEL\n",
      "23300\tZalavári József\t17430\tZALAVÁRI József\n",
      "23158\tVoid\t12597\tvoid\n",
      "23086\tMátrai Erik\t17199\tMÁTRAI Erik\n",
      "23066\tUitz Béla\t14959\tUITZ Béla\n",
      "22952\tMar Vicente\t12868\tMar VICENTE\n",
      "22907\tMéhes László\t16035\tMÉHES László\n",
      "22906\tLakner László\t14943\tLAKNER László\n",
      "22904\tKepes György\t17195\tKEPES György\n",
      "22903\tKárolyi Zsigmond\t9870\tKárolyi zsigmond\n",
      "22900\tef Zámbó István\t14584\tEF Zámbó István\n",
      "22900\tef Zámbó István\t3762\tef ZÁMBÓ ISTVÁN\n",
      "22899\tDeim Pál\t15205\tDEIM Pál\n",
      "22779\tPetrányi Zsolt\t16093\tPETRÁNYI ZSOLT\n",
      "22737\tdr. Feledy Balázs\t22208\tDr. Feledy Balázs\n",
      "22737\tdr. Feledy Balázs\t22154\tDr. Feledy Balázs\n",
      "22737\tdr. Feledy Balázs\t14284\tDr. Feledy Balázs\n",
      "22737\tdr. Feledy Balázs\t8051\tDr. Feledy Balázs\n",
      "22701\tKnyihár Amarilla\t3770\tKNYIHÁR AMARILLA\n",
      "22682\tSzigethy Anna\t10652\tSZIGETHY Anna\n",
      "19050\tpr csoport\t15259\tPR csoport\n",
      "19050\tpr csoport\t24853\tPR csoport\n",
      "19050\tpr csoport\t15546\tPR Csoport\n",
      "15259\tPR csoport\t15546\tPR Csoport\n",
      "22640\tVerebes György\t6007\tVEREBES György\n",
      "22632\tBullás József\t17403\tBULLÁS József\n",
      "22632\tBullás József\t2262\tBullás józsef\n",
      "22598\tGAZSI RAP SHOW\t10025\tGazsi Rap Show\n",
      "22583\tKárolyi Zsigmond\t9870\tKárolyi zsigmond\n",
      "24853\tPR csoport\t15546\tPR Csoport\n",
      "22435\tHelga Weihs\t14346\tHelga WEIHS\n",
      "22434\tVera Röhm\t14342\tVera RÖHM\n",
      "22222\tBullás József\t17403\tBULLÁS József\n",
      "22222\tBullás József\t2262\tBullás józsef\n",
      "22170\tNemere Réka\t3763\tNEMERE RÉKA\n",
      "22125\tSzántó István\t13655\tSZÁNTÓ István\n",
      "22125\tSzántó István\t11015\tSZÁNTÓ ISTVÁN\n",
      "22092\tHORÁNYI Attila\t19837\tHorányi Attila\n",
      "22091\tKicsiny Balázs\t4305\tKICSINY BALÁZS\n",
      "22063\tHajdu István\t8751\tHAJDU István\n",
      "22063\tHajdu István\t5172\tHAJDU ISTVÁN\n",
      "22053\tErőss István\t8797\tERŐSS István\n",
      "9172\tRandomroutines\t17266\trandomroutines\n",
      "21645\tJurij Albert\t17521\tJurij ALBERT\n",
      "21584\tIfj. Koffán Károly\t15982\tifj. KOFFÁN Károly\n",
      "21500\tKishonthy Zsolt\t692\tkishonthy zsolt\n",
      "21294\tTrafik Kör\t21176\tTRAFIK KÖR\n",
      "21243\tRónai Péter\t17453\tRÓNAI PÉTER\n",
      "21170\tHerman Levente\t3484\therman levente\n",
      "21128\tLilith Öröksége\t13701\tLilith öröksége\n",
      "20906\tAndrási Gábor\t1718\tAndrási gábor\n",
      "20838\tMolnár Dóra Eszter\t16641\tMOLNÁR DÓRA ESZTER\n",
      "20771\tRoskó Gábor\t13788\tROSKÓ GÁBOR\n",
      "20661\tKicsiny Balázs\t4305\tKICSINY BALÁZS\n",
      "20587\tDóró Sándor\t12079\tDÓRÓ SÁNDOR\n",
      "20579\tPéter Ildikó\t7210\tPÉTER Ildikó\n",
      "20507\tRéthey-Prikkel Tamás\t16633\tRÉTHEY-PRIKKEL Tamás\n",
      "20324\tRónai Péter\t17453\tRÓNAI PÉTER\n",
      "20318\tAndreas Fogarasi\t9852\tAndreas FOGARASI\n",
      "10084\tSzövetség\t14558\tSZÖVETSÉG\n",
      "20265\tSzurcsik József\t3766\tSZURCSIK JÓZSEF\n",
      "20215\tMátrai Erik\t17199\tMÁTRAI Erik\n",
      "20100\tKőnig Frigyes\t8313\tKőnig frigyes\n",
      "20075\tSzőke Gábor Miklós\t11145\tSZŐKE GÁBOR MIKLÓS\n",
      "20075\tSzőke Gábor Miklós\t6949\tSZŐKE Gábor Miklós\n",
      "20059\tJosef Nadj\t5772\tJOSEF NADJ\n",
      "20037\tKicsiny Balázs\t4305\tKICSINY BALÁZS\n",
      "20028\tKőnig Frigyes\t8313\tKőnig frigyes\n",
      "19924\tM. Novák András\t11548\tM. NOVÁK ANDRÁS\n",
      "19914\tBaksai József\t11541\tBAKSAI JÓZSEF\n",
      "19903\tKaska\t16180\tKASKA\n",
      "19776\tVécsei Júlia\t14963\tVÉCSEI Júlia\n",
      "19774\tKaszás Tamás\t16258\tKASZÁS Tamás\n",
      "19660\tMécs Miklós\t5270\tMÉCS MIKLÓS\n",
      "19595\tStein Anna\t16042\tSTEIN Anna\n",
      "19592\tKilár István\t16030\tKILÁR István\n",
      "19467\tErőss István\t8797\tERŐSS István\n",
      "19390\tNagy Gergely\t4633\tNAGY Gergely\n",
      "19341\tBetuker István\t13232\tBETUKER István\n",
      "19261\tKeresztesi Botond\t13651\tKERESZTESI Botond\n",
      "19259\tBrückner János\t10070\tBrückner jános\n",
      "19057\tErőss István\t8797\tERŐSS István\n",
      "18891\tLadik Katalin\t16343\tLADIK Katalin\n",
      "18812\tUglár Csaba\t5895\tUGLÁR CSABA\n",
      "18804\tGáldi Vinkó Andrea\t11499\tGÁLDI VINKÓ ANDREA\n",
      "18723\tSzécsényi-Nagy Loránd\t10651\tSZÉCSÉNYI-NAGY Loránd\n",
      "18691\tPézman Andrea\t15991\tPÉZMAN Andrea\n",
      "18581\tef Zámbó István\t14584\tEF Zámbó István\n",
      "18581\tef Zámbó István\t3762\tef ZÁMBÓ ISTVÁN\n",
      "5283\tUnited Gods\t5281\tunited gods\n",
      "18468\tMécs Miklós\t5270\tMÉCS MIKLÓS\n",
      "18377\tFenyvesi Áron\t16463\tFENYVESI Áron\n",
      "18377\tFenyvesi Áron\t8426\tFENYVESI Áron\n",
      "18371\tJe Suis Belle\t5134\tJe suis belle\n",
      "18116\tGyenes Zsolt\t10092\tGYENES ZSOLT\n",
      "18105\tKisspál Szabolcs\t12204\tKISSPÁL Szabolcs\n",
      "18105\tKisspál Szabolcs\t8269\tKIssPál Szabolcs\n",
      "18098\tChilf Mária\t3764\tCHILF MÁRIA\n",
      "17986\tZsadányi Hajnalka\t15779\tZSADÁNYI HAJNALKA\n",
      "17976\tGránicz Tamás\t6761\tGRÁNICZ Tamás\n",
      "17834\tSoós Károly\t14560\tSOÓS KÁROLY\n",
      "17788\tMusica Moralia\t10880\tMUSICA MORALIA\n",
      "17658\tGémes Péter\t16092\tGÉMES PÉTER\n",
      "17538\tBaranyai Levente\t15190\tBARANYAI Levente\n",
      "17506\tKERNÁCS GABRIELLA\t12350\tKernács Gabriella\n",
      "17485\tBÁRDOSI Katinka\t12992\tBárdosi Katinka\n",
      "17414\tJosef LINSCHINGER\t5535\tJosef Linschinger\n",
      "17403\tBULLÁS József\t2262\tBullás józsef\n",
      "17385\tBánki ÁKos\t11474\tBÁNKI Ákos\n",
      "17333\tNémeth Balázs Kristóf\t15988\tNÉMETH Balázs Kristóf\n",
      "17206\tVICSEK Viktor\t9072\tVicsek Viktor\n",
      "17185\tCSÁJI Attila\t3833\tCsáji Attila\n",
      "17183\tBORTNYIK Éva\t16972\tBortnyik Éva\n",
      "17162\tSzabó Dezső\t12443\tSzabó DEzső\n",
      "16980\tJerger Krisztina\t11163\tJERGER Krisztina\n",
      "16980\tJerger Krisztina\t3093\tJerger krisztina\n",
      "16878\tBADITZ Gyula\t5903\tBaditz Gyula\n",
      "16869\tTörök-Illyés Orsolya\t13791\tTÖRÖK-ILLYÉS ORSOLYA\n",
      "16854\tKisspál Szabolcs\t12204\tKISSPÁL Szabolcs\n",
      "16854\tKisspál Szabolcs\t8269\tKIssPál Szabolcs\n",
      "16837\tMartyn Ferenc\t16034\tMARTYN Ferenc\n",
      "16832\tBetuker István\t13232\tBETUKER István\n",
      "16771\tHorváth Roland\t4122\tHORVÁTH ROLAND\n",
      "16653\tTurányi Gábor\t2399\tTURÁNYI GÁBOR\n",
      "16631\tMOIZER Zsuzsa\t11119\tMOIZER ZSUZSA\n",
      "16630\tMAGYARÓSI Éva\t8899\tMagyarósi Éva\n",
      "16630\tMAGYARÓSI Éva\t8807\tMagyarósi Éva\n",
      "16622\tSaskia Noor van IMHOFF\t16462\tSaskia NOOR VAN IMHOFF\n",
      "16463\tFENYVESI Áron\t8555\tFenyvesi Áron\n",
      "16447\tJay Tan\t14706\tJay TAN\n",
      "16428\tNemere Réka\t3763\tNEMERE RÉKA\n",
      "16426\tDr. Habil\t13914\tdr. habil\n",
      "16374\tChristian KOBI\t12879\tChristian Kobi\n",
      "16348\tSZARKA Péter\t8001\tSZARKA PÉTER\n",
      "16262\tMASCHER Róbert\t9164\tMascher Róbert\n",
      "16257\tKARÁCSONYI László\t13087\tKarácsonyi László\n",
      "16190\tKisspál Szabolcs\t12204\tKISSPÁL Szabolcs\n",
      "16190\tKisspál Szabolcs\t8269\tKIssPál Szabolcs\n",
      "16040\tPÁN Márta\t6993\tPán Márta\n",
      "15975\tDETVAY Jenő Eugéne\t12441\tDetvay Jenő Eugéne\n",
      "15870\tszinyova gergő\t5121\tSzinyova GErgő\n",
      "15869\tnemes márton\t14045\tNEMES MÁRTON\n",
      "15864\tDr. MECSI Beatrix\t8361\tDr. Mecsi Beatrix\n",
      "15775\tKÁROLY ESZTER\t15541\tKároly Eszter\n",
      "15775\tKÁROLY ESZTER\t12681\tKÁROLY Eszter\n",
      "15748\tfelugossy László\t7245\tfeLugossy László\n",
      "15625\tVarga Krisztina\t12683\tVARGA Krisztina\n",
      "15541\tKároly Eszter\t12681\tKÁROLY Eszter\n",
      "15519\tCzigány Dezső\t15200\tCZIGÁNY Dezső\n",
      "15477\tEL Kazovszkij\t13199\tEl Kazovszkij\n",
      "15457\tEGLE Anita\t6127\tEgle Anita\n",
      "15454\tAnna-Maria BOGNER\t5348\tANNA-MARIA BOGNER\n",
      "15282\tNagy Gergely\t4633\tNAGY Gergely\n",
      "15211\tELŐD Ágnes\t12405\tElőd Ágnes\n",
      "15211\tELŐD Ágnes\t2720\tElőd ágnes\n",
      "15197\tBORTNYIK Sándor\t13103\tBortnyik Sándor\n",
      "15196\tBORSOS József\t14410\tBorsos József\n",
      "15194\tBIRKÁS Ákos\t3834\tBirkás Ákos\n",
      "15192\tBENCZÚR Gyula\t3422\tBenczúr Gyula\n",
      "15186\tBÁLINT Endre\t9936\tBÁLINT ENDRE\n"
     ]
    },
    {
     "name": "stdout",
     "output_type": "stream",
     "text": [
      "15153\tTimár Katalin PhD\t15111\tTimár Katalin Phd\n",
      "14962\tVARGA Ferenc\t6384\tVarga Ferenc\n",
      "14961\tVAJDA Lajos\t9940\tVAJDA LAJOS\n",
      "14847\tMindenki\t12018\tmindenki\n",
      "14829\tRIEDER Gábor\t11177\tRieder Gábor\n",
      "14813\tBernáth/y Sándor\t9447\tBERNÁTH/Y SÁNDOR\n",
      "14780\tSZABÓ Noémi\t11411\tSzabó Noémi\n",
      "14780\tSZABÓ Noémi\t6828\tSzabó Noémi\n",
      "14599\tAnahita Razmi\t9231\tAnahita RAZMI\n",
      "14584\tEF Zámbó István\t3762\tef ZÁMBÓ ISTVÁN\n",
      "14557\tSZAMOSI JUDIT\t11769\tSzamosi Judit\n",
      "14470\tRadu BELCIN\t12424\tRadu Belcin\n",
      "14469\tFrancisc CHIUARIU\t12423\tFrancisc Chiuariu\n",
      "14344\tSZENDERFFY Gábor\t11717\tSzenderffy Gábor\n",
      "14257\tNikmond Beáta\t5791\tNIKMOND BEÁTA\n",
      "14214\tFRanciaország magyarországi nagykövete\t13585\tFranciaország Magyarországi Nagykövete\n",
      "14213\tŐexcellenciája Roland Galharague\t13584\tŐEXCELLENCIÁJA ROLAND GALHARAGUE\n",
      "13992\tVárhelyi csilla\t9158\tVárhelyi Csilla\n",
      "13973\tNessim Galéria\t11453\tNESSIM Galéria\n",
      "13894\tMEMBRANDT\t12714\tMembrandt\n",
      "13795\tDJ GANDHARVA\t7820\tDj Gandharva\n",
      "13736\tHorváth Roland\t4122\tHORVÁTH ROLAND\n",
      "13673\tSwoboda Katharina\t11866\tSWOBODA Katharina\n",
      "13655\tSZÁNTÓ István\t11015\tSZÁNTÓ ISTVÁN\n",
      "13650\tJAHODA Réka\t8100\tJAHODA RÉKA\n",
      "13586\tSURÁNYI MIHÁLY\t13414\tSurányi MIhály\n",
      "13586\tSURÁNYI MIHÁLY\t7374\tSURÁNYI Mihály\n",
      "13544\tBada Dada Tibor\t9490\tbada dada tibor\n",
      "13516\tErőss István\t8797\tERŐSS István\n",
      "13414\tSurányi MIhály\t7374\tSURÁNYI Mihály\n",
      "13389\tANTIK SÁNDOR\t3104\tAntik Sándor\n",
      "12850\tSTURCZ János\t5258\tSturcz János\n",
      "12802\tOrbán György\t4617\tORBÁN György\n",
      "12673\tSZŐKE Péter\t11147\tSZŐKE PÉTER\n",
      "12662\tHolly STREEKSTRA\t10812\tHolly Streekstra\n",
      "12592\tMiss KK\t11089\tMISS KK\n",
      "12587\tDiktátor\t11135\tDIKTÁTOR\n",
      "12549\tVladimir Us\t8210\tVladimir US\n",
      "12405\tElőd Ágnes\t2720\tElőd ágnes\n",
      "12375\tGYőRFFY László\t1368\tGyőrffy lászló\n",
      "12351\tGyenes Zsolt\t10092\tGYENES ZSOLT\n",
      "12339\tDavid Èerný\t5268\tDAVID ÈERNÝ\n",
      "12288\tHajdu István\t8751\tHAJDU István\n",
      "12288\tHajdu István\t5172\tHAJDU ISTVÁN\n",
      "12258\tEsin TURAN\t11455\tEsin Turan\n",
      "12212\tSZALAI Borbála\t10817\tSzalai Borbála\n",
      "12204\tKISSPÁL Szabolcs\t8269\tKIssPál Szabolcs\n",
      "12204\tKISSPÁL Szabolcs\t3107\tKisspál Szabolcs\n",
      "12077\tCSUTI ZSÓFIA\t10976\tCsuti Zsófia\n",
      "12062\tAj Vej-vej\t12061\tAj Vej-Vej\n",
      "11941\tSzabó Róbert Csaba\t11940\tszabó róbert csaba\n",
      "11922\tBartl József\t11542\tBARTL JÓZSEF\n",
      "11864\tFILLER MATE\t8711\tFiller Mate\n",
      "11822\tSPENGLER Katalin  műgyűjtő\t8826\tSpengler Katalin  műgyűjtő\n",
      "11767\tJobbágy Bernadett\t2764\tJOBBÁGY BERNADETT\n",
      "11699\tNagy Tamás\t2398\tNAGY TAMÁS\n",
      "11550\tSZIKORA TAMÁS\t1463\tSzikora Tamás\n",
      "11542\tBARTL JÓZSEF\t2836\tBartl József\n",
      "11475\tKLIMÓ Károly\t10128\tKLIMÓ KÁROLY\n",
      "11431\tHorváth Tibor\t2756\tHORVÁTH TIBOR\n",
      "11431\tHorváth Tibor\t1373\tHorváth tibor\n",
      "11411\tSzabó Noémi\t6626\tSZABÓ Noémi\n",
      "11402\tKARAFIÁTH Orsolya\t5674\tkarafiáth orsolya\n",
      "11163\tJERGER Krisztina\t3093\tJerger krisztina\n",
      "11160\tSTURCZ János\t5258\tSturcz János\n",
      "11145\tSZŐKE GÁBOR MIKLÓS\t6949\tSZŐKE Gábor Miklós\n",
      "11114\tPelesek Dóra\t11026\tPELESEK Dóra\n",
      "11099\tErőss István\t8797\tERŐSS István\n",
      "11026\tPELESEK Dóra\t10684\tPelesek Dóra\n",
      "10921\tDr. Hornyik Sándor\t10423\tdr. Hornyik Sándor\n",
      "10913\tK.Kabai Lóránt\t7692\tk.kabai lóránt\n",
      "10881\tAlex SCHIKOWSKI\t6545\tAlex Schikowski\n",
      "10776\t3T (NSZK csoport)\t9408\t3T (NSZK Csoport)\n",
      "10730\tPeter FRITZENWALLNER\t10476\tPeter Fritzenwallner\n",
      "10728\tLeonardo HAID\t10474\tLeonardo Haid\n",
      "10725\tDavid KELLNER\t10473\tDavid Kellner\n",
      "10543\tJan Van Oordt (CH)\t10468\tJan van Oordt (CH)\n",
      "10506\tVÁRNAGY Tibor\t5224\tVÁRNAGY TIBOR\n",
      "10460\tKőrösi Zoltán\t9325\tKŐRÖSI Zoltán\n",
      "10287\tMichaël Borremans\t10260\tMICHAËL BORREMANS\n",
      "10269\tBORI Bálint\t10174\tBORI BÁLINT\n",
      "10093\tKecskés Péter\t5279\tkecskés péter\n",
      "10012\tDEJAN SLUGA\t8316\tDejan SLUGA\n",
      "10008\tBARAKONYI Szabolcs\t9427\tBARAKONYI SZABOLCS\n",
      "9870\tKárolyi zsigmond\t8541\tKárolyi Zsigmond\n",
      "9789\tKortárs magyar ek\t4179\tkortárs magyar ek\n",
      "9753\tArt Camp\t2154\tART CAMP\n",
      "9631\tKishonthy Zsolt\t692\tkishonthy zsolt\n",
      "9498\tIllés Árpád\t6632\tILLÉS Árpád\n",
      "9492\trechnitzer zsófi\t9366\tRechnitzer zsófi\n",
      "9420\tLobot\t8687\tLOBOT\n",
      "9389\tDr. Salvatore Ettorre - a budapesti olasz kulturális intézet igazgatója\t9311\tDr. Salvatore Ettorre - a Budapesti olasz kulturális intézet igazgatója\n",
      "9379\tMichael ELMGREEN és Ingar DRAGSET\t8581\tMichael Elmgreen és Ingar Dragset\n",
      "9325\tKŐRÖSI Zoltán\t8033\tKőrösi Zoltán\n",
      "9325\tKŐRÖSI Zoltán\t4873\tKőrösi Zoltán\n",
      "9324\tBARTA Zsolt Péter\t7267\tBarta ZSolt Péter\n",
      "8797\tERŐSS István\t5613\tErőss István\n",
      "8751\tHAJDU István\t7375\tHajdu István\n",
      "8751\tHAJDU István\t5172\tHAJDU ISTVÁN\n",
      "8751\tHAJDU István\t2089\tHajdu István\n",
      "8576\tÉZSIÁS ISTVÁN\t6177\tÉZSIÁS István\n",
      "8555\tFenyvesi Áron\t8426\tFENYVESI Áron\n",
      "8479\tKerekes Elek\t6582\tKEREKES Elek\n",
      "8466\tPACSIKA Rudolf\t4470\tPacsika Rudolf\n",
      "8466\tPACSIKA Rudolf\t3300\tPacsika Rudolf\n",
      "8313\tKőnig frigyes\t3959\tKőnig Frigyes\n",
      "8304\tGránicz Tamás\t6761\tGRÁNICZ Tamás\n",
      "8269\tKIssPál Szabolcs\t3107\tKisspál Szabolcs\n",
      "8173\tKoMa társulat\t6655\tKoMa Társulat\n",
      "8091\tRIZMAYER PÉTER\t8053\tRIZMAYER Péter\n",
      "7893\tMéhes Lóránt (ZUZU)\t5708\tMéhes Lóránt (Zuzu)\n",
      "7876\tX-Y\t1800\tx-y\n",
      "7850\tIvo Precek\t7372\tIvo PRECEK\n",
      "7836\tRotterdam\t4946\tROTTERDAM\n",
      "7818\tSZÉPFALVI ÁGNES\t6825\tSzépfalvi Ágnes\n",
      "7669\tkiállítások\t1532\tKiállítások\n",
      "7375\tHajdu István\t5172\tHAJDU ISTVÁN\n",
      "7300\tHelena HOLMBERG\t3815\tHelena Holmberg\n",
      "7242\tFinnország magyarországi nagykövete\t5683\tFinnország Magyarországi Nagykövete\n",
      "7137\tURBÁN Katalin\t6662\tUrbán Katalin\n",
      "6933\tGyurics Balázs\t6625\tGYURICS Balázs\n",
      "6839\tZofia KULIK\t1927\tZofia Kulik\n",
      "6831\tMiklós ERHARDT\t4434\tMiklós Erhardt\n",
      "6828\tSzabó Noémi\t6626\tSZABÓ Noémi\n",
      "6822\tMoreno PINCAS\t6808\tMORENO Pincas\n",
      "6818\tMécs Miklós\t5270\tMÉCS MIKLÓS\n",
      "6622\tGálig zoltán\t3304\tGálig Zoltán\n",
      "6600\tNahte Vető János\t6591\tNahTe Vető János\n",
      "6518\tpályázók\t5217\tPályázók\n",
      "6292\tBaksa Nándor\t3776\tBAKSA NÁNDOR\n",
      "6198\tAz Országos Széchényi Könyvtár főigazgatója\t163\taz Országos Széchényi Könyvtár főigazgatója\n",
      "5949\tAlexandra de LAZAREFF\t5938\tALEXANDRA de LAZAREFF\n",
      "5902\tZSEMLYE Ildikó\t3767\tZSEMLYE ILDIKÓ\n",
      "5897\tSZÁNTÓ DÁNIEL\t3025\tSzántó Dániel\n",
      "5664\tZsenia Bozukova\t2410\tZSENIA BOZUKOVA\n",
      "5282\tRovar 17\t5280\trovar 17\n",
      "5172\tHAJDU ISTVÁN\t2089\tHajdu István\n",
      "4866\tTenk László\t739\tTENK LÁSZLÓ\n",
      "4857\tMedence Csoport\t335\tMedence csoport\n",
      "4627\tFÜREDI Tamás\t2760\tFÜREDI TAMÁS\n",
      "4602\ta Magyar Képzőművészeti Egyetem végzős hallgatói\t4488\tA Magyar Képzőművészeti Egyetem végzős hallgatói\n",
      "4597\tVerebics Kati\t3773\tVEREBICS KATI\n",
      "4531\ta trencséni M. A. Bazovský Galéria igazgatója\t3823\ta trencséni M. A. Bazovský galéria igazgatója\n",
      "3164\tPrieger Zsolt (Anima Sound System)\t2018\tPrieger Zsolt (Anima Sound system)\n",
      "3057\tICA-kru\t2754\tica-kru\n",
      "2909\tSylvain BARBIER\t1679\tSylvain Barbier\n",
      "2843\tElőadások\t2283\telőadások\n",
      "2761\tHEGYI BÉLA\t92\tHegyi Béla\n",
      "2756\tHORVÁTH TIBOR\t1373\tHorváth tibor\n",
      "2597\tKONRAD KUZYSZYN\t1923\tKonrad Kuzyszyn\n",
      "2236\tDr.Beke László\t550\tdr.Beke László\n",
      "1871\tHints Institute\t1835\tHINTS Institute\n",
      "1734\tFaa\t32\tFAA\n",
      "1312\tToni Franovic\t1284\tToni FRANOVIC\n",
      "940\telőadás\t939\tElőadás\n",
      "277\takció\t227\tAkció\n"
     ]
    }
   ],
   "source": [
    "with open('./data/uppercase_map.csv', mode='w', encoding='utf=8') as file:\n",
    "    file.write('id'+'\\t'+'name'+'\\t'+'idmatch'+'\\t'+'namematch'+'\\n')\n",
    "    \n",
    "    for i in range(len(all_names)):\n",
    "        Aidx, Aname = all_names[i]\n",
    "        if not type(Aname) is str:\n",
    "            continue\n",
    "        for j in range(i+1, len(all_names)):\n",
    "            Bidx, Bname = all_names[j]\n",
    "            if not type(Bname) is str:\n",
    "                continue\n",
    "            if Aname!=Bname and Aname.title() == Bname.title():\n",
    "                line = \"{}\\t{}\\t{}\\t{}\".format(Aidx, Aname, Bidx, Bname)\n",
    "                print(line)\n",
    "                file.write(line+'\\n')"
   ]
  },
  {
   "cell_type": "code",
   "execution_count": 133,
   "metadata": {},
   "outputs": [
    {
     "data": {
      "text/html": [
       "<div>\n",
       "<style scoped>\n",
       "    .dataframe tbody tr th:only-of-type {\n",
       "        vertical-align: middle;\n",
       "    }\n",
       "\n",
       "    .dataframe tbody tr th {\n",
       "        vertical-align: top;\n",
       "    }\n",
       "\n",
       "    .dataframe thead th {\n",
       "        text-align: right;\n",
       "    }\n",
       "</style>\n",
       "<table border=\"1\" class=\"dataframe\">\n",
       "  <thead>\n",
       "    <tr style=\"text-align: right;\">\n",
       "      <th></th>\n",
       "      <th>name</th>\n",
       "      <th>idmatch</th>\n",
       "      <th>namematch</th>\n",
       "    </tr>\n",
       "    <tr>\n",
       "      <th>id</th>\n",
       "      <th></th>\n",
       "      <th></th>\n",
       "      <th></th>\n",
       "    </tr>\n",
       "  </thead>\n",
       "  <tbody>\n",
       "    <tr>\n",
       "      <th>301</th>\n",
       "      <td>Koronczi Endre</td>\n",
       "      <td>1372</td>\n",
       "      <td>koronczi Endre</td>\n",
       "    </tr>\n",
       "    <tr>\n",
       "      <th>546</th>\n",
       "      <td>Maurer Dóra</td>\n",
       "      <td>9872</td>\n",
       "      <td>Maurer dóra</td>\n",
       "    </tr>\n",
       "    <tr>\n",
       "      <th>168</th>\n",
       "      <td>Petrányi Zsolt</td>\n",
       "      <td>16093</td>\n",
       "      <td>PETRÁNYI ZSOLT</td>\n",
       "    </tr>\n",
       "    <tr>\n",
       "      <th>2876</th>\n",
       "      <td>Verebes György</td>\n",
       "      <td>6007</td>\n",
       "      <td>VEREBES György</td>\n",
       "    </tr>\n",
       "    <tr>\n",
       "      <th>5122</th>\n",
       "      <td>Fenyvesi Áron</td>\n",
       "      <td>16463</td>\n",
       "      <td>FENYVESI Áron</td>\n",
       "    </tr>\n",
       "    <tr>\n",
       "      <th>...</th>\n",
       "      <td>...</td>\n",
       "      <td>...</td>\n",
       "      <td>...</td>\n",
       "    </tr>\n",
       "    <tr>\n",
       "      <th>1871</th>\n",
       "      <td>Hints Institute</td>\n",
       "      <td>1835</td>\n",
       "      <td>HINTS Institute</td>\n",
       "    </tr>\n",
       "    <tr>\n",
       "      <th>1734</th>\n",
       "      <td>Faa</td>\n",
       "      <td>32</td>\n",
       "      <td>FAA</td>\n",
       "    </tr>\n",
       "    <tr>\n",
       "      <th>1312</th>\n",
       "      <td>Toni Franovic</td>\n",
       "      <td>1284</td>\n",
       "      <td>Toni FRANOVIC</td>\n",
       "    </tr>\n",
       "    <tr>\n",
       "      <th>940</th>\n",
       "      <td>előadás</td>\n",
       "      <td>939</td>\n",
       "      <td>Előadás</td>\n",
       "    </tr>\n",
       "    <tr>\n",
       "      <th>277</th>\n",
       "      <td>akció</td>\n",
       "      <td>227</td>\n",
       "      <td>Akció</td>\n",
       "    </tr>\n",
       "  </tbody>\n",
       "</table>\n",
       "<p>983 rows × 3 columns</p>\n",
       "</div>"
      ],
      "text/plain": [
       "                 name  idmatch        namematch\n",
       "id                                             \n",
       "301    Koronczi Endre     1372   koronczi Endre\n",
       "546       Maurer Dóra     9872      Maurer dóra\n",
       "168    Petrányi Zsolt    16093   PETRÁNYI ZSOLT\n",
       "2876   Verebes György     6007   VEREBES György\n",
       "5122    Fenyvesi Áron    16463    FENYVESI Áron\n",
       "...               ...      ...              ...\n",
       "1871  Hints Institute     1835  HINTS Institute\n",
       "1734              Faa       32              FAA\n",
       "1312    Toni Franovic     1284    Toni FRANOVIC\n",
       "940           előadás      939          Előadás\n",
       "277             akció      227            Akció\n",
       "\n",
       "[983 rows x 3 columns]"
      ]
     },
     "metadata": {},
     "output_type": "display_data"
    },
    {
     "name": "stdout",
     "output_type": "stream",
     "text": [
      "koronczi Endre => Koronczi Endre\n",
      "Maurer dóra => Maurer Dóra\n",
      "PETRÁNYI ZSOLT => Petrányi Zsolt\n",
      "VEREBES György => Verebes György\n",
      "FENYVESI Áron => Fenyvesi Áron\n",
      "FENYVESI Áron => Fenyvesi Áron\n",
      "Bánki ÁKos => Bánki Ákos\n",
      "BÁNKI Ákos => Bánki Ákos\n",
      "GYőRFFY László => Győrffy László\n",
      "Győrffy lászló => Győrffy László\n",
      "kecskés péter => Kecskés Péter\n",
      "KASZÁS Tamás => Kaszás Tamás\n",
      "felugossy László => feLugossy László\n",
      "SZURCSIK JÓZSEF => Szurcsik József\n",
      "SZABÓ Noémi => Szabó Noémi\n",
      "SZABÓ Noémi => Szabó Noémi\n",
      "kokesch ádám => Kokesch Ádám\n",
      "ELEKES KÁROLY => Elekes Károly\n",
      "BIRKÁS Ákos => Birkás Ákos\n",
      "HORVÁTH TIBOR => Horváth Tibor\n",
      "Horváth tibor => Horváth Tibor\n",
      "VEREBICS ÁGNES => Verebics Ágnes\n",
      "MÉCS MIKLÓS => Mécs Miklós\n",
      "PACSIKA Rudolf => Pacsika Rudolf\n",
      "herman levente => Herman Levente\n",
      "KINCSES KÁROLY => Kincses Károly\n",
      "ROSKÓ GÁBOR => Roskó Gábor\n",
      "HORVÁTH DÁNIEL => Horváth Dániel\n",
      "KISSPÁL Szabolcs => Kisspál Szabolcs\n",
      "KIssPál Szabolcs => Kisspál Szabolcs\n",
      "VÁRNAGY Tibor => Várnagy Tibor\n",
      "VÁRNAGY TIBOR => Várnagy Tibor\n",
      "Szabó DEzső => Szabó Dezső\n",
      "MAGYARÓSI Éva => Magyarósi Éva\n",
      "CSÁKI László => Csáki László\n",
      "SZÖRÉNYI Beatrix => Szörényi Beatrix\n",
      "EL Kazovszkij => El Kazovszkij\n",
      "MÁTRAI Erik => Mátrai Erik\n",
      "VÉCSEI Júlia => Vécsei Júlia\n",
      "BATYKÓ Róbert => Batykó Róbert\n",
      "KICSINY BALÁZS => Kicsiny Balázs\n",
      "STURCZ János => Sturcz János\n",
      "STURCZ János => Sturcz János\n",
      "SZILÁGYI RUDOLF => Szilágyi Rudolf\n",
      "JOVÁNOVICS GYÖRGY => Jovánovics György\n",
      "CHILF Mária => Chilf Mária\n",
      "CHILF MÁRIA => Chilf Mária\n",
      "SZOTYORY László => Szotyory László\n",
      "nagy Gábor György => Nagy Gábor György\n",
      "Nyakas ILona => Nyakas Ilona\n",
      "ORBÁN György => Orbán György\n",
      "BRAUN András => Braun András\n",
      "HORÁNYI Attila => Horányi Attila\n",
      "Andrási gábor => Andrási Gábor\n",
      "HEGEDŰS 2 LÁSZLÓ => Hegedűs 2 László\n",
      "KIS RÓKA Csaba => Kis Róka Csaba\n",
      "RácmolnáR Sándor => Rácmolnár Sándor\n",
      "HORVÁTH ROLAND => Horváth Roland\n",
      "KLIMÓ Károly => Klimó Károly\n",
      "KLIMÓ KÁROLY => Klimó Károly\n",
      "haász istván => Haász István\n",
      "LAKNER László => Lakner László\n",
      "RIEDER Gábor => Rieder Gábor\n",
      "szinyova gergő => Szinyova Gergő\n",
      "Szinyova GErgő => Szinyova Gergő\n",
      "KUPCSIK ADRIÁN => Kupcsik Adrián\n",
      "JERGER Krisztina => Jerger Krisztina\n",
      "Jerger krisztina => Jerger Krisztina\n",
      "SOMOSI Rita => Somosi Rita\n",
      "BAKSAI JÓZSEF => Baksai József\n",
      "BULLÁS József => Bullás József\n",
      "Bullás józsef => Bullás József\n",
      "JÚLIUS Gyula => Július Gyula\n",
      "KERESZTESI Botond => Keresztesi Botond\n",
      "BARTHA Máté => Bartha Máté\n",
      "MUCIUS => Mucius\n",
      "ELŐD Ágnes => Előd Ágnes\n",
      "Előd ágnes => Előd Ágnes\n",
      "MAYER Éva => Mayer Éva\n",
      "SZALAI Borbála => Szalai Borbála\n",
      "KARÁCSONYI László => Karácsonyi László\n",
      "KELEMEN Károly => Kelemen Károly\n",
      "ERŐSS István => Erőss István\n",
      "Kőnig frigyes => Kőnig Frigyes\n",
      "BARANYAI Levente => Baranyai Levente\n",
      "AKNAI KATALIN => Aknai Katalin\n",
      "KENÉZ Réka => Kenéz Réka\n",
      "MOIZER Zsuzsa => Moizer Zsuzsa\n",
      "MOIZER ZSUZSA => Moizer Zsuzsa\n",
      "Andreas FOGARASI => Andreas Fogarasi\n",
      "FAJÓ JÁNOS => Fajó János\n",
      "Károlyi zsigmond => Károlyi Zsigmond\n",
      "BENEDEK BARNA => Benedek Barna\n",
      "kishonthy zsolt => Kishonthy Zsolt\n",
      "BARCSAY JENŐ => Barcsay Jenő\n",
      "Brückner jános => Brückner János\n",
      "VAJDA Lajos => Vajda Lajos\n",
      "VAJDA LAJOS => Vajda Lajos\n",
      "SIPOS Eszter => Sipos Eszter\n",
      "Ef Zámbó István => ef Zámbó István\n",
      "EF Zámbó István => ef Zámbó István\n",
      "ef ZÁMBÓ ISTVÁN => ef Zámbó István\n",
      "BÁRSONY ISTVÁN => Bársony István\n",
      "SALAMON Júlia => Salamon Júlia\n",
      "SZÉCSÉNYI-NAGY Loránd => Szécsényi-Nagy Loránd\n",
      "TARR Hajnalka => Tarr Hajnalka\n",
      "Allan SIEGEL => Allan Siegel\n"
     ]
    },
    {
     "ename": "AssertionError",
     "evalue": "",
     "output_type": "error",
     "traceback": [
      "\u001b[1;31m---------------------------------------------------------------------------\u001b[0m",
      "\u001b[1;31mAssertionError\u001b[0m                            Traceback (most recent call last)",
      "\u001b[1;32m<ipython-input-133-3430e86fcb64>\u001b[0m in \u001b[0;36m<module>\u001b[1;34m\u001b[0m\n\u001b[0;32m      4\u001b[0m \u001b[1;32mfor\u001b[0m \u001b[0midx\u001b[0m\u001b[1;33m,\u001b[0m \u001b[0mrow\u001b[0m \u001b[1;32min\u001b[0m \u001b[0mcasefixed\u001b[0m\u001b[1;33m.\u001b[0m\u001b[0miterrows\u001b[0m\u001b[1;33m(\u001b[0m\u001b[1;33m)\u001b[0m\u001b[1;33m:\u001b[0m\u001b[1;33m\u001b[0m\u001b[1;33m\u001b[0m\u001b[0m\n\u001b[0;32m      5\u001b[0m     \u001b[0muppercaseid\u001b[0m \u001b[1;33m=\u001b[0m \u001b[0mrow\u001b[0m\u001b[1;33m[\u001b[0m\u001b[1;34m'idmatch'\u001b[0m\u001b[1;33m]\u001b[0m\u001b[1;33m\u001b[0m\u001b[1;33m\u001b[0m\u001b[0m\n\u001b[1;32m----> 6\u001b[1;33m     \u001b[1;32massert\u001b[0m \u001b[0mdf\u001b[0m\u001b[1;33m.\u001b[0m\u001b[0mloc\u001b[0m\u001b[1;33m[\u001b[0m\u001b[0muppercaseid\u001b[0m\u001b[1;33m,\u001b[0m \u001b[1;34m'clean name'\u001b[0m\u001b[1;33m]\u001b[0m \u001b[1;33m==\u001b[0m \u001b[0mrow\u001b[0m\u001b[1;33m[\u001b[0m\u001b[1;34m'namematch'\u001b[0m\u001b[1;33m]\u001b[0m\u001b[1;33m\u001b[0m\u001b[1;33m\u001b[0m\u001b[0m\n\u001b[0m\u001b[0;32m      7\u001b[0m     \u001b[0mprint\u001b[0m\u001b[1;33m(\u001b[0m\u001b[0mdf\u001b[0m\u001b[1;33m.\u001b[0m\u001b[0mloc\u001b[0m\u001b[1;33m[\u001b[0m\u001b[0muppercaseid\u001b[0m\u001b[1;33m,\u001b[0m \u001b[1;34m'clean name'\u001b[0m\u001b[1;33m]\u001b[0m\u001b[1;33m,\u001b[0m \u001b[1;34m\"=>\"\u001b[0m\u001b[1;33m,\u001b[0m \u001b[0mrow\u001b[0m\u001b[1;33m[\u001b[0m\u001b[1;34m'name'\u001b[0m\u001b[1;33m]\u001b[0m\u001b[1;33m)\u001b[0m\u001b[1;33m\u001b[0m\u001b[1;33m\u001b[0m\u001b[0m\n\u001b[0;32m      8\u001b[0m     \u001b[0mdf\u001b[0m\u001b[1;33m.\u001b[0m\u001b[0mloc\u001b[0m\u001b[1;33m[\u001b[0m\u001b[0muppercaseid\u001b[0m\u001b[1;33m,\u001b[0m \u001b[1;34m'clean name'\u001b[0m\u001b[1;33m]\u001b[0m \u001b[1;33m=\u001b[0m \u001b[0mrow\u001b[0m\u001b[1;33m[\u001b[0m\u001b[1;34m'name'\u001b[0m\u001b[1;33m]\u001b[0m\u001b[1;33m\u001b[0m\u001b[1;33m\u001b[0m\u001b[0m\n",
      "\u001b[1;31mAssertionError\u001b[0m: "
     ]
    }
   ],
   "source": [
    "# apply uppercas map\n",
    "casefixed = pd.read_csv('./data/uppercase_map.csv', sep='\\t', index_col='id')\n",
    "display(casefixed)\n",
    "for idx, row in casefixed.iterrows():\n",
    "    uppercaseid = row['idmatch']\n",
    "    assert df.loc[uppercaseid, 'clean name'] == row['namematch']\n",
    "    print(df.loc[uppercaseid, 'clean name'], \"=>\", row['name'])\n",
    "    df.loc[uppercaseid, 'clean name'] = row['name']\n"
   ]
  },
  {
   "cell_type": "code",
   "execution_count": 134,
   "metadata": {},
   "outputs": [],
   "source": [
    "df2.to_excel('./data/artist_list_manual_cleaningmap2_fuzzy_and_uppercase_match.xlsx')"
   ]
  },
  {
   "cell_type": "markdown",
   "metadata": {},
   "source": [
    "# Check names in different order"
   ]
  },
  {
   "cell_type": "code",
   "execution_count": 166,
   "metadata": {},
   "outputs": [],
   "source": [
    "df3 = pd.read_excel('./data/artist_list_manual_cleaningmap2_fuzzy_and_uppercase_match.xlsx', index_col='id')\n",
    "all_names = [(df3.index[i], df3.iloc[i]['clean name']) for i in range(len(df3))]"
   ]
  },
  {
   "cell_type": "code",
   "execution_count": 172,
   "metadata": {},
   "outputs": [
    {
     "name": "stdout",
     "output_type": "stream",
     "text": [
      "344\tGyőrffy László\t22609\tLászló Győrffy\n",
      "10526\tNémet Szilvi\t13960\tSzilvi Német\n",
      "1676\tCsurka Eszter\t16753\tCsurka   Eszter\n",
      "377\tPeternák Miklós\t10894\tMiklós Peternák\n",
      "242\tKomoróczky Tamás\t14360\tTamás Komoróczky\n",
      "255\tPacsika Rudolf\t14368\tRudolf Pacsika\n",
      "7648\tBorsos Lőrinc\t16850\tLőrinc Borsos\n",
      "342\tEsterházy Marcell\t13958\tMarcell Esterházy\n",
      "2461\tErhardt Miklós\t4434\tMiklós Erhardt\n",
      "2382\tCsáki László\t14369\tLászló Csáki\n",
      "958\tSzegedy-Maszák Zoltán\t11392\tSzegedy-Maszák Zoltán Szegedy-Maszák Zoltán\n",
      "2290\tNagy Árpád Pika\t2291\tPika Nagy Árpád\n",
      "2290\tNagy Árpád Pika\t23968\tPika Nagy Árpád\n",
      "545\tLakner László\t6208\tLászló Lakner\n",
      "8839\tKaposi Dorka\t15309\tDorka Kaposi\n",
      "12722\tMolnár Judit Lilla\t12095\tMolnár Judit Lilla  Molnár\n",
      "346\tKristóf Krisztián\t16855\tKrisztián Kristóf\n",
      "2144\tAndreas Fogarasi\t20938\tFogarasi Andreas\n",
      "5089\tKim Corbisier\t8755\tCorbisier Kim\n",
      "11081\tNádas Alexandra\t12805\tAlexandra Nádas\n",
      "2010\tBarakonyi Szabolcs\t8275\tBarakonyi  Szabolcs\n",
      "1109\tŐsz Gábor\t16858\tGábor Ősz\n",
      "1659\tKeserü Ilona\t3133\tIlona Keserü Ilona\n",
      "10536\tPatrick Urwyler\t14402\tUrwyler Patrick\n",
      "4562\tL. Simon László\t8482\tSimon L. László\n",
      "3503\tDuliskovich Bazil\t10284\tBazil Duliskovich\n",
      "641\tJuhász R. József\t2343\tJózsef R. Juhász\n",
      "9945\tSzigeti Gábor Csongor\t15895\tSzigeti Csongor Gábor\n",
      "4165\tfranyo aatoth\t17656\taatoth franyo\n",
      "4165\tfranyo aatoth\t7341\taatoth franyo\n",
      "16222\tBajusz Orsolya\t5234\tOrsolya Bajusz\n",
      "10551\tSzékely Katalin\t22095\tKatalin Székely\n",
      "8485\tHantai Simon\t24683\tSimon Hantai\n",
      "8224\tRabóczky Judit Rita\t11540\tRabóczky Judit  Rita\n",
      "4975\tFukui Yusuke\t8040\tYusuke Fukui\n",
      "996\tSzemerey Samu\t18850\tSamu Szemerey\n",
      "4318\tKatharina Roters\t19829\tRoters Katharina\n",
      "4318\tKatharina Roters\t8113\tRoters Katharina\n",
      "3719\tTillmann J. A.\t9883\tJ. A. Tillmann\n",
      "16710\tDemeter Dávid\t21607\tDávid Demeter\n",
      "4753\tBódy Gábor\t10892\tGábor Bódy\n",
      "4563\tSoós Tamás\t22667\tSoós Tamás \n",
      "3680\tAdamkó Dávid\t13952\tDávid Adamkó\n",
      "1120\tUta Heinecke\t20365\tHeinecke Uta\n",
      "17154\tBencze Péter\t21501\tPéter Bencze\n",
      "14460\tCséfalvay András\t15407\tAndrás Cséfalvay\n",
      "14293\tPáll Tamás\t18974\tTamás Páll\n",
      "8442\tNagy Zsófia\t19109\tZsófia Nagy\n",
      "2501\tKovács Tamás László\t8322\tKovács László Tamás\n",
      "12944\tRácmolnár Milán\t20449\tMilán Rácmolnár\n",
      "9868\tBabos Zsili Bertalan\t6930\tBabos Bertalan Zsili\n",
      "5867\tLadjánszki Márta\t18153\tLadjánszki  Márta\n",
      "4377\tBeaty Czető\t21566\tCzető Beaty\n",
      "4377\tBeaty Czető\t22462\tCzető Beaty\n",
      "11936\tSzéchy Beáta\t24404\tSzéchy Beáta \n",
      "10334\tFridvalszki Mark\t16852\tMark Fridvalszki\n",
      "399\tEike Berg\t12019\tBerg Eike\n",
      "18901\tFarkas Anna\t7899\tAnna Farkas\n",
      "13609\tHans Peter Bauer\t10758\tBauer Hans Peter\n",
      "5190\tMamikon Yengibarian\t2250\tYengibarian Mamikon\n",
      "5190\tMamikon Yengibarian\t8207\tYengibarian Mamikon\n",
      "5032\tIlauszky Tamás\t16491\tTamás Ilauszky\n",
      "20405\tStefan Osnowski\t24645\tOsnowski Stefan\n",
      "18467\tJelena Viskovic\t14294\tViskovic Jelena\n",
      "17073\tDobó Gábor\t24092\tGábor Dobó\n",
      "12993\tKincses Károly fotómuzeológus\t7333\tKincses Károly  fotómuzeológus\n",
      "11187\tTayler Patrick\t20797\tPatrick Tayler\n",
      "6704\tSara Berti\t8283\tBerti  Sara\n",
      "6704\tSara Berti\t7712\tBerti Sara\n",
      "4703\tDóró Sándor\t17776\tSándor Dóró\n",
      "4582\tAlexander Schikowski\t18455\tSchikowski Alexander\n",
      "4293\tJudit Kurtág\t16404\tKurtág Judit\n",
      "20120\tSoltész Melinda\t23329\tSoltész  Melinda\n",
      "17493\tSyporca Whandal\t23688\tWhandal Syporca\n",
      "17493\tSyporca Whandal\t22468\tWhandal Syporca\n",
      "16964\tKiss Adrian\t16579\tAdrian Kiss\n",
      "13489\tRepászki Ferenc\t24476\tRepászki  Ferenc\n",
      "13489\tRepászki Ferenc\t23991\tRepászki  Ferenc\n",
      "9700\tJulia Winter\t8251\tWinter  Julia\n",
      "8544\tSzunyoghy Viktória\t4672\tSzunyoghy  Viktória\n",
      "6755\tKosziba Klaudia\t16769\tKlaudia Kosziba\n",
      "343\tFollárd Barbara\t13953\tBarbara Follárd\n",
      "20880\tBilak Krystyna\t23961\tKrystyna Bilak\n",
      "18962\tNolasco-Rózsás Lívia\t17290\tLívia Nolasco-Rózsás\n",
      "17849\tSztefanu Marina\t22122\tMarina Sztefanu\n",
      "16352\tMaria B. Raunio\t14286\tB. Raunio Maria\n",
      "12146\tKis Judit\t13957\tJudit Kis\n",
      "10159\tSzurcsik János\t7882\tJános Szurcsik\n",
      "8327\tMucsy Szilvia\t12395\tSzilvia Mucsy\n",
      "3135\tAnna Mark\t19594\tMark Anna\n",
      "18596\tKaszás Konrád\t24288\tKonrád Kaszás\n",
      "18229\tIfj. Koffán Károly\t13485\tIfj.  Koffán Károly\n",
      "18162\tWrobel Péter\t13492\tWrobel  Péter\n",
      "17851\tJ. Nagy András\t22818\tAndrás J. Nagy\n",
      "16788\tHordós Boldizsár\t18987\tBoldizsár Hordós\n",
      "15928\tGadányi Jenő\t22108\tGadányi Jenő \n",
      "15536\tKende Tamás\t16421\tTamás Kende\n",
      "14843\tMiroslav Zselinsky\t16070\tZselinsky Miroslav\n",
      "14095\tSimkó Beatrix\t14367\tBeatrix Simkó\n",
      "13302\tDerek Michael Besant\t12283\tDerek  Michael Besant\n",
      "23676\tFlorentia Ikonomidou\t20229\tIkonomidou Florentia\n",
      "5578\tCsi Peng\t5579\tCsi  Peng\n",
      "1148\tDouglas Gordon\t16984\tGordon Douglas\n",
      "22503\tVizy Sára\t24295\tSára Vizy\n",
      "22500\tOrcsik Jessica\t24287\tJessica Orcsik\n",
      "21818\tRohonyi-Demkó Iván\t18976\tIván Rohonyi-Demkó\n",
      "20421\tKorcsmár Kores Eszter\t10970\tKorcsmár Eszter Kores\n",
      "20253\tJoseph Kadar\t23804\tKadar Joseph\n",
      "18491\tKovács Gergő\t18970\tGergő Kovács\n",
      "10737\tGruppo Tökmag\t9947\tTökmag Gruppo\n",
      "17246\tZuzana Zurbolová\t24972\tZurbolová Zuzana \n",
      "17246\tZuzana Zurbolová\t24156\tZuzana Zurbolová \n",
      "16142\tNiran Judit\t13893\tJudit Niran\n",
      "18556\tGruppó Tökmag\t10064\tTökmag Gruppó\n",
      "14906\tOliver Šin\t18514\tŠin Oliver\n",
      "14109\tFarkas Imre\t14366\tImre Farkas\n",
      "14094\tFazekas Edina\t14359\tEdina Fazekas\n",
      "14093\tFodor Enikő\t14358\tEnikő Fodor\n",
      "13803\tDarab Zsuzsa\t22068\tZsuzsa Darab\n",
      "11564\tUngváry Krisztián\t20489\tUngváry Krisztián \n",
      "11039\tKoleszár Kata\t11635\tKata Koleszár\n",
      "10835\tHelga Philipp\t7677\tPhilipp Helga\n",
      "9291\tCzeglédy Nina\t21763\tNina Czeglédy\n",
      "9102\tLőrincz Ágnes\t7940\tÁgnes Lőrincz\n",
      "8267\tfar severö sapirico\t11570\tfar  severö  sapirico\n",
      "7280\tJörg Immendorff\t7369\tImmendorff  Jörg\n",
      "6846\tDucki Krzysztof\t5591\tKrzysztof Ducki\n",
      "5966\tVető János NahTe\t6591\tNahTe Vető János\n",
      "5877\tHans-Jörg Glattfelder\t23304\tGlattfelder Hans-Jörg\n",
      "5485\tAnca Benera\t1909\tBenera Anca\n",
      "4912\tIvan Ladislav Galeta\t8088\tLadislav Ivan Galeta\n",
      "4354\tPátkai Ervin\t11478\tErvin Pátkai\n",
      "25265\tGolub Olena\t24539\tOlena Golub\n",
      "24968\tKoltay Dorottya Szonja\t16702\tKoltay Szonja Dorottya\n",
      "24800\tBálint Jákob\t21662\tJákob Bálint\n",
      "24798\tAdrienn Császár\t23472\tCsászár Adrienn\n",
      "24756\tHervé Rudolf\t8039\tRudolf Hervé\n",
      "24292\tMária Csanálosi\t22755\tCsanálosi Mária\n",
      "22608\tDariusz Gwizdala\t16175\tGwizdala Dariusz\n",
      "22549\tSilard Isaak\t20549\tIsaak Silard\n",
      "21998\tRautner Fritz\t16133\tFritz Rautner\n",
      "21201\tGaál Miklós\t17654\tMiklós Gaál\n",
      "20872\tTom McCarthy: Spotlight\t20514\tTom McCarthy:  Spotlight\n",
      "20766\tUhrín Tibor\t9917\tTibor Uhrín\n",
      "20692\tTimo Herbst\t19260\tHerbst Timo\n",
      "20646\tGoose Matthias\t20299\tMatthias Goose\n",
      "20505\tNándor Balvin\t20385\tBalvin Nándor\n",
      "20294\tMeszlényi Károly\t10980\tMeszlényi  Károly\n",
      "18778\tSpengler Katalin művészeti\t8715\tSpengler Katalin  művészeti\n",
      "18578\tDick Alexandra\t16815\tAlexandra Dick\n",
      "18439\tTetsuya Umeda\t18309\tUmeda Tetsuya\n",
      "18438\tTatsumi Orimoto\t18308\tOrimoto Tatsumi\n",
      "18437\tLyota Yagi\t18307\tYagi Lyota\n",
      "18436\tYukio Fujimoto\t18306\tFujimoto Yukio\n",
      "18381\tFrank Józsa Anna\t11632\tAnna Frank Józsa\n",
      "17747\tCsudai Iván\t8445\tIván Csudai\n",
      "17502\tBalázs Ambrus\t4808\tAmbrus Balázs\n",
      "16963\tSzabó Péter & Szűcs Teri\t16794\tSzűcs Teri & Szabó Péter\n",
      "16649\tHámos Gusztáv és Katja Pratschke\t6121\tKatja Pratschke és Hámos Gusztáv\n",
      "15808\tMartaian Ermone Zabel\t13835\tErmone Zabel Martaian\n",
      "14133\tKeserű Ilona\t14130\tIlona Keserű Ilona\n",
      "14010\tZsuzsanna Marinka Alexandrovna\t11377\tMarinka Zsuzsanna Alexandrovna\n",
      "12262\tOsama ZATAR\t11870\tZATAR Osama\n",
      "12261\tNicole WENIGER\t11869\tWENIGER Nicole\n",
      "12260\tKatharina SWOBODA\t11866\tSWOBODA Katharina\n",
      "12258\tEsin TURAN\t11868\tTURAN Esin\n",
      "12257\tCana BILIR-MEIER\t11862\tBILIR-MEIER Cana\n",
      "12255\tAlina KUNITSYNA\t11865\tKUNITSYNA Alina\n",
      "10738\tMatej Al-Ali\t8803\tAl-Ali Matej\n",
      "9244\tMenyhárt menyus Tamás\t8147\tMenyhárt Tamás menyus\n",
      "8462\tYumiko Ono\t5398\tOno Yumiko\n",
      "8350\tszlovák cseh és magyar művészek részvételével\t8320\tszlovák  cseh és magyar művészek részvételével\n",
      "6588\tJan van der Pol\t422\tJan van der  Pol\n",
      "6389\tHONFI INES\t6264\tINES HONFI\n",
      "5183\tGonda Tibor alpolgármester úr\t5072\tGonda Tibor  alpolgármester úr\n",
      "4478\tA Magyar Képzőművészeti Egyetem hallgatói\t1635\tA Magyar Képzőművészeti Egyetem  hallgatói\n",
      "1047\tHorányi Attila és Timár Katalin\t535\tTimár Katalin és Horányi Attila\n"
     ]
    }
   ],
   "source": [
    "with open('./data/nameswapp_map.csv', mode='w', encoding='utf=8') as file:\n",
    "    file.write('id'+'\\t'+'name'+'\\t'+'idmatch'+'\\t'+'namematch'+'\\n')\n",
    "    \n",
    "    stack = set()\n",
    "    for i in range(len(all_names)):\n",
    "        Aidx, Aname = all_names[i]\n",
    "        if not type(Aname) is str:\n",
    "            continue\n",
    "        if Aname in stack:\n",
    "            continue\n",
    "        stack.add(Aname)\n",
    "        \n",
    "        for j in range(i+1, len(all_names)):\n",
    "            Bidx, Bname = all_names[j]\n",
    "            if not type(Bname) is str:\n",
    "                continue\n",
    "\n",
    "            if Aname!=Bname and set(Aname.split(\" \")) == set(Bname.split()):\n",
    "                stack.add(Bname)\n",
    "                line = \"{}\\t{}\\t{}\\t{}\".format(Aidx, Aname, Bidx, Bname)\n",
    "                file.write(line+'\\n')\n",
    "                print(line)"
   ]
  },
  {
   "cell_type": "code",
   "execution_count": 176,
   "metadata": {},
   "outputs": [
    {
     "data": {
      "text/html": [
       "<div>\n",
       "<style scoped>\n",
       "    .dataframe tbody tr th:only-of-type {\n",
       "        vertical-align: middle;\n",
       "    }\n",
       "\n",
       "    .dataframe tbody tr th {\n",
       "        vertical-align: top;\n",
       "    }\n",
       "\n",
       "    .dataframe thead th {\n",
       "        text-align: right;\n",
       "    }\n",
       "</style>\n",
       "<table border=\"1\" class=\"dataframe\">\n",
       "  <thead>\n",
       "    <tr style=\"text-align: right;\">\n",
       "      <th></th>\n",
       "      <th>name</th>\n",
       "      <th>idmatch</th>\n",
       "      <th>namematch</th>\n",
       "    </tr>\n",
       "    <tr>\n",
       "      <th>id</th>\n",
       "      <th></th>\n",
       "      <th></th>\n",
       "      <th></th>\n",
       "    </tr>\n",
       "  </thead>\n",
       "  <tbody>\n",
       "    <tr>\n",
       "      <th>344</th>\n",
       "      <td>Győrffy László</td>\n",
       "      <td>22609</td>\n",
       "      <td>László Győrffy</td>\n",
       "    </tr>\n",
       "    <tr>\n",
       "      <th>10526</th>\n",
       "      <td>Német Szilvi</td>\n",
       "      <td>13960</td>\n",
       "      <td>Szilvi Német</td>\n",
       "    </tr>\n",
       "    <tr>\n",
       "      <th>1676</th>\n",
       "      <td>Csurka Eszter</td>\n",
       "      <td>16753</td>\n",
       "      <td>Csurka   Eszter</td>\n",
       "    </tr>\n",
       "    <tr>\n",
       "      <th>377</th>\n",
       "      <td>Peternák Miklós</td>\n",
       "      <td>10894</td>\n",
       "      <td>Miklós Peternák</td>\n",
       "    </tr>\n",
       "    <tr>\n",
       "      <th>242</th>\n",
       "      <td>Komoróczky Tamás</td>\n",
       "      <td>14360</td>\n",
       "      <td>Tamás Komoróczky</td>\n",
       "    </tr>\n",
       "    <tr>\n",
       "      <th>...</th>\n",
       "      <td>...</td>\n",
       "      <td>...</td>\n",
       "      <td>...</td>\n",
       "    </tr>\n",
       "    <tr>\n",
       "      <th>6588</th>\n",
       "      <td>Jan van der Pol</td>\n",
       "      <td>422</td>\n",
       "      <td>Jan van der  Pol</td>\n",
       "    </tr>\n",
       "    <tr>\n",
       "      <th>6389</th>\n",
       "      <td>HONFI INES</td>\n",
       "      <td>6264</td>\n",
       "      <td>INES HONFI</td>\n",
       "    </tr>\n",
       "    <tr>\n",
       "      <th>5183</th>\n",
       "      <td>Gonda Tibor alpolgármester úr</td>\n",
       "      <td>5072</td>\n",
       "      <td>Gonda Tibor  alpolgármester úr</td>\n",
       "    </tr>\n",
       "    <tr>\n",
       "      <th>4478</th>\n",
       "      <td>A Magyar Képzőművészeti Egyetem hallgatói</td>\n",
       "      <td>1635</td>\n",
       "      <td>A Magyar Képzőművészeti Egyetem  hallgatói</td>\n",
       "    </tr>\n",
       "    <tr>\n",
       "      <th>1047</th>\n",
       "      <td>Horányi Attila és Timár Katalin</td>\n",
       "      <td>535</td>\n",
       "      <td>Timár Katalin és Horányi Attila</td>\n",
       "    </tr>\n",
       "  </tbody>\n",
       "</table>\n",
       "<p>177 rows × 3 columns</p>\n",
       "</div>"
      ],
      "text/plain": [
       "                                            name  idmatch  \\\n",
       "id                                                          \n",
       "344                               Győrffy László    22609   \n",
       "10526                               Német Szilvi    13960   \n",
       "1676                               Csurka Eszter    16753   \n",
       "377                              Peternák Miklós    10894   \n",
       "242                             Komoróczky Tamás    14360   \n",
       "...                                          ...      ...   \n",
       "6588                             Jan van der Pol      422   \n",
       "6389                                  HONFI INES     6264   \n",
       "5183               Gonda Tibor alpolgármester úr     5072   \n",
       "4478   A Magyar Képzőművészeti Egyetem hallgatói     1635   \n",
       "1047             Horányi Attila és Timár Katalin      535   \n",
       "\n",
       "                                        namematch  \n",
       "id                                                 \n",
       "344                                László Győrffy  \n",
       "10526                                Szilvi Német  \n",
       "1676                              Csurka   Eszter  \n",
       "377                               Miklós Peternák  \n",
       "242                              Tamás Komoróczky  \n",
       "...                                           ...  \n",
       "6588                             Jan van der  Pol  \n",
       "6389                                   INES HONFI  \n",
       "5183               Gonda Tibor  alpolgármester úr  \n",
       "4478   A Magyar Képzőművészeti Egyetem  hallgatói  \n",
       "1047              Timár Katalin és Horányi Attila  \n",
       "\n",
       "[177 rows x 3 columns]"
      ]
     },
     "metadata": {},
     "output_type": "display_data"
    },
    {
     "name": "stdout",
     "output_type": "stream",
     "text": [
      "László Győrffy => Győrffy László\n",
      "Szilvi Német => Német Szilvi\n",
      "Csurka   Eszter => Csurka Eszter\n",
      "Miklós Peternák => Peternák Miklós\n",
      "Tamás Komoróczky => Komoróczky Tamás\n",
      "Rudolf Pacsika => Pacsika Rudolf\n",
      "Lőrinc Borsos => Borsos Lőrinc\n",
      "Marcell Esterházy => Esterházy Marcell\n",
      "Miklós Erhardt => Erhardt Miklós\n",
      "László Csáki => Csáki László\n",
      "Szegedy-Maszák Zoltán Szegedy-Maszák Zoltán => Szegedy-Maszák Zoltán\n",
      "Pika Nagy Árpád => Nagy Árpád Pika\n",
      "Pika Nagy Árpád => Nagy Árpád Pika\n",
      "László Lakner => Lakner László\n",
      "Dorka Kaposi => Kaposi Dorka\n",
      "Molnár Judit Lilla  Molnár => Molnár Judit Lilla\n",
      "Krisztián Kristóf => Kristóf Krisztián\n",
      "Fogarasi Andreas => Andreas Fogarasi\n",
      "Corbisier Kim => Kim Corbisier\n",
      "Alexandra Nádas => Nádas Alexandra\n",
      "Barakonyi  Szabolcs => Barakonyi Szabolcs\n",
      "Gábor Ősz => Ősz Gábor\n",
      "Ilona Keserü Ilona => Keserü Ilona\n",
      "Urwyler Patrick => Patrick Urwyler\n",
      "Simon L. László => L. Simon László\n",
      "Bazil Duliskovich => Duliskovich Bazil\n",
      "József R. Juhász => Juhász R. József\n",
      "Szigeti Csongor Gábor => Szigeti Gábor Csongor\n",
      "aatoth franyo => franyo aatoth\n",
      "aatoth franyo => franyo aatoth\n",
      "Orsolya Bajusz => Bajusz Orsolya\n",
      "Katalin Székely => Székely Katalin\n",
      "Simon Hantai => Hantai Simon\n",
      "Rabóczky Judit  Rita => Rabóczky Judit Rita\n",
      "Yusuke Fukui => Fukui Yusuke\n",
      "Samu Szemerey => Szemerey Samu\n",
      "Roters Katharina => Katharina Roters\n",
      "Roters Katharina => Katharina Roters\n",
      "J. A. Tillmann => Tillmann J. A.\n",
      "Dávid Demeter => Demeter Dávid\n",
      "Gábor Bódy => Bódy Gábor\n",
      "Soós Tamás  => Soós Tamás\n",
      "Dávid Adamkó => Adamkó Dávid\n",
      "Heinecke Uta => Uta Heinecke\n",
      "Péter Bencze => Bencze Péter\n",
      "András Cséfalvay => Cséfalvay András\n",
      "Tamás Páll => Páll Tamás\n",
      "Zsófia Nagy => Nagy Zsófia\n",
      "Kovács László Tamás => Kovács Tamás László\n",
      "Milán Rácmolnár => Rácmolnár Milán\n",
      "Babos Bertalan Zsili => Babos Zsili Bertalan\n",
      "Ladjánszki  Márta => Ladjánszki Márta\n",
      "Czető Beaty => Beaty Czető\n",
      "Czető Beaty => Beaty Czető\n",
      "Széchy Beáta  => Széchy Beáta\n",
      "Mark Fridvalszki => Fridvalszki Mark\n",
      "Berg Eike => Eike Berg\n",
      "Anna Farkas => Farkas Anna\n",
      "Bauer Hans Peter => Hans Peter Bauer\n",
      "Yengibarian Mamikon => Mamikon Yengibarian\n",
      "Yengibarian Mamikon => Mamikon Yengibarian\n",
      "Tamás Ilauszky => Ilauszky Tamás\n",
      "Osnowski Stefan => Stefan Osnowski\n",
      "Viskovic Jelena => Jelena Viskovic\n",
      "Gábor Dobó => Dobó Gábor\n",
      "Kincses Károly  fotómuzeológus => Kincses Károly fotómuzeológus\n",
      "Patrick Tayler => Tayler Patrick\n",
      "Berti  Sara => Sara Berti\n",
      "Berti Sara => Sara Berti\n",
      "Sándor Dóró => Dóró Sándor\n",
      "Schikowski Alexander => Alexander Schikowski\n",
      "Kurtág Judit => Judit Kurtág\n",
      "Soltész  Melinda => Soltész Melinda\n",
      "Whandal Syporca => Syporca Whandal\n",
      "Whandal Syporca => Syporca Whandal\n",
      "Adrian Kiss => Kiss Adrian\n",
      "Repászki  Ferenc => Repászki Ferenc\n",
      "Repászki  Ferenc => Repászki Ferenc\n",
      "Winter  Julia => Julia Winter\n",
      "Szunyoghy  Viktória => Szunyoghy Viktória\n",
      "Klaudia Kosziba => Kosziba Klaudia\n",
      "Barbara Follárd => Follárd Barbara\n",
      "Krystyna Bilak => Bilak Krystyna\n",
      "Lívia Nolasco-Rózsás => Nolasco-Rózsás Lívia\n",
      "Marina Sztefanu => Sztefanu Marina\n",
      "B. Raunio Maria => Maria B. Raunio\n",
      "Judit Kis => Kis Judit\n",
      "János Szurcsik => Szurcsik János\n",
      "Szilvia Mucsy => Mucsy Szilvia\n",
      "Mark Anna => Anna Mark\n",
      "Konrád Kaszás => Kaszás Konrád\n",
      "Ifj.  Koffán Károly => Ifj. Koffán Károly\n",
      "Wrobel  Péter => Wrobel Péter\n",
      "András J. Nagy => J. Nagy András\n",
      "Boldizsár Hordós => Hordós Boldizsár\n",
      "Gadányi Jenő  => Gadányi Jenő\n",
      "Tamás Kende => Kende Tamás\n",
      "Zselinsky Miroslav => Miroslav Zselinsky\n",
      "Beatrix Simkó => Simkó Beatrix\n",
      "Derek  Michael Besant => Derek Michael Besant\n",
      "Ikonomidou Florentia => Florentia Ikonomidou\n",
      "Csi  Peng => Csi Peng\n",
      "Gordon Douglas => Douglas Gordon\n",
      "Sára Vizy => Vizy Sára\n",
      "Jessica Orcsik => Orcsik Jessica\n",
      "Iván Rohonyi-Demkó => Rohonyi-Demkó Iván\n",
      "Korcsmár Eszter Kores => Korcsmár Kores Eszter\n",
      "Kadar Joseph => Joseph Kadar\n",
      "Gergő Kovács => Kovács Gergő\n",
      "Tökmag Gruppo => Gruppo Tökmag\n",
      "Zurbolová Zuzana  => Zuzana Zurbolová\n",
      "Zuzana Zurbolová  => Zuzana Zurbolová\n",
      "Judit Niran => Niran Judit\n",
      "Tökmag Gruppó => Gruppó Tökmag\n",
      "Šin Oliver => Oliver Šin\n",
      "Imre Farkas => Farkas Imre\n",
      "Edina Fazekas => Fazekas Edina\n",
      "Enikő Fodor => Fodor Enikő\n",
      "Zsuzsa Darab => Darab Zsuzsa\n",
      "Ungváry Krisztián  => Ungváry Krisztián\n",
      "Kata Koleszár => Koleszár Kata\n",
      "Philipp Helga => Helga Philipp\n",
      "Nina Czeglédy => Czeglédy Nina\n",
      "Ágnes Lőrincz => Lőrincz Ágnes\n",
      "far  severö  sapirico => far severö sapirico\n",
      "Immendorff  Jörg => Jörg Immendorff\n",
      "Krzysztof Ducki => Ducki Krzysztof\n",
      "NahTe Vető János => Vető János NahTe\n",
      "Glattfelder Hans-Jörg => Hans-Jörg Glattfelder\n",
      "Benera Anca => Anca Benera\n",
      "Ladislav Ivan Galeta => Ivan Ladislav Galeta\n",
      "Ervin Pátkai => Pátkai Ervin\n",
      "Olena Golub => Golub Olena\n",
      "Koltay Szonja Dorottya => Koltay Dorottya Szonja\n",
      "Jákob Bálint => Bálint Jákob\n",
      "Császár Adrienn => Adrienn Császár\n",
      "Rudolf Hervé => Hervé Rudolf\n",
      "Csanálosi Mária => Mária Csanálosi\n",
      "Gwizdala Dariusz => Dariusz Gwizdala\n",
      "Isaak Silard => Silard Isaak\n",
      "Fritz Rautner => Rautner Fritz\n",
      "Miklós Gaál => Gaál Miklós\n",
      "Tom McCarthy:  Spotlight => Tom McCarthy: Spotlight\n",
      "Tibor Uhrín => Uhrín Tibor\n",
      "Herbst Timo => Timo Herbst\n",
      "Matthias Goose => Goose Matthias\n",
      "Balvin Nándor => Nándor Balvin\n",
      "Meszlényi  Károly => Meszlényi Károly\n",
      "Spengler Katalin  művészeti => Spengler Katalin művészeti\n",
      "Alexandra Dick => Dick Alexandra\n",
      "Umeda Tetsuya => Tetsuya Umeda\n",
      "Orimoto Tatsumi => Tatsumi Orimoto\n",
      "Yagi Lyota => Lyota Yagi\n",
      "Fujimoto Yukio => Yukio Fujimoto\n",
      "Anna Frank Józsa => Frank Józsa Anna\n",
      "Iván Csudai => Csudai Iván\n",
      "Ambrus Balázs => Balázs Ambrus\n",
      "Szűcs Teri & Szabó Péter => Szabó Péter & Szűcs Teri\n",
      "Katja Pratschke és Hámos Gusztáv => Hámos Gusztáv és Katja Pratschke\n",
      "Ermone Zabel Martaian => Martaian Ermone Zabel\n",
      "Ilona Keserű Ilona => Keserű Ilona\n",
      "Marinka Zsuzsanna Alexandrovna => Zsuzsanna Marinka Alexandrovna\n",
      "ZATAR Osama => Osama ZATAR\n",
      "WENIGER Nicole => Nicole WENIGER\n",
      "SWOBODA Katharina => Katharina SWOBODA\n",
      "TURAN Esin => Esin TURAN\n",
      "BILIR-MEIER Cana => Cana BILIR-MEIER\n",
      "KUNITSYNA Alina => Alina KUNITSYNA\n",
      "Al-Ali Matej => Matej Al-Ali\n",
      "Menyhárt Tamás menyus => Menyhárt menyus Tamás\n",
      "Ono Yumiko => Yumiko Ono\n",
      "szlovák  cseh és magyar művészek részvételével => szlovák cseh és magyar művészek részvételével\n",
      "Jan van der  Pol => Jan van der Pol\n",
      "INES HONFI => HONFI INES\n",
      "Gonda Tibor  alpolgármester úr => Gonda Tibor alpolgármester úr\n",
      "A Magyar Képzőművészeti Egyetem  hallgatói => A Magyar Képzőművészeti Egyetem hallgatói\n",
      "Timár Katalin és Horányi Attila => Horányi Attila és Timár Katalin\n"
     ]
    }
   ],
   "source": [
    "# apply nameswapp map\n",
    "swapfixed = pd.read_csv('./data/nameswapp_map.csv', sep='\\t', index_col='id')\n",
    "display(swapfixed)\n",
    "for idx, row in swapfixed.iterrows():\n",
    "    swapid = row['idmatch']\n",
    "    assert df3.loc[swapid, 'clean name'] == row['namematch'],\"names dont match: {}, {}\".format(df3.loc[swapid, 'clean name'],row['namematch'])\n",
    "    print(df3.loc[swapid, 'clean name'], \"=>\", row['name'])\n",
    "    df.loc[swapid, 'clean name'] = row['name']"
   ]
  },
  {
   "cell_type": "code",
   "execution_count": 177,
   "metadata": {},
   "outputs": [],
   "source": [
    "df3.to_excel('./data/artist_list_manual_cleaningmap2_fuzzy_and_uppercase_match.xlsx')"
   ]
  },
  {
   "cell_type": "markdown",
   "metadata": {},
   "source": [
    "# find uppercase names"
   ]
  },
  {
   "cell_type": "code",
   "execution_count": 214,
   "metadata": {},
   "outputs": [],
   "source": [
    "df = pd.read_excel('./data/artist_list_manual_cleaningmap2_fuzzy_and_uppercase_match.xlsx', index_col='id')\n",
    "all_names = [(df.index[i], df.iloc[i]['clean name']) for i in range(len(df))]"
   ]
  },
  {
   "cell_type": "code",
   "execution_count": 215,
   "metadata": {},
   "outputs": [
    {
     "name": "stdout",
     "output_type": "stream",
     "text": [
      "Álovits Bálint BÁLINT\n",
      "Sandro Miller: MALKOVICH MALKOVICH MALKOVICH\n",
      "Marko BRECELJ és a Puha Terroristák (the Soft Terrorists)\n",
      "David Mo¾ný (CZ)\n",
      "Nicole Degenhardt (GER)\n",
      "Lisa Glauer (GER)\n",
      "Szlaukó László; Szombathy Bálint; Szöllőssy Enikő; Tellér Mária; Tooth Gábor Andor / TGA; Vass Tibor; Whandal Syporca; Wrobel Péter\n",
      "Z. KARVALICS László\n",
      "MAMŰ társaság (Elekes Károly; Ferenczi Károly)\n",
      "Edit SÁNDOR Evelin SÓS István STARK Judit SZALAI Zsanett SZIRMAY László SZLAUKÓ Bálint SZOMBATHY Enikő SZÖLLŐSSY Mária TELLÉR Paul TER WAL (NL) Gábor Andor TOOTH / TGA Tibor VASS Syporca Sándor Edit; Sós Evelin; Stark István; Szalai Judit; Szirmay Zsanett; Szlaukó László; Szombathy Bálint; Szöllőssy Enikő; Tellér Mária; Ter Wal Paul; Tooth Gábor Andor / TGA; Vass Tibor; Whandal Syporca; Wrobel Péter\n",
      "AWACS (Piotr Grzybowski\n",
      "Eifert János EFIAP\n",
      "L. SIMON László\n",
      "Illés Bódi Barbara / BOBA\n",
      "MONOFOG performance: David Stuart Sutherland\n",
      "ZÉES Zoltán Sándor\n",
      "Hans Dieter HUBER prof.\n",
      "Esteban De La Torre (EJTECH)\n",
      "GAZSI RAP SHOW\n",
      "Dr. Hermann HEID\n",
      "SFEER VIZUÁLIS CSOPORT\n",
      "Szövetség '39 BETON\n",
      "T+U; Daniel Hüttler\n",
      "Paul; Tooth Gábor Andor / TGA; Vass Tibor; Wrobel Péter\n",
      "Marko Stamenković (SRB)\n",
      "SCHMIDT HAMMER LARSEN ARCHITECTS\n",
      "JUUL | FROST ARCHITECTS\n",
      "HENNING LARSEN ARCHITECTS\n",
      "DORTE MANDRUP ARKITEKTER\n",
      "Adela Jusic / CRVENA\n",
      "Secco & Fresh K.O.\n",
      "Farmosi Emi (MOME ANIM-Essemble)\n",
      "Debreczeni Zolán (MOME ANIM-Essemble)\n",
      "Börönte Tamás (MOME ANIM-Essemble)\n",
      "Borbás Dávid (BKF)\n",
      "a Fotóporta 2014 fődíjasa\n",
      "a FORMER WEST szerkesztői\n",
      "Nyilvános FORMER WEST szerkesztőségi ülés és tranzit.hu konferencia\n",
      "MAURER Dóra / ZALAVÁRI András\n",
      "MAURER Dóra / SZEGEDY-MASZÁK Zoltán / FERNEZELYI Márton\n",
      "FORMÁTUM PROJEKT - Bujdosó Attila\n",
      "RITES - Molnár András\n",
      "MISTO - Naszádi Anna\n",
      "Lehel Gábor (az UNION Biztosító vezérigazgatója)\n",
      "Zawar kollektíva (CSERNÁTONY-LUKÁCS László | GYARMATI Zsolt | LUCZA Zsigmond)\n",
      "SZILÁGYI Lenke–Dóra BERKES\n",
      "PPML (BERNÁTH Zsigmond | KRÁLL Szabolcs | KOÓS Árpád | JUHÁSZ András | ANTALL Gergő | MÓCZÁR Krisztián)\n",
      "FERENCZI Zoltán Zola\n",
      "FALCONER XAVÉR Ferenc\n",
      "BORTNYIK Éva–TUBÁK Csaba\n",
      "Jonáš Gruska (LOM Label)\n",
      "Audio performance DJ BOOTSIE\n",
      "executive director of UNICEF Magyarország\n",
      "a MÚOSZ Fotóek szakosztályának elnöke és a Magyar Fotóművészek Szövetségének elnökségi tagja\n",
      "a MÚOSZ Fotóek Szakosztályának titkára\n",
      "Beszélgetőtársak: Básthy Ágnes (FFS) és Pfisztner Gábor\n",
      "Ferencz Győző irodalomtörténész és a SZIMA ügyvezető elnöke\n",
      "SZALADJÁK István operatőr\n",
      "a XORXOR csapatával\n",
      "02.05 > 02.28\n",
      "Jávori Ferenc „FEGYA”\n",
      "Josef Wurm (AU)\n",
      "2010–2013 között az új polgári törvénykönyv előkészítését koordináló miniszteri biztos\n",
      "Válogatás a MAMŰ archív anyagaiból / Selection from the MAMŰ archives\n",
      "ESSE BÁNKI ÁKOS\n",
      "Az FKSE mintegy 100 tagja\n",
      "Dr. habil  É. KISS Piroska\n",
      "Kingston University FASS London\n",
      "MKE / Mapping the Local seminar HUFA\n",
      "A MOME hallgatóinak kiállítása\n",
      "MOLNÁR DÓRA ESZTER\n",
      "Hutiray Gyula Alpolgármester - Budapest Főváros VII. kerület Erzsébetváros Önkormányzata\n",
      "Saskia Noor van IMHOFF\n",
      "AMANDA DJ SET\n",
      "Saskia NOOR VAN IMHOFF\n",
      "A FUGA akutális kiállításai\n",
      "Kovács Balázs (XRC)\n",
      "Gerardo NOLASCO MAGAÑA\n",
      "Hajdu István a BALKON fő\n",
      "Az FKSE 56 tagja\n",
      "Mérei Ferenc Szakkollégium és ELTE BTK\n",
      "IN DUST REAL\n",
      "Juan Sebastián Gómez /BOA büro für offensive aleatorik\n",
      "Csáki László & Mélyi József {HU}\n",
      "Conflict Kitchen {US}\n",
      "V. Turner {CZ}\n",
      "Ilona Németh {HU/SK}\n",
      "Olga Jitlina {RU}\n",
      "Alexandra Pirici {RO}\n",
      "Karen Mirza & Brad Butler (UK)\n",
      "Irina Botea {RO}\n",
      "Kristina Norman {EE}\n",
      "Christian Jankowski {GER}\n",
      "Aleksandra Domanovic {SI}\n",
      "Deimantas Narkevicius {LT}\n",
      "ASZHAT MAJUS (KZ)\n",
      "PASTORE PICO (I)\n",
      "SERGEI ISIVOROV (RS)\n",
      "BORA MARAT (RO)\n",
      "ISMAEL KILLINSIDE (IL)\n",
      "Lawrence Weiner (USA)\n",
      "Alexander Raevski (MD)\n",
      "Gert Resinger (AT)\n",
      "Tara (von Neudorf) (RO)\n",
      "Marek Kvetan (SK)\n",
      "Horváth Tibor (HU)\n",
      "Kundy Crew (SK)\n",
      "Peter Aerschmann (CH)\n",
      "Nyílt Struktúrák Művészeti Egyesület (OSAS)\n",
      "dr KUKLA Krisztián\n",
      "Mirna Pokorić (HR)\n",
      "Christina Ordonez (PNM)\n",
      "Helmy Nouh (EG)\n",
      "Nagy Csilla (SK)\n",
      "Helena Hladilova (CZ) & Namsal Siedlecki (US/IT)\n",
      "Josip Brandis (HR)\n",
      "az UNESCO Közgyűlés 36. Ülésszakának elnöke\n",
      "BOGYAY Katalin- Magyarország UNESCO nagykövete\n",
      "A. TÓTH Sándor\n",
      "Penka Mincheva (BG)\n",
      "NÉMETH Balázs Kristóf\n",
      "ifj. KOFFÁN Károly\n",
      "GÁBOR Márton Dániel\n",
      "DETVAY Jenő Eugéne\n",
      "Tamás Noémi (1948 - 2004)\n",
      "ELTE Távolkelet Intézet\n",
      "Dr. MECSI Beatrix\n",
      "Dr. LIPTAI Kálmán\n",
      "MOME: Design és művészetelmélet szak: Köller Dalma\n",
      "BME: Építészmérnöki kar: Jug Mátyás\n",
      "MONITOR – kritikai platform és nyitott műhely\n",
      "AMADEUS Művészeti Alapítvány\n",
      "Modern és szocreál 1945-1960\n",
      "(MOME). Molnár Zoltán\n",
      "VETŐ - ZUZU\n",
      "Pálinkás Tamás (IHM\n",
      "VÁRFI ISTVÁN PITYKE\n",
      "Zoltan Solomon LIVE\n",
      "Secco & Fresh K.O. csoport\n",
      "FÉMES BECK Vilmos\n",
      "CSONTVÁRY KOSZTKA Tivadar\n",
      "BOKROS BIRMAN Dezső\n",
      "BECK Ö. Fülöp\n",
      "SZEMERÉDI ENDRE matematikus\n",
      "a MÚOSZ Fotóek Szakosztályának elnöke\n",
      "ÁCS DOMINIKA ének\n",
      "ANA VENUS (kisérleti zene)\n",
      "TIMÁR  Katalin\n",
      "az MTI/MTVA fotóe\n",
      "Dr. KULKA Janina patológus\n",
      "NAGY BALOGH János\n",
      "a MÉSZ elnöke\n",
      "IVAN LADISLAV GALETA\n",
      "MOME Média Design Tanszék\n",
      "az FKSE több\n",
      "Baji Miklós Zoltán (BMZ)\n",
      "Andrius Zakarauskas (LT)\n",
      "Mindaugas Lukosaitis (LT)\n",
      "Guntars Sietins (LV)\n",
      "Ritums Ivanovs (LV)\n",
      "Kaido Ole (EST)\n",
      "Maarit Murka (EST)\n",
      "Bolcsó Bálint BÁLINT\n",
      "a MÉSZ elnöke és Ferencz István\n",
      "Dr. SOLYMOS Sándor a Magyar Képzőművészeti Egyetem tanára\n",
      "KASSÁK Lajos/JOLÁTHY Attila\n",
      "GELLÉR B. István\n",
      "Cor van DIJK\n",
      "Geert van FASTENHOUT\n",
      "A Lipcsei Grafikai és Könyvművészeti Főiskola (HGB) 70 hallgatójának kiállítása\n",
      "Boushra AL MOUTAWAKEL\n",
      "Reem AL FAISAL\n",
      "Tamara ABDUL HADI\n",
      "ART MOMENTS FESZTIVÁL\n",
      "Simon Mihály (TASZ Romaprogramjának jogásza\n",
      "Karas Dávid (az FKSE elnöke)\n",
      "Jasmila ZBANIC (BIH)\n",
      "Aernout MIK (NL)\n",
      "Julia MELTZER - David THORNE (US)\n",
      "Lamia JOREIGE (RL)\n",
      "Alfredo JAAR (RCH-US)\n",
      "Juan Manuel ECHAVARRIA (CO)\n",
      "Papp Gáspi (HAHA)\n",
      "HAHA az esemény másik moderátora\n",
      "Alidermes: Bruno Cassaglia & Alessandra Cevasco – SAVONA\n",
      "Logos Women: M. Darge & F. Vanhecke – BRÜSSZEL\n",
      "Sonja Menichelli – PARMA\n",
      "Ezio Bianchi - PARMA\n",
      "Paolo Conti - PARMA\n",
      "Szkárosi Endre – BUDAPEST\n",
      "Emilio & Franca Morandi – PONTE NOSSA\n",
      "Ladik Katalin – BUDAPEST\n",
      "Paolo Bottari – LIVORNO\n",
      "Bruno Sullo – LIVORNO\n",
      "Mauro Andreani – LIVORNO\n",
      "Šwierkiewicz Róbert – BUDAPEST\n",
      "Attilio Fortini – PÁRIZS\n",
      "Grazyna Borowik & Aleksander Pieniek – KRAKKÓ\n",
      "Daniel Daligand – PÁRIZS\n",
      "Analia Beltran I Janes & Pedro Deniz – MADRID\n",
      "21 terv a DEMK  hallgatóinak munkáiból\n",
      "Dr. Tobias HOFFMANN\n",
      "IM2000 mesterséges szobainas\n",
      "ŐEXCELLENCIÁJA ROLAND GALHARAGUE\n",
      "SZAXON Szász János\n",
      "Marko STAMENKOVIC független\n",
      "Kukla Krisztián  - a MODEM igazgatója\n",
      "H.E. Pari Tuominen\n",
      "Antje Peters (DE)\n",
      "Berry Patten (UK)\n",
      "Olga Chernysheva (RU)\n",
      "Anca Benera & Arnold Estefan (RO)\n",
      "N. MÉSZÁROS JÚLIA mûvészettörténész\n",
      "MONIKA PESSLER a Friedrich és Lillian Kiesler Magánalapítvány igazgatója\n",
      "PIA JARDÍ mûvészettörténész\n",
      "STRASSZ (Bogyó Virág\n",
      "Michael Szedlak (CH)\n",
      "Cristian Kobi (CH)\n",
      "World Photography Awards 2012\n",
      "TÓTH Balázs Máté\n",
      "MEGYERI Barbara Ráhel\n",
      "BERKES Ádám Csanád\n",
      "Újszászy László professzor  a SZIMA Miskolci Területi Csoportjának társelnöke\n",
      "LEGYEN MINDEN SOKSZOR\n",
      "Pavla Sceranková [SK/CZ]\n",
      "Marko Tadiæ [HR]\n",
      "Fridvalszki Mark [HU/DE]\n",
      "Radu BELCIN (RO)\n",
      "Francisc CHIUARIU  (RO)\n",
      "Flavia PITIª (RO)\n",
      "Bogdan RAÞA (RO)\n",
      "Kukla Krisztián a MODEM Művészeti Központ  Debrecen igazgatója\n",
      "Bozzay Dezső (1912-1974) építő-  ipari formatervező emlékkiállítása\n",
      "Lotte Geeven [NL]\n",
      "ORBÁN Gergely Kristóf\n",
      "Rényi András  az ELTE Művészettörténeti Tanszékének intézetvezetője.\n",
      "Agustín Pérez Rubio  igazgató (MUSAC León)\n",
      "Seregi Tamás (  ELTE BTK)\n",
      "Új szerzemények a Fővárosi Képtárban III.\n",
      "KARL MENZEN (D)\n",
      "IVO WEBER (D)\n",
      "ASRI SAYRAC (D)\n",
      "ARKADIUSZ IGNASZAK (P)\n",
      "Alexander Ochs  ALEXANDER OCHS GALLERIES BERLIN | BEIJING\n",
      "SI-LA-GI és AI WEIWEI\n",
      "+ SI-LA-GI és K.ZS. Drölma\n",
      "+ SI-LA-GI és E. SZIRAKI\n",
      "Konrad Kreuzer az E.ON Hungária Zrt. igazgatóságának elnöke\n",
      "KAMP jazz együttes\n",
      "COLORS Magazin kiállítás Kálmán Tibor emlékére\n",
      "a STRASSZ feat X-MENZ IDIOTRONIC\n",
      "Konkoly Ágnes az FKSE titkára\n",
      "Bojár Iván András művészettörténész  az OCTOGON fő\n",
      "Aurore Aulong (FR)\n",
      "MOME  hallgatók\n",
      "Brad Downey (US)\n",
      "SPENGLER Katalin  műgyűjtő\n",
      "Gesler Zsuzsa (KEZS)\n",
      "Moderátor: Lénárd Anna (BUPAP)\n",
      "MOME Média Intézetének hallgatói\n",
      "Rényi András   az ELTE Művészettörténeti Intézet igazgatója\n",
      "Bán Zsófia   az ELTE docense\n",
      "Public Movement [IL]\n",
      "Khaled Jarrar [PS]\n",
      "Joanna Rajkowska [PL]\n",
      "Christoph Draeger [CH]\n",
      "Avi Mograbi [IL]\n",
      "M. NOVÁK ANDRÁS\n",
      "St.Turba Tamás (a TNPU csődtömeggondnoka  NETRAF-ügynök)\n",
      "GÁLDI VINKÓ ANDREA\n",
      "MOME Szociális Építő Labor\n",
      "Jonas Georg CHRISTENSEN\n",
      "Víziók az Erőmű terület hasznosítására az EUROPAN 11 Tervpályázat keretében\n",
      "BME-MOME-AMI hallgatók párbaja\n",
      "Martin Blazícek (CZ)\n",
      "Blazsek András (SK/HU)\n",
      "Szegő Gábor a Willbe design enteriőrtervezője  KREA oktató\n",
      "Gáti Anna a Willbe design enteriőrtervezője  KREA oktató\n",
      "KREA iskola tervezőgrafikus és enteriőrtervező szakos hallgatói\n",
      "Szőcs Géza  kultúráért felelős államtitkár (NEFMI)\n",
      "SZŐKE GÁBOR MIKLÓS\n",
      "Molnár Farkas-díj 2011 díjátadó\n",
      "A Magyar Elektrográfiai Társaság /MET/ 10 éves jubileumi kiállítása\n",
      "Szőke Annamária (ELTE Művészettörténeti Intézet)\n",
      "Kálmán Ernő   a MÉSZ elnöke\n",
      "Müllner András (ELTE Média és Kommunikáció Tanszék)\n",
      "Bengi László  ELTE\n",
      "Ziva AMISHAI-MAISELS  Batya BRUTIN and Avner BAR HAMA\n",
      "Judith BARTOLANI  Laurence SIGAL and Norbert ENGEL\n",
      "Arnold DREYBLATT  and Jochen GERZ\n",
      "Anthony Bannwart (CH)\n",
      "Stefan Hameseder (1980-2011)\n",
      "3T (NSZK csoport)\n",
      "FEKETE ATTILA a Magyar Állami Operaház énekművésze\n",
      "Tanya Rumpff (NL)\n",
      "Viktor Pivovarov (RU)\n",
      "Pavel Pepperstein (RU)\n",
      "Matt Bryans (GB)\n",
      "Joep van Liefland (NL)\n",
      "Aaron van Erp (NL)\n",
      "Marcus Neustatter (ZA)\n",
      "Czeglédi Nina (CDN/H)\n",
      "Molnár Gál Péter (1936 és#8211; 2011) levelét felolvassa Rába Roland színművész\n",
      "MENÜ PONT GALÉRIA\n",
      "Onur Senturk (TR)\n",
      "Dima Grubin (BY)\n",
      "Benjamin Ducroz (AU)\n",
      "Andrey Nepomnyaschev (RU)\n",
      "WOOD / WRIGHT\n",
      "VELAZQUEZ / WETMORE\n",
      "STOLL / SUGÁR\n",
      "RYU / SIEGEL\n",
      "ORMSTAD / POURBAIX\n",
      "MIKUCZKA / MITREV\n",
      "LEONI / MESZLÉNYI\n",
      "KOMORÓCZKY / LEMEH42\n",
      "HECHER / KEIM\n",
      "HARENSTAM / HOREJS\n",
      "BRENTJES / GWIAZDA\n",
      "BARDAC / BEÖTHY\n",
      "ANASTASAKOS / BANFI\n",
      "ALAMSHAH / AMIRAN\n",
      "BINSHUA / Szűcs Zoltán - karakter design FOURFOURZEROZERO / Hlavnya Tamás - plasztika METALGUITAR DSGN / Balogh Attila - grafika MNUCREATIVE / Németh Zoltán - grafika\n",
      "Kukla Krisztián   MODEM\n",
      "Stand: A 0717\n",
      "Murányi Kata (MOME  Kultúrgorilla)\n",
      "Kiss Anna (KREATÍV TÖLTET)\n",
      "H.E. Mr. Ivan Bandiæ\n",
      "Tillmann  J..A.\n",
      "Tomá¹ Hlavina (CZ)\n",
      "Koralevics Rita (HU)\n",
      "Michal Moravèík (SK)\n",
      "Ján ©ipöcz (SK)\n",
      "Petra Feriancova (SK)\n",
      "Svätopluk Mikyta (SK)\n",
      "Kateøina Dr¾ková (CZ)\n",
      "Pavla Sceranková (SK)\n",
      "SZILY László  újság\n",
      "tranzitblog 2011 szerzok\n",
      "Deák Nóra  ICA-D\n",
      "KAO LIAU Marietta\n",
      "HUANG Tsai -Lang\n",
      "Martin Piacek (SK)\n",
      "MINYÓ Szert Károly\n",
      "Guillaume Piens directeur de Paris Photo 2010\n",
      "Válság és művészet (?!)\n",
      "BARCSAY Jenő  BENEDEK Barna\n",
      "Pacsika Rudolf (HU)\n",
      "Nannette Vinson (US/HU)\n",
      "John Tiney (UK)\n",
      "John Summers (US/UK)\n",
      "Fodor János (HU/DE)\n",
      "David Wilkinson (UK/HU)\n",
      "Bullet Shih (US/HU)\n",
      "Alexander Schikowski (DE/HU)\n",
      "Alexa Hoyer (DE/US)\n",
      "3T (NSZK Csoport)\n",
      "Sőrés Zsolt (AHAD) - zene\n",
      "szöveg: Tim ETCHELLS\n",
      "Michael ELMGREEN és Ingar DRAGSET\n",
      "Szilamér Nánay (HU)\n",
      "Stanislava Gagacová (SK)\n",
      "Német Zoltán (HU) Beáta G.Szabó (HU)\n",
      "Milota Havránková (SK)\n",
      "Lucia Tallová (SK) Tibor Uhrin (SK)\n",
      "David Carsky (SK)\n",
      "BARTA Zsolt Péter\n",
      "Rachel Sussman (USA)\n",
      "Csikós-Nagy Zsuzsa (USA/HU)\n",
      "Petko Doumana (BG/GB)\n",
      "Caspar Stracke (DE/US)\n",
      "Twien Wits (NL)\n",
      "Laut Rosenbaum (NL)\n",
      "Johan Gustavsson (SE)\n",
      "ELEK Judit Katalin\n",
      "DÉNES Ágnes Dóra\n",
      "Vladimir Havrilla (SK)\n",
      "Stefan Themerson és Franciszka Themerson (PL)\n",
      "Piotr Bosacki (PL)\n",
      "Lutz Dammbeck (DE)\n",
      "Frantisek Skála (CZ)\n",
      "Robert Seidel (DE)\n",
      "FixC+ (FI): Fixation\n",
      "WRO Art Center (PL): Össze - beszélt filmek : Józef Robakowski\n",
      "Kovásznai György (1934-1983)\n",
      "Edelbert Köb  a Museum Moderner Kunst Stiftung Wien (MUMOK) igazgatója\n",
      "ZEKUFMAN wall paint\n",
      "TÓTH ISTVÁN photo\n",
      "METALGUITARDES wall paint\n",
      "KAOZZ INC wall paint\n",
      "HATALA PÉTER canvas\n",
      "Daniel Barber (CDN)\n",
      "Czeglédy Nina (CDN/H)\n",
      "Nanda Milbreta (NL)\n",
      "Nagy Gergő (HU)\n",
      "Leon Spek (NL)\n",
      "Hans W.Koch (DE)\n",
      "WRO Art Center (PL): Össze - beszélt filmek : Miros³aw Ba³ka  Wojtek B±kowski\n",
      "NÉMETH Hajnal (Berlin)\n",
      "BOLYGÓ Bálint (London)\n",
      "Gala Puyol a MOVES és Movement on Screen fesztivál igazgatója (Liverpool)\n",
      "H.E. Mangasi Sihombing  indonéz nagykövet\n",
      "Szoboszlai János művészeti vezető  ICA-D\n",
      "tgnoise TEAZENE  technikai asszisztens: Kovács Sándor\n",
      "Fülöp József  a MOME Animációs Szak vezetője\n",
      "Saber /live RAP/\n",
      "Yanna Varbanova (BU)\n",
      "Lájer Vera (HU)\n",
      "Ksenija Cockova (MK)\n",
      "Liné Moché (DE)\n",
      "Barbara Karsch-Chaés#239;eb (DE)\n",
      "Velimir Zernovski (MK)\n",
      "Viktorija Ivanovska (MK)\n",
      "Lepa Georgievska (MK)\n",
      "Juliana Saiska (BU)  Ventsislav Zankov (BU)\n",
      "Radics Márk (HU)\n",
      "Csermák Zsuzsanna (HU)  Lajti Virág (HU)\n",
      "Szirtes János  a MOME vizuális kommunikáció tanszékének vezetője\n",
      "a III. crosstalk video art festivalon való részvételre\n",
      "ELTE Szociológia szak\n",
      "KONOK Tamás Kossuth-díjas\n",
      "Wolfgang Knapp (GER)\n",
      "Theresa Georgen (GER)\n",
      "Bianca REGL (A)\n",
      "Adam BOTA (A)  Alfredo BARSUGLIA (A)\n",
      "MOME grafikus és formatervező szakos hallgatók\n",
      "Rajkamal Kahlon (USA)\n",
      "Navena Widulin (USA)\n",
      "Käthe Wenzel (GER)\n",
      "Kristian Rother (GER)\n",
      "Július Gyula (HUN)\n",
      "Ingo Bechmann (GER)\n",
      "Győrfi Gábor (HUN)\n",
      "Frank Schäpel (GER)\n",
      "Achim Kramer (GER)\n",
      "Harmati Hedvig   tanszékvezető-helyettes (MOME\n",
      "Dr. H.C. Plesz Antal Széchenyi és Ybl-díjas\n",
      "dr. STURCZ JÁNOS\n",
      "Szabó Attila (HUN)\n",
      "Eike Berg (HUN)\n",
      "Vándor Csaba és a SZAF ...\n",
      "Méhes Lóránt (ZUZU)\n",
      "Szabó Eszter (HU)\n",
      "Sugár János (HU)\n",
      "Katarina Sevic (SE/HU)\n",
      "Hajnal Németh (HU)\n",
      "Csontó Lajos (HU)\n",
      "Caspar Stracke (DE)\n",
      "2009. június 25-30.\n",
      "JENEI BARNA MÁRTON\n",
      "Nina Czeglédy (CA)\n",
      "névtelen XIX. századi mesterek\n",
      "MOME: Kitzinger Gábor\n",
      "Sebők Imre (1906-1980)\n",
      "SZAF (Mécs Miklós  Fisher Judit)\n",
      "VINTAGE Galéria - Pőcze Attila\n",
      "Koroknai Zsolt (HU)\n",
      "Csernák-Riskó Boldizsár (HU)\n",
      "Rozsda Endre (1913-1999)\n",
      "Csernák Boldizsár (HU)\n",
      "Yeondoo Jung (KR)\n",
      "Miklós Mécs (HU)\n",
      "Kateøina ©edá (CZ)\n",
      "Johanna Billing (SE)\n",
      "Daniel Knorr (RO/DE)\n",
      "Ciprian Mureºan (RO)\n",
      "Arthur Kleinjan (NL)\n",
      "Olga Kisseleva (RU/FR)\n",
      "Caspar Stracke (USA/DE)\n",
      "SZALAI A ttila\n",
      "G - BRÉJKUNO - TABUK\n",
      "FAUXBOY - DARK LORD DRIPTRON - Y LOS ETC\n",
      "BIGHED - MALAKA - POLI MEGÁLLÓ\n",
      "Vasvári Anna (1923 - 1990)\n",
      "Szörtsey Gábor (1951-2004) - Könyvbemutató\n",
      "U-TURN Quadrennial for Contemporary Art (Copenhagen): Solvej Helweg Ovesen\n",
      "Rácz Márta (HU)\n",
      "Ivan Svoboda (CZ)\n",
      "Huszár Andrea (HU)\n",
      "MOME  Szirtes János: Testvériség\n",
      "Borsos-Lőrinc Lilla (HU)\n",
      "Boris Sirka (SK)\n",
      "Svetlana Fialová (SK)\n",
      "Fischer Judit (HU)\n",
      "Mark Ther (CZ)\n",
      "Dominik Lang (CZ)\n",
      "Étienne Sved (1914-1996) fotografikus\n",
      "SZŐKE Gábor Miklós\n",
      "Loránt Anikó (HU); Aurelia Mihai (DE/RO); Hila Pe\n",
      "Gregory Sholette (USA); Christian Jankowski (DE); Daniel Knorr (DE); KUNST= KAPITAL (GL); Yuri Leiderman (RU);\n",
      "Dora García (ES) Felix Gonzalez-Torres (USA) Institute for Wishful Thinking/ Maureen Connor\n",
      "XVIII. Art Camp Művészeti Szimpózium\n",
      "Zsolt Vasarhelyi (HU)\n",
      "Xaviera Simmons (USA)\n",
      "Pia Lindman (FI)\n",
      "Ayoung Kim (KO)\n",
      "Alia Hassan-Khan (PK/USA)\n",
      "Rainer Ganahl (USA)\n",
      "Francois Bucher (CO)\n",
      "Siemon Allen (RSA/USA)\n",
      "Jari Silomaki (FI)\n",
      "Bryan Zanisnik (USA)\n",
      "Andrea Schneemeier (HU)\n",
      "- VASIL ARTAMONOV és ALEXEY KLYUYKOV\n",
      "Maja és Reuben FOWKES\n",
      "Oliver RESSLER / Zanny BEGG\n",
      "SZAF (Fisher Judit\n",
      "ART CAMP 18.\n",
      "MKE ANATÓMIA TANSZÉK\n",
      "MAMŰ Egyesület és külföldi meghívotjai\n",
      "UK/GR - Candida Pestana\n",
      "Bartha László (1908 - 1998)\n",
      "St.Auby Tamás a TNPU szuperintendánsa\n",
      "FKSE (minden nap más-más művész)\n",
      "Az '50' című kiállítás-sorozat megnyitó bulija\n",
      "CSERNA GÁBOR alpolgármester\n",
      "a MACRO &#8210; a Római Kortárs Művészeti Múzeum igazgatója\n",
      "az IMPEX Nem kacsák vagyunk egy tavon\n",
      "PhD jelölt (CEU)\n",
      "a Mezőszemerei Alkotótelep (2001-2007) alkotói\n",
      "a MTA KFKI RMKI tudományos tanácsadója\n",
      "IMPEX - a KÖNYV\n",
      "IMPEX - a KÖNYV!\n",
      "BEATLES együttes (felvételr&otilde;l)\n",
      "Chován Lóránd (1913 - 2006)\n",
      "Csutoros Sándor (1942 - 1989)\n",
      "Lídija SKENDEROVIC (Hr)\n",
      "Alfredo BARSUGLIA (A)\n",
      "Sugár Andor (1903-1945)\n",
      "Ivan Ladislav Galeta (HR)\n",
      "Denis Kra¹koviæ  (HR)\n",
      "Amanda Dunsmore (IRL)\n",
      "Munkácsi Márton (1896-1963)\n",
      "Bohár András( 1961-2006)\n",
      "Vinca Kruk (NL)\n",
      "Metahaven - Daniel van der Velden (NL)\n",
      "Marjolijn Dijkman (NL)\n",
      "Katarina Zdjelar (SRB / NL)\n",
      "Inga Zimprich (D/NL)\n",
      "Gon Zifroni (NL/BE)\n",
      "a MOME oktatója\n",
      "Balogh Rudolf (1879-1944)\n",
      "Koncert MAMŰ  HANGOK\n",
      "Art&#363;ras Raila (LIT)\n",
      "Alevtina Kakhidze (UA)\n",
      "Khinkali Juice: Nadia Tsulukidze & Sophia Tabatadze (GE)\n",
      "Kristina Norman (EST)\n",
      "Chto Delat? / What is To Be Done? (RUS)\n",
      "Vahram Aghasyan (AM)\n",
      "Raatzsch Jenő André (H/D)\n",
      "Steiner Kristóf a VIVA TV műsorvezetője\n",
      "Alexandra de LAZAREFF\n",
      "ALEXANDRA de LAZAREFF\n",
      "Ligeti Antal (1823-1890)\n",
      "SZEGMENS IV.koreai kortárs ek\n",
      "H.E. Mangasi Sihombing\n",
      "OVEK_FINN csoport (Csiki Csaba\n",
      "SZABÓ NOÉMI művészet\n",
      "ÉDESKE Haraty István\n",
      "Szabó Gyula (1907-1972)\n",
      "Szolnoki Művésztelep 2002-2007\n",
      "Adam BOTA (A)\n",
      "a VIVA TV \"Képben\" című kulturális magazinjának műsorvezetője\n",
      "Peternák Miklós (MKE)\n",
      "MÁTIS GERGŐ és KIS RÓKA CSABA\n",
      "BOROS MIKLÓS JÁNOS\n",
      "ÚJPART Dunaújvárosi Képző- és Iparművészek Egyesülete\n",
      "SCHROTTA János Frigyes\n",
      "Az érzékek mértéke - Válogatás a FRAC Loire gyűjteményéből\n",
      "Natalia Turnova és az OBSCHEE VZDRAGIVANIE csoport\n",
      "IHANUS Sirpa Hannele\n",
      "Seminar No.2 - ART AND DOCUMENTARY\n",
      "re:orient projekt - Velencei Építészeti Biennále 2006\n",
      "az ELTE Japán Tanszékének vezetője\n",
      "STRABAG SE igazgatóság elnöke\n",
      "STRABAG Építő Zrt. igazgatósági tag\n",
      "Jurriaan Molenaar (NL)\n",
      "Erik ©ille (SK) &#8729;\n",
      "Nagy Éva (1921-2003)\n",
      "és fellép a MAMŰ HANGOK\n",
      "A beszelgetes vendegei:Pataky Gabriella (ELTE Tanito- és Ovokepzo Foiskolai Kar)\n",
      "A  TOLCSVAI LAND ART MŰVÉSZTELEP KIÁLLÍTÁSA\n",
      "Janis Jefferies & Tim Blackwell (GB)\n",
      "Sebastian Lexer (D) Bret Battey (USA) Christy Matson (USA) David Whitcraft (USA) Dennis Miller (USA) Derek Gerstmann (USA) François-Joseph Lapointe (CDN) stb.\n",
      "Lacroix (F) Severino (I) Cohen (J) Uphoff (USA) Tome (BR) Zenón (E) Mujinga (NL) Ibrahim (Malaysia) stb.\n",
      "A SPIRÁL TEAM -\n",
      "az FKSE portfoliói\n",
      "Société Réaliste (HU/F)\n",
      "Michal Moravcik (SK)\n",
      "Lise Harlev (DK)\n",
      "Julita Wójcik (PL)\n",
      "Andreas Fogarasi (AT)\n",
      "Finn templomet 1939-1995\n",
      "Emo Verkerk (NL)\n",
      "I.E. Ursula Seiler-Albring nagykövet asszony\n",
      "a MAMŰ társaság\n",
      "Az AUDI - Jármű a jövőből című pályázat résztvevői\n",
      "Szacsva y Pál (HU)\n",
      "Gróf Ferenc (HU)\n",
      "László Gergely / Rákosi Péter (HU)\n",
      "Kokesch Ádám (HU)\n",
      "Miha Knific (SLO)\n",
      "Ravasz András (HU)\n",
      "Marko Maetämm (EST)\n",
      "Lendvai Ádám (HU)\n",
      "Magyar Elektrográfiai Társaság (MET)\n",
      "DANZIGER Dániel\n",
      "\n",
      "\n",
      "\n",
      "HENDZSEL Ilona\n",
      "\n",
      "\n",
      "\n",
      "HERBSZT László\n",
      "\n",
      "\n",
      "\n",
      "KÁNVÁSI Krisztián\n",
      "\n",
      "\n",
      "\n",
      "MAROSI Károly\n",
      "\n",
      "\n",
      "\n",
      "RIDOVICS András\n",
      "\n",
      "\n",
      "\n",
      "ROTH Péter\n",
      "\n",
      "\n",
      "\n",
      "Lidija SKENDEROVIC\n",
      "\n",
      "\n",
      "\n",
      "SZÉP Hedvig  \n",
      "\n",
      "\n",
      "\n",
      "KOVÁCS Zoltán\n",
      "\n",
      "\n",
      "\n",
      "Noémi Regina CSERGÔ\n",
      "\n",
      "\n",
      "\n",
      "NAGY Gergő\n",
      "\n",
      "\n",
      "\n",
      "KERESZTÚRI Kata\n",
      "\n",
      "\n",
      "\n",
      "NAGY Júlia\n",
      "\n",
      "\n",
      "\n",
      "ORB\n",
      "ELTE Szociológia Tanszék\n",
      "KEREKES Gábor &#8217;75\n",
      "Igor OMULECKI (Pl)\n",
      "KOKSZ (Kortárs Karikatúra és Szatíra Műhely) Műhely\n",
      "Dennis Oppenheim (USA)\n",
      "GEORGIVS SOOSVR (Soós György) és ST. MERLIHT (Soós Tamás)\n",
      "Sugár Gyula (1921-1991)\n",
      "a BIBIANA igazgatója\n",
      "A pozsonyi BIB 2003 díjazottjai\n",
      "Alina Serban (RO)\n",
      "Dabóczi Mihály  (1905-1980) emlékkiállítása\n",
      "Anne de Vries (NL)\n",
      "KREA ISKOLA interieur-tervező szakos hallgatóinak kiállítása\n",
      "Tabbouch Linda (ION zenekar)\n",
      "az ENSZ Menekültügyi Főbiztosságának szóvivője\n",
      "Razvan ION (RO)\n",
      "Nikolai HOWALT (DK)\n",
      "Ewa WOLANSKA (PL)\n",
      "Lucia NIMCOVÁ (SK)\n",
      "Ioanna NEMES (RO)\n",
      "Iosif KIRALY (RO)\n",
      "GÖBÖLYÖS Luca (H)\n",
      "Charles FRÉGER (F)\n",
      "ELEK Judit (H)\n",
      "CSOSZÓ Gabriella (H)\n",
      "PALKÓ TIBOR új festményeinek önálló kiállítása\n",
      "A SZOLNOKI MŰVÉSZTELEP GALÉRIÁJÁBAN\n",
      "Fiatal Képzőművészek Stúdiója Egyesületbe 2001 óta felvettek\n",
      "Tóth Virág ....\n",
      "Lőrinczy György (1935-81)\n",
      "Kihelyezett kiállítás SZOLNOKON\n",
      "Réber László (1920-2001)\n",
      "Vollmuth Krisztián és a VULGÁR Projekt\n",
      "SZACSVA Y PÁL\n",
      "DJ set: BLAV.R\n",
      "supervisor: PETRÁNYI ZSOLT\n",
      "2003. augusztus 16. 17.00 órakor is\n",
      "2003. augusztus 16. 17.00 óra\n",
      "Kiállítás az Ateliers Pro Arts / A.P.A.! gyűjteményéből\n",
      "MAGI ISTVÁN a NKÖM főosztályvezetője\n",
      "ELTE Esztétika Tanszék\n",
      "Cs. KOVÁCS LÁSZLÓ\n",
      "Rónai Péter (SK)\n",
      "Torange Khonsari (UK)\n",
      "Bálint Mónika (HINTS)\n",
      "LOVAS ILONA szobrász\n",
      "Donáth Péter (1938-1996)\n",
      "ÁGENS - JÁVORKA ÁDÁM\n",
      "Budapesten élő MAMŰ tagok\n",
      "Dominique de COMBLES de NAYVES a Francia Köztársaság rendkivüli és meghatalmazott nagykövete\n",
      "Radnóti Kovács Árpád (1902- 1977)\n",
      "DOCUMENTA 11 - Tatai Erzsébet\n",
      "BIG TORINO 2002  - Erhardt Miklós bemutatja a Torinói Biennálét és Dominic Hisloppal készült projektjüket\n",
      "SAO PAULO - Komoróczky Tamás videojának vetítése\n",
      "Bp. VII. Damjanich u. 39\n",
      "The Potteries Museum and Art Gallery (GB)\n",
      "Pierre Vadi (CH)\n",
      "MARIA  RAJMON\n",
      "BESZÉLGETÉS a művészekkel\n",
      "PPP/ Bakos Gabor\n",
      "Kerekes Gábor MATINÉ NAPOK\n",
      "Kerekes Gábor és Markus Lerviks (FIN)\n",
      "Varacskos koncert  -  D.J. party\n",
      "Győrffy Sándor ; zenei performansz: S.K.Y (Kovács Zsolt\n",
      "4. VITRINE) - FOTODEMONSTRACIOS KIALLITAS Axel Schneider fenykepeivel\n",
      "HESSISCHES LANDESMUSEUM DARMSTADT\n",
      "1956-1964\" (BLOK BEUYS\n",
      "Joseph Beuys: \"AUSCHWITZ DEMONSTRATION\n",
      "A MAMŰ Társaság kiállítása a Kecskeméti Képtárban!\n",
      "A Kortárs magyar Művészeti Lexikon III. kötetének sajtóbemutatója\n",
      "Erik Steinbrecher (CH)\n",
      "Anatolij Shuravlev (RUS)\n",
      "Peter Friedl (A) és Mathilde ter Heijne (NL)\n",
      "EIKE + Schneemeier Andrea\n",
      "a FRAC igazgatója 1989-2000 között\n",
      "FRAC - Caen gyűjtemény\n",
      "magyar és külföldi - FLUXUS ÉS KONCEPT\n",
      "CSEH ÜVEG /Libenszky tanítványok\n",
      "A MAMŰ tagjai\n",
      "MAGYAR MILLENNIUM Nemzetközi Plakátszimpozium\n",
      "Plugor Sándor  (1941-1999)\n",
      "Magyar fotográfia New Yorkban III. Kézműves és történeti eljárások\n",
      "ROCCO TURI (Olaszország)\n",
      "TONERRE de BREST\n",
      "XII. Pécsi Nemzetközi Felnőtt-bábfesztivál (BÓBITA\n",
      "összeállítás 1997 és 2000 között Németországban készült eti munkákból\n",
      "METIS francia fotóügynökség\n",
      "Dieter ROTH Akadémia\n",
      "Holics Gyula (1919-89)\n",
      "NKÖM és Dr.Kroó Norbert\n",
      "IPAR - MŰVÉSZET\n",
      "Moholy-Nagy László formatervezési ösztöndíj nyertesi 2000.\n",
      "Benczúr Emese és Sohie Bernhard kiállítása a Gallery by Night 2001 második estéjén\n",
      "KORTÁRS FINN KÉPZOMùVÉSZET\n",
      "Gödöllői művésztelep alkotói 1901-1920\n",
      "XVII. Országos Kisplasztikai Biennálé\n",
      "1998-2000. A Kozma ösztdíjat elnyert ek\n",
      "MAKING NEW WAVES 2001 fesztivál\n",
      "KAPOLI Ilona és D. SZABÓ Margit\n",
      "ALMÁSY DÉVAI László\n",
      "a Műok Nemzetközi Szövetségének (AICA) Magyar Tagozata\n",
      "Roller Szilvia és a PP GROUP\n",
      "18.  20.00 óra\n",
      "2000. november 17.\n",
      "2000. október 24. és 28. között kiállítások\n",
      "ARISZTOKRATA MŰVÉSZEK a XIX. és XX. században\n",
      "TABULA RASA brigád\n",
      "Gallery by Night 2000\n",
      "BALKON / Cluj\n"
     ]
    }
   ],
   "source": [
    "stack = set()\n",
    "for _id, name in all_names:\n",
    "    if not type(name) is str:\n",
    "        continue\n",
    "    if name in stack:\n",
    "        continue\n",
    "    stack.add(name)\n",
    "    if len(name.split(\" \"))>2 and any( n.upper()==n and len(n)>3 for n in name.split(\" \") ):\n",
    "        print(name)"
   ]
  },
  {
   "cell_type": "code",
   "execution_count": 280,
   "metadata": {},
   "outputs": [],
   "source": [
    "from collections import Counter\n",
    "\n",
    "df = pd.read_excel('./data/artist_list_manual_cleaningmap2_fuzzy_and_uppercase_match.xlsx', index_col='id')\n",
    "\n",
    "counter = Counter()\n",
    "for idx, row in df.iterrows():\n",
    "    counter[row['clean name']]+=row['no_exhibitions']\n",
    "    \n",
    "all_names_matter = []\n",
    "for name in counter:\n",
    "    if not type(name) is str:\n",
    "        continue\n",
    "    if counter[name]>2:\n",
    "        all_names_matter.append(name)"
   ]
  },
  {
   "cell_type": "markdown",
   "metadata": {},
   "source": [
    "# Find fuzzy matches\n",
    "fast"
   ]
  },
  {
   "cell_type": "code",
   "execution_count": 44,
   "metadata": {},
   "outputs": [
    {
     "name": "stdout",
     "output_type": "stream",
     "text": [
      "8068\tMátyási Péter\t14715\tMátyás Péter\n",
      "\n",
      "8068\tMátyási Péter\t19443\tMátyás Péter\n",
      "\n",
      "8068\tMátyási Péter\t21325\tMátyás Péter\n",
      "\n",
      "8068\tMátyási Péter\t20751\tMátyás Péter\n",
      "\n",
      "8068\tMátyási Péter\t13035\tMátyás Péter\n",
      "\n",
      "84\tOrosz Csaba\t5989\tOroszy Csaba\n",
      "\n",
      "10160\tSolt András\t22482\tSolti András\n",
      "\n",
      "10160\tSolt András\t12788\tSolti András\n",
      "\n",
      "2354\tBalás Eszter\t11493\tBalázs Eszter\n",
      "\n",
      "21511\tHolló István\t8135\tHollós István\n",
      "\n"
     ]
    },
    {
     "ename": "KeyboardInterrupt",
     "evalue": "",
     "output_type": "error",
     "traceback": [
      "\u001b[1;31m---------------------------------------------------------------------------\u001b[0m",
      "\u001b[1;31mKeyboardInterrupt\u001b[0m                         Traceback (most recent call last)",
      "\u001b[1;32m<ipython-input-44-966b70f7fe86>\u001b[0m in \u001b[0;36m<module>\u001b[1;34m\u001b[0m\n\u001b[0;32m     21\u001b[0m             \u001b[1;32mcontinue\u001b[0m\u001b[1;33m\u001b[0m\u001b[1;33m\u001b[0m\u001b[0m\n\u001b[0;32m     22\u001b[0m \u001b[1;33m\u001b[0m\u001b[0m\n\u001b[1;32m---> 23\u001b[1;33m         \u001b[0mratio\u001b[0m \u001b[1;33m=\u001b[0m \u001b[0mfuzz\u001b[0m\u001b[1;33m.\u001b[0m\u001b[0mratio\u001b[0m\u001b[1;33m(\u001b[0m\u001b[0mAname\u001b[0m\u001b[1;33m,\u001b[0m \u001b[0mBname\u001b[0m\u001b[1;33m)\u001b[0m\u001b[1;33m\u001b[0m\u001b[1;33m\u001b[0m\u001b[0m\n\u001b[0m\u001b[0;32m     24\u001b[0m         \u001b[1;32mif\u001b[0m \u001b[0mAname\u001b[0m\u001b[1;33m.\u001b[0m\u001b[0mstrip\u001b[0m\u001b[1;33m(\u001b[0m\u001b[1;33m)\u001b[0m\u001b[1;33m!=\u001b[0m\u001b[0mBname\u001b[0m\u001b[1;33m.\u001b[0m\u001b[0mstrip\u001b[0m\u001b[1;33m(\u001b[0m\u001b[1;33m)\u001b[0m \u001b[1;32mand\u001b[0m \u001b[0mratio\u001b[0m\u001b[1;33m>\u001b[0m\u001b[1;36m95\u001b[0m\u001b[1;33m:\u001b[0m\u001b[1;33m\u001b[0m\u001b[1;33m\u001b[0m\u001b[0m\n\u001b[0;32m     25\u001b[0m             \u001b[0mstack\u001b[0m\u001b[1;33m.\u001b[0m\u001b[0madd\u001b[0m\u001b[1;33m(\u001b[0m\u001b[0mBname\u001b[0m\u001b[1;33m)\u001b[0m\u001b[1;33m\u001b[0m\u001b[1;33m\u001b[0m\u001b[0m\n",
      "\u001b[1;32m~\\Anaconda3\\lib\\site-packages\\fuzzywuzzy\\utils.py\u001b[0m in \u001b[0;36mdecorator\u001b[1;34m(*args, **kwargs)\u001b[0m\n\u001b[0;32m     36\u001b[0m         \u001b[1;32mif\u001b[0m \u001b[0margs\u001b[0m\u001b[1;33m[\u001b[0m\u001b[1;36m0\u001b[0m\u001b[1;33m]\u001b[0m \u001b[1;32mis\u001b[0m \u001b[1;32mNone\u001b[0m \u001b[1;32mor\u001b[0m \u001b[0margs\u001b[0m\u001b[1;33m[\u001b[0m\u001b[1;36m1\u001b[0m\u001b[1;33m]\u001b[0m \u001b[1;32mis\u001b[0m \u001b[1;32mNone\u001b[0m\u001b[1;33m:\u001b[0m\u001b[1;33m\u001b[0m\u001b[1;33m\u001b[0m\u001b[0m\n\u001b[0;32m     37\u001b[0m             \u001b[1;32mreturn\u001b[0m \u001b[1;36m0\u001b[0m\u001b[1;33m\u001b[0m\u001b[1;33m\u001b[0m\u001b[0m\n\u001b[1;32m---> 38\u001b[1;33m         \u001b[1;32mreturn\u001b[0m \u001b[0mfunc\u001b[0m\u001b[1;33m(\u001b[0m\u001b[1;33m*\u001b[0m\u001b[0margs\u001b[0m\u001b[1;33m,\u001b[0m \u001b[1;33m**\u001b[0m\u001b[0mkwargs\u001b[0m\u001b[1;33m)\u001b[0m\u001b[1;33m\u001b[0m\u001b[1;33m\u001b[0m\u001b[0m\n\u001b[0m\u001b[0;32m     39\u001b[0m     \u001b[1;32mreturn\u001b[0m \u001b[0mdecorator\u001b[0m\u001b[1;33m\u001b[0m\u001b[1;33m\u001b[0m\u001b[0m\n\u001b[0;32m     40\u001b[0m \u001b[1;33m\u001b[0m\u001b[0m\n",
      "\u001b[1;32m~\\Anaconda3\\lib\\site-packages\\fuzzywuzzy\\utils.py\u001b[0m in \u001b[0;36mdecorator\u001b[1;34m(*args, **kwargs)\u001b[0m\n\u001b[0;32m     27\u001b[0m         \u001b[1;32mif\u001b[0m \u001b[0margs\u001b[0m\u001b[1;33m[\u001b[0m\u001b[1;36m0\u001b[0m\u001b[1;33m]\u001b[0m \u001b[1;33m==\u001b[0m \u001b[0margs\u001b[0m\u001b[1;33m[\u001b[0m\u001b[1;36m1\u001b[0m\u001b[1;33m]\u001b[0m\u001b[1;33m:\u001b[0m\u001b[1;33m\u001b[0m\u001b[1;33m\u001b[0m\u001b[0m\n\u001b[0;32m     28\u001b[0m             \u001b[1;32mreturn\u001b[0m \u001b[1;36m100\u001b[0m\u001b[1;33m\u001b[0m\u001b[1;33m\u001b[0m\u001b[0m\n\u001b[1;32m---> 29\u001b[1;33m         \u001b[1;32mreturn\u001b[0m \u001b[0mfunc\u001b[0m\u001b[1;33m(\u001b[0m\u001b[1;33m*\u001b[0m\u001b[0margs\u001b[0m\u001b[1;33m,\u001b[0m \u001b[1;33m**\u001b[0m\u001b[0mkwargs\u001b[0m\u001b[1;33m)\u001b[0m\u001b[1;33m\u001b[0m\u001b[1;33m\u001b[0m\u001b[0m\n\u001b[0m\u001b[0;32m     30\u001b[0m     \u001b[1;32mreturn\u001b[0m \u001b[0mdecorator\u001b[0m\u001b[1;33m\u001b[0m\u001b[1;33m\u001b[0m\u001b[0m\n\u001b[0;32m     31\u001b[0m \u001b[1;33m\u001b[0m\u001b[0m\n",
      "\u001b[1;32m~\\Anaconda3\\lib\\site-packages\\fuzzywuzzy\\utils.py\u001b[0m in \u001b[0;36mdecorator\u001b[1;34m(*args, **kwargs)\u001b[0m\n\u001b[0;32m     45\u001b[0m         \u001b[1;32mif\u001b[0m \u001b[0mlen\u001b[0m\u001b[1;33m(\u001b[0m\u001b[0margs\u001b[0m\u001b[1;33m[\u001b[0m\u001b[1;36m0\u001b[0m\u001b[1;33m]\u001b[0m\u001b[1;33m)\u001b[0m \u001b[1;33m==\u001b[0m \u001b[1;36m0\u001b[0m \u001b[1;32mor\u001b[0m \u001b[0mlen\u001b[0m\u001b[1;33m(\u001b[0m\u001b[0margs\u001b[0m\u001b[1;33m[\u001b[0m\u001b[1;36m1\u001b[0m\u001b[1;33m]\u001b[0m\u001b[1;33m)\u001b[0m \u001b[1;33m==\u001b[0m \u001b[1;36m0\u001b[0m\u001b[1;33m:\u001b[0m\u001b[1;33m\u001b[0m\u001b[1;33m\u001b[0m\u001b[0m\n\u001b[0;32m     46\u001b[0m             \u001b[1;32mreturn\u001b[0m \u001b[1;36m0\u001b[0m\u001b[1;33m\u001b[0m\u001b[1;33m\u001b[0m\u001b[0m\n\u001b[1;32m---> 47\u001b[1;33m         \u001b[1;32mreturn\u001b[0m \u001b[0mfunc\u001b[0m\u001b[1;33m(\u001b[0m\u001b[1;33m*\u001b[0m\u001b[0margs\u001b[0m\u001b[1;33m,\u001b[0m \u001b[1;33m**\u001b[0m\u001b[0mkwargs\u001b[0m\u001b[1;33m)\u001b[0m\u001b[1;33m\u001b[0m\u001b[1;33m\u001b[0m\u001b[0m\n\u001b[0m\u001b[0;32m     48\u001b[0m     \u001b[1;32mreturn\u001b[0m \u001b[0mdecorator\u001b[0m\u001b[1;33m\u001b[0m\u001b[1;33m\u001b[0m\u001b[0m\n\u001b[0;32m     49\u001b[0m \u001b[1;33m\u001b[0m\u001b[0m\n",
      "\u001b[1;32m~\\Anaconda3\\lib\\site-packages\\fuzzywuzzy\\fuzz.py\u001b[0m in \u001b[0;36mratio\u001b[1;34m(s1, s2)\u001b[0m\n\u001b[0;32m     26\u001b[0m \u001b[1;33m\u001b[0m\u001b[0m\n\u001b[0;32m     27\u001b[0m     \u001b[0mm\u001b[0m \u001b[1;33m=\u001b[0m \u001b[0mSequenceMatcher\u001b[0m\u001b[1;33m(\u001b[0m\u001b[1;32mNone\u001b[0m\u001b[1;33m,\u001b[0m \u001b[0ms1\u001b[0m\u001b[1;33m,\u001b[0m \u001b[0ms2\u001b[0m\u001b[1;33m)\u001b[0m\u001b[1;33m\u001b[0m\u001b[1;33m\u001b[0m\u001b[0m\n\u001b[1;32m---> 28\u001b[1;33m     \u001b[1;32mreturn\u001b[0m \u001b[0mutils\u001b[0m\u001b[1;33m.\u001b[0m\u001b[0mintr\u001b[0m\u001b[1;33m(\u001b[0m\u001b[1;36m100\u001b[0m \u001b[1;33m*\u001b[0m \u001b[0mm\u001b[0m\u001b[1;33m.\u001b[0m\u001b[0mratio\u001b[0m\u001b[1;33m(\u001b[0m\u001b[1;33m)\u001b[0m\u001b[1;33m)\u001b[0m\u001b[1;33m\u001b[0m\u001b[1;33m\u001b[0m\u001b[0m\n\u001b[0m\u001b[0;32m     29\u001b[0m \u001b[1;33m\u001b[0m\u001b[0m\n\u001b[0;32m     30\u001b[0m \u001b[1;33m\u001b[0m\u001b[0m\n",
      "\u001b[1;32m~\\Anaconda3\\lib\\site-packages\\fuzzywuzzy\\StringMatcher.py\u001b[0m in \u001b[0;36mratio\u001b[1;34m(self)\u001b[0m\n\u001b[0;32m     62\u001b[0m     \u001b[1;32mdef\u001b[0m \u001b[0mratio\u001b[0m\u001b[1;33m(\u001b[0m\u001b[0mself\u001b[0m\u001b[1;33m)\u001b[0m\u001b[1;33m:\u001b[0m\u001b[1;33m\u001b[0m\u001b[1;33m\u001b[0m\u001b[0m\n\u001b[0;32m     63\u001b[0m         \u001b[1;32mif\u001b[0m \u001b[1;32mnot\u001b[0m \u001b[0mself\u001b[0m\u001b[1;33m.\u001b[0m\u001b[0m_ratio\u001b[0m\u001b[1;33m:\u001b[0m\u001b[1;33m\u001b[0m\u001b[1;33m\u001b[0m\u001b[0m\n\u001b[1;32m---> 64\u001b[1;33m             \u001b[0mself\u001b[0m\u001b[1;33m.\u001b[0m\u001b[0m_ratio\u001b[0m \u001b[1;33m=\u001b[0m \u001b[0mratio\u001b[0m\u001b[1;33m(\u001b[0m\u001b[0mself\u001b[0m\u001b[1;33m.\u001b[0m\u001b[0m_str1\u001b[0m\u001b[1;33m,\u001b[0m \u001b[0mself\u001b[0m\u001b[1;33m.\u001b[0m\u001b[0m_str2\u001b[0m\u001b[1;33m)\u001b[0m\u001b[1;33m\u001b[0m\u001b[1;33m\u001b[0m\u001b[0m\n\u001b[0m\u001b[0;32m     65\u001b[0m         \u001b[1;32mreturn\u001b[0m \u001b[0mself\u001b[0m\u001b[1;33m.\u001b[0m\u001b[0m_ratio\u001b[0m\u001b[1;33m\u001b[0m\u001b[1;33m\u001b[0m\u001b[0m\n\u001b[0;32m     66\u001b[0m \u001b[1;33m\u001b[0m\u001b[0m\n",
      "\u001b[1;31mKeyboardInterrupt\u001b[0m: "
     ]
    }
   ],
   "source": [
    "import pandas as pd\n",
    "from fuzzywuzzy import fuzz\n",
    "df = pd.read_excel('./data/artist_list_clean_final_fuzzy2.xlsx', index_col='id')\n",
    "all_names = [(df.index[i], df.iloc[i]['cleanname']) for i in range(len(df))]\n",
    "\n",
    "with open('./data/namematch2_map.csv', mode='w', encoding='utf=8') as file:\n",
    "    file.write('id'+'\\t'+'name'+'\\t'+'idmatch'+'\\t'+'namematch'+'\\t'+'ratio'+'\\n')\n",
    "\n",
    "    stack = set()\n",
    "    for i in range(len(all_names)):\n",
    "        Aidx, Aname = all_names[i]\n",
    "        if not type(Aname) is str:\n",
    "            continue\n",
    "        if Aname in stack:\n",
    "            continue\n",
    "        stack.add(Aname)\n",
    "\n",
    "        for j in range(i+1, len(all_names)):\n",
    "            Bidx, Bname = all_names[j]\n",
    "            if not type(Bname) is str:\n",
    "                continue\n",
    "\n",
    "            ratio = fuzz.ratio(Aname, Bname)\n",
    "            if Aname.strip()!=Bname.strip() and ratio>95:\n",
    "                stack.add(Bname)\n",
    "                line = \"{}\\t{}\\t{}\\t{}\\t{}\\n\".format(Aidx, Aname, Bidx, Bname, ratio)\n",
    "                file.write(line)"
   ]
  },
  {
   "cell_type": "code",
   "execution_count": 43,
   "metadata": {},
   "outputs": [
    {
     "data": {
      "text/html": [
       "<div>\n",
       "<style scoped>\n",
       "    .dataframe tbody tr th:only-of-type {\n",
       "        vertical-align: middle;\n",
       "    }\n",
       "\n",
       "    .dataframe tbody tr th {\n",
       "        vertical-align: top;\n",
       "    }\n",
       "\n",
       "    .dataframe thead th {\n",
       "        text-align: right;\n",
       "    }\n",
       "</style>\n",
       "<table border=\"1\" class=\"dataframe\">\n",
       "  <thead>\n",
       "    <tr style=\"text-align: right;\">\n",
       "      <th></th>\n",
       "      <th>name</th>\n",
       "      <th>idmatch</th>\n",
       "      <th>namematch</th>\n",
       "    </tr>\n",
       "    <tr>\n",
       "      <th>id</th>\n",
       "      <th></th>\n",
       "      <th></th>\n",
       "      <th></th>\n",
       "    </tr>\n",
       "  </thead>\n",
       "  <tbody>\n",
       "    <tr>\n",
       "      <th>148</th>\n",
       "      <td>Koroknai Zsolt</td>\n",
       "      <td>7502</td>\n",
       "      <td>Koroknai Zsolt;</td>\n",
       "    </tr>\n",
       "    <tr>\n",
       "      <th>528</th>\n",
       "      <td>Antal István</td>\n",
       "      <td>11811</td>\n",
       "      <td>Antall István</td>\n",
       "    </tr>\n",
       "    <tr>\n",
       "      <th>528</th>\n",
       "      <td>Antal István</td>\n",
       "      <td>7455</td>\n",
       "      <td>Antall István</td>\n",
       "    </tr>\n",
       "    <tr>\n",
       "      <th>2010</th>\n",
       "      <td>Barakonyi Szabolcs</td>\n",
       "      <td>8275</td>\n",
       "      <td>Barakonyi  Szabolcs</td>\n",
       "    </tr>\n",
       "    <tr>\n",
       "      <th>250</th>\n",
       "      <td>Hermann Zoltán</td>\n",
       "      <td>23983</td>\n",
       "      <td>Herman Zoltán</td>\n",
       "    </tr>\n",
       "    <tr>\n",
       "      <th>...</th>\n",
       "      <td>...</td>\n",
       "      <td>...</td>\n",
       "      <td>...</td>\n",
       "    </tr>\n",
       "    <tr>\n",
       "      <th>3395</th>\n",
       "      <td>Dr. Barabara Lee-Störck</td>\n",
       "      <td>2746</td>\n",
       "      <td>Dr. Barbara Lee-Störck</td>\n",
       "    </tr>\n",
       "    <tr>\n",
       "      <th>3291</th>\n",
       "      <td>Vértesi Ági.</td>\n",
       "      <td>2279</td>\n",
       "      <td>Vértesi Ági</td>\n",
       "    </tr>\n",
       "    <tr>\n",
       "      <th>3164</th>\n",
       "      <td>Prieger Zsolt (Anima Sound System)</td>\n",
       "      <td>2018</td>\n",
       "      <td>Prieger Zsolt (Anima Sound system)</td>\n",
       "    </tr>\n",
       "    <tr>\n",
       "      <th>2230</th>\n",
       "      <td>Myriam Laplante (Olaszország)</td>\n",
       "      <td>2223</td>\n",
       "      <td>Myriam Laplante (Olaszorszag)</td>\n",
       "    </tr>\n",
       "    <tr>\n",
       "      <th>1411</th>\n",
       "      <td>Ivo Weber  (Köln)</td>\n",
       "      <td>1396</td>\n",
       "      <td>Ivo Weber (Köln)</td>\n",
       "    </tr>\n",
       "  </tbody>\n",
       "</table>\n",
       "<p>331 rows × 3 columns</p>\n",
       "</div>"
      ],
      "text/plain": [
       "                                    name  idmatch  \\\n",
       "id                                                  \n",
       "148                       Koroknai Zsolt     7502   \n",
       "528                         Antal István    11811   \n",
       "528                         Antal István     7455   \n",
       "2010                  Barakonyi Szabolcs     8275   \n",
       "250                       Hermann Zoltán    23983   \n",
       "...                                  ...      ...   \n",
       "3395             Dr. Barabara Lee-Störck     2746   \n",
       "3291                        Vértesi Ági.     2279   \n",
       "3164  Prieger Zsolt (Anima Sound System)     2018   \n",
       "2230       Myriam Laplante (Olaszország)     2223   \n",
       "1411                   Ivo Weber  (Köln)     1396   \n",
       "\n",
       "                               namematch  \n",
       "id                                        \n",
       "148                      Koroknai Zsolt;  \n",
       "528                        Antall István  \n",
       "528                        Antall István  \n",
       "2010                 Barakonyi  Szabolcs  \n",
       "250                        Herman Zoltán  \n",
       "...                                  ...  \n",
       "3395              Dr. Barbara Lee-Störck  \n",
       "3291                         Vértesi Ági  \n",
       "3164  Prieger Zsolt (Anima Sound system)  \n",
       "2230       Myriam Laplante (Olaszorszag)  \n",
       "1411                    Ivo Weber (Köln)  \n",
       "\n",
       "[331 rows x 3 columns]"
      ]
     },
     "metadata": {},
     "output_type": "display_data"
    },
    {
     "name": "stdout",
     "output_type": "stream",
     "text": [
      "!!!!!!!!!!!!names dont match: Koroknai Zsolt Koroknai Zsolt;\n",
      "!!!!!!!!!!!!names dont match: Antal István Antall István\n",
      "!!!!!!!!!!!!names dont match: Antal István Antall István\n",
      "!!!!!!!!!!!!names dont match: Barakonyi Szabolcs Barakonyi  Szabolcs\n",
      "!!!!!!!!!!!!names dont match: Hermann Zoltán Herman Zoltán\n",
      "!!!!!!!!!!!!names dont match: Katona Zoltán KatonaZoltán\n",
      "!!!!!!!!!!!!names dont match: Lucza Zsigmond Luca Zsigmond\n",
      "!!!!!!!!!!!!names dont match: Szegedy-Maszák Zsuzsanna Szegedy-Maszak Zsuzsanna\n",
      "!!!!!!!!!!!!names dont match: Pályi Zsófia Pályi Zsófi\n",
      "!!!!!!!!!!!!names dont match: Nagy Gabriella Nagy Gabiella\n",
      "!!!!!!!!!!!!names dont match: Rechnitzer Zsófi Rechnitzer Zsófia\n",
      "!!!!!!!!!!!!names dont match: L. Simon László L.Simon László\n",
      "!!!!!!!!!!!!names dont match: Navratil Judit Navratil Judit)\n",
      "!!!!!!!!!!!!names dont match: Juhász R. József Juhász R.József\n",
      "!!!!!!!!!!!!names dont match: P. Szabó Ernő P Szabó Ernő\n",
      "!!!!!!!!!!!!names dont match: Ázbej Kristóf Ázbej Krisóf\n",
      "!!!!!!!!!!!!names dont match: N. Mészáros Júlia N.Mészáros Júlia\n",
      "!!!!!!!!!!!!names dont match: N. Mészáros Júlia N.Mészáros Júlia\n",
      "!!!!!!!!!!!!names dont match: Tóth Szilvi Tóth Szilvia\n",
      "!!!!!!!!!!!!names dont match: Haris László Harris László\n",
      "!!!!!!!!!!!!names dont match: Rabóczky Judit Rita Rabóczky Judit  Rita\n",
      "!!!!!!!!!!!!names dont match: Pettendi Szabó Péter Pettendi SzabóPéter\n",
      "!!!!!!!!!!!!names dont match: Kovács Lehel Kokvács Lehel\n",
      "!!!!!!!!!!!!names dont match: Mengyán András Megyán András\n",
      "!!!!!!!!!!!!names dont match: Szépfalvi Ágnes zépfalvi Ágnes\n",
      "!!!!!!!!!!!!names dont match: Pacsika Márton Pcsika Márton\n",
      "!!!!!!!!!!!!names dont match: Pinczés József Pincés József\n",
      "!!!!!!!!!!!!names dont match: Farkas Zsófia Farkas Zsófi\n",
      "!!!!!!!!!!!!names dont match: Drozdik Orshi Drozdik Orsi\n",
      "!!!!!!!!!!!!names dont match: Erdész László Erdész Lászó\n",
      "!!!!!!!!!!!!names dont match: Kárpáti Tibor Kártpáti Tibor\n",
      "!!!!!!!!!!!!names dont match: Miklós Hajnal Mikós Hajnal\n",
      "!!!!!!!!!!!!names dont match: Katharina Roters Katarina Roters\n",
      "!!!!!!!!!!!!names dont match: Tillmann J. A. Tillmann J.A.\n",
      "!!!!!!!!!!!!names dont match: Tillmann J. A. Tillman J. A.\n",
      "!!!!!!!!!!!!names dont match: Tillmann J. A. Tilmann J. A.\n",
      "!!!!!!!!!!!!names dont match: Tillmann J. A. Tillmann J.A.\n",
      "!!!!!!!!!!!!names dont match: Katarina Sevic Katrina Sevic\n",
      "!!!!!!!!!!!!names dont match: Gellér B. István Gellér B.István\n",
      "!!!!!!!!!!!!names dont match: Demeter Dávid Demeter Dávidi\n",
      "!!!!!!!!!!!!names dont match: Jagicza Patrícia Jagicza Parícia\n",
      "!!!!!!!!!!!!names dont match: Baráth Fábián Barát Fábián\n",
      "!!!!!!!!!!!!names dont match: Boros Miklós János Boros Mik­lós János\n",
      "!!!!!!!!!!!!names dont match: Ilona Keserü Ilona -Ilona Keserü Ilona\n",
      "!!!!!!!!!!!!names dont match: Mata Attila Matta Attila\n",
      "!!!!!!!!!!!!names dont match: Gajzágó Donáta Gajzágó Donát\n",
      "!!!!!!!!!!!!names dont match: Bencze Péter Bence Péter\n",
      "!!!!!!!!!!!!names dont match: Csernátony Lukács László Csernatony Lukács László\n",
      "!!!!!!!!!!!!names dont match: Zádor Tamás Zádor Tamás.\n",
      "!!!!!!!!!!!!names dont match: Frankl Aliona Frank Aliona\n",
      "!!!!!!!!!!!!names dont match: Kótai Tamás Kóütai Tamás\n",
      "!!!!!!!!!!!!names dont match: Szepes Hédi Szepesi Hédi\n",
      "!!!!!!!!!!!!names dont match: Ütő Gusztáv Ütő Gusz­táv\n",
      "!!!!!!!!!!!!names dont match: Kákóczki András Kákóczi András\n",
      "!!!!!!!!!!!!names dont match: Ladjánszki Márta Ladjánszki  Márta\n",
      "!!!!!!!!!!!!names dont match: Büki Zsuzsanna Bükki Zsuzsanna\n",
      "!!!!!!!!!!!!names dont match: Barbara Kruger Barbara Kruge\n",
      "!!!!!!!!!!!!names dont match: Fáskerti Zsófia Fáskerti Zsófi\n",
      "!!!!!!!!!!!!names dont match: Juhász Dóra Ju­hász Dóra\n",
      "!!!!!!!!!!!!names dont match: Havas Bálint Havas Bálint)\n",
      "!!!!!!!!!!!!names dont match: Básthy Ágnes Básty Ágnes\n",
      "!!!!!!!!!!!!names dont match: Bánfi Brigitta Bánffi Brigitta\n",
      "!!!!!!!!!!!!names dont match: Szirányi István Szirányi Istvá\n",
      "!!!!!!!!!!!!names dont match: S. Nagy Katalin S.Nagy Katalin\n",
      "!!!!!!!!!!!!names dont match: Lábass Endre Lá­bass Endre\n",
      "!!!!!!!!!!!!names dont match: Lábass Endre Lábas Endre\n",
      "!!!!!!!!!!!!names dont match: Pőcze Attila Pőcze Atila\n",
      "!!!!!!!!!!!!names dont match: Borsos Miklós Boros Miklós\n",
      "!!!!!!!!!!!!names dont match: Szilágyi Zsófia Júlia Szilágyi Zsófia Júia\n",
      "!!!!!!!!!!!!names dont match: Mihályi Barbara Mihályi Barabara\n",
      "!!!!!!!!!!!!names dont match: Konkoly Ágnes Konkoly Ágnes-\n",
      "!!!!!!!!!!!!names dont match: Gyarmathy Tihamér Gyarmathy Tihamé\n",
      "!!!!!!!!!!!!names dont match: Pittmann Zsófi Pittmann Zsófia\n",
      "!!!!!!!!!!!!names dont match: Hafner Mónika Hafner Mónia\n",
      "!!!!!!!!!!!!names dont match: Saxon-Szász János Szaxon-Szász János\n",
      "!!!!!!!!!!!!names dont match: Frey Krisztián Frey Kriszián\n",
      "!!!!!!!!!!!!names dont match: Sivák Zsófia Sivák Zsófi\n",
      "!!!!!!!!!!!!names dont match: Kántor József Kántor Jósef\n",
      "!!!!!!!!!!!!names dont match: Bp. Szabó György Bp.Szabó György\n",
      "!!!!!!!!!!!!names dont match: Kincses Károly fotómuzeológus Kincses Károly fotómúzeológus\n",
      "!!!!!!!!!!!!names dont match: Kincses Károly fotómuzeológus Kincses Károly  fotómuzeológus\n",
      "!!!!!!!!!!!!names dont match: Kiss Tanne István Kiss Tanne Isván\n",
      "!!!!!!!!!!!!names dont match: Palman Zsuzsi Palmann Zsuzsi\n",
      "!!!!!!!!!!!!names dont match: Erős Ágost Koppány Erőss Ágost Koppány\n",
      "!!!!!!!!!!!!names dont match: Ézsiás István Ézsaiás István\n",
      "!!!!!!!!!!!!names dont match: Balogh Krisztián Balog Krisztián\n",
      "!!!!!!!!!!!!names dont match: Blaha Tamás Balaha Tamás\n",
      "!!!!!!!!!!!!names dont match: Roy Lichtenstein Roy Liechtenstein\n",
      "!!!!!!!!!!!!names dont match: Ferencz S. Apor Ferenc S. Apor\n",
      "!!!!!!!!!!!!names dont match: Ferencz S. Apor Ferencz S Apor\n",
      "!!!!!!!!!!!!names dont match: Ghyczy Dénes Ghyczy Dénesh\n",
      "!!!!!!!!!!!!names dont match: Ghyczy Dénes Gyczy Dénes\n",
      "!!!!!!!!!!!!names dont match: Pásztor Erika Katalina Pásztor Erika Katalin\n",
      "!!!!!!!!!!!!names dont match: Turányi Gábor -Turányi Gábor\n",
      "!!!!!!!!!!!!names dont match: Voytenko Ganna Voytenko Ghanna\n",
      "!!!!!!!!!!!!names dont match: Soltész Melinda Soltész  Melinda\n",
      "!!!!!!!!!!!!names dont match: Kiss Adrian Kiss Adrián\n",
      "!!!!!!!!!!!!names dont match: Seemann Adrienn Semann Adrienn\n",
      "!!!!!!!!!!!!names dont match: Kaplár F. Krisztina Kaplár F.Krisztina\n",
      "!!!!!!!!!!!!names dont match: Repászki Ferenc Repászki  Ferenc\n",
      "!!!!!!!!!!!!names dont match: Repászki Ferenc Repászki  Ferenc\n",
      "!!!!!!!!!!!!names dont match: Gál Krisztián Gaál Krisztián\n",
      "!!!!!!!!!!!!names dont match: Kusnyár Eveline Kusnyár Evelin\n",
      "!!!!!!!!!!!!names dont match: Agnes von Uray Ages von Uray\n",
      "!!!!!!!!!!!!names dont match: Tehnica Schweiz Technica Schweiz\n",
      "!!!!!!!!!!!!names dont match: Szunyoghy Viktória Szunyoghy  Viktória\n",
      "!!!!!!!!!!!!names dont match: Lengyel Péter Len­gyel Péter\n",
      "!!!!!!!!!!!!names dont match: Péterfy Gergely Péterffy Gergely\n",
      "!!!!!!!!!!!!names dont match: Pézman Andrea Pézmann Andrea\n",
      "!!!!!!!!!!!!names dont match: Hermann Nitsch Herman Nitsch\n",
      "!!!!!!!!!!!!names dont match: Miklya Gábor Mik­lya Gábor\n",
      "!!!!!!!!!!!!names dont match: Bakács Tibor Settenkedő Bakáts Tibor Settenkedő\n",
      "!!!!!!!!!!!!names dont match: Böjte Horváth István Böjte; Horváth István\n",
      "!!!!!!!!!!!!names dont match: Horváth Helén Sára Horvát Helén Sára\n",
      "!!!!!!!!!!!!names dont match: Sztefanu Marina Sztefanu Mariana\n",
      "!!!!!!!!!!!!names dont match: Reischl Szilvia Reischl Szilvi\n",
      "!!!!!!!!!!!!names dont match: Kemény Zsófi Kemény Zsófia\n",
      "!!!!!!!!!!!!names dont match: Tasnádi Szandra Tasnádi Szadra\n",
      "!!!!!!!!!!!!names dont match: Müllner András -Müllner András\n",
      "!!!!!!!!!!!!names dont match: Meggyes László Vendel Megyes László Vendel\n",
      "!!!!!!!!!!!!names dont match: Hudra Klára -Hudra Klára\n",
      "!!!!!!!!!!!!names dont match: Philippe Brame Phillippe Brame\n",
      "!!!!!!!!!!!!names dont match: Hajdu István Hajdu István:\n",
      "!!!!!!!!!!!!names dont match: Zirczi Judit Zirci Judit\n",
      "!!!!!!!!!!!!names dont match: Herczeg László Herceg László\n",
      "!!!!!!!!!!!!names dont match: Janáky István +Janáky István\n",
      "!!!!!!!!!!!!names dont match: Békési László Békési Lászó\n",
      "!!!!!!!!!!!!names dont match: Kuti László Kuti Lász­ló\n",
      "!!!!!!!!!!!!names dont match: Sz. Szilágyi Gábor Sz.Szilágyi Gábor\n",
      "!!!!!!!!!!!!names dont match: Balázs Imre Barna Ba­lázs Imre Barna\n",
      "!!!!!!!!!!!!names dont match: Langh Róbert Lang Róbert\n",
      "!!!!!!!!!!!!names dont match: Francoise Gilot Francoise Gillot\n",
      "!!!!!!!!!!!!names dont match: Michal Kolecek Michail Kolecek\n",
      "!!!!!!!!!!!!names dont match: Anca Benera; Arnold Estefán Anca Benera; Arnold Estefan\n",
      "!!!!!!!!!!!!names dont match: Anca Benera; Arnold Estefán Anca Benera; Arnold Estefan\n",
      "!!!!!!!!!!!!names dont match: Somogyi-Rohonczy Zsófia Somogyi-Rohonczy Zsófi\n",
      "!!!!!!!!!!!!names dont match: Somogyi-Rohonczy Zsófia Somogyi Rohonczy Zsófia\n",
      "!!!!!!!!!!!!names dont match: Kovács Tibor Kovácsy Tibor\n",
      "!!!!!!!!!!!!names dont match: Sajnos Gergely Sajnos Gegely\n",
      "!!!!!!!!!!!!names dont match: Julije Knifer Julie Knifer\n",
      "!!!!!!!!!!!!names dont match: Kosinsky Richárd Kosinszky Richárd\n",
      "!!!!!!!!!!!!names dont match: Ifj. Koffán Károly Ifj.  Koffán Károly\n",
      "!!!!!!!!!!!!names dont match: Wrobel Péter Wrobel  Péter\n",
      "!!!!!!!!!!!!names dont match: Gadányi Jenő Gadány Jenő\n",
      "!!!!!!!!!!!!names dont match: Kozák Zsuzska Kozák Zsuzsa\n",
      "!!!!!!!!!!!!names dont match: Kozák Zsuzska Kozák Zsuska\n",
      "!!!!!!!!!!!!names dont match: Kiss Gábor Attila Kis Gábor Attila\n",
      "!!!!!!!!!!!!names dont match: Derek Michael Besant Derek  Michael Besant\n",
      "!!!!!!!!!!!!names dont match: Baranyai (b) András Baranyi (b) András\n",
      "!!!!!!!!!!!!names dont match: Veszprémi Sára Vesprémi Sára\n",
      "!!!!!!!!!!!!names dont match: Podmaniczky Szilárd Pdmaniczky Szilárd\n",
      "!!!!!!!!!!!!names dont match: Földesi Barnabás Földes Barnabás\n",
      "!!!!!!!!!!!!names dont match: Baróthy Anna Baró­thy Anna\n",
      "!!!!!!!!!!!!names dont match: Horváth Levente Horvát Levente\n",
      "!!!!!!!!!!!!names dont match: Meggyes László Megyes László\n",
      "!!!!!!!!!!!!names dont match: Mohácsi András Mohács András\n",
      "!!!!!!!!!!!!names dont match: Andreas Gursky Anreas Gursky\n",
      "!!!!!!!!!!!!names dont match: Jancsó Miklós Jancsó Mikós\n",
      "!!!!!!!!!!!!names dont match: Litván Gábor Liván Gábor\n",
      "!!!!!!!!!!!!names dont match: Nemes Judith Nemes Judit\n",
      "!!!!!!!!!!!!names dont match: Nemes Judith Nemes Judit\n",
      "!!!!!!!!!!!!names dont match: Piergiorgio Zangara Piergiorgo Zangara\n",
      "!!!!!!!!!!!!names dont match: Zuzanna Zurbolová Zuzana Zurbolová\n",
      "!!!!!!!!!!!!names dont match: Kelemen Bíborka Kelement Bíborka\n",
      "!!!!!!!!!!!!names dont match: Ilés-Muszka Rudolf Illés-Muszka Rudolf\n",
      "!!!!!!!!!!!!names dont match: Ozsváth Sára Ozsvát Sára\n",
      "!!!!!!!!!!!!names dont match: Tóth Zsuzsanna Tóth Zsuzsann\n",
      "!!!!!!!!!!!!names dont match: Varga Balázs Vargha Balázs\n",
      "!!!!!!!!!!!!names dont match: Szekeres Alexandra Szekeres Alexanra\n",
      "!!!!!!!!!!!!names dont match: Orgoványi Gábor Orgoványi Gbor\n",
      "!!!!!!!!!!!!names dont match: Lieber Erzsébet Lieber Erzsébert\n",
      "!!!!!!!!!!!!names dont match: Maros Krisztina Marosi Krisztina\n",
      "!!!!!!!!!!!!names dont match: D. Udvary Ildikó Dr. Udvary Ildikó\n",
      "!!!!!!!!!!!!names dont match: D. Udvary Ildikó D.Udvary Ildikó\n",
      "!!!!!!!!!!!!names dont match: Oravecz Tímea Oravecz Tíme\n",
      "!!!!!!!!!!!!names dont match: Bene Zsuzsanna Bende Zsuzsanna\n",
      "!!!!!!!!!!!!names dont match: Simonyi Emő Simonyi Emő.\n",
      "!!!!!!!!!!!!names dont match: Random! csoport Random csoport\n",
      "!!!!!!!!!!!!names dont match: Pap Emese Dorottya Pap Emese Dorotya\n",
      "!!!!!!!!!!!!names dont match: Kelemen Marcel Kelemen Marcell\n",
      "!!!!!!!!!!!!names dont match: Kerstin Franke-Gneuss Kerstin Franke-Gneusss\n",
      "!!!!!!!!!!!!names dont match: Erdős Zsófi Erdős Zsófia\n",
      "!!!!!!!!!!!!names dont match: Dr. Dobrik István Dr.Dobrik István\n",
      "!!!!!!!!!!!!names dont match: Vitaly Pushnitsky Vitaly Pushnitky\n",
      "!!!!!!!!!!!!names dont match: Lukács Andrea Lukácsi Andrea\n",
      "!!!!!!!!!!!!names dont match: Müllner Péter Müller Péter\n",
      "!!!!!!!!!!!!names dont match: Bernáthy Sándor Bernáth/y Sándor\n",
      "!!!!!!!!!!!!names dont match: Horváth Zsófia Horváth Zsófi\n",
      "!!!!!!!!!!!!names dont match: Hecher / Keim / Koronczi Hecher / Keim/ Koronczi\n",
      "!!!!!!!!!!!!names dont match: Kornis Mihály Korniss Mihály\n",
      "!!!!!!!!!!!!names dont match: Koszta József Koszt József\n",
      "!!!!!!!!!!!!names dont match: Molnári Mariann Molnár Mariann\n",
      "!!!!!!!!!!!!names dont match: Delaine Le Bas Delaine LeBas\n",
      "!!!!!!!!!!!!names dont match: Dr. Baán László Dr.Baán László\n",
      "!!!!!!!!!!!!names dont match: Vollmuth Krisztián Volmuth Krisztián\n",
      "!!!!!!!!!!!!names dont match: Vollmuth Krisztián Vollmut Krisztián\n",
      "!!!!!!!!!!!!names dont match: Helmut Kandl Helmuth Kandl\n",
      "!!!!!!!!!!!!names dont match: Bereczky Loránd Bereczky Loránd-\n",
      "!!!!!!!!!!!!names dont match: Bodó N Sándor Bodó N. Sándor\n",
      "!!!!!!!!!!!!names dont match: Vlad Morariu Vlad Morarium\n",
      "!!!!!!!!!!!!names dont match: Szili Katalin Szil Katalin\n",
      "!!!!!!!!!!!!names dont match: Kísérleti Pop-Performance Csoport Kisérleti Pop-Performance Csoport\n",
      "!!!!!!!!!!!!names dont match: Keserue Zsolt Kerserue Zsolt\n",
      "!!!!!!!!!!!!names dont match: Vincze Angéla Vince Angéla\n",
      "!!!!!!!!!!!!names dont match: Falvay Miklós. Falvay Miklós\n",
      "!!!!!!!!!!!!names dont match: Bodoni D. Zsolt Bodoni D.Zsolt\n",
      "!!!!!!!!!!!!names dont match: Váradi Zsófi Váradi Zsófia\n",
      "!!!!!!!!!!!!names dont match: Tenke István Tenk István\n",
      "!!!!!!!!!!!!names dont match: Kiss-Kuntler Árpád Kiss-Kunter Árpád\n",
      "!!!!!!!!!!!!names dont match: Kiss-Kuntler Árpád Kis-Kuntler Árpád\n",
      "!!!!!!!!!!!!names dont match: D. Udvary Ildikó Dr. Udvary Ildikó\n",
      "!!!!!!!!!!!!names dont match: Bereznay Péter Berznay Péter\n",
      "!!!!!!!!!!!!names dont match: Dr. György Péter Dr György Péter\n",
      "!!!!!!!!!!!!names dont match: Lantos Csenge Lantos Csnge\n",
      "!!!!!!!!!!!!names dont match: Hubert Sielecki Huber Sielecki\n",
      "!!!!!!!!!!!!names dont match: Faltisz Alexandra Faltis Alexandra\n",
      "!!!!!!!!!!!!names dont match: Cakó Ferenc Czakó Ferenc\n",
      "!!!!!!!!!!!!names dont match: Hanna Schimek Hanna Schimeck\n",
      "!!!!!!!!!!!!names dont match: Hanna Schimek Hanna Schimeck\n",
      "!!!!!!!!!!!!names dont match: Konopás Judit Emese Konoás Judit Emese\n",
      "!!!!!!!!!!!!names dont match: dr. Feledy Balázs dr Feledy Balázs\n",
      "!!!!!!!!!!!!names dont match: Bencs Dániel Bencsi Dániel\n",
      "!!!!!!!!!!!!names dont match: Balogh Gallusz Balogh Gallus\n",
      "!!!!!!!!!!!!names dont match: Plágium 2000 Plágium2000\n",
      "!!!!!!!!!!!!names dont match: Plágium 2000 Plágium 200\n",
      "!!!!!!!!!!!!names dont match: Domonkos Ágnes Domokos Ágnes\n",
      "!!!!!!!!!!!!names dont match: Perlaki  Márton Perlaki Márton\n",
      "!!!!!!!!!!!!names dont match: Németh Kristián Németh Krisztián\n",
      "!!!!!!!!!!!!names dont match: Nem’s Judit Nem’s Judith\n",
      "!!!!!!!!!!!!names dont match: Faltisz Alexandra Faltis Alexandra\n",
      "!!!!!!!!!!!!names dont match: Tom McCarthy: Spotlight Tom McCarthy:  Spotlight\n",
      "!!!!!!!!!!!!names dont match: Michaela Holotová-Bodnárová Michaela Holotová Bodnárová\n",
      "!!!!!!!!!!!!names dont match: Benyovszky-Szűcs Domonkos Benyovszky Szűcs Domonkos\n",
      "!!!!!!!!!!!!names dont match: Meszlényi Károly Meszlényi  Károly\n",
      "!!!!!!!!!!!!names dont match: Györffy Miklós Györffy Mikós\n",
      "!!!!!!!!!!!!names dont match: Farkas Róbert Farkash Róbert\n",
      "!!!!!!!!!!!!names dont match: Kozák Zsuzsanna Kozák Zsuzsann\n",
      "!!!!!!!!!!!!names dont match: Christoph Girardet Christoph Giradet\n",
      "!!!!!!!!!!!!names dont match: Vécsei Juli Vécsei Julia\n",
      "!!!!!!!!!!!!names dont match: John K. Grande John K. Gran­de\n",
      "!!!!!!!!!!!!names dont match: Törteli Lilla Törtelli Lilla\n",
      "!!!!!!!!!!!!names dont match: Gábor Tamás Indianaa Gábor Tamás Indiana\n",
      "!!!!!!!!!!!!names dont match: Cséfai Györgyi Cséffai Györgyi\n",
      "!!!!!!!!!!!!names dont match: ifj. Szlávics László ifj.Szlávics László\n",
      "!!!!!!!!!!!!names dont match: Magyar Mónika Magyari Mónika\n",
      "!!!!!!!!!!!!names dont match: Bóbics Dianna Bóbics Diana\n",
      "!!!!!!!!!!!!names dont match: Akademia Sztuk Pięknych im Jana Matejki w Krakowie Akademia Sztuk Piêknych im. Jana Matejki w Krakowie\n",
      "!!!!!!!!!!!!names dont match: a Kitchen Budapest alapító csapatának tagja a Kitchen Budapest alapító csapatának tagjával\n",
      "!!!!!!!!!!!!names dont match: Nemes Attila kulturális közvetítő Nemes Attila kulturális közvetítővel\n",
      "!!!!!!!!!!!!names dont match: Dr. Pogány Gábor Dr Pogány Gábor\n",
      "!!!!!!!!!!!!names dont match: Őexcellenciája Gajus Scheltema a  Holland Királyság Budapesti  Nagykövete Őexcellenciája Gajus Scheltema a Holland Királyság Budapesti Nagykövete\n",
      "!!!!!!!!!!!!names dont match: Hajdu István főszerkesztő Hajdú István főszerkesztő\n",
      "!!!!!!!!!!!!names dont match: kultúrakutató kultúrakutató)\n",
      "!!!!!!!!!!!!names dont match: Baji Miklós Zoltán BMZ Baji Miklós Zoltán (BMZ)\n",
      "!!!!!!!!!!!!names dont match: Gáll Attila polgármeszter Gáll Attila  polgármester\n",
      "!!!!!!!!!!!!names dont match: MKE – Tervezőgrafika szakirány: Lakosi Krisztián MKE:Tervezőgrafika szakirány: Lakosi Krisztián\n",
      "!!!!!!!!!!!!names dont match: Sinkó István  művészeti író Sinkó István   művészeti író\n",
      "!!!!!!!!!!!!names dont match: Kovács Mári Kovács Mária\n",
      "!!!!!!!!!!!!names dont match: szervezők: tranzit. hu + szervezői csoport (Balazs Anna szervezők: ranzit. hu + szervezői csoport (Balázs Anna\n",
      "!!!!!!!!!!!!names dont match: szervezők: tranzit. hu + szervezői csoport (Balazs Anna szervezők: tranzit. hu + szervezői csoport (Balázs Anna\n",
      "!!!!!!!!!!!!names dont match: Szurcsik József - Munkácsy-díjas Szurcsik József Munkácsy-díjas\n",
      "!!!!!!!!!!!!names dont match: A Magyar Elektrográfiai Társaság kiállítása Magyar Elektrográfiai Társaság kiállítása\n",
      "!!!!!!!!!!!!names dont match: Szabó Gyula Szabó Gyula.\n",
      "!!!!!!!!!!!!names dont match: Szakolczay Lajos József Attila-díjas irodalom- és Szakolczay Lajos József Attlia-díjas irodalom- és\n",
      "!!!!!!!!!!!!names dont match: tranzit. hu+ szervezői csoport (Balazs Anna tranzit. hu+ szervezoi csoport (Balazs Anna\n",
      "!!!!!!!!!!!!names dont match: Dr Szabó Lilla Dr. Szabó Lilla\n",
      "!!!!!!!!!!!!names dont match: Kormos Mercedes Kormos Mercedesz\n",
      "!!!!!!!!!!!!names dont match: Lukácsi Nóra Lukács Nóra\n",
      "!!!!!!!!!!!!names dont match: Mocsár Zsófia Mocsár Zsófi\n",
      "!!!!!!!!!!!!names dont match: Dr. Kriza Ákos Miskolc polgármestere Dr. Kriza Ákos - Miskolc polgármestere\n",
      "!!!!!!!!!!!!names dont match: Kiss Gábor  Miskolc alpolgármestere Kiss Gábor - Miskolc alpolgármestere\n",
      "!!!!!!!!!!!!names dont match: Menesi Attila – Christoph Rauch Menesi Attila - Christoph Rauch\n",
      "!!!!!!!!!!!!names dont match: Menesi Attila – Christoph Rauch Menesi Attila / Christoph Rauch\n",
      "!!!!!!!!!!!!names dont match: Czimbalmos Márta Cedenka Czimbalmos Márta Cendenka\n",
      "!!!!!!!!!!!!names dont match: Czimbalmos Márta Cedenka Cimbalmos Márta Cedenka\n",
      "!!!!!!!!!!!!names dont match: Agelus Iván Angelus Iván\n",
      "!!!!!!!!!!!!names dont match: Szalkay Dávid Szalay Dávid\n",
      "!!!!!!!!!!!!names dont match: Szalkay Dávid Szalay Dávid\n",
      "!!!!!!!!!!!!names dont match: Alexander Kalachev Alexandr Kalachev\n",
      "!!!!!!!!!!!!names dont match: Tillmann J. A. Tillmann J.A.\n",
      "!!!!!!!!!!!!names dont match: Dr. habil Kőnig Frigyes  a Magyar Képzőművészeti Egyetem rektora Dr. habil   Kőnig Frigyes a Magyar Képzőművészeti Egyetem rektora\n",
      "!!!!!!!!!!!!names dont match: Köszöntőt mond dr. Bácskai János  Ferencváros polgármestere. Köszöntőt mond dr. Bácskai János  Ferencváros polgármestere\n",
      "!!!!!!!!!!!!names dont match: Yan Yeresko / Fehéroroszország Yan Yeresko  Fehéroroszország\n",
      "!!!!!!!!!!!!names dont match: Kis Veronika Edit Kiss Veronika Edit\n",
      "!!!!!!!!!!!!names dont match: Alexander Brener-Barbara Schurz Alexander Brener&Barbara Schurz\n",
      "!!!!!!!!!!!!names dont match: Szkripka-Jávorszky Anasztázia -Szkripka-Jávorszky Anasztázia\n",
      "!!!!!!!!!!!!names dont match: Mészáros István Més-záros István\n",
      "!!!!!!!!!!!!names dont match: Süvecz Emese   tranzit.hu Süvecz Emese  tranzit.hu\n",
      "!!!!!!!!!!!!names dont match: Kovács Panni Kovácsa Panni\n",
      "!!!!!!!!!!!!names dont match: Dr. Keserű Katalin Dr.Keserű Katalin\n",
      "!!!!!!!!!!!!names dont match: Bujdos Attila Bujdosó Attila\n",
      "!!!!!!!!!!!!names dont match: Dr. Gálig Zoltán   a Szombathelyi Képtár igazgatója Dr. Gálig Zoltán  Szombathelyi Képtár igazgatója\n",
      "!!!!!!!!!!!!names dont match: Budapesten élő MAMŰ-tagok Budapesten élő MAMŰ tagok\n",
      "!!!!!!!!!!!!names dont match: Lawrence Weine Lawrence Weiner\n",
      "!!!!!!!!!!!!names dont match: Dr. Salvatore Ettorre - a budapesti olasz kulturális intézet igazgatója Dr. Salvatore Ettorre - a Budapesti olasz kulturális intézet igazgatója\n",
      "!!!!!!!!!!!!names dont match: Dr. Elisabeth Kornfeind  az Osztrák Kulturális Fórum igazgatója Dr. Elisabeth Kornfeind az Osztrák Kulturális Fórum igazgatója\n",
      "!!!!!!!!!!!!names dont match: Mészáros Márta Millesime Mészáros Márta /Millesime\n",
      "!!!!!!!!!!!!names dont match: L Menyhért László L. Menyhért László\n",
      "!!!!!!!!!!!!names dont match: Dr. Gálig Zoltán   képtár igazgató Dr. Gálig Zoltán  a képtár igazgatója\n",
      "!!!!!!!!!!!!names dont match: SZALAI Attila SZALAI A ttila\n",
      "!!!!!!!!!!!!names dont match: Áfrány Gábor-Tóth Zs. Szabolcs Áfrány Gábor - Tóth Zs. Szabolcs\n",
      "!!!!!!!!!!!!names dont match: Zsigmond Attila főigazgató Zsigmond Attila igazgató\n",
      "!!!!!!!!!!!!names dont match: Bereczky Loránd  a Magyar Nemzeti Galéria főigazgatója Bereczky Loránd a Magyar Nemzeti Galéria főigazgatója\n",
      "!!!!!!!!!!!!names dont match: Kettős Tamás Kettős Tamás:\n",
      "!!!!!!!!!!!!names dont match: Pent Leditgrandt Emlékzenekar Pent Leditgrant Emlékzenekar\n",
      "!!!!!!!!!!!!names dont match: Francois Morellet Francoise Morellet\n",
      "!!!!!!!!!!!!names dont match: Jan van der Pol Jan van der  Pol\n",
      "!!!!!!!!!!!!names dont match: IMPEX - a KÖNYV IMPEX - a KÖNYV!\n",
      "!!!!!!!!!!!!names dont match: Szűr-Szabó Józse Szűr-Szabó József\n",
      "!!!!!!!!!!!!names dont match: Az Országos Széchényi Könyvtár főigazgatója az Országos Széchényi Könyvtár főigazgatója\n",
      "!!!!!!!!!!!!names dont match: Márta István Márta Istvá\n",
      "!!!!!!!!!!!!names dont match: Raphaël Grisey  vetítése Raphael Grisey  vetítése\n",
      "!!!!!!!!!!!!names dont match: Emilio Villanova Emilio Vilanova\n",
      "!!!!!!!!!!!!names dont match: a Francia Intézet igazgatóhelyettese a Francia Intézet igazgató helyettese\n",
      "!!!!!!!!!!!!names dont match: Dr. Lénárd László Dr Lénárd László\n",
      "!!!!!!!!!!!!names dont match: Radó Gyula filmje Radó Gyula filmje:\n",
      "!!!!!!!!!!!!names dont match: Mazzag Istvá Mazzag István\n",
      "!!!!!!!!!!!!names dont match: a Magyar Képzőművészeti Egyetem végzős hallgatói A Magyar Képzőművészeti Egyetem végzős hallgatói\n",
      "!!!!!!!!!!!!names dont match: Is-Is Randevú Is- Is Randevú\n",
      "!!!!!!!!!!!!names dont match: a trencséni M. A. Bazovský Galéria igazgatója a trencséni M. A. Bazovský galéria igazgatója\n",
      "!!!!!!!!!!!!names dont match: A Magyar Képzőművészeti Egyetem hallgatói A Magyar Képzőművészeti Egyetem  hallgatói\n",
      "!!!!!!!!!!!!names dont match: Szociális és Esélyegyenlőégi Minisztérium Szociális és Esélyegyenlőségi Minisztérium\n",
      "!!!!!!!!!!!!names dont match: Reményi Schmall Róza Reményi Schmal Róza\n",
      "!!!!!!!!!!!!names dont match: Reményi Schmall Róza Reményi Schmal Róza\n",
      "!!!!!!!!!!!!names dont match: Jean-Baptiste Naudy del Fat) Jean-Baptiste Naudy del Fat\n",
      "!!!!!!!!!!!!names dont match: Szilvássy Edit Szilvásy Edit\n",
      "!!!!!!!!!!!!names dont match: Dr. Barabara Lee-Störck Dr. Barbara Lee-Störck\n",
      "!!!!!!!!!!!!names dont match: Vértesi Ági. Vértesi Ági\n",
      "!!!!!!!!!!!!names dont match: Prieger Zsolt (Anima Sound System) Prieger Zsolt (Anima Sound system)\n",
      "!!!!!!!!!!!!names dont match: Myriam Laplante (Olaszország) Myriam Laplante (Olaszorszag)\n",
      "!!!!!!!!!!!!names dont match: Ivo Weber  (Köln) Ivo Weber (Köln)\n"
     ]
    },
    {
     "ename": "FileCreateError",
     "evalue": "[Errno 13] Permission denied: './data/artist_list_clean_final_fuzzy2.xlsx'",
     "output_type": "error",
     "traceback": [
      "\u001b[1;31m---------------------------------------------------------------------------\u001b[0m",
      "\u001b[1;31mPermissionError\u001b[0m                           Traceback (most recent call last)",
      "\u001b[1;32m~\\Anaconda3\\lib\\site-packages\\xlsxwriter\\workbook.py\u001b[0m in \u001b[0;36mclose\u001b[1;34m(self)\u001b[0m\n\u001b[0;32m    315\u001b[0m             \u001b[1;32mtry\u001b[0m\u001b[1;33m:\u001b[0m\u001b[1;33m\u001b[0m\u001b[1;33m\u001b[0m\u001b[0m\n\u001b[1;32m--> 316\u001b[1;33m                 \u001b[0mself\u001b[0m\u001b[1;33m.\u001b[0m\u001b[0m_store_workbook\u001b[0m\u001b[1;33m(\u001b[0m\u001b[1;33m)\u001b[0m\u001b[1;33m\u001b[0m\u001b[1;33m\u001b[0m\u001b[0m\n\u001b[0m\u001b[0;32m    317\u001b[0m             \u001b[1;32mexcept\u001b[0m \u001b[0mIOError\u001b[0m \u001b[1;32mas\u001b[0m \u001b[0me\u001b[0m\u001b[1;33m:\u001b[0m\u001b[1;33m\u001b[0m\u001b[1;33m\u001b[0m\u001b[0m\n",
      "\u001b[1;32m~\\Anaconda3\\lib\\site-packages\\xlsxwriter\\workbook.py\u001b[0m in \u001b[0;36m_store_workbook\u001b[1;34m(self)\u001b[0m\n\u001b[0;32m    631\u001b[0m         \u001b[1;32mexcept\u001b[0m \u001b[0mIOError\u001b[0m \u001b[1;32mas\u001b[0m \u001b[0me\u001b[0m\u001b[1;33m:\u001b[0m\u001b[1;33m\u001b[0m\u001b[1;33m\u001b[0m\u001b[0m\n\u001b[1;32m--> 632\u001b[1;33m             \u001b[1;32mraise\u001b[0m \u001b[0me\u001b[0m\u001b[1;33m\u001b[0m\u001b[1;33m\u001b[0m\u001b[0m\n\u001b[0m\u001b[0;32m    633\u001b[0m \u001b[1;33m\u001b[0m\u001b[0m\n",
      "\u001b[1;32m~\\Anaconda3\\lib\\site-packages\\xlsxwriter\\workbook.py\u001b[0m in \u001b[0;36m_store_workbook\u001b[1;34m(self)\u001b[0m\n\u001b[0;32m    629\u001b[0m             xlsx_file = ZipFile(self.filename, \"w\", compression=ZIP_DEFLATED,\n\u001b[1;32m--> 630\u001b[1;33m                                 allowZip64=self.allow_zip64)\n\u001b[0m\u001b[0;32m    631\u001b[0m         \u001b[1;32mexcept\u001b[0m \u001b[0mIOError\u001b[0m \u001b[1;32mas\u001b[0m \u001b[0me\u001b[0m\u001b[1;33m:\u001b[0m\u001b[1;33m\u001b[0m\u001b[1;33m\u001b[0m\u001b[0m\n",
      "\u001b[1;32m~\\Anaconda3\\lib\\zipfile.py\u001b[0m in \u001b[0;36m__init__\u001b[1;34m(self, file, mode, compression, allowZip64, compresslevel)\u001b[0m\n\u001b[0;32m   1206\u001b[0m                 \u001b[1;32mtry\u001b[0m\u001b[1;33m:\u001b[0m\u001b[1;33m\u001b[0m\u001b[1;33m\u001b[0m\u001b[0m\n\u001b[1;32m-> 1207\u001b[1;33m                     \u001b[0mself\u001b[0m\u001b[1;33m.\u001b[0m\u001b[0mfp\u001b[0m \u001b[1;33m=\u001b[0m \u001b[0mio\u001b[0m\u001b[1;33m.\u001b[0m\u001b[0mopen\u001b[0m\u001b[1;33m(\u001b[0m\u001b[0mfile\u001b[0m\u001b[1;33m,\u001b[0m \u001b[0mfilemode\u001b[0m\u001b[1;33m)\u001b[0m\u001b[1;33m\u001b[0m\u001b[1;33m\u001b[0m\u001b[0m\n\u001b[0m\u001b[0;32m   1208\u001b[0m                 \u001b[1;32mexcept\u001b[0m \u001b[0mOSError\u001b[0m\u001b[1;33m:\u001b[0m\u001b[1;33m\u001b[0m\u001b[1;33m\u001b[0m\u001b[0m\n",
      "\u001b[1;31mPermissionError\u001b[0m: [Errno 13] Permission denied: './data/artist_list_clean_final_fuzzy2.xlsx'",
      "\nDuring handling of the above exception, another exception occurred:\n",
      "\u001b[1;31mFileCreateError\u001b[0m                           Traceback (most recent call last)",
      "\u001b[1;32m<ipython-input-43-44906be08743>\u001b[0m in \u001b[0;36m<module>\u001b[1;34m\u001b[0m\n\u001b[0;32m     12\u001b[0m     \u001b[0mdf\u001b[0m\u001b[1;33m.\u001b[0m\u001b[0mloc\u001b[0m\u001b[1;33m[\u001b[0m\u001b[0mswapid\u001b[0m\u001b[1;33m,\u001b[0m \u001b[1;34m'cleanname'\u001b[0m\u001b[1;33m]\u001b[0m \u001b[1;33m=\u001b[0m \u001b[0mrow\u001b[0m\u001b[1;33m[\u001b[0m\u001b[1;34m'name'\u001b[0m\u001b[1;33m]\u001b[0m\u001b[1;33m\u001b[0m\u001b[1;33m\u001b[0m\u001b[0m\n\u001b[0;32m     13\u001b[0m \u001b[1;33m\u001b[0m\u001b[0m\n\u001b[1;32m---> 14\u001b[1;33m \u001b[0mdf\u001b[0m\u001b[1;33m.\u001b[0m\u001b[0mto_excel\u001b[0m\u001b[1;33m(\u001b[0m\u001b[1;34m'./data/artist_list_clean_final_fuzzy2.xlsx'\u001b[0m\u001b[1;33m)\u001b[0m\u001b[1;33m\u001b[0m\u001b[1;33m\u001b[0m\u001b[0m\n\u001b[0m",
      "\u001b[1;32m~\\Anaconda3\\lib\\site-packages\\pandas\\core\\generic.py\u001b[0m in \u001b[0;36mto_excel\u001b[1;34m(self, excel_writer, sheet_name, na_rep, float_format, columns, header, index, index_label, startrow, startcol, engine, merge_cells, encoding, inf_rep, verbose, freeze_panes)\u001b[0m\n\u001b[0;32m   2254\u001b[0m             \u001b[0mstartcol\u001b[0m\u001b[1;33m=\u001b[0m\u001b[0mstartcol\u001b[0m\u001b[1;33m,\u001b[0m\u001b[1;33m\u001b[0m\u001b[1;33m\u001b[0m\u001b[0m\n\u001b[0;32m   2255\u001b[0m             \u001b[0mfreeze_panes\u001b[0m\u001b[1;33m=\u001b[0m\u001b[0mfreeze_panes\u001b[0m\u001b[1;33m,\u001b[0m\u001b[1;33m\u001b[0m\u001b[1;33m\u001b[0m\u001b[0m\n\u001b[1;32m-> 2256\u001b[1;33m             \u001b[0mengine\u001b[0m\u001b[1;33m=\u001b[0m\u001b[0mengine\u001b[0m\u001b[1;33m,\u001b[0m\u001b[1;33m\u001b[0m\u001b[1;33m\u001b[0m\u001b[0m\n\u001b[0m\u001b[0;32m   2257\u001b[0m         )\n\u001b[0;32m   2258\u001b[0m \u001b[1;33m\u001b[0m\u001b[0m\n",
      "\u001b[1;32m~\\Anaconda3\\lib\\site-packages\\pandas\\io\\formats\\excel.py\u001b[0m in \u001b[0;36mwrite\u001b[1;34m(self, writer, sheet_name, startrow, startcol, freeze_panes, engine)\u001b[0m\n\u001b[0;32m    740\u001b[0m         )\n\u001b[0;32m    741\u001b[0m         \u001b[1;32mif\u001b[0m \u001b[0mneed_save\u001b[0m\u001b[1;33m:\u001b[0m\u001b[1;33m\u001b[0m\u001b[1;33m\u001b[0m\u001b[0m\n\u001b[1;32m--> 742\u001b[1;33m             \u001b[0mwriter\u001b[0m\u001b[1;33m.\u001b[0m\u001b[0msave\u001b[0m\u001b[1;33m(\u001b[0m\u001b[1;33m)\u001b[0m\u001b[1;33m\u001b[0m\u001b[1;33m\u001b[0m\u001b[0m\n\u001b[0m",
      "\u001b[1;32m~\\Anaconda3\\lib\\site-packages\\pandas\\io\\excel\\_xlsxwriter.py\u001b[0m in \u001b[0;36msave\u001b[1;34m(self)\u001b[0m\n\u001b[0;32m    193\u001b[0m         \"\"\"\n\u001b[0;32m    194\u001b[0m \u001b[1;33m\u001b[0m\u001b[0m\n\u001b[1;32m--> 195\u001b[1;33m         \u001b[1;32mreturn\u001b[0m \u001b[0mself\u001b[0m\u001b[1;33m.\u001b[0m\u001b[0mbook\u001b[0m\u001b[1;33m.\u001b[0m\u001b[0mclose\u001b[0m\u001b[1;33m(\u001b[0m\u001b[1;33m)\u001b[0m\u001b[1;33m\u001b[0m\u001b[1;33m\u001b[0m\u001b[0m\n\u001b[0m\u001b[0;32m    196\u001b[0m \u001b[1;33m\u001b[0m\u001b[0m\n\u001b[0;32m    197\u001b[0m     def write_cells(\n",
      "\u001b[1;32m~\\Anaconda3\\lib\\site-packages\\xlsxwriter\\workbook.py\u001b[0m in \u001b[0;36mclose\u001b[1;34m(self)\u001b[0m\n\u001b[0;32m    316\u001b[0m                 \u001b[0mself\u001b[0m\u001b[1;33m.\u001b[0m\u001b[0m_store_workbook\u001b[0m\u001b[1;33m(\u001b[0m\u001b[1;33m)\u001b[0m\u001b[1;33m\u001b[0m\u001b[1;33m\u001b[0m\u001b[0m\n\u001b[0;32m    317\u001b[0m             \u001b[1;32mexcept\u001b[0m \u001b[0mIOError\u001b[0m \u001b[1;32mas\u001b[0m \u001b[0me\u001b[0m\u001b[1;33m:\u001b[0m\u001b[1;33m\u001b[0m\u001b[1;33m\u001b[0m\u001b[0m\n\u001b[1;32m--> 318\u001b[1;33m                 \u001b[1;32mraise\u001b[0m \u001b[0mFileCreateError\u001b[0m\u001b[1;33m(\u001b[0m\u001b[0me\u001b[0m\u001b[1;33m)\u001b[0m\u001b[1;33m\u001b[0m\u001b[1;33m\u001b[0m\u001b[0m\n\u001b[0m\u001b[0;32m    319\u001b[0m             \u001b[1;32mexcept\u001b[0m \u001b[0mLargeZipFile\u001b[0m \u001b[1;32mas\u001b[0m \u001b[0me\u001b[0m\u001b[1;33m:\u001b[0m\u001b[1;33m\u001b[0m\u001b[1;33m\u001b[0m\u001b[0m\n\u001b[0;32m    320\u001b[0m                 raise FileSizeError(\"Filesize would require ZIP64 extensions. \"\n",
      "\u001b[1;31mFileCreateError\u001b[0m: [Errno 13] Permission denied: './data/artist_list_clean_final_fuzzy2.xlsx'"
     ]
    }
   ],
   "source": [
    "# apply fuzzyfix2 map\n",
    "df = pd.read_excel('./data/artist_list_clean_final_fuzzy2.xlsx', index_col='id')\n",
    "fuzzyfix2 = pd.read_excel('./data/namematch2_map_fixed.xlsx', index_col='id')\n",
    "display(fuzzyfix2)\n",
    "for idx, row in fuzzyfix2.iterrows():\n",
    "    swapid = row['idmatch']\n",
    "    if df.loc[swapid, 'cleanname'] != row['namematch']:\n",
    "        print(\"!!!!!!!!!!!!names dont match:\", df.loc[swapid, 'cleanname'], row['namematch'])\n",
    "        continue\n",
    "#     assert ,\"names dont match: {}, {}\".format(df.loc[swapid, 'cleanname'],row['namematch'])\n",
    "    print(df.loc[swapid, 'cleanname'], \"=>\", row['name'])\n",
    "    df.loc[swapid, 'cleanname'] = row['name']\n",
    "    \n",
    "df.to_excel('./data/artist_list_clean_final_fuzzy2.xlsx')"
   ]
  },
  {
   "cell_type": "code",
   "execution_count": null,
   "metadata": {},
   "outputs": [],
   "source": []
  }
 ],
 "metadata": {
  "kernelspec": {
   "display_name": "Python 3",
   "language": "python",
   "name": "python3"
  },
  "language_info": {
   "codemirror_mode": {
    "name": "ipython",
    "version": 3
   },
   "file_extension": ".py",
   "mimetype": "text/x-python",
   "name": "python",
   "nbconvert_exporter": "python",
   "pygments_lexer": "ipython3",
   "version": "3.7.4"
  }
 },
 "nbformat": 4,
 "nbformat_minor": 4
}
