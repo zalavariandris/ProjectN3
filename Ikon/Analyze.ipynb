{
 "cells": [
  {
   "cell_type": "code",
   "execution_count": 1,
   "metadata": {},
   "outputs": [],
   "source": [
    "%matplotlib inline\n",
    "import matplotlib.pyplot as plt\n",
    "import pandas as pd"
   ]
  },
  {
   "cell_type": "code",
   "execution_count": 2,
   "metadata": {},
   "outputs": [],
   "source": [
    "from CRUD import *\n",
    "connection = connectToDatabase(\"../resources/ikon.db\")"
   ]
  },
  {
   "cell_type": "code",
   "execution_count": 3,
   "metadata": {},
   "outputs": [
    {
     "name": "stdout",
     "output_type": "stream",
     "text": [
      "artists:\t 10386\n",
      "exhibitions:\t 8517\n",
      "galleries:\t 316\n"
     ]
    }
   ],
   "source": [
    "artists_count = connection.execute(\"SELECT Count(*) FROM artists\").fetchone()[0]\n",
    "exhibitions_count = connection.execute(\"SELECT Count(*) FROM exhibitions\").fetchone()[0]\n",
    "galleries_count = connection.execute(\"SELECT Count(*) FROM galleries\").fetchone()[0]\n",
    "\n",
    "print(\"artists:\\t\", artists_count) \n",
    "print(\"exhibitions:\\t\",exhibitions_count) \n",
    "print(\"galleries:\\t\",galleries_count)\n"
   ]
  },
  {
   "cell_type": "markdown",
   "metadata": {},
   "source": [
    "# Search"
   ]
  },
  {
   "cell_type": "code",
   "execution_count": 44,
   "metadata": {},
   "outputs": [
    {
     "data": {
      "application/vnd.jupyter.widget-view+json": {
       "model_id": "a594d4a20df145a1ad0f9104f15cd422",
       "version_major": 2,
       "version_minor": 0
      },
      "text/plain": [
       "interactive(children=(Text(value='%%', description='artist'), Text(value='%%', description='exhibition'), Text…"
      ]
     },
     "metadata": {},
     "output_type": "display_data"
    }
   ],
   "source": [
    "import ipywidgets as widgets\n",
    "from IPython.display import display, HTML\n",
    "from ipywidgets import interact\n",
    "\n",
    "sql_artist = '''\n",
    "SELECT DISTINCT a.name FROM artists_exhibitions ae\n",
    "JOIN artists a ON a.id = ae.artist_id\n",
    "JOIN exhibitions e on e.id = ae.exhibition_id\n",
    "JOIN galleries g ON g.id = e.gallery_id\n",
    "WHERE e.title LIKE ?\n",
    "AND a.name LIKE ?\n",
    "AND g.name LIKE ?\n",
    "'''\n",
    "\n",
    "sql_gallery = '''\n",
    "SELECT DISTINCT g.name FROM artists_exhibitions ae\n",
    "JOIN artists a ON a.id = ae.artist_id\n",
    "JOIN exhibitions e on e.id = ae.exhibition_id\n",
    "JOIN galleries g ON g.id = e.gallery_id\n",
    "WHERE e.title LIKE ?\n",
    "AND a.name LIKE ?\n",
    "AND g.name LIKE ?\n",
    "'''\n",
    "\n",
    "sql_exhibition = '''\n",
    "SELECT DISTINCT e.title FROM artists_exhibitions ae\n",
    "JOIN artists a ON a.id = ae.artist_id\n",
    "JOIN exhibitions e on e.id = ae.exhibition_id\n",
    "JOIN galleries g ON g.id = e.gallery_id\n",
    "WHERE e.title LIKE ?\n",
    "AND a.name LIKE ?\n",
    "AND g.name LIKE ?\n",
    "'''\n",
    "\n",
    "@interact\n",
    "def search(artist=\"%%\", exhibition=\"%%\", gallery=\"%%\"):\n",
    "    artists = connection.execute(sql_artist, (exhibition, artist, gallery)).fetchall()\n",
    "    exhibitions = connection.execute(sql_exhibition, (exhibition, artist, gallery)).fetchall()\n",
    "    galleries = connection.execute(sql_gallery, (exhibition, artist, gallery)).fetchall()\n",
    "    \n",
    "    artistsWidget = widgets.Output()\n",
    "    with artistsWidget:\n",
    "        display(pd.DataFrame(artists))\n",
    "        \n",
    "    exhibitionsWidget = widgets.Output()\n",
    "    with exhibitionsWidget:\n",
    "        display(pd.DataFrame(exhibitions))\n",
    "        \n",
    "    galleriesWidget = widgets.Output()\n",
    "    with galleriesWidget:\n",
    "        display(pd.DataFrame(galleries))\n",
    "    \n",
    "\n",
    "    return widgets.HBox([\n",
    "        artistsWidget, exhibitionsWidget, galleriesWidget\n",
    "    ])"
   ]
  },
  {
   "cell_type": "code",
   "execution_count": 43,
   "metadata": {},
   "outputs": [
    {
     "data": {
      "application/vnd.jupyter.widget-view+json": {
       "model_id": "1a9f637963a84e79b21f9901e9ec8a2a",
       "version_major": 2,
       "version_minor": 0
      },
      "text/plain": [
       "interactive(children=(Text(value='%%', description='artist'), Output()), _dom_classes=('widget-interact',))"
      ]
     },
     "metadata": {},
     "output_type": "display_data"
    }
   ],
   "source": [
    "import ipywidgets as widgets\n",
    "from IPython.display import display, HTML\n",
    "from ipywidgets import interact\n",
    "\n",
    "sql = '''\n",
    "SELECT a.id, a.name, COUNT(ae.artist_id) as No_exhibitions\n",
    "FROM artists_exhibitions ae\n",
    "JOIN artists a ON a.id = ae.artist_id\n",
    "WHERE a.name LIKE ?\n",
    "GROUP BY ae.artist_id\n",
    "ORDER BY No_exhibitions DESC;\n",
    "'''\n",
    "\n",
    "@interact\n",
    "def showArtists(artist=\"%%\"):\n",
    "    df = pd.DataFrame( connection.execute(sql, (artist.lower(), )).fetchall(), columns= [\"id\", \"name\", \"no exhibitions\"])\n",
    "    display(df)\n",
    "\n"
   ]
  },
  {
   "cell_type": "markdown",
   "metadata": {},
   "source": [
    "# Analyze"
   ]
  },
  {
   "cell_type": "code",
   "execution_count": 23,
   "metadata": {},
   "outputs": [
    {
     "data": {
      "text/plain": [
       "<BarContainer object of 10386 artists>"
      ]
     },
     "execution_count": 23,
     "metadata": {},
     "output_type": "execute_result"
    },
    {
     "data": {
      "image/png": "[encoded data removed]",
      "text/plain": [
       "<Figure size 432x288 with 1 Axes>"
      ]
     },
     "metadata": {
      "needs_background": "light"
     },
     "output_type": "display_data"
    }
   ],
   "source": [
    "# exhibition distribution amoung artists\n",
    "sql = '''\n",
    "SELECT COUNT(ae.artist_id) as c\n",
    "FROM artists_exhibitions ae\n",
    "JOIN artists a ON a.id = ae.artist_id\n",
    "GROUP BY ae.artist_id\n",
    "ORDER BY c DESC;\n",
    "'''\n",
    "counts = [r[0] for r in connection.execute(sql).fetchall()]\n",
    "plt.bar(list(range(len(counts))), counts)"
   ]
  },
  {
   "cell_type": "code",
   "execution_count": 5,
   "metadata": {},
   "outputs": [
    {
     "data": {
      "text/plain": [
       "<BarContainer object of 7 artists>"
      ]
     },
     "execution_count": 5,
     "metadata": {},
     "output_type": "execute_result"
    },
    {
     "data": {
      "image/png": "[encoded data removed]",
      "text/plain": [
       "<Figure size 432x288 with 1 Axes>"
      ]
     },
     "metadata": {
      "needs_background": "light"
     },
     "output_type": "display_data"
    }
   ],
   "source": [
    "# exhibitions distribution amoung weekdays\n",
    "sql = '''\n",
    "SELECT strftime(\"%w\", date), COUNT(*)\n",
    "FROM exhibitions\n",
    "GROUP BY strftime(\"%w\", date)\n",
    "'''\n",
    "counts = [r[1] for r in connection.execute(sql).fetchall()]\n",
    "labels = [\"Sunday\",\"Monday\",\"Tuesday\",\"Wednesday\",\"Thurday\",\"Friday\",\"Saturday\"]\n",
    "plt.bar(labels, counts)"
   ]
  },
  {
   "cell_type": "code",
   "execution_count": 6,
   "metadata": {},
   "outputs": [
    {
     "data": {
      "text/plain": [
       "<BarContainer object of 12 artists>"
      ]
     },
     "execution_count": 6,
     "metadata": {},
     "output_type": "execute_result"
    },
    {
     "data": {
      "image/png": "[encoded data removed]",
      "text/plain": [
       "<Figure size 432x288 with 1 Axes>"
      ]
     },
     "metadata": {
      "needs_background": "light"
     },
     "output_type": "display_data"
    }
   ],
   "source": [
    "# exhibitions distribution amoung months\n",
    "sql = '''\n",
    "SELECT strftime(\"%m\", date), COUNT(*)\n",
    "FROM exhibitions\n",
    "GROUP BY strftime(\"%m\", date)\n",
    "'''\n",
    "labels = [r[0] for r in connection.execute(sql).fetchall()]\n",
    "counts = [r[1] for r in connection.execute(sql).fetchall()]\n",
    "plt.bar(labels, counts)"
   ]
  },
  {
   "cell_type": "code",
   "execution_count": 7,
   "metadata": {},
   "outputs": [
    {
     "data": {
      "text/plain": [
       "<BarContainer object of 9 artists>"
      ]
     },
     "execution_count": 7,
     "metadata": {},
     "output_type": "execute_result"
    },
    {
     "data": {
      "image/png": "[encoded data removed]",
      "text/plain": [
       "<Figure size 432x288 with 1 Axes>"
      ]
     },
     "metadata": {
      "needs_background": "light"
     },
     "output_type": "display_data"
    }
   ],
   "source": [
    "# exhibitions distribution through years\n",
    "sql = '''\n",
    "SELECT strftime(\"%Y\", date), COUNT(*)\n",
    "FROM exhibitions\n",
    "GROUP BY strftime(\"%Y\", date)\n",
    "'''\n",
    "labels = [r[0] for r in connection.execute(sql).fetchall()]\n",
    "counts = [r[1] for r in connection.execute(sql).fetchall()]\n",
    "plt.bar(labels, counts)"
   ]
  }
 ],
 "metadata": {
  "kernelspec": {
   "display_name": "Python 3",
   "language": "python",
   "name": "python3"
  },
  "language_info": {
   "codemirror_mode": {
    "name": "ipython",
    "version": 3
   },
   "file_extension": ".py",
   "mimetype": "text/x-python",
   "name": "python",
   "nbconvert_exporter": "python",
   "pygments_lexer": "ipython3",
   "version": "3.7.3"
  }
 },
 "nbformat": 4,
 "nbformat_minor": 2
}
